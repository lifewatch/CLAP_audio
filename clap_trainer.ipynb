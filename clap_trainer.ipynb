{
 "cells": [
  {
   "cell_type": "code",
   "execution_count": 1,
   "metadata": {},
   "outputs": [
    {
     "name": "stderr",
     "output_type": "stream",
     "text": [
      "/opt/conda/lib/python3.10/site-packages/tqdm/auto.py:21: TqdmWarning: IProgress not found. Please update jupyter and ipywidgets. See https://ipywidgets.readthedocs.io/en/stable/user_install.html\n",
      "  from .autonotebook import tqdm as notebook_tqdm\n",
      "/srv/CLAP/dataset.py:36: UserWarning: torchaudio._backend.set_audio_backend has been deprecated. With dispatcher enabled, this function is no-op. You can remove the function call.\n",
      "  torchaudio.set_audio_backend(backend='soundfile')\n"
     ]
    }
   ],
   "source": [
    "from dataset import LifeWatchDataset\n",
    "import yaml\n",
    "import pathlib\n",
    "import numpy as np\n",
    "config_path=r\"config.yaml\"\n",
    "with open(config_path, 'r') as file:\n",
    "    config = yaml.safe_load(file)\n",
    "\n"
   ]
  },
  {
   "cell_type": "code",
   "execution_count": 2,
   "metadata": {},
   "outputs": [],
   "source": [
    "L=LifeWatchDataset(config)\n"
   ]
  },
  {
   "cell_type": "code",
   "execution_count": null,
   "metadata": {},
   "outputs": [
    {
     "name": "stdout",
     "output_type": "stream",
     "text": [
      "fixed clap.\n"
     ]
    },
    {
     "name": "stderr",
     "output_type": "stream",
     "text": [
      "/srv/CLAP/models.py:121: UserWarning: To copy construct from a tensor, it is recommended to use sourceTensor.clone().detach() or sourceTensor.clone().detach().requires_grad_(True), rather than torch.tensor(sourceTensor).\n",
      "  self.loss_func = CustomLossFunction(torch.tensor(similarity_matrix).to(device))\n",
      "epoch = 0\n",
      "train:   0%|          | 1/1451 [10:55<264:10:28, 655.88s/it]"
     ]
    },
    {
     "name": "stdout",
     "output_type": "stream",
     "text": [
      "Training metrics: 0.5101361714290465| Distance: 0.516893619048411| Speed: 0.625 | Activity: 0.125\n"
     ]
    },
    {
     "name": "stderr",
     "output_type": "stream",
     "text": [
      "train:   0%|          | 2/1451 [22:15<269:32:54, 669.69s/it]"
     ]
    },
    {
     "name": "stdout",
     "output_type": "stream",
     "text": [
      "Training metrics: 0.49526674404214943| Distance: 0.5337779067369158| Speed: 0.5625 | Activity: 0.0625\n"
     ]
    },
    {
     "name": "stderr",
     "output_type": "stream",
     "text": [
      "train:   0%|          | 3/1451 [32:18<257:06:13, 639.21s/it]"
     ]
    },
    {
     "name": "stdout",
     "output_type": "stream",
     "text": [
      "Training metrics: 0.49824589760739574| Distance: 0.5109653849012151| Speed: 0.5833333333333334 | Activity: 0.16666666666666666\n"
     ]
    },
    {
     "name": "stderr",
     "output_type": "stream",
     "text": [
      "train:   0%|          | 4/1451 [43:11<259:13:31, 644.93s/it]"
     ]
    },
    {
     "name": "stdout",
     "output_type": "stream",
     "text": [
      "Training metrics: 0.5153632737979907| Distance: 0.5464387896633178| Speed: 0.5625 | Activity: 0.1875\n"
     ]
    },
    {
     "name": "stderr",
     "output_type": "stream",
     "text": [
      "train:   0%|          | 5/1451 [53:15<253:03:15, 630.01s/it]"
     ]
    },
    {
     "name": "stdout",
     "output_type": "stream",
     "text": [
      "Training metrics: 0.5231336995123477| Distance: 0.5552228325205795| Speed: 0.575 | Activity: 0.175\n"
     ]
    },
    {
     "name": "stderr",
     "output_type": "stream",
     "text": [
      "train:   0%|          | 6/1451 [1:02:53<245:51:07, 612.50s/it]"
     ]
    },
    {
     "name": "stdout",
     "output_type": "stream",
     "text": [
      "Training metrics: 0.5190810972127102| Distance: 0.5213851620211839| Speed: 0.6041666666666666 | Activity: 0.25\n"
     ]
    },
    {
     "name": "stderr",
     "output_type": "stream",
     "text": [
      "train:   0%|          | 7/1451 [1:14:12<254:20:47, 634.10s/it]"
     ]
    },
    {
     "name": "stdout",
     "output_type": "stream",
     "text": [
      "Training metrics: 0.5190808306024273| Distance: 0.5198966224326169| Speed: 0.6071428571428571 | Activity: 0.25\n"
     ]
    },
    {
     "name": "stderr",
     "output_type": "stream",
     "text": [
      "train:   1%|          | 8/1451 [1:23:50<247:00:40, 616.24s/it]"
     ]
    },
    {
     "name": "stdout",
     "output_type": "stream",
     "text": [
      "Training metrics: 0.5004783699303996| Distance: 0.490380616550666| Speed: 0.609375 | Activity: 0.234375\n"
     ]
    },
    {
     "name": "stderr",
     "output_type": "stream",
     "text": [
      "train:   1%|          | 9/1451 [1:34:19<248:26:39, 620.25s/it]"
     ]
    },
    {
     "name": "stdout",
     "output_type": "stream",
     "text": [
      "Training metrics: 0.4900451322648806| Distance: 0.48572336858961584| Speed: 0.5833333333333334 | Activity: 0.2361111111111111\n"
     ]
    },
    {
     "name": "stderr",
     "output_type": "stream",
     "text": [
      "train:   1%|          | 10/1451 [1:45:38<255:27:38, 638.21s/it]"
     ]
    },
    {
     "name": "stdout",
     "output_type": "stream",
     "text": [
      "Training metrics: 0.508487154034802| Distance: 0.5120619233913366| Speed: 0.5875 | Activity: 0.25\n"
     ]
    },
    {
     "name": "stderr",
     "output_type": "stream",
     "text": [
      "train:   1%|          | 11/1451 [1:54:26<241:48:37, 604.53s/it]"
     ]
    },
    {
     "name": "stdout",
     "output_type": "stream",
     "text": [
      "Training metrics: 0.5130740545327002| Distance: 0.5161082727060156| Speed: 0.5909090909090909 | Activity: 0.26136363636363635\n"
     ]
    },
    {
     "name": "stderr",
     "output_type": "stream",
     "text": [
      "train:   1%|          | 12/1451 [2:07:01<259:55:38, 650.27s/it]"
     ]
    },
    {
     "name": "stdout",
     "output_type": "stream",
     "text": [
      "Training metrics: 0.5166994859000359| Distance: 0.5156796987222821| Speed: 0.6041666666666666 | Activity: 0.2604166666666667\n"
     ]
    },
    {
     "name": "stderr",
     "output_type": "stream",
     "text": [
      "train:   1%|          | 13/1451 [2:16:38<250:58:50, 628.32s/it]"
     ]
    },
    {
     "name": "stdout",
     "output_type": "stream",
     "text": [
      "Training metrics: 0.5152820052959355| Distance: 0.522264880621431| Speed: 0.5865384615384616 | Activity: 0.25961538461538464\n"
     ]
    }
   ],
   "source": [
    "best_model, valid_metric_best=L.train_clap()"
   ]
  },
  {
   "cell_type": "code",
   "execution_count": 3,
   "metadata": {},
   "outputs": [
    {
     "ename": "FileNotFoundError",
     "evalue": "\\\\fs\\shared\\onderzoek\\6. Marine Observation Center\\Projects\\IMAGINE\\UC6\\ds_split-CLAP\\train.txt not found.",
     "output_type": "error",
     "traceback": [
      "\u001b[0;31m---------------------------------------------------------------------------\u001b[0m",
      "\u001b[0;31mFileNotFoundError\u001b[0m                         Traceback (most recent call last)",
      "Cell \u001b[0;32mIn[3], line 6\u001b[0m\n\u001b[1;32m      3\u001b[0m d_train_path\u001b[38;5;241m=\u001b[39m \u001b[38;5;124mr\u001b[39m\u001b[38;5;124m\"\u001b[39m\u001b[38;5;130;01m\\\\\u001b[39;00m\u001b[38;5;124mfs\u001b[39m\u001b[38;5;124m\\\u001b[39m\u001b[38;5;124mshared\u001b[39m\u001b[38;5;124m\\\u001b[39m\u001b[38;5;124monderzoek\u001b[39m\u001b[38;5;124m\\\u001b[39m\u001b[38;5;124m6. Marine Observation Center\u001b[39m\u001b[38;5;124m\\\u001b[39m\u001b[38;5;124mProjects\u001b[39m\u001b[38;5;124m\\\u001b[39m\u001b[38;5;124mIMAGINE\u001b[39m\u001b[38;5;124m\\\u001b[39m\u001b[38;5;124mUC6\u001b[39m\u001b[38;5;124m\\\u001b[39m\u001b[38;5;124mds_split-CLAP\u001b[39m\u001b[38;5;124m\\\u001b[39m\u001b[38;5;124mtrain.txt\u001b[39m\u001b[38;5;124m\"\u001b[39m\n\u001b[1;32m      4\u001b[0m d_valid_path\u001b[38;5;241m=\u001b[39m \u001b[38;5;124mr\u001b[39m\u001b[38;5;124m\"\u001b[39m\u001b[38;5;130;01m\\\\\u001b[39;00m\u001b[38;5;124mfs\u001b[39m\u001b[38;5;124m\\\u001b[39m\u001b[38;5;124mshared\u001b[39m\u001b[38;5;124m\\\u001b[39m\u001b[38;5;124monderzoek\u001b[39m\u001b[38;5;124m\\\u001b[39m\u001b[38;5;124m6. Marine Observation Center\u001b[39m\u001b[38;5;124m\\\u001b[39m\u001b[38;5;124mProjects\u001b[39m\u001b[38;5;124m\\\u001b[39m\u001b[38;5;124mIMAGINE\u001b[39m\u001b[38;5;124m\\\u001b[39m\u001b[38;5;124mUC6\u001b[39m\u001b[38;5;124m\\\u001b[39m\u001b[38;5;124mds_split-CLAP\u001b[39m\u001b[38;5;124m\\\u001b[39m\u001b[38;5;124mval.txt\u001b[39m\u001b[38;5;124m\"\u001b[39m\n\u001b[0;32m----> 6\u001b[0m split \u001b[38;5;241m=\u001b[39m \u001b[43mnp\u001b[49m\u001b[38;5;241;43m.\u001b[39;49m\u001b[43mgenfromtxt\u001b[49m\u001b[43m(\u001b[49m\u001b[43md_train_path\u001b[49m\u001b[43m,\u001b[49m\u001b[43m \u001b[49m\u001b[43mdtype\u001b[49m\u001b[38;5;241;43m=\u001b[39;49m\u001b[38;5;124;43m'\u001b[39;49m\u001b[38;5;124;43mstr\u001b[39;49m\u001b[38;5;124;43m'\u001b[39;49m\u001b[43m,\u001b[49m\u001b[43m \u001b[49m\u001b[43mdelimiter\u001b[49m\u001b[38;5;241;43m=\u001b[39;49m\u001b[38;5;124;43m'\u001b[39;49m\u001b[38;5;124;43m \u001b[39;49m\u001b[38;5;124;43m'\u001b[39;49m\u001b[43m)\u001b[49m\n\u001b[1;32m      7\u001b[0m d_train_loc \u001b[38;5;241m=\u001b[39m np\u001b[38;5;241m.\u001b[39marray([os\u001b[38;5;241m.\u001b[39mpath\u001b[38;5;241m.\u001b[39mjoin(wavs_folder, i) \u001b[38;5;28;01mfor\u001b[39;00m i \u001b[38;5;129;01min\u001b[39;00m split[:, \u001b[38;5;241m0\u001b[39m]])\n\u001b[1;32m      9\u001b[0m split \u001b[38;5;241m=\u001b[39m np\u001b[38;5;241m.\u001b[39mgenfromtxt(d_valid_path, dtype\u001b[38;5;241m=\u001b[39m\u001b[38;5;124m'\u001b[39m\u001b[38;5;124mstr\u001b[39m\u001b[38;5;124m'\u001b[39m, delimiter\u001b[38;5;241m=\u001b[39m\u001b[38;5;124m'\u001b[39m\u001b[38;5;124m \u001b[39m\u001b[38;5;124m'\u001b[39m)\n",
      "File \u001b[0;32m/opt/conda/lib/python3.10/site-packages/numpy/lib/npyio.py:1980\u001b[0m, in \u001b[0;36mgenfromtxt\u001b[0;34m(fname, dtype, comments, delimiter, skip_header, skip_footer, converters, missing_values, filling_values, usecols, names, excludelist, deletechars, replace_space, autostrip, case_sensitive, defaultfmt, unpack, usemask, loose, invalid_raise, max_rows, encoding, ndmin, like)\u001b[0m\n\u001b[1;32m   1978\u001b[0m     fname \u001b[38;5;241m=\u001b[39m os_fspath(fname)\n\u001b[1;32m   1979\u001b[0m \u001b[38;5;28;01mif\u001b[39;00m \u001b[38;5;28misinstance\u001b[39m(fname, \u001b[38;5;28mstr\u001b[39m):\n\u001b[0;32m-> 1980\u001b[0m     fid \u001b[38;5;241m=\u001b[39m \u001b[43mnp\u001b[49m\u001b[38;5;241;43m.\u001b[39;49m\u001b[43mlib\u001b[49m\u001b[38;5;241;43m.\u001b[39;49m\u001b[43m_datasource\u001b[49m\u001b[38;5;241;43m.\u001b[39;49m\u001b[43mopen\u001b[49m\u001b[43m(\u001b[49m\u001b[43mfname\u001b[49m\u001b[43m,\u001b[49m\u001b[43m \u001b[49m\u001b[38;5;124;43m'\u001b[39;49m\u001b[38;5;124;43mrt\u001b[39;49m\u001b[38;5;124;43m'\u001b[39;49m\u001b[43m,\u001b[49m\u001b[43m \u001b[49m\u001b[43mencoding\u001b[49m\u001b[38;5;241;43m=\u001b[39;49m\u001b[43mencoding\u001b[49m\u001b[43m)\u001b[49m\n\u001b[1;32m   1981\u001b[0m     fid_ctx \u001b[38;5;241m=\u001b[39m contextlib\u001b[38;5;241m.\u001b[39mclosing(fid)\n\u001b[1;32m   1982\u001b[0m \u001b[38;5;28;01melse\u001b[39;00m:\n",
      "File \u001b[0;32m/opt/conda/lib/python3.10/site-packages/numpy/lib/_datasource.py:193\u001b[0m, in \u001b[0;36mopen\u001b[0;34m(path, mode, destpath, encoding, newline)\u001b[0m\n\u001b[1;32m    156\u001b[0m \u001b[38;5;250m\u001b[39m\u001b[38;5;124;03m\"\"\"\u001b[39;00m\n\u001b[1;32m    157\u001b[0m \u001b[38;5;124;03mOpen `path` with `mode` and return the file object.\u001b[39;00m\n\u001b[1;32m    158\u001b[0m \n\u001b[0;32m   (...)\u001b[0m\n\u001b[1;32m    189\u001b[0m \n\u001b[1;32m    190\u001b[0m \u001b[38;5;124;03m\"\"\"\u001b[39;00m\n\u001b[1;32m    192\u001b[0m ds \u001b[38;5;241m=\u001b[39m DataSource(destpath)\n\u001b[0;32m--> 193\u001b[0m \u001b[38;5;28;01mreturn\u001b[39;00m \u001b[43mds\u001b[49m\u001b[38;5;241;43m.\u001b[39;49m\u001b[43mopen\u001b[49m\u001b[43m(\u001b[49m\u001b[43mpath\u001b[49m\u001b[43m,\u001b[49m\u001b[43m \u001b[49m\u001b[43mmode\u001b[49m\u001b[43m,\u001b[49m\u001b[43m \u001b[49m\u001b[43mencoding\u001b[49m\u001b[38;5;241;43m=\u001b[39;49m\u001b[43mencoding\u001b[49m\u001b[43m,\u001b[49m\u001b[43m \u001b[49m\u001b[43mnewline\u001b[49m\u001b[38;5;241;43m=\u001b[39;49m\u001b[43mnewline\u001b[49m\u001b[43m)\u001b[49m\n",
      "File \u001b[0;32m/opt/conda/lib/python3.10/site-packages/numpy/lib/_datasource.py:533\u001b[0m, in \u001b[0;36mDataSource.open\u001b[0;34m(self, path, mode, encoding, newline)\u001b[0m\n\u001b[1;32m    530\u001b[0m     \u001b[38;5;28;01mreturn\u001b[39;00m _file_openers[ext](found, mode\u001b[38;5;241m=\u001b[39mmode,\n\u001b[1;32m    531\u001b[0m                               encoding\u001b[38;5;241m=\u001b[39mencoding, newline\u001b[38;5;241m=\u001b[39mnewline)\n\u001b[1;32m    532\u001b[0m \u001b[38;5;28;01melse\u001b[39;00m:\n\u001b[0;32m--> 533\u001b[0m     \u001b[38;5;28;01mraise\u001b[39;00m \u001b[38;5;167;01mFileNotFoundError\u001b[39;00m(\u001b[38;5;124mf\u001b[39m\u001b[38;5;124m\"\u001b[39m\u001b[38;5;132;01m{\u001b[39;00mpath\u001b[38;5;132;01m}\u001b[39;00m\u001b[38;5;124m not found.\u001b[39m\u001b[38;5;124m\"\u001b[39m)\n",
      "\u001b[0;31mFileNotFoundError\u001b[0m: \\\\fs\\shared\\onderzoek\\6. Marine Observation Center\\Projects\\IMAGINE\\UC6\\ds_split-CLAP\\train.txt not found."
     ]
    }
   ],
   "source": [
    "import os\n",
    "wavs_folder=r'\\\\fs\\shared\\onderzoek\\6. Marine Observation Center\\Projects\\IMAGINE\\UC6\\data\\data_per_station_10_vessel_information_point'\n",
    "d_train_path= r\"\\\\fs\\shared\\onderzoek\\6. Marine Observation Center\\Projects\\IMAGINE\\UC6\\ds_split-CLAP\\train.txt\"\n",
    "d_valid_path= r\"\\\\fs\\shared\\onderzoek\\6. Marine Observation Center\\Projects\\IMAGINE\\UC6\\ds_split-CLAP\\val.txt\"\n",
    "\n",
    "split = np.genfromtxt(d_train_path, dtype='str', delimiter=' ')\n",
    "d_train_loc = np.array([os.path.join(wavs_folder, i) for i in split[:, 0]])\n",
    "\n",
    "split = np.genfromtxt(d_valid_path, dtype='str', delimiter=' ')\n",
    "d_valid_loc = np.array([os.path.join(wavs_folder, i) for i in split[:, 0]])"
   ]
  },
  {
   "cell_type": "code",
   "execution_count": null,
   "metadata": {},
   "outputs": [],
   "source": [
    "def categorize_speed(speed):\n",
    "    if speed >= 0 and speed < 1.5:\n",
    "        return '0-1.5'\n",
    "    elif speed >= 1.5 and speed < 8.2:\n",
    "        return '1.5-8.2'\n",
    "    elif speed >= 8.2 and speed < 13.3:\n",
    "        return '8.2-13.3'\n",
    "    else:\n",
    "        return '13.3+'\n",
    "\n",
    "# Apply function to create a new column 'speed_category'\n"
   ]
  },
  {
   "cell_type": "code",
   "execution_count": null,
   "metadata": {},
   "outputs": [],
   "source": [
    "\n",
    "def categorize_distance(distance):\n",
    "    if distance >= 0 and distance < 1000:\n",
    "        return '0-1 km'\n",
    "    elif distance >= 1000 and distance < 2000:\n",
    "        return '1-2 km'\n",
    "    elif distance >= 2000 and distance < 3000:\n",
    "        return '2-3 km'\n",
    "    elif distance >= 3000 and distance < 4000:\n",
    "        return '3-4 km'\n",
    "    elif distance >= 4000 and distance < 5000:\n",
    "        return '4-5 km'\n",
    "    elif distance >= 5000 and distance < 6000:\n",
    "        return '5-6 km'\n",
    "    elif distance >= 6000 and distance < 7000:\n",
    "        return '6-7 km'\n",
    "    elif distance >= 7000 and distance < 8000:\n",
    "        return '7-8 km'\n",
    "    elif distance >= 8000 and distance < 9000:\n",
    "        return '8-9 km'\n",
    "    elif distance >= 9000 and distance <= 10000:\n",
    "        return '9-10 km'\n",
    "    else:\n",
    "        return '10+ km'\n",
    "\n"
   ]
  },
  {
   "cell_type": "code",
   "execution_count": null,
   "metadata": {},
   "outputs": [],
   "source": [
    "import pandas as pd\n",
    "\n",
    "def process_filenames(d_train):\n",
    "    # Create DataFrame with filenames\n",
    "    df = pd.DataFrame({'filename': d_train})\n",
    "    \n",
    "    # Extract distance from the filename\n",
    "    df['distance'] = df['filename'].apply(lambda x: float(x.split('_')[-1].split('.wav')[0]))\n",
    "\n",
    "    # Extract speed from the filename\n",
    "    df['speed'] = df['filename'].apply(lambda x: float(x.split('_')[-3].replace('-', '.')))\n",
    "\n",
    "    # Extract activity from the filename\n",
    "    df['activity'] = df['filename'].apply(lambda x: x.split('_')[-4])\n",
    "\n",
    "    # Extract ship type from the filename\n",
    "    df['ship_type'] = df['filename'].apply(lambda x: x.split('_')[-5])\n",
    "\n",
    "    # Apply the function to create a new column 'distance_category'\n",
    "    df['distance_category'] = df['distance'].apply(categorize_distance)\n",
    "\n",
    "    # Apply the function to create a new column 'speed_category'\n",
    "    df['speed_category'] = df['speed'].apply(categorize_speed)\n",
    "\n",
    "    # Create a combined_info column\n",
    "    df['label'] = df['ship_type'] + ' at distance ' + df['distance_category'] + ' with speed ' + df['speed_category'] + ' is ' + df['activity']\n",
    "    \n",
    "    return df"
   ]
  },
  {
   "cell_type": "code",
   "execution_count": 32,
   "metadata": {},
   "outputs": [
    {
     "ename": "NameError",
     "evalue": "name 'd_valid_loc' is not defined",
     "output_type": "error",
     "traceback": [
      "\u001b[0;31m---------------------------------------------------------------------------\u001b[0m",
      "\u001b[0;31mNameError\u001b[0m                                 Traceback (most recent call last)",
      "Cell \u001b[0;32mIn[32], line 2\u001b[0m\n\u001b[1;32m      1\u001b[0m d_train\u001b[38;5;241m=\u001b[39mprocess_filenames(d_train_loc)\n\u001b[0;32m----> 2\u001b[0m d_valid\u001b[38;5;241m=\u001b[39mprocess_filenames(\u001b[43md_valid_loc\u001b[49m)\n",
      "\u001b[0;31mNameError\u001b[0m: name 'd_valid_loc' is not defined"
     ]
    }
   ],
   "source": [
    "d_train=process_filenames(d_train_loc)\n",
    "d_valid=process_filenames(d_valid_loc)"
   ]
  },
  {
   "cell_type": "code",
   "execution_count": 38,
   "metadata": {},
   "outputs": [
    {
     "data": {
      "text/plain": [
       "0        Grafton_28434_train/Grafton_28434_2022-08-30_1...\n",
       "1        Grafton_15810_train/Grafton_15810_2022-05-08_1...\n",
       "2        Grafton_15810_train/Grafton_15810_2022-03-01_2...\n",
       "3        GardenCity_15811_train/GardenCity_15811_2022-0...\n",
       "4        Grafton_15810_train/Grafton_15810_2022-02-21_1...\n",
       "                               ...                        \n",
       "11742    GardenCity_15811_train/GardenCity_15811_2022-0...\n",
       "11743    Grafton_28434_train/Grafton_28434_2022-09-09_1...\n",
       "11744    GardenCity_15811_train/GardenCity_15811_2022-0...\n",
       "11745    GardenCity_15811_train/GardenCity_15811_2022-0...\n",
       "11746    GardenCity_15811_train/GardenCity_15811_2022-0...\n",
       "Name: filename, Length: 11747, dtype: object"
      ]
     },
     "execution_count": 38,
     "metadata": {},
     "output_type": "execute_result"
    }
   ],
   "source": [
    "d_train[\"filename\"]"
   ]
  },
  {
   "cell_type": "code",
   "execution_count": 4,
   "metadata": {},
   "outputs": [],
   "source": [
    "import os\n",
    "wavs_folder= '/storage/UC6_new_data/data/'\n",
    "d_train_path= \"ds_split-CLAP/train.txt\"\n",
    "d_valid_path= \"ds_split-CLAP/val.txt\"\n",
    "d_test_path= \"ds_split-CLAP/test.txt\"\n",
    "\n",
    "split = np.genfromtxt(d_train_path, dtype='str', delimiter=' ')\n",
    "d_train = np.array([os.path.join(wavs_folder, i) for i in split[:, 0]])\n",
    "d_train_loc = np.array([i for i in split[:, 0]])\n",
    "split = np.genfromtxt(d_valid_path, dtype='str', delimiter=' ')\n",
    "d_valid = np.array([os.path.join(wavs_folder, i) for i in split[:, 0]])\n",
    "\n",
    "split = np.genfromtxt(d_test_path, dtype='str', delimiter=' ')\n",
    "d_test = np.array([os.path.join(wavs_folder, i) for i in split[:, 0]])\n",
    "d_test_loc = np.array([i for i in split[:, 0]])"
   ]
  },
  {
   "cell_type": "code",
   "execution_count": 5,
   "metadata": {},
   "outputs": [
    {
     "name": "stdout",
     "output_type": "stream",
     "text": [
      "Selected CUDA device: Tesla T4\n"
     ]
    },
    {
     "name": "stderr",
     "output_type": "stream",
     "text": [
      "/opt/conda/lib/python3.10/site-packages/torch/_utils.py:831: UserWarning: TypedStorage is deprecated. It will be removed in the future and UntypedStorage will be the only storage class. This should only matter to you if you are using storages directly.  To access UntypedStorage directly, use tensor.untyped_storage() instead of tensor.storage()\n",
      "  return self.fget.__get__(instance, owner)()\n"
     ]
    },
    {
     "name": "stdout",
     "output_type": "stream",
     "text": [
      "fixed clap.\n"
     ]
    },
    {
     "name": "stderr",
     "output_type": "stream",
     "text": [
      "/srv/CLAP/models.py:121: UserWarning: To copy construct from a tensor, it is recommended to use sourceTensor.clone().detach() or sourceTensor.clone().detach().requires_grad_(True), rather than torch.tensor(sourceTensor).\n",
      "  self.loss_func = CustomLossFunction(torch.tensor(similarity_matrix).to(device))\n",
      "epoch = 0\n",
      "train:   0%|          | 0/1451 [00:01<?, ?it/s]\n"
     ]
    }
   ],
   "source": [
    "import utils as u\n",
    "import torch\n",
    "import sys\n",
    "from tqdm import tqdm\n",
    "import torch.optim as optim\n",
    "from transformers import ClapModel, ClapProcessor\n",
    "from transformers import pipeline\n",
    "\n",
    "import models\n",
    "\n",
    "lr=1e-5\n",
    "batch_size=8\n",
    "stop_shuffle=False\n",
    "epochs=10\n",
    "log_path = 'roi/BioLingual/logs.log'\n",
    "log_file = open(log_path, mode='w')\n",
    "\n",
    "model_path='davidrrobinson/BioLingual'\n",
    "desired_fs = 48000\n",
    "sample_dur=10\n",
    "# device = torch.device('cuda' if torch.cuda.is_available() else 'cpu')\n",
    "if torch.cuda.is_available():\n",
    "    device = torch.device('cuda' if torch.cuda.is_available() else 'cpu')\n",
    "    print(\"Selected CUDA device:\", torch.cuda.get_device_name(device))\n",
    "\n",
    "\n",
    "import os\n",
    "wavs_folder= '/storage/UC6_new_data/data/'\n",
    "d_train_path= \"ds_split-CLAP/train.txt\"\n",
    "d_valid_path= \"ds_split-CLAP/val.txt\"\n",
    "d_test_path= \"ds_split-CLAP/test.txt\"\n",
    "\n",
    "split = np.genfromtxt(d_train_path, dtype='str', delimiter=' ')\n",
    "d_train_loc = np.array([os.path.join(wavs_folder, i) for i in split[:, 0]])\n",
    "\n",
    "split = np.genfromtxt(d_valid_path, dtype='str', delimiter=' ')\n",
    "d_valid_loc = np.array([os.path.join(wavs_folder, i) for i in split[:, 0]])\n",
    "\n",
    "split = np.genfromtxt(d_test_path, dtype='str', delimiter=' ')\n",
    "d_test_loc = np.array([os.path.join(wavs_folder, i) for i in split[:, 0]])\n",
    "\n",
    "# split = np.genfromtxt(self.d_train_path, dtype='str', delimiter=' ')\n",
    "# d_train_loc = np.array([os.path.join(self.wavs_folder, i) for i in split[:, 0]])\n",
    "\n",
    "# split = np.genfromtxt(self.d_valid_path, dtype='str', delimiter=' ')\n",
    "# d_valid_loc = np.array([os.path.join(self.wavs_folder, i) for i in split[:, 0]])\n",
    "d_train=u.process_filenames(d_train_loc)\n",
    "d_valid=u.process_filenames(d_valid_loc)\n",
    "d_test=u.process_filenames(d_test_loc)\n",
    "\n",
    "train_labels = set(d_train[\"label\"])\n",
    "# Count the occurrences of each label in d_train\n",
    "label_counts_train = d_train[\"label\"].value_counts()\n",
    "\n",
    "# Filter out labels which have less than 5 samples in d_train\n",
    "valid_train_labels = label_counts_train[label_counts_train >= 5].index\n",
    "\n",
    "# Filter d_train and d_valid based on valid_train_labels\n",
    "d_train = d_train[d_train[\"label\"].isin(valid_train_labels)]\n",
    "d_valid = d_valid[d_valid[\"label\"].isin(valid_train_labels)]\n",
    "# Filter d_valid based on labels present in d_train\n",
    "# d_valid= d_valid[d_valid[\"label\"].isin(train_labels)]\n",
    "test_train_labels = label_counts_train[label_counts_train >= 5].index\n",
    "\n",
    "# Filter d_train and d_test based on test_train_labels\n",
    "d_train = d_train[d_train[\"label\"].isin(test_train_labels)]\n",
    "d_test = d_test[d_test[\"label\"].isin(test_train_labels)]\n",
    "\n",
    "# Display the number of unique classes\n",
    "num_classes = len(valid_train_labels)\n",
    "ids={lbl: i for i, lbl in enumerate(d_train['label'].unique())}\n",
    "\n",
    "similarity_matrix=u.similarity(ids,device,distance_weight = 0.6, speed_weight = 0.30,activity_weight = 0.10)\n",
    "similarity_matrix_distance=u.similarity(ids,device,distance_weight = 1)\n",
    "similarity_matrix_speed=u.similarity(ids,device,speed_weight = 1)\n",
    "similarity_matrix_activity=u.similarity(ids,device,activity_weight = 1)\n",
    "\n",
    "model = models.CLAPClassifier(model_path, num_classes, sr=desired_fs, device=device, similarity_matrix=similarity_matrix, multi_label=False)\n",
    "\n",
    "dataloader_train = torch.utils.data.DataLoader(\n",
    "    dataset=u.DatasetWaveform(df=d_train, wavs_folder=wavs_folder, desired_fs=desired_fs,\n",
    "                              max_duration=sample_dur,ids=ids),\n",
    "    batch_size=batch_size,\n",
    "    shuffle=not stop_shuffle)\n",
    "\n",
    "dataloader_val = torch.utils.data.DataLoader(\n",
    "    dataset=u.DatasetWaveform(df=d_valid, wavs_folder=wavs_folder, desired_fs=desired_fs,\n",
    "                              max_duration=sample_dur,ids=ids),\n",
    "    batch_size=batch_size,\n",
    "    shuffle=not stop_shuffle)\n",
    "\n",
    "dataloader_test = torch.utils.data.DataLoader(\n",
    "    dataset=u.DatasetWaveform(df=d_test, wavs_folder=wavs_folder, desired_fs=desired_fs,\n",
    "                              max_duration=sample_dur,ids=ids),\n",
    "    batch_size=batch_size,\n",
    "    shuffle=not stop_shuffle)\n",
    "\n",
    "valid_metric_best = 0.\n",
    "best_model = None\n",
    "log_file.write(\"lr = {}\\n\".format(lr))\n",
    "\n",
    "# print(\"lr = {}\".format(lr), file=log_file)\n",
    "\n",
    "optimizer = optim.Adam(params=model.parameters(), lr=lr)\n",
    "\n",
    "for epoch in range(epochs):\n",
    "    # print(f'epoch = {epoch}', file=sys.stderr)\n",
    "    sys.stderr.write('epoch = {}\\n'.format(epoch))\n",
    "    model.train()\n",
    "\n",
    "    train_loss = 0.\n",
    "    train_steps = 0\n",
    "    train_metric = u.Accuracy()\n",
    "    metrics=[]\n",
    "    metrics_distance=[]\n",
    "    metrics_speed=[]\n",
    "    metrics_activity=[]\n",
    "    for x, y in tqdm(dataloader_train, desc='train'):\n",
    "        optimizer.zero_grad()\n",
    "        # print(\"optimizer\")\n",
    "        x = x.to(device)\n",
    "        y = y.to(device)\n",
    "        break\n",
    "    break"
   ]
  },
  {
   "cell_type": "code",
   "execution_count": 13,
   "metadata": {},
   "outputs": [],
   "source": [
    "model = model.to(device)\n",
    "loss, logits = model(x, y)"
   ]
  },
  {
   "cell_type": "code",
   "execution_count": null,
   "metadata": {},
   "outputs": [],
   "source": [
    "def max_finder_true(logits, ids):\n",
    "    predicted_values = []\n",
    "    for tensor in logits:\n",
    "        max_index = torch.argmax(tensor).item()  # Get the index of the maximum value in the tensor\n",
    "        for key, val in ids.items():\n",
    "            if val == max_index:\n",
    "                predicted_values.append(key)\n",
    "                break\n",
    "    return predicted_values"
   ]
  },
  {
   "cell_type": "code",
   "execution_count": 19,
   "metadata": {},
   "outputs": [],
   "source": [
    "for i in y:\n",
    "    z=i\n",
    "    break"
   ]
  },
  {
   "cell_type": "code",
   "execution_count": 23,
   "metadata": {},
   "outputs": [
    {
     "data": {
      "text/plain": [
       "tensor([11,  1,  8,  2, 18,  8,  9,  8], device='cuda:0')"
      ]
     },
     "execution_count": 23,
     "metadata": {},
     "output_type": "execute_result"
    }
   ],
   "source": [
    "y"
   ]
  },
  {
   "cell_type": "code",
   "execution_count": 25,
   "metadata": {},
   "outputs": [
    {
     "name": "stdout",
     "output_type": "stream",
     "text": [
      "['Cargo at distance 1-2 km with speed 0-1.5 is at-anchor', 'Cargo at distance 2-3 km with speed 0-1.5 is at-anchor', 'Cargo at distance 3-4 km with speed 0-1.5 is at-anchor', 'Cargo at distance 5-6 km with speed 0-1.5 is at-anchor', 'Cargo at distance 3-4 km with speed 8.2-13.3 is underway-sailing', 'Cargo at distance 3-4 km with speed 0-1.5 is at-anchor', 'Cargo at distance 9-10 km with speed 13.3+ is underway-using-engine', 'Cargo at distance 3-4 km with speed 0-1.5 is at-anchor']\n"
     ]
    }
   ],
   "source": [
    "selected_values = [list(ids.keys())[list(ids.values()).index(idx)] for idx in y.tolist()]\n",
    "\n",
    "print(selected_values)"
   ]
  },
  {
   "cell_type": "code",
   "execution_count": 14,
   "metadata": {},
   "outputs": [],
   "source": [
    "predicted=max_finder(logits,ids)"
   ]
  },
  {
   "cell_type": "code",
   "execution_count": 10,
   "metadata": {},
   "outputs": [
    {
     "data": {
      "text/plain": [
       "tensor([11,  1,  8,  2, 18,  8,  9,  8], device='cuda:0')"
      ]
     },
     "execution_count": 10,
     "metadata": {},
     "output_type": "execute_result"
    }
   ],
   "source": [
    "y"
   ]
  },
  {
   "cell_type": "code",
   "execution_count": 12,
   "metadata": {},
   "outputs": [
    {
     "data": {
      "text/plain": [
       "tensor(4, device='cuda:0')"
      ]
     },
     "execution_count": 12,
     "metadata": {},
     "output_type": "execute_result"
    }
   ],
   "source": [
    "torch.argmax(y)"
   ]
  },
  {
   "cell_type": "code",
   "execution_count": 9,
   "metadata": {},
   "outputs": [
    {
     "data": {
      "text/plain": [
       "['Cargo at distance 0-1 km with speed 0-1.5 is at-anchor',\n",
       " 'Cargo at distance 0-1 km with speed 0-1.5 is at-anchor',\n",
       " 'Cargo at distance 0-1 km with speed 0-1.5 is at-anchor',\n",
       " 'Cargo at distance 0-1 km with speed 0-1.5 is at-anchor',\n",
       " 'Cargo at distance 0-1 km with speed 0-1.5 is at-anchor',\n",
       " 'Cargo at distance 0-1 km with speed 0-1.5 is at-anchor',\n",
       " 'Cargo at distance 0-1 km with speed 0-1.5 is at-anchor',\n",
       " 'Cargo at distance 0-1 km with speed 0-1.5 is at-anchor']"
      ]
     },
     "execution_count": 9,
     "metadata": {},
     "output_type": "execute_result"
    }
   ],
   "source": [
    "true_values=max_finder(y,ids)\n",
    "true_values"
   ]
  },
  {
   "cell_type": "code",
   "execution_count": 7,
   "metadata": {},
   "outputs": [],
   "source": [
    "        \n",
    "def max_finder(logits, ids):\n",
    "    predicted_values = []\n",
    "    for tensor in logits:\n",
    "        max_index = torch.argmax(tensor).item()  # Get the index of the maximum value in the tensor\n",
    "        for key, val in ids.items():\n",
    "            if val == max_index:\n",
    "                predicted_values.append(key)\n",
    "                break\n",
    "    return predicted_values"
   ]
  },
  {
   "cell_type": "code",
   "execution_count": 44,
   "metadata": {},
   "outputs": [
    {
     "data": {
      "text/html": [
       "<div>\n",
       "<style scoped>\n",
       "    .dataframe tbody tr th:only-of-type {\n",
       "        vertical-align: middle;\n",
       "    }\n",
       "\n",
       "    .dataframe tbody tr th {\n",
       "        vertical-align: top;\n",
       "    }\n",
       "\n",
       "    .dataframe thead th {\n",
       "        text-align: right;\n",
       "    }\n",
       "</style>\n",
       "<table border=\"1\" class=\"dataframe\">\n",
       "  <thead>\n",
       "    <tr style=\"text-align: right;\">\n",
       "      <th></th>\n",
       "      <th>filename</th>\n",
       "      <th>distance</th>\n",
       "      <th>speed</th>\n",
       "      <th>activity</th>\n",
       "      <th>ship_type</th>\n",
       "      <th>distance_category</th>\n",
       "      <th>speed_category</th>\n",
       "      <th>label</th>\n",
       "    </tr>\n",
       "  </thead>\n",
       "  <tbody>\n",
       "    <tr>\n",
       "      <th>0</th>\n",
       "      <td>GardenCity_15811_test/GardenCity_15811_2022-03...</td>\n",
       "      <td>3627.0</td>\n",
       "      <td>10.8</td>\n",
       "      <td>underway-using-engine</td>\n",
       "      <td>Cargo</td>\n",
       "      <td>3-4 km</td>\n",
       "      <td>8.2-13.3</td>\n",
       "      <td>Cargo at distance 3-4 km with speed 8.2-13.3 i...</td>\n",
       "    </tr>\n",
       "    <tr>\n",
       "      <th>1</th>\n",
       "      <td>GardenCity_15811_test/GardenCity_15811_2022-03...</td>\n",
       "      <td>4756.0</td>\n",
       "      <td>10.9</td>\n",
       "      <td>underway-using-engine</td>\n",
       "      <td>Cargo</td>\n",
       "      <td>4-5 km</td>\n",
       "      <td>8.2-13.3</td>\n",
       "      <td>Cargo at distance 4-5 km with speed 8.2-13.3 i...</td>\n",
       "    </tr>\n",
       "    <tr>\n",
       "      <th>2</th>\n",
       "      <td>GardenCity_15811_test/GardenCity_15811_2022-03...</td>\n",
       "      <td>7621.0</td>\n",
       "      <td>11.1</td>\n",
       "      <td>underway-using-engine</td>\n",
       "      <td>Cargo</td>\n",
       "      <td>7-8 km</td>\n",
       "      <td>8.2-13.3</td>\n",
       "      <td>Cargo at distance 7-8 km with speed 8.2-13.3 i...</td>\n",
       "    </tr>\n",
       "    <tr>\n",
       "      <th>3</th>\n",
       "      <td>GardenCity_15811_test/GardenCity_15811_2022-03...</td>\n",
       "      <td>9009.0</td>\n",
       "      <td>11.3</td>\n",
       "      <td>underway-using-engine</td>\n",
       "      <td>Cargo</td>\n",
       "      <td>9-10 km</td>\n",
       "      <td>8.2-13.3</td>\n",
       "      <td>Cargo at distance 9-10 km with speed 8.2-13.3 ...</td>\n",
       "    </tr>\n",
       "    <tr>\n",
       "      <th>4</th>\n",
       "      <td>GardenCity_15811_test/GardenCity_15811_2022-03...</td>\n",
       "      <td>10230.0</td>\n",
       "      <td>11.2</td>\n",
       "      <td>underway-using-engine</td>\n",
       "      <td>Cargo</td>\n",
       "      <td>10+ km</td>\n",
       "      <td>8.2-13.3</td>\n",
       "      <td>Cargo at distance 10+ km with speed 8.2-13.3 i...</td>\n",
       "    </tr>\n",
       "    <tr>\n",
       "      <th>...</th>\n",
       "      <td>...</td>\n",
       "      <td>...</td>\n",
       "      <td>...</td>\n",
       "      <td>...</td>\n",
       "      <td>...</td>\n",
       "      <td>...</td>\n",
       "      <td>...</td>\n",
       "      <td>...</td>\n",
       "    </tr>\n",
       "    <tr>\n",
       "      <th>1248</th>\n",
       "      <td>Grafton_29187_test/Grafton_29187_2022-10-30_23...</td>\n",
       "      <td>2750.0</td>\n",
       "      <td>0.0</td>\n",
       "      <td>at-anchor</td>\n",
       "      <td>Cargo</td>\n",
       "      <td>2-3 km</td>\n",
       "      <td>0-1.5</td>\n",
       "      <td>Cargo at distance 2-3 km with speed 0-1.5 is a...</td>\n",
       "    </tr>\n",
       "    <tr>\n",
       "      <th>1249</th>\n",
       "      <td>Grafton_29187_test/Grafton_29187_2022-10-30_23...</td>\n",
       "      <td>3039.0</td>\n",
       "      <td>0.0</td>\n",
       "      <td>at-anchor</td>\n",
       "      <td>Cargo</td>\n",
       "      <td>3-4 km</td>\n",
       "      <td>0-1.5</td>\n",
       "      <td>Cargo at distance 3-4 km with speed 0-1.5 is a...</td>\n",
       "    </tr>\n",
       "    <tr>\n",
       "      <th>1250</th>\n",
       "      <td>Grafton_29187_test/Grafton_29187_2022-10-30_23...</td>\n",
       "      <td>2822.0</td>\n",
       "      <td>0.0</td>\n",
       "      <td>at-anchor</td>\n",
       "      <td>Cargo</td>\n",
       "      <td>2-3 km</td>\n",
       "      <td>0-1.5</td>\n",
       "      <td>Cargo at distance 2-3 km with speed 0-1.5 is a...</td>\n",
       "    </tr>\n",
       "    <tr>\n",
       "      <th>1251</th>\n",
       "      <td>Grafton_29187_test/Grafton_29187_2022-10-30_23...</td>\n",
       "      <td>3046.0</td>\n",
       "      <td>0.0</td>\n",
       "      <td>at-anchor</td>\n",
       "      <td>Cargo</td>\n",
       "      <td>3-4 km</td>\n",
       "      <td>0-1.5</td>\n",
       "      <td>Cargo at distance 3-4 km with speed 0-1.5 is a...</td>\n",
       "    </tr>\n",
       "    <tr>\n",
       "      <th>1252</th>\n",
       "      <td>Grafton_29187_test/Grafton_29187_2022-10-30_23...</td>\n",
       "      <td>3673.0</td>\n",
       "      <td>0.0</td>\n",
       "      <td>at-anchor</td>\n",
       "      <td>Cargo</td>\n",
       "      <td>3-4 km</td>\n",
       "      <td>0-1.5</td>\n",
       "      <td>Cargo at distance 3-4 km with speed 0-1.5 is a...</td>\n",
       "    </tr>\n",
       "  </tbody>\n",
       "</table>\n",
       "<p>1253 rows × 8 columns</p>\n",
       "</div>"
      ],
      "text/plain": [
       "                                               filename  distance  speed  \\\n",
       "0     GardenCity_15811_test/GardenCity_15811_2022-03...    3627.0   10.8   \n",
       "1     GardenCity_15811_test/GardenCity_15811_2022-03...    4756.0   10.9   \n",
       "2     GardenCity_15811_test/GardenCity_15811_2022-03...    7621.0   11.1   \n",
       "3     GardenCity_15811_test/GardenCity_15811_2022-03...    9009.0   11.3   \n",
       "4     GardenCity_15811_test/GardenCity_15811_2022-03...   10230.0   11.2   \n",
       "...                                                 ...       ...    ...   \n",
       "1248  Grafton_29187_test/Grafton_29187_2022-10-30_23...    2750.0    0.0   \n",
       "1249  Grafton_29187_test/Grafton_29187_2022-10-30_23...    3039.0    0.0   \n",
       "1250  Grafton_29187_test/Grafton_29187_2022-10-30_23...    2822.0    0.0   \n",
       "1251  Grafton_29187_test/Grafton_29187_2022-10-30_23...    3046.0    0.0   \n",
       "1252  Grafton_29187_test/Grafton_29187_2022-10-30_23...    3673.0    0.0   \n",
       "\n",
       "                   activity ship_type distance_category speed_category  \\\n",
       "0     underway-using-engine     Cargo            3-4 km       8.2-13.3   \n",
       "1     underway-using-engine     Cargo            4-5 km       8.2-13.3   \n",
       "2     underway-using-engine     Cargo            7-8 km       8.2-13.3   \n",
       "3     underway-using-engine     Cargo           9-10 km       8.2-13.3   \n",
       "4     underway-using-engine     Cargo            10+ km       8.2-13.3   \n",
       "...                     ...       ...               ...            ...   \n",
       "1248              at-anchor     Cargo            2-3 km          0-1.5   \n",
       "1249              at-anchor     Cargo            3-4 km          0-1.5   \n",
       "1250              at-anchor     Cargo            2-3 km          0-1.5   \n",
       "1251              at-anchor     Cargo            3-4 km          0-1.5   \n",
       "1252              at-anchor     Cargo            3-4 km          0-1.5   \n",
       "\n",
       "                                                  label  \n",
       "0     Cargo at distance 3-4 km with speed 8.2-13.3 i...  \n",
       "1     Cargo at distance 4-5 km with speed 8.2-13.3 i...  \n",
       "2     Cargo at distance 7-8 km with speed 8.2-13.3 i...  \n",
       "3     Cargo at distance 9-10 km with speed 8.2-13.3 ...  \n",
       "4     Cargo at distance 10+ km with speed 8.2-13.3 i...  \n",
       "...                                                 ...  \n",
       "1248  Cargo at distance 2-3 km with speed 0-1.5 is a...  \n",
       "1249  Cargo at distance 3-4 km with speed 0-1.5 is a...  \n",
       "1250  Cargo at distance 2-3 km with speed 0-1.5 is a...  \n",
       "1251  Cargo at distance 3-4 km with speed 0-1.5 is a...  \n",
       "1252  Cargo at distance 3-4 km with speed 0-1.5 is a...  \n",
       "\n",
       "[1253 rows x 8 columns]"
      ]
     },
     "execution_count": 44,
     "metadata": {},
     "output_type": "execute_result"
    }
   ],
   "source": [
    "d_test_loc\n",
    "d_test=process_filenames(d_test_loc)\n",
    "d_test"
   ]
  },
  {
   "cell_type": "code",
   "execution_count": 2,
   "metadata": {},
   "outputs": [],
   "source": [
    "L=LifeWatchDataset(config)"
   ]
  },
  {
   "cell_type": "code",
   "execution_count": 3,
   "metadata": {},
   "outputs": [
    {
     "name": "stdout",
     "output_type": "stream",
     "text": [
      "path  \\\\fs\\shared\\onderzoek\\6. Marine Observation Center\\Projects\\IMAGINE\\UC6\\ds_split-CLAP\\train.txt\n"
     ]
    },
    {
     "data": {
      "application/vnd.jupyter.widget-view+json": {
       "model_id": "1b8d64e3b2be4f218b31cc742ac613f5",
       "version_major": 2,
       "version_minor": 0
      },
      "text/plain": [
       "config.json:   0%|          | 0.00/5.46k [00:00<?, ?B/s]"
      ]
     },
     "metadata": {},
     "output_type": "display_data"
    },
    {
     "name": "stderr",
     "output_type": "stream",
     "text": [
      "c:\\Users\\wout.decrop\\.pyenv\\pyenv-win\\versions\\3.8.10\\lib\\site-packages\\huggingface_hub\\file_download.py:149: UserWarning: `huggingface_hub` cache-system uses symlinks by default to efficiently store duplicated files but your machine does not support them in C:\\Users\\wout.decrop\\.cache\\huggingface\\hub\\models--davidrrobinson--BioLingual. Caching files will still work but in a degraded version that might require more space on your disk. This warning can be disabled by setting the `HF_HUB_DISABLE_SYMLINKS_WARNING` environment variable. For more details, see https://huggingface.co/docs/huggingface_hub/how-to-cache#limitations.\n",
      "To support symlinks on Windows, you either need to activate Developer Mode or to run Python as an administrator. In order to see activate developer mode, see this article: https://docs.microsoft.com/en-us/windows/apps/get-started/enable-your-device-for-development\n",
      "  warnings.warn(message)\n"
     ]
    },
    {
     "data": {
      "application/vnd.jupyter.widget-view+json": {
       "model_id": "88b22385799441dcbe9dd2c68455ed08",
       "version_major": 2,
       "version_minor": 0
      },
      "text/plain": [
       "pytorch_model.bin:   0%|          | 0.00/615M [00:00<?, ?B/s]"
      ]
     },
     "metadata": {},
     "output_type": "display_data"
    },
    {
     "name": "stderr",
     "output_type": "stream",
     "text": [
      "c:\\Users\\wout.decrop\\.pyenv\\pyenv-win\\versions\\3.8.10\\lib\\site-packages\\torch\\_utils.py:831: UserWarning: TypedStorage is deprecated. It will be removed in the future and UntypedStorage will be the only storage class. This should only matter to you if you are using storages directly.  To access UntypedStorage directly, use tensor.untyped_storage() instead of tensor.storage()\n",
      "  return self.fget.__get__(instance, owner)()\n"
     ]
    },
    {
     "name": "stdout",
     "output_type": "stream",
     "text": [
      "fixed clap.\n"
     ]
    },
    {
     "data": {
      "application/vnd.jupyter.widget-view+json": {
       "model_id": "6e874cfd3b0a43659b5e8dd27ccd4db2",
       "version_major": 2,
       "version_minor": 0
      },
      "text/plain": [
       "preprocessor_config.json:   0%|          | 0.00/541 [00:00<?, ?B/s]"
      ]
     },
     "metadata": {},
     "output_type": "display_data"
    },
    {
     "data": {
      "application/vnd.jupyter.widget-view+json": {
       "model_id": "e10b8a2389244e7da4aa0c19347c3c87",
       "version_major": 2,
       "version_minor": 0
      },
      "text/plain": [
       "tokenizer_config.json:   0%|          | 0.00/414 [00:00<?, ?B/s]"
      ]
     },
     "metadata": {},
     "output_type": "display_data"
    },
    {
     "data": {
      "application/vnd.jupyter.widget-view+json": {
       "model_id": "e76def90e232414498972e614930d2e6",
       "version_major": 2,
       "version_minor": 0
      },
      "text/plain": [
       "vocab.json:   0%|          | 0.00/798k [00:00<?, ?B/s]"
      ]
     },
     "metadata": {},
     "output_type": "display_data"
    },
    {
     "data": {
      "application/vnd.jupyter.widget-view+json": {
       "model_id": "81767df0e0b04302b161b305330032da",
       "version_major": 2,
       "version_minor": 0
      },
      "text/plain": [
       "merges.txt:   0%|          | 0.00/456k [00:00<?, ?B/s]"
      ]
     },
     "metadata": {},
     "output_type": "display_data"
    },
    {
     "data": {
      "application/vnd.jupyter.widget-view+json": {
       "model_id": "a23179b172054b3b92e49347547524f9",
       "version_major": 2,
       "version_minor": 0
      },
      "text/plain": [
       "tokenizer.json:   0%|          | 0.00/2.11M [00:00<?, ?B/s]"
      ]
     },
     "metadata": {},
     "output_type": "display_data"
    },
    {
     "data": {
      "application/vnd.jupyter.widget-view+json": {
       "model_id": "5c1f048e29554369b89c6941e7da5cd4",
       "version_major": 2,
       "version_minor": 0
      },
      "text/plain": [
       "special_tokens_map.json:   0%|          | 0.00/280 [00:00<?, ?B/s]"
      ]
     },
     "metadata": {},
     "output_type": "display_data"
    },
    {
     "name": "stderr",
     "output_type": "stream",
     "text": [
      "epoch = 0\n",
      "train: 100%|██████████| 735/735 [4:30:39<00:00, 22.09s/it]  \n",
      "valid: 100%|██████████| 90/90 [24:05<00:00, 16.06s/it]\n",
      "epoch = 1\n",
      "train: 100%|██████████| 735/735 [3:19:12<00:00, 16.26s/it]  \n",
      "valid: 100%|██████████| 90/90 [17:13<00:00, 11.48s/it]\n",
      "epoch = 2\n",
      "train: 100%|██████████| 735/735 [3:02:30<00:00, 14.90s/it]  \n",
      "valid: 100%|██████████| 90/90 [15:59<00:00, 10.66s/it]\n",
      "epoch = 3\n",
      "train: 100%|██████████| 735/735 [2:41:33<00:00, 13.19s/it]  \n",
      "valid: 100%|██████████| 90/90 [14:18<00:00,  9.54s/it]\n",
      "epoch = 4\n",
      "train: 100%|██████████| 735/735 [2:34:59<00:00, 12.65s/it]  \n",
      "valid: 100%|██████████| 90/90 [15:07<00:00, 10.08s/it]\n",
      "epoch = 5\n",
      "train: 100%|██████████| 735/735 [2:48:14<00:00, 13.73s/it]  \n",
      "valid: 100%|██████████| 90/90 [17:20<00:00, 11.56s/it]\n",
      "epoch = 6\n",
      "train:  30%|██▉       | 217/735 [51:03<2:14:32, 15.58s/it]"
     ]
    }
   ],
   "source": [
    "L.train_clap()"
   ]
  },
  {
   "cell_type": "code",
   "execution_count": null,
   "metadata": {},
   "outputs": [],
   "source": [
    "desired_fs = 48000\n",
    "device = torch.device('cuda' if torch.cuda.is_available() else 'cpu')\n",
    "log_path = r'C:\\Users\\wout.decrop\\project_environment\\module_imagine\\underwater-noise-classification\\roi/runs/BioLingual/logs.log'\n",
    "log_file = open(log_path, mode='w')\n",
    "\n",
    "# detections = self.convert_raven_to_ae_format(labels_to_exclude=None)\n",
    "# detections = detections.loc[~detections.label.isna()]\n",
    "\n",
    "d_test_path= r\"\\\\fs\\shared\\onderzoek\\6. Marine Observation Center\\Projects\\IMAGINE\\UC6\\ds_split-CLAP\\test.txt\"\n",
    "print(\"path \", d_test_path)\n",
    "split = np.genfromtxt(d_test_path, dtype='str', delimiter=' ')\n",
    "d_test_loc = np.array([os.path.join(wavs_folder, i) for i in split[:, 0]])\n",
    "\n",
    "\n",
    "# split = np.genfromtxt(self.d_train_path, dtype='str', delimiter=' ')\n",
    "# d_train_loc = np.array([os.path.join(self.wavs_folder, i) for i in split[:, 0]])\n",
    "\n",
    "# split = np.genfromtxt(self.d_valid_path, dtype='str', delimiter=' ')\n",
    "# d_valid_loc = np.array([os.path.join(self.wavs_folder, i) for i in split[:, 0]])\n",
    "\n",
    "d_test=u.process_filenames(d_test_loc)\n",
    "\n",
    "num_classes = len(d_test[\"label\"].unique())\n",
    "model = models.CLAPClassifier(model_path, num_classes, sr=esired_fs, device=device,  multi_label=False)\n",
    "\n",
    "dataloader_train = torch.utils.data.DataLoader(\n",
    "    dataset=u.DatasetWaveform(df=d_train, wavs_folder=wavs_folder, desired_fs=desired_fs,\n",
    "                                max_duration=sample_dur),\n",
    "    batch_size=batch_size,\n",
    "    shuffle=not stop_shuffle)\n",
    "\n",
    "for x, y in tqdm(dataloader_train, desc='train'):\n",
    "    optimizer.zero_grad()\n",
    "\n",
    "    x = x.to(device)\n",
    "    y = y.to(device)\n",
    "\n",
    "    loss, logits = model(x, y)\n",
    "    loss.backward()\n",
    "    optimizer.step()\n",
    "\n",
    "    train_loss += loss.cpu()\n",
    "    train_steps += 1\n"
   ]
  },
  {
   "cell_type": "code",
   "execution_count": 33,
   "metadata": {},
   "outputs": [
    {
     "data": {
      "text/plain": [
       "array(['at-anchor', 'constrained-by-her-draught', 'moored',\n",
       "       'not-under-command', 'reserved-for-future-use',\n",
       "       'restricted-maneuverability', 'underway-sailing',\n",
       "       'underway-using-engine'], dtype=object)"
      ]
     },
     "execution_count": 33,
     "metadata": {},
     "output_type": "execute_result"
    }
   ],
   "source": [
    "\n",
    "\n",
    "def eval_pytorch_model(model, dataloader, metric_factory, device, desc):\n",
    "    model.eval()\n",
    "    total_loss = 0.\n",
    "    steps = 0\n",
    "    metric = metric_factory()\n",
    "    with torch.no_grad():\n",
    "        for x, y in tqdm(dataloader, desc=desc):\n",
    "            x = x.to(device)\n",
    "            y = y.to(device)\n",
    "\n",
    "            loss, logits = model(x, y)\n",
    "            total_loss += loss.cpu().item()\n",
    "            steps += 1\n",
    "\n",
    "            metric.update(logits.to(\"cpu\"), y.to(\"cpu\"))\n",
    "\n",
    "    total_loss /= steps\n",
    "\n",
    "    return total_loss, metric.get_primary_metric()\n"
   ]
  },
  {
   "cell_type": "code",
   "execution_count": 35,
   "metadata": {},
   "outputs": [
    {
     "name": "stderr",
     "output_type": "stream",
     "text": [
      "C:\\Users\\wout.decrop\\AppData\\Local\\Temp\\ipykernel_18128\\2609558822.py:22: FutureWarning: \n",
      "\n",
      "Passing `palette` without assigning `hue` is deprecated and will be removed in v0.14.0. Assign the `x` variable to `hue` and set `legend=False` for the same effect.\n",
      "\n",
      "  sns.countplot(data=df, x='activity', order=activities, palette='viridis')\n"
     ]
    },
    {
     "data": {
      "image/png": "[encoded data removed]",
      "text/plain": [
       "<Figure size 1000x600 with 1 Axes>"
      ]
     },
     "metadata": {},
     "output_type": "display_data"
    }
   ],
   "source": [
    "import seaborn as sns\n",
    "import matplotlib.pyplot as plt\n",
    "\n",
    "# Sample DataFrame\n",
    "# df = pd.DataFrame({\n",
    "#     'filename': ['file1', 'file2', 'file3', 'file4', 'file5'],\n",
    "#     'distance': [868.0, 2169.0, 5666.0, 9623.0, 5290.0],\n",
    "#     'speed': [0.1, 0.0, 0.0, 10.1, 0.1],\n",
    "#     'activity': ['at-anchor', 'at-anchor', 'at-anchor', 'underway-using-engine', 'at-anchor']\n",
    "# })\n",
    "\n",
    "# Define activity categories\n",
    "activities = ['at-anchor', 'constrained-by-her-draught', 'moored',\n",
    "              'not-under-command', 'reserved-for-future-use',\n",
    "              'restricted-maneuverability', 'underway-sailing',\n",
    "              'underway-using-engine']\n",
    "\n",
    "# Set plot size\n",
    "plt.figure(figsize=(10, 6))\n",
    "\n",
    "# Plot the distribution of activities\n",
    "sns.countplot(data=df, x='activity', order=activities, palette='viridis')\n",
    "\n",
    "# Set plot labels and title\n",
    "plt.xlabel('Activity')\n",
    "plt.ylabel('Count')\n",
    "plt.title('Distribution of Activities')\n",
    "plt.xticks(rotation=45, ha='right')\n",
    "\n",
    "# Show the plot\n",
    "plt.tight_layout()\n",
    "plt.show()\n"
   ]
  },
  {
   "cell_type": "code",
   "execution_count": 24,
   "metadata": {},
   "outputs": [
    {
     "data": {
      "image/png": "[encoded data removed]",
      "text/plain": [
       "<Figure size 1000x600 with 1 Axes>"
      ]
     },
     "metadata": {},
     "output_type": "display_data"
    }
   ],
   "source": [
    "import matplotlib.pyplot as plt\n",
    "\n",
    "# Remove speeds above 40\n",
    "df = df[df['speed'] <= 40]\n",
    "\n",
    "grouped_df = df.groupby('activity')['speed'].mean().reset_index()\n",
    "\n",
    "# Plot the speed based on activity\n",
    "plt.figure(figsize=(10, 6))\n",
    "plt.boxplot([df[df['activity'] == 'at-anchor']['speed'],\n",
    "             df[df['activity'] == 'underway-using-engine']['speed']],\n",
    "            labels=['at-anchor', 'underway-using-engine'])\n",
    "plt.xlabel('Activity')\n",
    "plt.ylabel('Speed')\n",
    "plt.title('Boxplot of Speed Based on Activity')\n",
    "plt.show()"
   ]
  },
  {
   "cell_type": "code",
   "execution_count": 40,
   "metadata": {},
   "outputs": [
    {
     "name": "stdout",
     "output_type": "stream",
     "text": [
      "whiskers: [<matplotlib.lines.Line2D object at 0x000002004E8A80A0>, <matplotlib.lines.Line2D object at 0x000002004E8A8340>, <matplotlib.lines.Line2D object at 0x000002004E8B1340>, <matplotlib.lines.Line2D object at 0x000002004E8B15E0>]\n",
      "caps: [<matplotlib.lines.Line2D object at 0x000002004E8A85E0>, <matplotlib.lines.Line2D object at 0x000002004E8A8880>, <matplotlib.lines.Line2D object at 0x000002004E8B1880>, <matplotlib.lines.Line2D object at 0x000002004E8B1B50>]\n",
      "boxes: [<matplotlib.lines.Line2D object at 0x000002004EA17DC0>, <matplotlib.lines.Line2D object at 0x000002004E8B10A0>]\n",
      "medians: [<matplotlib.lines.Line2D object at 0x000002004E8A8B20>, <matplotlib.lines.Line2D object at 0x000002004E8B1DF0>]\n",
      "fliers: [<matplotlib.lines.Line2D object at 0x000002004E8A8DC0>, <matplotlib.lines.Line2D object at 0x000002004E8C40D0>]\n",
      "means: []\n"
     ]
    },
    {
     "data": {
      "image/png": "[encoded data removed]",
      "text/plain": [
       "<Figure size 640x480 with 1 Axes>"
      ]
     },
     "metadata": {},
     "output_type": "display_data"
    }
   ],
   "source": [
    "grouped_data = [df[df['activity'] == 'at-anchor']['speed'],\n",
    "                df[df['activity'] == 'underway-using-engine']['speed']]\n",
    "boxplot_dict = plt.boxplot(grouped_data, labels=['at-anchor', 'underway-using-engine'])\n",
    "\n",
    "for key in boxplot_dict.keys():\n",
    "    data = boxplot_dict[key]\n",
    "    print(f\"{key}: {data}\")"
   ]
  },
  {
   "cell_type": "code",
   "execution_count": 59,
   "metadata": {},
   "outputs": [
    {
     "data": {
      "text/plain": [
       "1.4"
      ]
     },
     "execution_count": 59,
     "metadata": {},
     "output_type": "execute_result"
    }
   ],
   "source": [
    "max(df[df[\"activity\"]==\"at-anchor\"][\"speed\"])"
   ]
  },
  {
   "cell_type": "code",
   "execution_count": 52,
   "metadata": {},
   "outputs": [
    {
     "data": {
      "text/plain": [
       "array([10.1,  8.2])"
      ]
     },
     "execution_count": 52,
     "metadata": {},
     "output_type": "execute_result"
    }
   ],
   "source": [
    "boxplot_dict[\"whiskers\"][2].get_ydata()"
   ]
  },
  {
   "cell_type": "code",
   "execution_count": 56,
   "metadata": {},
   "outputs": [
    {
     "data": {
      "text/plain": [
       "array([0., 0.])"
      ]
     },
     "execution_count": 56,
     "metadata": {},
     "output_type": "execute_result"
    }
   ],
   "source": [
    "boxplot_dict[\"whiskers\"][1].get_ydata()"
   ]
  },
  {
   "cell_type": "code",
   "execution_count": 54,
   "metadata": {},
   "outputs": [
    {
     "data": {
      "text/plain": [
       "array([11.4, 13.3])"
      ]
     },
     "execution_count": 54,
     "metadata": {},
     "output_type": "execute_result"
    }
   ],
   "source": [
    "boxplot_dict[\"whiskers\"][3].get_ydata()"
   ]
  },
  {
   "cell_type": "code",
   "execution_count": 36,
   "metadata": {},
   "outputs": [
    {
     "name": "stdout",
     "output_type": "stream",
     "text": [
      "Lower Bound (2.5th percentile): 0.0\n",
      "Upper Bound (97.5th percentile): 13.7\n"
     ]
    }
   ],
   "source": [
    "lower_bound = df['speed'].quantile(0.025)\n",
    "upper_bound = df['speed'].quantile(0.975)\n",
    "\n",
    "print(\"Lower Bound (2.5th percentile):\", lower_bound)\n",
    "print(\"Upper Bound (97.5th percentile):\", upper_bound)"
   ]
  },
  {
   "cell_type": "code",
   "execution_count": 4,
   "metadata": {},
   "outputs": [
    {
     "data": {
      "text/plain": [
       "<dataset.LifeWatchDataset at 0x24947f4d8e0>"
      ]
     },
     "execution_count": 4,
     "metadata": {},
     "output_type": "execute_result"
    }
   ],
   "source": [
    "LifeWatchDataset(config)\n"
   ]
  },
  {
   "cell_type": "code",
   "execution_count": 9,
   "metadata": {},
   "outputs": [
    {
     "name": "stdout",
     "output_type": "stream",
     "text": [
      "Number of frames: 461472\n"
     ]
    }
   ],
   "source": [
    "import wave\n",
    "\n",
    "def get_num_frames_wav(wav_file):\n",
    "    with wave.open(wav_file, 'rb') as wf:\n",
    "        num_frames = wf.getnframes()\n",
    "    return num_frames\n",
    "\n",
    "# Example usage:\n",
    "wav_file= r'\\\\fs\\shared\\onderzoek\\6. Marine Observation Center\\Projects\\IMAGINE\\UC6\\data\\data_per_station_10_vessel_information_point\\GardenCity_15811_test\\GardenCity_15811_2022-03-25_00-05-28_272-0_Cargo_underway-using-engine_10-8_2022-03-25-00-10-00_3627.wav'\n",
    "num_frames = get_num_frames_wav(wav_file)\n",
    "print(\"Number of frames:\", num_frames)\n"
   ]
  },
  {
   "cell_type": "code",
   "execution_count": 3,
   "metadata": {},
   "outputs": [
    {
     "name": "stdout",
     "output_type": "stream",
     "text": [
      "The file does not exist or the path is incorrect.\n"
     ]
    }
   ],
   "source": [
    "import os\n",
    "\n",
    "if os.path.exists(wav_file):\n",
    "    print(\"The file exists.\")\n",
    "else:\n",
    "    print(\"The file does not exist or the path is incorrect.\")\n"
   ]
  },
  {
   "cell_type": "code",
   "execution_count": 7,
   "metadata": {},
   "outputs": [
    {
     "name": "stdout",
     "output_type": "stream",
     "text": [
      "The folder exists.\n"
     ]
    }
   ],
   "source": [
    "import os\n",
    "\n",
    "folder_path = r'\\\\fs\\shared\\onderzoek\\6. Marine Observation Center\\Projects\\IMAGINE\\UC6\\data\\data_per_station_10_vessel_information_point\\GardenCity_15811_test\\GardenCity_15811_2022-03-25_00-05-28_272-0_Cargo_underway-using-engine_10-8_2022-03-25-00-10-00_3627.wav'\n",
    "\n",
    "if os.path.exists(folder_path):\n",
    "    print(\"The folder exists.\")\n",
    "else:\n",
    "    print(\"The folder does not exist or the path is incorrect.\")\n"
   ]
  }
 ],
 "metadata": {
  "kernelspec": {
   "display_name": "Python 3 (ipykernel)",
   "language": "python",
   "name": "python3"
  },
  "language_info": {
   "codemirror_mode": {
    "name": "ipython",
    "version": 3
   },
   "file_extension": ".py",
   "mimetype": "text/x-python",
   "name": "python",
   "nbconvert_exporter": "python",
   "pygments_lexer": "ipython3",
   "version": "3.10.13"
  }
 },
 "nbformat": 4,
 "nbformat_minor": 4
}
