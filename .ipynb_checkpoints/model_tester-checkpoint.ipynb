{
 "cells": [
  {
   "cell_type": "code",
   "execution_count": 1,
   "id": "5fb96f49-9aee-4ccf-853a-86736cd4160a",
   "metadata": {},
   "outputs": [
    {
     "name": "stderr",
     "output_type": "stream",
     "text": [
      "/opt/conda/lib/python3.10/site-packages/tqdm/auto.py:21: TqdmWarning: IProgress not found. Please update jupyter and ipywidgets. See https://ipywidgets.readthedocs.io/en/stable/user_install.html\n",
      "  from .autonotebook import tqdm as notebook_tqdm\n",
      "/tmp/ipykernel_9180/2882978322.py:46: UserWarning: torchaudio._backend.set_audio_backend has been deprecated. With dispatcher enabled, this function is no-op. You can remove the function call.\n",
      "  torchaudio.set_audio_backend(backend='soundfile')\n"
     ]
    }
   ],
   "source": [
    "import torchvision.models as torchmodels\n",
    "from torch import nn\n",
    "import utils as u\n",
    "from filterbank import STFT, MelFilter, Log1p, MedFilt\n",
    "import torch\n",
    "import torch.nn.functional as F\n",
    "from transformers import AutoProcessor, ClapModel, ClapAudioModelWithProjection, ClapProcessor\n",
    "import torch.nn.functional as F\n",
    "torch.hub.set_dir('/data/woutdecrop/torch/')\n",
    "\n",
    "import datetime\n",
    "import json\n",
    "import os\n",
    "import pathlib\n",
    "import shutil\n",
    "import sys\n",
    "\n",
    "# import fairseq\n",
    "import matplotlib\n",
    "import matplotlib.pyplot as plt\n",
    "import numpy as np\n",
    "import pandas as pd\n",
    "import pytz\n",
    "import scipy\n",
    "import soundfile as sf\n",
    "import torch\n",
    "import torchaudio\n",
    "import torchaudio.functional as F\n",
    "from torch.utils.tensorboard import SummaryWriter\n",
    "from torchvision.utils import make_grid\n",
    "from PIL import Image\n",
    "# from maad import util\n",
    "from tqdm import tqdm\n",
    "import torch.optim as optim\n",
    "from sklearn.model_selection import train_test_split\n",
    "import copy\n",
    "import suntime\n",
    "import pytz\n",
    "\n",
    "from transformers import ClapModel, ClapProcessor\n",
    "from transformers import pipeline\n",
    "\n",
    "import models\n",
    "import utils as u\n",
    "\n",
    "torchaudio.set_audio_backend(backend='soundfile')\n",
    "\n",
    "# matplotlib.use('TkAgg')\n",
    "# Get the color map by name:\n",
    "cm = plt.get_cmap('jet')\n"
   ]
  },
  {
   "cell_type": "code",
   "execution_count": 3,
   "id": "e41d00b5-20ae-4a33-b011-d5473e3b7fae",
   "metadata": {
    "scrolled": true
   },
   "outputs": [
    {
     "name": "stderr",
     "output_type": "stream",
     "text": [
      "/srv/CLAP/dataset.py:36: UserWarning: torchaudio._backend.set_audio_backend has been deprecated. With dispatcher enabled, this function is no-op. You can remove the function call.\n",
      "  torchaudio.set_audio_backend(backend='soundfile')\n"
     ]
    },
    {
     "name": "stdout",
     "output_type": "stream",
     "text": [
      "Selected CUDA device: Tesla T4\n"
     ]
    },
    {
     "name": "stderr",
     "output_type": "stream",
     "text": [
      "/opt/conda/lib/python3.10/site-packages/torch/_utils.py:831: UserWarning: TypedStorage is deprecated. It will be removed in the future and UntypedStorage will be the only storage class. This should only matter to you if you are using storages directly.  To access UntypedStorage directly, use tensor.untyped_storage() instead of tensor.storage()\n",
      "  return self.fget.__get__(instance, owner)()\n"
     ]
    },
    {
     "name": "stdout",
     "output_type": "stream",
     "text": [
      "fixed clap.\n"
     ]
    },
    {
     "name": "stderr",
     "output_type": "stream",
     "text": [
      "/srv/CLAP/models.py:121: UserWarning: To copy construct from a tensor, it is recommended to use sourceTensor.clone().detach() or sourceTensor.clone().detach().requires_grad_(True), rather than torch.tensor(sourceTensor).\n",
      "  self.loss_func = CustomLossFunction(torch.tensor(similarity_matrix).to(device))\n",
      "epoch = 0\n",
      "train:   0%|          | 1/1451 [00:05<2:18:56,  5.75s/it]"
     ]
    },
    {
     "name": "stdout",
     "output_type": "stream",
     "text": [
      "Training metrics: 0.3952611452262058| Distance: 0.5337685753770096| Speed: 0.25 | Activity: 0.0\n"
     ]
    },
    {
     "name": "stderr",
     "output_type": "stream",
     "text": [
      "train:   0%|          | 2/1451 [00:07<1:17:45,  3.22s/it]"
     ]
    },
    {
     "name": "stdout",
     "output_type": "stream",
     "text": [
      "Training metrics: 0.38276114522620586| Distance: 0.5337685753770096| Speed: 0.1875 | Activity: 0.0625\n"
     ]
    },
    {
     "name": "stderr",
     "output_type": "stream",
     "text": [
      "train:   0%|          | 3/1451 [00:08<58:21,  2.42s/it]  "
     ]
    },
    {
     "name": "stdout",
     "output_type": "stream",
     "text": [
      "Training metrics: 0.40657549839676665| Distance: 0.573459163994611| Speed: 0.16666666666666666 | Activity: 0.125\n"
     ]
    },
    {
     "name": "stderr",
     "output_type": "stream",
     "text": [
      "train:   0%|          | 4/1451 [00:09<46:48,  1.94s/it]"
     ]
    },
    {
     "name": "stdout",
     "output_type": "stream",
     "text": [
      "Training metrics: 0.4229542047378883| Distance: 0.5903403412298138| Speed: 0.1875 | Activity: 0.125\n"
     ]
    },
    {
     "name": "stderr",
     "output_type": "stream",
     "text": [
      "train:   0%|          | 5/1451 [00:11<41:45,  1.73s/it]"
     ]
    },
    {
     "name": "stdout",
     "output_type": "stream",
     "text": [
      "Training metrics: 0.42896782188079297| Distance: 0.5732797031346549| Speed: 0.225 | Activity: 0.175\n"
     ]
    },
    {
     "name": "stderr",
     "output_type": "stream",
     "text": [
      "train:   0%|          | 6/1451 [00:12<39:43,  1.65s/it]"
     ]
    },
    {
     "name": "stdout",
     "output_type": "stream",
     "text": [
      "Training metrics: 0.4650167091050284| Distance: 0.6291945151750474| Speed: 0.22916666666666666 | Activity: 0.1875\n"
     ]
    },
    {
     "name": "stderr",
     "output_type": "stream",
     "text": [
      "train:   0%|          | 7/1451 [00:14<37:51,  1.57s/it]"
     ]
    },
    {
     "name": "stdout",
     "output_type": "stream",
     "text": [
      "Training metrics: 0.45973179215465454| Distance: 0.6203863202577576| Speed: 0.23214285714285715 | Activity: 0.17857142857142858\n"
     ]
    },
    {
     "name": "stderr",
     "output_type": "stream",
     "text": [
      "train:   1%|          | 8/1451 [00:15<37:42,  1.57s/it]"
     ]
    },
    {
     "name": "stdout",
     "output_type": "stream",
     "text": [
      "Training metrics: 0.47065160860547944| Distance: 0.6385860143424658| Speed: 0.234375 | Activity: 0.171875\n"
     ]
    },
    {
     "name": "stderr",
     "output_type": "stream",
     "text": [
      "train:   1%|          | 9/1451 [00:17<37:33,  1.56s/it]"
     ]
    },
    {
     "name": "stdout",
     "output_type": "stream",
     "text": [
      "Training metrics: 0.48244911637543136| Distance: 0.6559337124775709| Speed: 0.2361111111111111 | Activity: 0.18055555555555555\n"
     ]
    },
    {
     "name": "stderr",
     "output_type": "stream",
     "text": [
      "train:   1%|          | 10/1451 [00:18<37:12,  1.55s/it]"
     ]
    },
    {
     "name": "stdout",
     "output_type": "stream",
     "text": [
      "Training metrics: 0.4888496304522453| Distance: 0.6584993840870755| Speed: 0.25 | Activity: 0.1875\n"
     ]
    },
    {
     "name": "stderr",
     "output_type": "stream",
     "text": [
      "train:   1%|          | 11/1451 [00:20<38:54,  1.62s/it]"
     ]
    },
    {
     "name": "stdout",
     "output_type": "stream",
     "text": [
      "Training metrics: 0.5033425947790167| Distance: 0.6760255367529066| Speed: 0.26136363636363635 | Activity: 0.19318181818181818\n"
     ]
    },
    {
     "name": "stderr",
     "output_type": "stream",
     "text": [
      "train:   1%|          | 12/1451 [00:22<38:33,  1.61s/it]"
     ]
    },
    {
     "name": "stdout",
     "output_type": "stream",
     "text": [
      "Training metrics: 0.507877473982949| Distance: 0.6797957899715819| Speed: 0.2708333333333333 | Activity: 0.1875\n"
     ]
    },
    {
     "name": "stderr",
     "output_type": "stream",
     "text": [
      "train:   1%|          | 13/1451 [00:23<36:50,  1.54s/it]"
     ]
    },
    {
     "name": "stdout",
     "output_type": "stream",
     "text": [
      "Training metrics: 0.5200529265281141| Distance: 0.6920753903673696| Speed: 0.27884615384615385 | Activity: 0.21153846153846154\n"
     ]
    },
    {
     "name": "stderr",
     "output_type": "stream",
     "text": [
      "train:   1%|          | 14/1451 [00:24<35:25,  1.48s/it]"
     ]
    },
    {
     "name": "stdout",
     "output_type": "stream",
     "text": [
      "Training metrics: 0.5231318933390672| Distance: 0.6977793460413027| Speed: 0.2767857142857143 | Activity: 0.21428571428571427\n"
     ]
    },
    {
     "name": "stderr",
     "output_type": "stream",
     "text": [
      "train:   1%|          | 15/1451 [00:26<34:57,  1.46s/it]"
     ]
    },
    {
     "name": "stdout",
     "output_type": "stream",
     "text": [
      "Training metrics: 0.5351245864799569| Distance: 0.7099298663554838| Speed: 0.2916666666666667 | Activity: 0.21666666666666667\n"
     ]
    },
    {
     "name": "stderr",
     "output_type": "stream",
     "text": [
      "train:   1%|          | 16/1451 [00:27<33:50,  1.41s/it]"
     ]
    },
    {
     "name": "stdout",
     "output_type": "stream",
     "text": [
      "Training metrics: 0.5406345145548732| Distance: 0.7226721075914553| Speed: 0.2890625 | Activity: 0.203125\n"
     ]
    },
    {
     "name": "stderr",
     "output_type": "stream",
     "text": [
      "train:   1%|          | 17/1451 [00:28<33:40,  1.41s/it]"
     ]
    },
    {
     "name": "stdout",
     "output_type": "stream",
     "text": [
      "Training metrics: 0.5491031620159477| Distance: 0.7325738974775601| Speed: 0.29411764705882354 | Activity: 0.21323529411764705\n"
     ]
    },
    {
     "name": "stderr",
     "output_type": "stream",
     "text": [
      "train:   1%|          | 18/1451 [00:30<33:25,  1.40s/it]"
     ]
    },
    {
     "name": "stdout",
     "output_type": "stream",
     "text": [
      "Training metrics: 0.5660532199449444| Distance: 0.7420331443526851| Speed: 0.3263888888888889 | Activity: 0.22916666666666666\n"
     ]
    },
    {
     "name": "stderr",
     "output_type": "stream",
     "text": [
      "train:   1%|▏         | 19/1451 [00:31<34:04,  1.43s/it]"
     ]
    },
    {
     "name": "stdout",
     "output_type": "stream",
     "text": [
      "Training metrics: 0.5656795903238194| Distance: 0.7355624751011027| Speed: 0.3355263157894737 | Activity: 0.23684210526315788\n"
     ]
    },
    {
     "name": "stderr",
     "output_type": "stream",
     "text": [
      "train:   1%|▏         | 20/1451 [00:33<33:58,  1.42s/it]"
     ]
    },
    {
     "name": "stdout",
     "output_type": "stream",
     "text": [
      "Training metrics: 0.5681120697343809| Distance: 0.7291451162239682| Speed: 0.35 | Activity: 0.25625\n"
     ]
    },
    {
     "name": "stderr",
     "output_type": "stream",
     "text": [
      "train:   1%|▏         | 21/1451 [00:34<33:48,  1.42s/it]"
     ]
    },
    {
     "name": "stdout",
     "output_type": "stream",
     "text": [
      "Training metrics: 0.573884313010603| Distance: 0.7292913153351321| Speed: 0.3630952380952381 | Activity: 0.27380952380952384\n"
     ]
    },
    {
     "name": "stderr",
     "output_type": "stream",
     "text": [
      "train:   2%|▏         | 22/1451 [00:36<33:43,  1.42s/it]"
     ]
    },
    {
     "name": "stdout",
     "output_type": "stream",
     "text": [
      "Training metrics: 0.5803766352542019| Distance: 0.7314989375448818| Speed: 0.375 | Activity: 0.2897727272727273\n"
     ]
    },
    {
     "name": "stderr",
     "output_type": "stream",
     "text": [
      "train:   2%|▏         | 23/1451 [00:37<34:06,  1.43s/it]"
     ]
    },
    {
     "name": "stdout",
     "output_type": "stream",
     "text": [
      "Training metrics: 0.5822416614625726| Distance: 0.7285549430173311| Speed: 0.3858695652173913 | Activity: 0.29347826086956524\n"
     ]
    },
    {
     "name": "stderr",
     "output_type": "stream",
     "text": [
      "train:   2%|▏         | 24/1451 [00:38<34:01,  1.43s/it]"
     ]
    },
    {
     "name": "stdout",
     "output_type": "stream",
     "text": [
      "Training metrics: 0.5803551484834694| Distance: 0.7320155252502268| Speed: 0.375 | Activity: 0.2864583333333333\n"
     ]
    },
    {
     "name": "stderr",
     "output_type": "stream",
     "text": [
      "train:   2%|▏         | 25/1451 [00:40<34:12,  1.44s/it]"
     ]
    },
    {
     "name": "stdout",
     "output_type": "stream",
     "text": [
      "Training metrics: 0.5869772789231616| Distance: 0.7399621315386028| Speed: 0.38 | Activity: 0.29\n"
     ]
    },
    {
     "name": "stderr",
     "output_type": "stream",
     "text": [
      "train:   2%|▏         | 26/1451 [00:41<34:12,  1.44s/it]"
     ]
    },
    {
     "name": "stdout",
     "output_type": "stream",
     "text": [
      "Training metrics: 0.5804283145314203| Distance: 0.7269959088344186| Speed: 0.38461538461538464 | Activity: 0.28846153846153844\n"
     ]
    },
    {
     "name": "stderr",
     "output_type": "stream",
     "text": [
      "train:   2%|▏         | 27/1451 [00:43<32:51,  1.38s/it]"
     ]
    },
    {
     "name": "stdout",
     "output_type": "stream",
     "text": [
      "Training metrics: 0.5860062800403654| Distance: 0.7328499729067818| Speed: 0.3888888888888889 | Activity: 0.2962962962962963\n"
     ]
    },
    {
     "name": "stderr",
     "output_type": "stream",
     "text": [
      "train:   2%|▏         | 28/1451 [00:44<33:17,  1.40s/it]"
     ]
    },
    {
     "name": "stdout",
     "output_type": "stream",
     "text": [
      "Training metrics: 0.5897389946979384| Distance: 0.7291780864013261| Speed: 0.4017857142857143 | Activity: 0.3169642857142857\n"
     ]
    },
    {
     "name": "stderr",
     "output_type": "stream",
     "text": [
      "train:   2%|▏         | 29/1451 [00:46<33:34,  1.42s/it]"
     ]
    },
    {
     "name": "stdout",
     "output_type": "stream",
     "text": [
      "Training metrics: 0.5923522117929202| Distance: 0.7300697782755567| Speed: 0.40948275862068967 | Activity: 0.3146551724137931\n"
     ]
    },
    {
     "name": "stderr",
     "output_type": "stream",
     "text": [
      "train:   2%|▏         | 30/1451 [00:47<33:25,  1.41s/it]"
     ]
    },
    {
     "name": "stdout",
     "output_type": "stream",
     "text": [
      "Training metrics: 0.5932037152883313| Distance: 0.7324228588138857| Speed: 0.4083333333333333 | Activity: 0.3125\n"
     ]
    },
    {
     "name": "stderr",
     "output_type": "stream",
     "text": [
      "train:   2%|▏         | 31/1451 [00:48<34:05,  1.44s/it]"
     ]
    },
    {
     "name": "stdout",
     "output_type": "stream",
     "text": [
      "Training metrics: 0.5991274785424798| Distance: 0.7344328943449934| Speed: 0.41935483870967744 | Activity: 0.32661290322580644\n"
     ]
    },
    {
     "name": "stderr",
     "output_type": "stream",
     "text": [
      "train:   2%|▏         | 32/1451 [00:50<33:13,  1.40s/it]"
     ]
    },
    {
     "name": "stdout",
     "output_type": "stream",
     "text": [
      "Training metrics: 0.5989697208049252| Distance: 0.7294026596748753| Speed: 0.42578125 | Activity: 0.3359375\n"
     ]
    },
    {
     "name": "stderr",
     "output_type": "stream",
     "text": [
      "train:   2%|▏         | 33/1451 [00:51<33:52,  1.43s/it]"
     ]
    },
    {
     "name": "stdout",
     "output_type": "stream",
     "text": [
      "Training metrics: 0.597234402136227| Distance: 0.7270825894189643| Speed: 0.42424242424242425 | Activity: 0.3371212121212121\n"
     ]
    },
    {
     "name": "stderr",
     "output_type": "stream",
     "text": [
      "train:   2%|▏         | 34/1451 [00:53<33:38,  1.42s/it]"
     ]
    },
    {
     "name": "stdout",
     "output_type": "stream",
     "text": [
      "Training metrics: 0.5947963425488949| Distance: 0.7235576297383544| Speed: 0.4227941176470588 | Activity: 0.3382352941176471\n"
     ]
    },
    {
     "name": "stderr",
     "output_type": "stream",
     "text": [
      "train:   2%|▏         | 35/1451 [00:54<32:47,  1.39s/it]"
     ]
    },
    {
     "name": "stdout",
     "output_type": "stream",
     "text": [
      "Training metrics: 0.6043170839175669| Distance: 0.7280284731959448| Speed: 0.4392857142857143 | Activity: 0.35714285714285715\n"
     ]
    },
    {
     "name": "stderr",
     "output_type": "stream",
     "text": [
      "train:   2%|▏         | 36/1451 [00:55<32:35,  1.38s/it]"
     ]
    },
    {
     "name": "stdout",
     "output_type": "stream",
     "text": [
      "Training metrics: 0.6040326991126546| Distance: 0.7237350540766467| Speed: 0.4444444444444444 | Activity: 0.3645833333333333\n"
     ]
    },
    {
     "name": "stderr",
     "output_type": "stream",
     "text": [
      "train:   3%|▎         | 37/1451 [00:57<33:01,  1.40s/it]"
     ]
    },
    {
     "name": "stdout",
     "output_type": "stream",
     "text": [
      "Training metrics: 0.6044074185056979| Distance: 0.7207465984103973| Speed: 0.44932432432432434 | Activity: 0.3716216216216216\n"
     ]
    },
    {
     "name": "stderr",
     "output_type": "stream",
     "text": [
      "train:   3%|▎         | 38/1451 [00:58<32:04,  1.36s/it]"
     ]
    },
    {
     "name": "stdout",
     "output_type": "stream",
     "text": [
      "Training metrics: 0.6105584670779051| Distance: 0.7253825328491401| Speed: 0.45723684210526316 | Activity: 0.3815789473684211\n"
     ]
    },
    {
     "name": "stderr",
     "output_type": "stream",
     "text": [
      "train:   3%|▎         | 39/1451 [01:00<33:12,  1.41s/it]"
     ]
    },
    {
     "name": "stdout",
     "output_type": "stream",
     "text": [
      "Training metrics: 0.6144710003387169| Distance: 0.731383291162819| Speed: 0.4583333333333333 | Activity: 0.3814102564102564\n"
     ]
    },
    {
     "name": "stderr",
     "output_type": "stream",
     "text": [
      "train:   3%|▎         | 40/1451 [01:02<39:04,  1.66s/it]"
     ]
    },
    {
     "name": "stdout",
     "output_type": "stream",
     "text": [
      "Training metrics: 0.6135597825915593| Distance: 0.7272871376525989| Speed: 0.4625 | Activity: 0.384375\n"
     ]
    },
    {
     "name": "stderr",
     "output_type": "stream",
     "text": [
      "train:   3%|▎         | 41/1451 [01:03<36:54,  1.57s/it]"
     ]
    },
    {
     "name": "stdout",
     "output_type": "stream",
     "text": [
      "Training metrics: 0.6141885775568123| Distance: 0.7289321821068825| Speed: 0.4634146341463415 | Activity: 0.3780487804878049\n"
     ]
    },
    {
     "name": "stderr",
     "output_type": "stream",
     "text": [
      "train:   3%|▎         | 42/1451 [01:05<36:30,  1.55s/it]"
     ]
    },
    {
     "name": "stdout",
     "output_type": "stream",
     "text": [
      "Training metrics: 0.6140639508803066| Distance: 0.7278049974989238| Speed: 0.4642857142857143 | Activity: 0.38095238095238093\n"
     ]
    },
    {
     "name": "stderr",
     "output_type": "stream",
     "text": [
      "train:   3%|▎         | 43/1451 [01:06<35:56,  1.53s/it]"
     ]
    },
    {
     "name": "stdout",
     "output_type": "stream",
     "text": [
      "Training metrics: 0.6170196347451854| Distance: 0.7318544300016657| Speed: 0.46511627906976744 | Activity: 0.38372093023255816\n"
     ]
    },
    {
     "name": "stderr",
     "output_type": "stream",
     "text": [
      "train:   3%|▎         | 44/1451 [01:07<34:27,  1.47s/it]"
     ]
    },
    {
     "name": "stdout",
     "output_type": "stream",
     "text": [
      "Training metrics: 0.6188665393118543| Distance: 0.7345692321864239| Speed: 0.4659090909090909 | Activity: 0.3835227272727273\n"
     ]
    },
    {
     "name": "stderr",
     "output_type": "stream",
     "text": [
      "train:   3%|▎         | 45/1451 [01:09<34:17,  1.46s/it]"
     ]
    },
    {
     "name": "stdout",
     "output_type": "stream",
     "text": [
      "Training metrics: 0.618011418860999| Distance: 0.7318708832868503| Speed: 0.4666666666666667 | Activity: 0.3888888888888889\n"
     ]
    },
    {
     "name": "stderr",
     "output_type": "stream",
     "text": [
      "train:   3%|▎         | 46/1451 [01:10<33:29,  1.43s/it]"
     ]
    },
    {
     "name": "stdout",
     "output_type": "stream",
     "text": [
      "Training metrics: 0.6169476756453409| Distance: 0.7284272854958581| Speed: 0.4673913043478261 | Activity: 0.3967391304347826\n"
     ]
    },
    {
     "name": "stderr",
     "output_type": "stream",
     "text": [
      "train:   3%|▎         | 47/1451 [01:12<34:55,  1.49s/it]"
     ]
    },
    {
     "name": "stdout",
     "output_type": "stream",
     "text": [
      "Training metrics: 0.6179306456156438| Distance: 0.7280227072317467| Speed: 0.47074468085106386 | Activity: 0.39893617021276595\n"
     ]
    },
    {
     "name": "stderr",
     "output_type": "stream",
     "text": [
      "train:   3%|▎         | 48/1451 [01:14<35:43,  1.53s/it]"
     ]
    },
    {
     "name": "stdout",
     "output_type": "stream",
     "text": [
      "Training metrics: 0.6201501186229031| Distance: 0.7297640865937275| Speed: 0.4739583333333333 | Activity: 0.4010416666666667\n"
     ]
    },
    {
     "name": "stderr",
     "output_type": "stream",
     "text": [
      "train:   3%|▎         | 49/1451 [01:15<35:27,  1.52s/it]"
     ]
    },
    {
     "name": "stdout",
     "output_type": "stream",
     "text": [
      "Training metrics: 0.624757430681125| Distance: 0.7338644252848682| Speed: 0.47959183673469385 | Activity: 0.40561224489795916\n"
     ]
    },
    {
     "name": "stderr",
     "output_type": "stream",
     "text": [
      "train:   3%|▎         | 50/1451 [01:16<33:56,  1.45s/it]"
     ]
    },
    {
     "name": "stdout",
     "output_type": "stream",
     "text": [
      "Training metrics: 0.6244540885427277| Distance: 0.7320068142378794| Speed: 0.4825 | Activity: 0.405\n"
     ]
    },
    {
     "name": "stderr",
     "output_type": "stream",
     "text": [
      "train:   4%|▎         | 51/1451 [01:18<33:59,  1.46s/it]"
     ]
    },
    {
     "name": "stdout",
     "output_type": "stream",
     "text": [
      "Training metrics: 0.6261002516982777| Distance: 0.7346768900853647| Speed: 0.48284313725490197 | Activity: 0.40441176470588236\n"
     ]
    },
    {
     "name": "stderr",
     "output_type": "stream",
     "text": [
      "train:   4%|▎         | 52/1451 [01:19<34:16,  1.47s/it]"
     ]
    },
    {
     "name": "stdout",
     "output_type": "stream",
     "text": [
      "Training metrics: 0.625770521033764| Distance: 0.7336559965947347| Speed: 0.4831730769230769 | Activity: 0.40625\n"
     ]
    },
    {
     "name": "stderr",
     "output_type": "stream",
     "text": [
      "train:   4%|▎         | 53/1451 [01:21<33:12,  1.43s/it]"
     ]
    },
    {
     "name": "stdout",
     "output_type": "stream",
     "text": [
      "Training metrics: 0.62746416192151| Distance: 0.7364182572905669| Speed: 0.4834905660377358 | Activity: 0.4056603773584906\n"
     ]
    },
    {
     "name": "stderr",
     "output_type": "stream",
     "text": [
      "train:   4%|▎         | 54/1451 [01:22<32:41,  1.40s/it]"
     ]
    },
    {
     "name": "stdout",
     "output_type": "stream",
     "text": [
      "Training metrics: 0.6279374605980081| Distance: 0.7344482367991492| Speed: 0.48842592592592593 | Activity: 0.4074074074074074\n"
     ]
    },
    {
     "name": "stderr",
     "output_type": "stream",
     "text": [
      "train:   4%|▍         | 55/1451 [01:23<32:07,  1.38s/it]"
     ]
    },
    {
     "name": "stdout",
     "output_type": "stream",
     "text": [
      "Training metrics: 0.6293026393226336| Distance: 0.7348225806892378| Speed: 0.49318181818181817 | Activity: 0.40454545454545454\n"
     ]
    },
    {
     "name": "stderr",
     "output_type": "stream",
     "text": [
      "train:   4%|▍         | 56/1451 [01:25<32:06,  1.38s/it]"
     ]
    },
    {
     "name": "stdout",
     "output_type": "stream",
     "text": [
      "Training metrics: 0.6323623647677573| Distance: 0.7354848936605484| Speed: 0.5 | Activity: 0.4107142857142857\n"
     ]
    },
    {
     "name": "stderr",
     "output_type": "stream",
     "text": [
      "train:   4%|▍         | 57/1451 [01:26<32:09,  1.38s/it]"
     ]
    },
    {
     "name": "stdout",
     "output_type": "stream",
     "text": [
      "Training metrics: 0.6332786447500994| Distance: 0.7360199634723882| Speed: 0.5021929824561403 | Activity: 0.4100877192982456\n"
     ]
    },
    {
     "name": "stderr",
     "output_type": "stream",
     "text": [
      "train:   4%|▍         | 58/1451 [01:28<32:36,  1.40s/it]"
     ]
    },
    {
     "name": "stdout",
     "output_type": "stream",
     "text": [
      "Training metrics: 0.6329111741503407| Distance: 0.7362456350781542| Speed: 0.5021551724137931 | Activity: 0.4051724137931034\n"
     ]
    },
    {
     "name": "stderr",
     "output_type": "stream",
     "text": [
      "train:   4%|▍         | 59/1451 [01:29<33:18,  1.44s/it]"
     ]
    },
    {
     "name": "stdout",
     "output_type": "stream",
     "text": [
      "Training metrics: 0.6344026527151786| Distance: 0.7374225002880097| Speed: 0.5063559322033898 | Activity: 0.4004237288135593\n"
     ]
    },
    {
     "name": "stderr",
     "output_type": "stream",
     "text": [
      "train:   4%|▍         | 60/1451 [01:30<33:06,  1.43s/it]"
     ]
    },
    {
     "name": "stdout",
     "output_type": "stream",
     "text": [
      "Training metrics: 0.6348224472326133| Distance: 0.7399818564988| Speed: 0.5041666666666667 | Activity: 0.3958333333333333\n"
     ]
    },
    {
     "name": "stderr",
     "output_type": "stream",
     "text": [
      "train:   4%|▍         | 61/1451 [01:32<32:41,  1.41s/it]"
     ]
    },
    {
     "name": "stdout",
     "output_type": "stream",
     "text": [
      "Training metrics: 0.6369844432572899| Distance: 0.741627077559964| Speed: 0.5081967213114754 | Activity: 0.39549180327868855\n"
     ]
    },
    {
     "name": "stderr",
     "output_type": "stream",
     "text": [
      "train:   4%|▍         | 62/1451 [01:33<32:15,  1.39s/it]"
     ]
    },
    {
     "name": "stdout",
     "output_type": "stream",
     "text": [
      "Training metrics: 0.6400273919829719| Distance: 0.7421155457780713| Speed: 0.5161290322580645 | Activity: 0.39919354838709675\n"
     ]
    },
    {
     "name": "stderr",
     "output_type": "stream",
     "text": [
      "train:   4%|▍         | 63/1451 [01:35<31:49,  1.38s/it]"
     ]
    },
    {
     "name": "stdout",
     "output_type": "stream",
     "text": [
      "Training metrics: 0.6424639950193204| Distance: 0.742400309159185| Speed: 0.5218253968253969 | Activity: 0.40476190476190477\n"
     ]
    },
    {
     "name": "stderr",
     "output_type": "stream",
     "text": [
      "train:   4%|▍         | 64/1451 [01:36<31:46,  1.37s/it]"
     ]
    },
    {
     "name": "stdout",
     "output_type": "stream",
     "text": [
      "Training metrics: 0.6438107819263639| Distance: 0.7439164073772732| Speed: 0.5234375 | Activity: 0.404296875\n"
     ]
    },
    {
     "name": "stderr",
     "output_type": "stream",
     "text": [
      "train:   4%|▍         | 65/1451 [01:37<31:42,  1.37s/it]"
     ]
    },
    {
     "name": "stdout",
     "output_type": "stream",
     "text": [
      "Training metrics: 0.6469381594930544| Distance: 0.7471405222320139| Speed: 0.5269230769230769 | Activity: 0.40576923076923077\n"
     ]
    },
    {
     "name": "stderr",
     "output_type": "stream",
     "text": [
      "train:   5%|▍         | 66/1451 [01:39<32:46,  1.42s/it]"
     ]
    },
    {
     "name": "stdout",
     "output_type": "stream",
     "text": [
      "Training metrics: 0.6499528602503684| Distance: 0.749921433750614| Speed: 0.5303030303030303 | Activity: 0.4090909090909091\n"
     ]
    },
    {
     "name": "stderr",
     "output_type": "stream",
     "text": [
      "train:   5%|▍         | 67/1451 [01:40<32:41,  1.42s/it]"
     ]
    },
    {
     "name": "stdout",
     "output_type": "stream",
     "text": [
      "Training metrics: 0.6506742121224318| Distance: 0.7523674679652471| Speed: 0.5279850746268657 | Activity: 0.4085820895522388\n"
     ]
    },
    {
     "name": "stderr",
     "output_type": "stream",
     "text": [
      "train:   5%|▍         | 68/1451 [01:42<33:07,  1.44s/it]"
     ]
    },
    {
     "name": "stdout",
     "output_type": "stream",
     "text": [
      "Training metrics: 0.6513218751435491| Distance: 0.7528158703372879| Speed: 0.5294117647058824 | Activity: 0.40808823529411764\n"
     ]
    },
    {
     "name": "stderr",
     "output_type": "stream",
     "text": [
      "train:   5%|▍         | 69/1451 [01:43<33:16,  1.44s/it]"
     ]
    },
    {
     "name": "stdout",
     "output_type": "stream",
     "text": [
      "Training metrics: 0.6525802141161002| Distance: 0.7530926273915681| Speed: 0.532608695652174 | Activity: 0.40942028985507245\n"
     ]
    },
    {
     "name": "stderr",
     "output_type": "stream",
     "text": [
      "train:   5%|▍         | 70/1451 [01:45<33:01,  1.44s/it]"
     ]
    },
    {
     "name": "stdout",
     "output_type": "stream",
     "text": [
      "Training metrics: 0.6530714303425003| Distance: 0.7521428600946432| Speed: 0.5357142857142857 | Activity: 0.4107142857142857\n"
     ]
    },
    {
     "name": "stderr",
     "output_type": "stream",
     "text": [
      "train:   5%|▍         | 71/1451 [01:46<32:59,  1.43s/it]"
     ]
    },
    {
     "name": "stdout",
     "output_type": "stream",
     "text": [
      "Training metrics: 0.6539843132816673| Distance: 0.751945686455361| Speed: 0.5387323943661971 | Activity: 0.4119718309859155\n"
     ]
    },
    {
     "name": "stderr",
     "output_type": "stream",
     "text": [
      "train:   5%|▍         | 72/1451 [01:47<32:35,  1.42s/it]"
     ]
    },
    {
     "name": "stdout",
     "output_type": "stream",
     "text": [
      "Training metrics: 0.6562114808217403| Distance: 0.7534080235917897| Speed: 0.5416666666666666 | Activity: 0.4166666666666667\n"
     ]
    },
    {
     "name": "stderr",
     "output_type": "stream",
     "text": [
      "train:   5%|▌         | 73/1451 [01:49<33:04,  1.44s/it]"
     ]
    },
    {
     "name": "stdout",
     "output_type": "stream",
     "text": [
      "Training metrics: 0.656917640608103| Distance: 0.7521115927943269| Speed: 0.5445205479452054 | Activity: 0.4229452054794521\n"
     ]
    },
    {
     "name": "stderr",
     "output_type": "stream",
     "text": [
      "train:   5%|▌         | 74/1451 [01:50<32:40,  1.42s/it]"
     ]
    },
    {
     "name": "stdout",
     "output_type": "stream",
     "text": [
      "Training metrics: 0.6586750420858867| Distance: 0.7546047998728742| Speed: 0.543918918918919 | Activity: 0.42736486486486486\n"
     ]
    },
    {
     "name": "stderr",
     "output_type": "stream",
     "text": [
      "train:   5%|▌         | 75/1451 [01:52<32:31,  1.42s/it]"
     ]
    },
    {
     "name": "stdout",
     "output_type": "stream",
     "text": [
      "Training metrics: 0.658250579873634| Distance: 0.7543065220116122| Speed: 0.5433333333333333 | Activity: 0.4266666666666667\n"
     ]
    },
    {
     "name": "stderr",
     "output_type": "stream",
     "text": [
      "train:   5%|▌         | 76/1451 [01:53<32:09,  1.40s/it]"
     ]
    },
    {
     "name": "stdout",
     "output_type": "stream",
     "text": [
      "Training metrics: 0.65894165432328| Distance: 0.7539378449247649| Speed: 0.5460526315789473 | Activity: 0.4276315789473684\n"
     ]
    },
    {
     "name": "stderr",
     "output_type": "stream",
     "text": [
      "train:   5%|▌         | 77/1451 [01:55<32:51,  1.44s/it]"
     ]
    },
    {
     "name": "stdout",
     "output_type": "stream",
     "text": [
      "Training metrics: 0.6592902488863362| Distance: 0.7543906745508203| Speed: 0.547077922077922 | Activity: 0.4253246753246753\n"
     ]
    },
    {
     "name": "stderr",
     "output_type": "stream",
     "text": [
      "train:   5%|▌         | 78/1451 [01:56<33:19,  1.46s/it]"
     ]
    },
    {
     "name": "stdout",
     "output_type": "stream",
     "text": [
      "Training metrics: 0.6604077361716855| Distance: 0.7558611842177664| Speed: 0.5480769230769231 | Activity: 0.42467948717948717\n"
     ]
    },
    {
     "name": "stderr",
     "output_type": "stream",
     "text": [
      "train:   5%|▌         | 79/1451 [01:57<32:38,  1.43s/it]"
     ]
    },
    {
     "name": "stdout",
     "output_type": "stream",
     "text": [
      "Training metrics: 0.6606157442728912| Distance: 0.7571443839147343| Speed: 0.5458860759493671 | Activity: 0.42563291139240506\n"
     ]
    },
    {
     "name": "stderr",
     "output_type": "stream",
     "text": [
      "train:   6%|▌         | 80/1451 [01:59<33:45,  1.48s/it]"
     ]
    },
    {
     "name": "stdout",
     "output_type": "stream",
     "text": [
      "Training metrics: 0.6619123021715666| Distance: 0.7591767536192778| Speed: 0.5453125 | Activity: 0.428125\n"
     ]
    },
    {
     "name": "stderr",
     "output_type": "stream",
     "text": [
      "train:   6%|▌         | 81/1451 [02:00<33:24,  1.46s/it]"
     ]
    },
    {
     "name": "stdout",
     "output_type": "stream",
     "text": [
      "Training metrics: 0.6618982273058279| Distance: 0.7603139179376968| Speed: 0.5432098765432098 | Activity: 0.42746913580246915\n"
     ]
    },
    {
     "name": "stderr",
     "output_type": "stream",
     "text": [
      "train:   6%|▌         | 82/1451 [02:02<34:22,  1.51s/it]"
     ]
    },
    {
     "name": "stdout",
     "output_type": "stream",
     "text": [
      "Training metrics: 0.6632709970943432| Distance: 0.7617016618239056| Speed: 0.5442073170731707 | Activity: 0.4298780487804878\n"
     ]
    },
    {
     "name": "stderr",
     "output_type": "stream",
     "text": [
      "train:   6%|▌         | 83/1451 [02:03<33:31,  1.47s/it]"
     ]
    },
    {
     "name": "stdout",
     "output_type": "stream",
     "text": [
      "Training metrics: 0.6650768701640676| Distance: 0.7625779161369| Speed: 0.5481927710843374 | Activity: 0.4307228915662651\n"
     ]
    },
    {
     "name": "stderr",
     "output_type": "stream",
     "text": [
      "train:   6%|▌         | 84/1451 [02:05<32:53,  1.44s/it]"
     ]
    },
    {
     "name": "stdout",
     "output_type": "stream",
     "text": [
      "Training metrics: 0.6666625293055279| Distance: 0.7651220726520704| Speed: 0.5491071428571429 | Activity: 0.42857142857142855\n"
     ]
    },
    {
     "name": "stderr",
     "output_type": "stream",
     "text": [
      "train:   6%|▌         | 85/1451 [02:06<31:49,  1.40s/it]"
     ]
    },
    {
     "name": "stdout",
     "output_type": "stream",
     "text": [
      "Training metrics: 0.6683441645065586| Distance: 0.7666030192756369| Speed: 0.5514705882352942 | Activity: 0.4294117647058823\n"
     ]
    },
    {
     "name": "stderr",
     "output_type": "stream",
     "text": [
      "train:   6%|▌         | 86/1451 [02:07<31:13,  1.37s/it]"
     ]
    },
    {
     "name": "stdout",
     "output_type": "stream",
     "text": [
      "Training metrics: 0.6685883065026095| Distance: 0.7654766348686904| Speed: 0.5537790697674418 | Activity: 0.4316860465116279\n"
     ]
    },
    {
     "name": "stderr",
     "output_type": "stream",
     "text": [
      "train:   6%|▌         | 87/1451 [02:09<31:55,  1.40s/it]"
     ]
    },
    {
     "name": "stdout",
     "output_type": "stream",
     "text": [
      "Training metrics: 0.6691141923608201| Distance: 0.765094535160754| Speed: 0.5560344827586207 | Activity: 0.4324712643678161\n"
     ]
    },
    {
     "name": "stderr",
     "output_type": "stream",
     "text": [
      "train:   6%|▌         | 88/1451 [02:10<32:28,  1.43s/it]"
     ]
    },
    {
     "name": "stdout",
     "output_type": "stream",
     "text": [
      "Training metrics: 0.6692154207482246| Distance: 0.7642700194288591| Speed: 0.5568181818181818 | Activity: 0.43607954545454547\n"
     ]
    },
    {
     "name": "stderr",
     "output_type": "stream",
     "text": [
      "train:   6%|▌         | 89/1451 [02:12<32:12,  1.42s/it]"
     ]
    },
    {
     "name": "stdout",
     "output_type": "stream",
     "text": [
      "Training metrics: 0.6683917464642646| Distance: 0.763330813395497| Speed: 0.5561797752808989 | Activity: 0.4353932584269663\n"
     ]
    },
    {
     "name": "stderr",
     "output_type": "stream",
     "text": [
      "train:   6%|▌         | 90/1451 [02:13<32:19,  1.43s/it]"
     ]
    },
    {
     "name": "stdout",
     "output_type": "stream",
     "text": [
      "Training metrics: 0.6676258976142625| Distance: 0.7638672367645118| Speed: 0.5527777777777778 | Activity: 0.43472222222222223\n"
     ]
    },
    {
     "name": "stderr",
     "output_type": "stream",
     "text": [
      "train:   6%|▋         | 91/1451 [02:15<33:48,  1.49s/it]"
     ]
    },
    {
     "name": "stdout",
     "output_type": "stream",
     "text": [
      "Training metrics: 0.6678775063267697| Distance: 0.7630833896654955| Speed: 0.554945054945055 | Activity: 0.43543956043956045\n"
     ]
    },
    {
     "name": "stderr",
     "output_type": "stream",
     "text": [
      "train:   6%|▋         | 92/1451 [02:16<32:50,  1.45s/it]"
     ]
    },
    {
     "name": "stdout",
     "output_type": "stream",
     "text": [
      "Training metrics: 0.6696509397718369| Distance: 0.7650885228081338| Speed: 0.5557065217391305 | Activity: 0.4388586956521739\n"
     ]
    },
    {
     "name": "stderr",
     "output_type": "stream",
     "text": [
      "train:   6%|▋         | 93/1451 [02:18<31:53,  1.41s/it]"
     ]
    },
    {
     "name": "stdout",
     "output_type": "stream",
     "text": [
      "Training metrics: 0.6711302468193471| Distance: 0.7666238880680876| Speed: 0.5577956989247311 | Activity: 0.4381720430107527\n"
     ]
    },
    {
     "name": "stderr",
     "output_type": "stream",
     "text": [
      "train:   6%|▋         | 94/1451 [02:19<32:13,  1.42s/it]"
     ]
    },
    {
     "name": "stdout",
     "output_type": "stream",
     "text": [
      "Training metrics: 0.6716151952826496| Distance: 0.7667434105774656| Speed: 0.5585106382978723 | Activity: 0.4401595744680851\n"
     ]
    },
    {
     "name": "stderr",
     "output_type": "stream",
     "text": [
      "train:   7%|▋         | 95/1451 [02:20<32:39,  1.45s/it]"
     ]
    },
    {
     "name": "stdout",
     "output_type": "stream",
     "text": [
      "Training metrics: 0.6717518934522337| Distance: 0.7680514013677578| Speed: 0.5565789473684211 | Activity: 0.4394736842105263\n"
     ]
    },
    {
     "name": "stderr",
     "output_type": "stream",
     "text": [
      "train:   7%|▋         | 96/1451 [02:22<32:12,  1.43s/it]"
     ]
    },
    {
     "name": "stdout",
     "output_type": "stream",
     "text": [
      "Training metrics: 0.672703928564706| Distance: 0.7680916170522877| Speed: 0.55859375 | Activity: 0.4427083333333333\n"
     ]
    },
    {
     "name": "stderr",
     "output_type": "stream",
     "text": [
      "train:   7%|▋         | 97/1451 [02:23<31:40,  1.40s/it]"
     ]
    },
    {
     "name": "stdout",
     "output_type": "stream",
     "text": [
      "Training metrics: 0.6726175909355342| Distance: 0.7677217580884333| Speed: 0.5592783505154639 | Activity: 0.4420103092783505\n"
     ]
    },
    {
     "name": "stderr",
     "output_type": "stream",
     "text": [
      "train:   7%|▋         | 98/1451 [02:25<32:23,  1.44s/it]"
     ]
    },
    {
     "name": "stdout",
     "output_type": "stream",
     "text": [
      "Training metrics: 0.6705769642058763| Distance: 0.7658000423839434| Speed: 0.5573979591836735 | Activity: 0.4387755102040816\n"
     ]
    },
    {
     "name": "stderr",
     "output_type": "stream",
     "text": [
      "train:   7%|▋         | 99/1451 [02:26<32:02,  1.42s/it]"
     ]
    },
    {
     "name": "stdout",
     "output_type": "stream",
     "text": [
      "Training metrics: 0.6695396829414064| Distance: 0.7642580574275963| Speed: 0.5568181818181818 | Activity: 0.4393939393939394\n"
     ]
    },
    {
     "name": "stderr",
     "output_type": "stream",
     "text": [
      "train:   7%|▋         | 100/1451 [02:28<32:53,  1.46s/it]"
     ]
    },
    {
     "name": "stdout",
     "output_type": "stream",
     "text": [
      "Training metrics: 0.6712495090165165| Distance: 0.7654158483608609| Speed: 0.56 | Activity: 0.44\n"
     ]
    },
    {
     "name": "stderr",
     "output_type": "stream",
     "text": [
      "train:   7%|▋         | 101/1451 [02:29<32:57,  1.46s/it]"
     ]
    },
    {
     "name": "stdout",
     "output_type": "stream",
     "text": [
      "Training metrics: 0.6721829028921193| Distance: 0.765931900859803| Speed: 0.5618811881188119 | Activity: 0.4405940594059406\n"
     ]
    },
    {
     "name": "stderr",
     "output_type": "stream",
     "text": [
      "train:   7%|▋         | 102/1451 [02:31<32:46,  1.46s/it]"
     ]
    },
    {
     "name": "stdout",
     "output_type": "stream",
     "text": [
      "Training metrics: 0.672987033302372| Distance: 0.7672741404712736| Speed: 0.5612745098039216 | Activity: 0.4424019607843137\n"
     ]
    },
    {
     "name": "stderr",
     "output_type": "stream",
     "text": [
      "train:   7%|▋         | 103/1451 [02:32<33:05,  1.47s/it]"
     ]
    },
    {
     "name": "stdout",
     "output_type": "stream",
     "text": [
      "Training metrics: 0.6728277342503173| Distance: 0.7678196865337003| Speed: 0.5594660194174758 | Activity: 0.4429611650485437\n"
     ]
    },
    {
     "name": "stderr",
     "output_type": "stream",
     "text": [
      "train:   7%|▋         | 104/1451 [02:33<32:43,  1.46s/it]"
     ]
    },
    {
     "name": "stdout",
     "output_type": "stream",
     "text": [
      "Training metrics: 0.6746805665214912| Distance: 0.7694996621512031| Speed: 0.5625 | Activity: 0.4423076923076923\n"
     ]
    },
    {
     "name": "stderr",
     "output_type": "stream",
     "text": [
      "train:   7%|▋         | 105/1451 [02:35<32:49,  1.46s/it]"
     ]
    },
    {
     "name": "stdout",
     "output_type": "stream",
     "text": [
      "Training metrics: 0.6761357653430448| Distance: 0.7705437358892017| Speed: 0.5654761904761905 | Activity: 0.44166666666666665\n"
     ]
    },
    {
     "name": "stderr",
     "output_type": "stream",
     "text": [
      "train:   7%|▋         | 106/1451 [02:36<32:35,  1.45s/it]"
     ]
    },
    {
     "name": "stdout",
     "output_type": "stream",
     "text": [
      "Training metrics: 0.6770857032033467| Distance: 0.771361392131364| Speed: 0.5672169811320755 | Activity: 0.4410377358490566\n"
     ]
    },
    {
     "name": "stderr",
     "output_type": "stream",
     "text": [
      "train:   7%|▋         | 107/1451 [02:38<33:07,  1.48s/it]"
     ]
    },
    {
     "name": "stdout",
     "output_type": "stream",
     "text": [
      "Training metrics: 0.67629889585243| Distance: 0.7710511192556075| Speed: 0.5642523364485982 | Activity: 0.4439252336448598\n"
     ]
    },
    {
     "name": "stderr",
     "output_type": "stream",
     "text": [
      "train:   7%|▋         | 108/1451 [02:39<32:39,  1.46s/it]"
     ]
    },
    {
     "name": "stdout",
     "output_type": "stream",
     "text": [
      "Training metrics: 0.6776378728304239| Distance: 0.7725291707667558| Speed: 0.5659722222222222 | Activity: 0.44328703703703703\n"
     ]
    },
    {
     "name": "stderr",
     "output_type": "stream",
     "text": [
      "train:   8%|▊         | 109/1451 [02:41<32:10,  1.44s/it]"
     ]
    },
    {
     "name": "stdout",
     "output_type": "stream",
     "text": [
      "Training metrics: 0.6775049314672968| Distance: 0.772523509632039| Speed: 0.5653669724770642 | Activity: 0.44380733944954126\n"
     ]
    },
    {
     "name": "stderr",
     "output_type": "stream",
     "text": [
      "train:   8%|▊         | 110/1451 [02:42<31:15,  1.40s/it]"
     ]
    },
    {
     "name": "stdout",
     "output_type": "stream",
     "text": [
      "Training metrics: 0.6776722358128283| Distance: 0.7728249384759261| Speed: 0.5647727272727273 | Activity: 0.44545454545454544\n"
     ]
    },
    {
     "name": "stderr",
     "output_type": "stream",
     "text": [
      "train:   8%|▊         | 111/1451 [02:43<31:21,  1.40s/it]"
     ]
    },
    {
     "name": "stdout",
     "output_type": "stream",
     "text": [
      "Training metrics: 0.6766939204536202| Distance: 0.7710289064617396| Speed: 0.5653153153153153 | Activity: 0.44481981981981983\n"
     ]
    },
    {
     "name": "stderr",
     "output_type": "stream",
     "text": [
      "train:   8%|▊         | 112/1451 [02:45<30:42,  1.38s/it]"
     ]
    },
    {
     "name": "stdout",
     "output_type": "stream",
     "text": [
      "Training metrics: 0.677699692379632| Distance: 0.7712405587279582| Speed: 0.5680803571428571 | Activity: 0.4453125\n"
     ]
    },
    {
     "name": "stderr",
     "output_type": "stream",
     "text": [
      "train:   8%|▊         | 113/1451 [02:46<31:46,  1.43s/it]"
     ]
    },
    {
     "name": "stdout",
     "output_type": "stream",
     "text": [
      "Training metrics: 0.676685954077596| Distance: 0.770693404288619| Speed: 0.5652654867256637 | Activity: 0.4469026548672566\n"
     ]
    },
    {
     "name": "stderr",
     "output_type": "stream",
     "text": [
      "train:   8%|▊         | 114/1451 [02:48<31:25,  1.41s/it]"
     ]
    },
    {
     "name": "stdout",
     "output_type": "stream",
     "text": [
      "Training metrics: 0.678269643034725| Distance: 0.7718967734789278| Speed: 0.5679824561403509 | Activity: 0.4473684210526316\n"
     ]
    },
    {
     "name": "stderr",
     "output_type": "stream",
     "text": [
      "train:   8%|▊         | 115/1451 [02:49<31:50,  1.43s/it]"
     ]
    },
    {
     "name": "stdout",
     "output_type": "stream",
     "text": [
      "Training metrics: 0.6773772745235497| Distance: 0.7718969068146121| Speed: 0.5652173913043478 | Activity: 0.4467391304347826\n"
     ]
    },
    {
     "name": "stderr",
     "output_type": "stream",
     "text": [
      "train:   8%|▊         | 116/1451 [02:51<31:14,  1.40s/it]"
     ]
    },
    {
     "name": "stdout",
     "output_type": "stream",
     "text": [
      "Training metrics: 0.6771366544842441| Distance: 0.7706228724162689| Speed: 0.5668103448275862 | Activity: 0.44719827586206895\n"
     ]
    },
    {
     "name": "stderr",
     "output_type": "stream",
     "text": [
      "train:   8%|▊         | 117/1451 [02:52<31:39,  1.42s/it]"
     ]
    },
    {
     "name": "stdout",
     "output_type": "stream",
     "text": [
      "Training metrics: 0.6768237112019208| Distance: 0.7704896611200104| Speed: 0.5662393162393162 | Activity: 0.4465811965811966\n"
     ]
    },
    {
     "name": "stderr",
     "output_type": "stream",
     "text": [
      "train:   8%|▊         | 118/1451 [02:53<32:16,  1.45s/it]"
     ]
    },
    {
     "name": "stdout",
     "output_type": "stream",
     "text": [
      "Training metrics: 0.6765361993837288| Distance: 0.7696860385209038| Speed: 0.5667372881355932 | Activity: 0.4470338983050847\n"
     ]
    },
    {
     "name": "stderr",
     "output_type": "stream",
     "text": [
      "train:   8%|▊         | 119/1451 [02:55<31:43,  1.43s/it]"
     ]
    },
    {
     "name": "stdout",
     "output_type": "stream",
     "text": [
      "Training metrics: 0.678084589584794| Distance: 0.7703720750782983| Speed: 0.5703781512605042 | Activity: 0.4474789915966387\n"
     ]
    },
    {
     "name": "stderr",
     "output_type": "stream",
     "text": [
      "train:   8%|▊         | 120/1451 [02:56<31:14,  1.41s/it]"
     ]
    },
    {
     "name": "stdout",
     "output_type": "stream",
     "text": [
      "Training metrics: 0.6774788623103812| Distance: 0.7690619927395244| Speed: 0.5708333333333333 | Activity: 0.4479166666666667\n"
     ]
    },
    {
     "name": "stderr",
     "output_type": "stream",
     "text": [
      "train:   8%|▊         | 121/1451 [02:58<31:08,  1.40s/it]"
     ]
    },
    {
     "name": "stdout",
     "output_type": "stream",
     "text": [
      "Training metrics: 0.6781673298588791| Distance: 0.770258221941107| Speed: 0.5712809917355371 | Activity: 0.4462809917355372\n"
     ]
    },
    {
     "name": "stderr",
     "output_type": "stream",
     "text": [
      "train:   8%|▊         | 122/1451 [02:59<31:20,  1.41s/it]"
     ]
    },
    {
     "name": "stdout",
     "output_type": "stream",
     "text": [
      "Training metrics: 0.6789319768038354| Distance: 0.7710683219954636| Speed: 0.5727459016393442 | Activity: 0.444672131147541\n"
     ]
    },
    {
     "name": "stderr",
     "output_type": "stream",
     "text": [
      "train:   8%|▊         | 123/1451 [03:00<31:19,  1.42s/it]"
     ]
    },
    {
     "name": "stdout",
     "output_type": "stream",
     "text": [
      "Training metrics: 0.6784987677586789| Distance: 0.7705670519555217| Speed: 0.5721544715447154 | Activity: 0.4451219512195122\n"
     ]
    },
    {
     "name": "stderr",
     "output_type": "stream",
     "text": [
      "train:   9%|▊         | 124/1451 [03:02<30:56,  1.40s/it]"
     ]
    },
    {
     "name": "stdout",
     "output_type": "stream",
     "text": [
      "Training metrics: 0.6785957316513703| Distance: 0.7704418108167999| Speed: 0.5735887096774194 | Activity: 0.4425403225806452\n"
     ]
    },
    {
     "name": "stderr",
     "output_type": "stream",
     "text": [
      "train:   9%|▊         | 125/1451 [03:03<31:00,  1.40s/it]"
     ]
    },
    {
     "name": "stdout",
     "output_type": "stream",
     "text": [
      "Training metrics: 0.6794721439121558| Distance: 0.7709535731869264| Speed: 0.575 | Activity: 0.444\n"
     ]
    },
    {
     "name": "stderr",
     "output_type": "stream",
     "text": [
      "train:   9%|▊         | 126/1451 [03:05<31:18,  1.42s/it]"
     ]
    },
    {
     "name": "stdout",
     "output_type": "stream",
     "text": [
      "Training metrics: 0.6791536378189398| Distance: 0.770646274671778| Speed: 0.5744047619047619 | Activity: 0.4444444444444444\n"
     ]
    },
    {
     "name": "stderr",
     "output_type": "stream",
     "text": [
      "train:   9%|▉         | 127/1451 [03:06<31:44,  1.44s/it]"
     ]
    },
    {
     "name": "stdout",
     "output_type": "stream",
     "text": [
      "Training metrics: 0.6803962497255944| Distance: 0.7719530671279595| Speed: 0.5757874015748031 | Activity: 0.4448818897637795\n"
     ]
    },
    {
     "name": "stderr",
     "output_type": "stream",
     "text": [
      "train:   9%|▉         | 128/1451 [03:08<31:29,  1.43s/it]"
     ]
    },
    {
     "name": "stdout",
     "output_type": "stream",
     "text": [
      "Training metrics: 0.6801638357765631| Distance: 0.7714644658776053| Speed: 0.576171875 | Activity: 0.4443359375\n"
     ]
    },
    {
     "name": "stderr",
     "output_type": "stream",
     "text": [
      "train:   9%|▉         | 129/1451 [03:09<31:46,  1.44s/it]"
     ]
    },
    {
     "name": "stdout",
     "output_type": "stream",
     "text": [
      "Training metrics: 0.6818036835979688| Distance: 0.7724828835159946| Speed: 0.5794573643410853 | Activity: 0.44476744186046513\n"
     ]
    },
    {
     "name": "stderr",
     "output_type": "stream",
     "text": [
      "train:   9%|▉         | 130/1451 [03:10<30:57,  1.41s/it]"
     ]
    },
    {
     "name": "stdout",
     "output_type": "stream",
     "text": [
      "Training metrics: 0.6827502050240417| Distance: 0.7736541878605826| Speed: 0.5798076923076924 | Activity: 0.4461538461538462\n"
     ]
    },
    {
     "name": "stderr",
     "output_type": "stream",
     "text": [
      "train:   9%|▉         | 131/1451 [03:12<30:55,  1.41s/it]"
     ]
    },
    {
     "name": "stdout",
     "output_type": "stream",
     "text": [
      "Training metrics: 0.6821867916995199| Distance: 0.7719970701353323| Speed: 0.5811068702290076 | Activity: 0.44656488549618323\n"
     ]
    },
    {
     "name": "stderr",
     "output_type": "stream",
     "text": [
      "train:   9%|▉         | 132/1451 [03:13<30:48,  1.40s/it]"
     ]
    },
    {
     "name": "stdout",
     "output_type": "stream",
     "text": [
      "Training metrics: 0.6826467199188816| Distance: 0.772214230167833| Speed: 0.5814393939393939 | Activity: 0.44886363636363635\n"
     ]
    },
    {
     "name": "stderr",
     "output_type": "stream",
     "text": [
      "train:   9%|▉         | 133/1451 [03:15<31:21,  1.43s/it]"
     ]
    },
    {
     "name": "stdout",
     "output_type": "stream",
     "text": [
      "Training metrics: 0.682048039998081| Distance: 0.7720850791947967| Speed: 0.5789473684210527 | Activity: 0.45112781954887216\n"
     ]
    },
    {
     "name": "stderr",
     "output_type": "stream",
     "text": [
      "train:   9%|▉         | 134/1451 [03:16<31:34,  1.44s/it]"
     ]
    },
    {
     "name": "stdout",
     "output_type": "stream",
     "text": [
      "Training metrics: 0.6821023768528345| Distance: 0.7708547076900476| Speed: 0.5811567164179104 | Activity: 0.45242537313432835\n"
     ]
    },
    {
     "name": "stderr",
     "output_type": "stream",
     "text": [
      "train:   9%|▉         | 135/1451 [03:18<31:22,  1.43s/it]"
     ]
    },
    {
     "name": "stdout",
     "output_type": "stream",
     "text": [
      "Training metrics: 0.682526362032939| Distance: 0.7710315910425527| Speed: 0.5824074074074074 | Activity: 0.45185185185185184\n"
     ]
    },
    {
     "name": "stderr",
     "output_type": "stream",
     "text": [
      "train:   9%|▉         | 136/1451 [03:19<31:11,  1.42s/it]"
     ]
    },
    {
     "name": "stdout",
     "output_type": "stream",
     "text": [
      "Training metrics: 0.6836270159706263| Distance: 0.7715781148530046| Speed: 0.5845588235294118 | Activity: 0.453125\n"
     ]
    },
    {
     "name": "stderr",
     "output_type": "stream",
     "text": [
      "train:   9%|▉         | 137/1451 [03:20<30:50,  1.41s/it]"
     ]
    },
    {
     "name": "stdout",
     "output_type": "stream",
     "text": [
      "Training metrics: 0.6843899374909106| Distance: 0.7711243483729289| Speed: 0.5875912408759124 | Activity: 0.4543795620437956\n"
     ]
    },
    {
     "name": "stderr",
     "output_type": "stream",
     "text": [
      "train:  10%|▉         | 138/1451 [03:22<30:49,  1.41s/it]"
     ]
    },
    {
     "name": "stdout",
     "output_type": "stream",
     "text": [
      "Training metrics: 0.6858578752624555| Distance: 0.7723235119108556| Speed: 0.5896739130434783 | Activity: 0.45561594202898553\n"
     ]
    },
    {
     "name": "stderr",
     "output_type": "stream",
     "text": [
      "train:  10%|▉         | 139/1451 [03:23<31:29,  1.44s/it]"
     ]
    },
    {
     "name": "stdout",
     "output_type": "stream",
     "text": [
      "Training metrics: 0.6861527133984588| Distance: 0.7729343784458726| Speed: 0.5890287769784173 | Activity: 0.4568345323741007\n"
     ]
    },
    {
     "name": "stderr",
     "output_type": "stream",
     "text": [
      "train:  10%|▉         | 140/1451 [03:25<31:24,  1.44s/it]"
     ]
    },
    {
     "name": "stdout",
     "output_type": "stream",
     "text": [
      "Training metrics: 0.6864986963296217| Distance: 0.7733311605493695| Speed: 0.5892857142857143 | Activity: 0.45714285714285713\n"
     ]
    },
    {
     "name": "stderr",
     "output_type": "stream",
     "text": [
      "train:  10%|▉         | 141/1451 [03:26<30:56,  1.42s/it]"
     ]
    },
    {
     "name": "stdout",
     "output_type": "stream",
     "text": [
      "Training metrics: 0.6871859992597362| Distance: 0.7735605897827755| Speed: 0.5904255319148937 | Activity: 0.4592198581560284\n"
     ]
    },
    {
     "name": "stderr",
     "output_type": "stream",
     "text": [
      "train:  10%|▉         | 142/1451 [03:27<30:24,  1.39s/it]"
     ]
    },
    {
     "name": "stdout",
     "output_type": "stream",
     "text": [
      "Training metrics: 0.6875532836041531| Distance: 0.7732695571806307| Speed: 0.5915492957746479 | Activity: 0.4612676056338028\n"
     ]
    },
    {
     "name": "stderr",
     "output_type": "stream",
     "text": [
      "train:  10%|▉         | 143/1451 [03:29<30:18,  1.39s/it]"
     ]
    },
    {
     "name": "stdout",
     "output_type": "stream",
     "text": [
      "Training metrics: 0.6884481717639311| Distance: 0.773579120772053| Speed: 0.5935314685314685 | Activity: 0.4624125874125874\n"
     ]
    },
    {
     "name": "stderr",
     "output_type": "stream",
     "text": [
      "train:  10%|▉         | 144/1451 [03:30<29:50,  1.37s/it]"
     ]
    },
    {
     "name": "stdout",
     "output_type": "stream",
     "text": [
      "Training metrics: 0.6884625753659344| Distance: 0.7734503570913724| Speed: 0.59375 | Activity: 0.4626736111111111\n"
     ]
    },
    {
     "name": "stderr",
     "output_type": "stream",
     "text": [
      "train:  10%|▉         | 145/1451 [03:32<30:02,  1.38s/it]"
     ]
    },
    {
     "name": "stdout",
     "output_type": "stream",
     "text": [
      "Training metrics: 0.6885711383271204| Distance: 0.7730495983612925| Speed: 0.5948275862068966 | Activity: 0.46293103448275863\n"
     ]
    },
    {
     "name": "stderr",
     "output_type": "stream",
     "text": [
      "train:  10%|█         | 146/1451 [03:33<29:42,  1.37s/it]"
     ]
    },
    {
     "name": "stdout",
     "output_type": "stream",
     "text": [
      "Training metrics: 0.6896163329598249| Distance: 0.7739324727412608| Speed: 0.5958904109589042 | Activity: 0.4648972602739726\n"
     ]
    },
    {
     "name": "stderr",
     "output_type": "stream",
     "text": [
      "train:  10%|█         | 147/1451 [03:34<29:48,  1.37s/it]"
     ]
    },
    {
     "name": "stdout",
     "output_type": "stream",
     "text": [
      "Training metrics: 0.6897397670568751| Distance: 0.7735742149360617| Speed: 0.5969387755102041 | Activity: 0.4651360544217687\n"
     ]
    },
    {
     "name": "stderr",
     "output_type": "stream",
     "text": [
      "train:  10%|█         | 148/1451 [03:36<30:09,  1.39s/it]"
     ]
    },
    {
     "name": "stdout",
     "output_type": "stream",
     "text": [
      "Training metrics: 0.6895280686948407| Distance: 0.7729465559328426| Speed: 0.5971283783783784 | Activity: 0.46621621621621623\n"
     ]
    },
    {
     "name": "stderr",
     "output_type": "stream",
     "text": [
      "train:  10%|█         | 149/1451 [03:37<30:28,  1.40s/it]"
     ]
    },
    {
     "name": "stdout",
     "output_type": "stream",
     "text": [
      "Training metrics: 0.6904177482590448| Distance: 0.7733192896040008| Speed: 0.5989932885906041 | Activity: 0.4672818791946309\n"
     ]
    },
    {
     "name": "stderr",
     "output_type": "stream",
     "text": [
      "train:  10%|█         | 150/1451 [03:39<30:53,  1.42s/it]"
     ]
    },
    {
     "name": "stdout",
     "output_type": "stream",
     "text": [
      "Training metrics: 0.690621019333823| Distance: 0.7735350322230384| Speed: 0.5991666666666666 | Activity: 0.4675\n"
     ]
    },
    {
     "name": "stderr",
     "output_type": "stream",
     "text": [
      "train:  10%|█         | 151/1451 [03:40<30:46,  1.42s/it]"
     ]
    },
    {
     "name": "stdout",
     "output_type": "stream",
     "text": [
      "Training metrics: 0.6904783584835376| Distance: 0.7734517895255427| Speed: 0.5985099337748344 | Activity: 0.4685430463576159\n"
     ]
    },
    {
     "name": "stderr",
     "output_type": "stream",
     "text": [
      "train:  10%|█         | 152/1451 [03:41<31:03,  1.43s/it]"
     ]
    },
    {
     "name": "stdout",
     "output_type": "stream",
     "text": [
      "Training metrics: 0.6914108383458724| Distance: 0.7739248621554012| Speed: 0.600328947368421 | Activity: 0.46957236842105265\n"
     ]
    },
    {
     "name": "stderr",
     "output_type": "stream",
     "text": [
      "train:  11%|█         | 153/1451 [03:43<31:04,  1.44s/it]"
     ]
    },
    {
     "name": "stdout",
     "output_type": "stream",
     "text": [
      "Training metrics: 0.6921987763303051| Distance: 0.7749881566289399| Speed: 0.6013071895424836 | Activity: 0.4681372549019608\n"
     ]
    },
    {
     "name": "stderr",
     "output_type": "stream",
     "text": [
      "train:  11%|█         | 154/1451 [03:44<30:48,  1.43s/it]"
     ]
    },
    {
     "name": "stdout",
     "output_type": "stream",
     "text": [
      "Training metrics: 0.6916428052563468| Distance: 0.7740854113579807| Speed: 0.601461038961039 | Activity: 0.4675324675324675\n"
     ]
    },
    {
     "name": "stderr",
     "output_type": "stream",
     "text": [
      "train:  11%|█         | 155/1451 [03:46<30:33,  1.41s/it]"
     ]
    },
    {
     "name": "stdout",
     "output_type": "stream",
     "text": [
      "Training metrics: 0.691370692641558| Distance: 0.7731178210692635| Speed: 0.603225806451613 | Activity: 0.4653225806451613\n"
     ]
    },
    {
     "name": "stderr",
     "output_type": "stream",
     "text": [
      "train:  11%|█         | 156/1451 [03:47<30:42,  1.42s/it]"
     ]
    },
    {
     "name": "stdout",
     "output_type": "stream",
     "text": [
      "Training metrics: 0.6919226525783726| Distance: 0.773797369681903| Speed: 0.6033653846153846 | Activity: 0.46634615384615385\n"
     ]
    },
    {
     "name": "stderr",
     "output_type": "stream",
     "text": [
      "train:  11%|█         | 157/1451 [03:49<32:16,  1.50s/it]"
     ]
    },
    {
     "name": "stdout",
     "output_type": "stream",
     "text": [
      "Training metrics: 0.6916597520157688| Distance: 0.773387272467895| Speed: 0.6035031847133758 | Activity: 0.46576433121019106\n"
     ]
    },
    {
     "name": "stderr",
     "output_type": "stream",
     "text": [
      "train:  11%|█         | 158/1451 [03:50<31:30,  1.46s/it]"
     ]
    },
    {
     "name": "stdout",
     "output_type": "stream",
     "text": [
      "Training metrics: 0.6919730343262392| Distance: 0.7734096985606097| Speed: 0.6044303797468354 | Activity: 0.46598101265822783\n"
     ]
    },
    {
     "name": "stderr",
     "output_type": "stream",
     "text": [
      "train:  11%|█         | 159/1451 [03:53<38:06,  1.77s/it]"
     ]
    },
    {
     "name": "stdout",
     "output_type": "stream",
     "text": [
      "Training metrics: 0.6929710558831903| Distance: 0.7737934788828853| Speed: 0.6061320754716981 | Activity: 0.46855345911949686\n"
     ]
    },
    {
     "name": "stderr",
     "output_type": "stream",
     "text": [
      "train:  11%|█         | 160/1451 [03:54<35:49,  1.67s/it]"
     ]
    },
    {
     "name": "stdout",
     "output_type": "stream",
     "text": [
      "Training metrics: 0.6921596571854801| Distance: 0.7730004703091335| Speed: 0.60546875 | Activity: 0.4671875\n"
     ]
    },
    {
     "name": "stderr",
     "output_type": "stream",
     "text": [
      "train:  11%|█         | 161/1451 [03:56<34:16,  1.59s/it]"
     ]
    },
    {
     "name": "stdout",
     "output_type": "stream",
     "text": [
      "Training metrics: 0.6924860897343803| Distance: 0.7730617023523316| Speed: 0.6063664596273292 | Activity: 0.4673913043478261\n"
     ]
    },
    {
     "name": "stderr",
     "output_type": "stream",
     "text": [
      "train:  11%|█         | 162/1451 [03:57<33:14,  1.55s/it]"
     ]
    },
    {
     "name": "stdout",
     "output_type": "stream",
     "text": [
      "Training metrics: 0.6930912514672077| Distance: 0.7733362421572804| Speed: 0.6080246913580247 | Activity: 0.466820987654321\n"
     ]
    },
    {
     "name": "stderr",
     "output_type": "stream",
     "text": [
      "train:  11%|█         | 163/1451 [03:58<32:01,  1.49s/it]"
     ]
    },
    {
     "name": "stdout",
     "output_type": "stream",
     "text": [
      "Training metrics: 0.6934225341193183| Distance: 0.773674571180459| Speed: 0.6081288343558282 | Activity: 0.4677914110429448\n"
     ]
    },
    {
     "name": "stderr",
     "output_type": "stream",
     "text": [
      "train:  11%|█▏        | 164/1451 [04:00<30:44,  1.43s/it]"
     ]
    },
    {
     "name": "stdout",
     "output_type": "stream",
     "text": [
      "Training metrics: 0.6945303321831139| Distance: 0.7748015698986858| Speed: 0.6097560975609756 | Activity: 0.46722560975609756\n"
     ]
    },
    {
     "name": "stderr",
     "output_type": "stream",
     "text": [
      "train:  11%|█▏        | 165/1451 [04:01<29:49,  1.39s/it]"
     ]
    },
    {
     "name": "stdout",
     "output_type": "stream",
     "text": [
      "Training metrics: 0.69569660501815| Distance: 0.7754034326060077| Speed: 0.6121212121212121 | Activity: 0.4681818181818182\n"
     ]
    },
    {
     "name": "stderr",
     "output_type": "stream",
     "text": [
      "train:  11%|█▏        | 166/1451 [04:02<29:57,  1.40s/it]"
     ]
    },
    {
     "name": "stdout",
     "output_type": "stream",
     "text": [
      "Training metrics: 0.696368471826416| Distance: 0.7762014691082839| Speed: 0.6129518072289156 | Activity: 0.46762048192771083\n"
     ]
    },
    {
     "name": "stderr",
     "output_type": "stream",
     "text": [
      "train:  12%|█▏        | 167/1451 [04:04<30:11,  1.41s/it]"
     ]
    },
    {
     "name": "stdout",
     "output_type": "stream",
     "text": [
      "Training metrics: 0.6962514700701804| Distance: 0.7759380788594821| Speed: 0.6130239520958084 | Activity: 0.46781437125748504\n"
     ]
    },
    {
     "name": "stderr",
     "output_type": "stream",
     "text": [
      "train:  12%|█▏        | 168/1451 [04:05<30:19,  1.42s/it]"
     ]
    },
    {
     "name": "stdout",
     "output_type": "stream",
     "text": [
      "Training metrics: 0.6953918135729473| Distance: 0.7756778242088807| Speed: 0.6108630952380952 | Activity: 0.46726190476190477\n"
     ]
    },
    {
     "name": "stderr",
     "output_type": "stream",
     "text": [
      "train:  12%|█▏        | 169/1451 [04:07<29:58,  1.40s/it]"
     ]
    },
    {
     "name": "stdout",
     "output_type": "stream",
     "text": [
      "Training metrics: 0.6952080109987586| Distance: 0.7746810045245583| Speed: 0.6116863905325444 | Activity: 0.46893491124260356\n"
     ]
    },
    {
     "name": "stderr",
     "output_type": "stream",
     "text": [
      "train:  12%|█▏        | 170/1451 [04:08<29:33,  1.38s/it]"
     ]
    },
    {
     "name": "stdout",
     "output_type": "stream",
     "text": [
      "Training metrics: 0.6961889365220841| Distance: 0.7756335216544538| Speed: 0.6125 | Activity: 0.47058823529411764\n"
     ]
    },
    {
     "name": "stderr",
     "output_type": "stream",
     "text": [
      "train:  12%|█▏        | 171/1451 [04:09<29:09,  1.37s/it]"
     ]
    },
    {
     "name": "stdout",
     "output_type": "stream",
     "text": [
      "Training metrics: 0.6968521025293307| Distance: 0.7766735821882608| Speed: 0.6125730994152047 | Activity: 0.47076023391812866\n"
     ]
    },
    {
     "name": "stderr",
     "output_type": "stream",
     "text": [
      "train:  12%|█▏        | 172/1451 [04:11<28:44,  1.35s/it]"
     ]
    },
    {
     "name": "stdout",
     "output_type": "stream",
     "text": [
      "Training metrics: 0.6973240222265579| Distance: 0.7761844168892245| Speed: 0.6148255813953488 | Activity: 0.47165697674418605\n"
     ]
    },
    {
     "name": "stderr",
     "output_type": "stream",
     "text": [
      "train:  12%|█▏        | 173/1451 [04:12<28:46,  1.35s/it]"
     ]
    },
    {
     "name": "stdout",
     "output_type": "stream",
     "text": [
      "Training metrics: 0.6984407752220831| Distance: 0.7771459933855529| Speed: 0.6163294797687862 | Activity: 0.4725433526011561\n"
     ]
    },
    {
     "name": "stderr",
     "output_type": "stream",
     "text": [
      "train:  12%|█▏        | 174/1451 [04:13<28:54,  1.36s/it]"
     ]
    },
    {
     "name": "stdout",
     "output_type": "stream",
     "text": [
      "Training metrics: 0.6986417386373343| Distance: 0.7773099858514959| Speed: 0.6163793103448276 | Activity: 0.4734195402298851\n"
     ]
    },
    {
     "name": "stderr",
     "output_type": "stream",
     "text": [
      "train:  12%|█▏        | 175/1451 [04:15<28:56,  1.36s/it]"
     ]
    },
    {
     "name": "stdout",
     "output_type": "stream",
     "text": [
      "Training metrics: 0.6995546910421253| Distance: 0.7778292469749707| Speed: 0.6178571428571429 | Activity: 0.475\n"
     ]
    },
    {
     "name": "stderr",
     "output_type": "stream",
     "text": [
      "train:  12%|█▏        | 176/1451 [04:16<29:24,  1.38s/it]"
     ]
    },
    {
     "name": "stdout",
     "output_type": "stream",
     "text": [
      "Training metrics: 0.6990196423374733| Distance: 0.7772486463200312| Speed: 0.6171875 | Activity: 0.47514204545454547\n"
     ]
    },
    {
     "name": "stderr",
     "output_type": "stream",
     "text": [
      "train:  12%|█▏        | 177/1451 [04:19<36:48,  1.73s/it]"
     ]
    },
    {
     "name": "stdout",
     "output_type": "stream",
     "text": [
      "Training metrics: 0.699338097008015| Distance: 0.777380820813735| Speed: 0.6179378531073446 | Activity: 0.4752824858757062\n"
     ]
    },
    {
     "name": "stderr",
     "output_type": "stream",
     "text": [
      "train:  12%|█▏        | 178/1451 [04:20<34:58,  1.65s/it]"
     ]
    },
    {
     "name": "stdout",
     "output_type": "stream",
     "text": [
      "Training metrics: 0.7000077334477056| Distance: 0.7783368591169626| Speed: 0.6179775280898876 | Activity: 0.476123595505618\n"
     ]
    },
    {
     "name": "stderr",
     "output_type": "stream",
     "text": [
      "train:  12%|█▏        | 179/1451 [04:21<32:57,  1.55s/it]"
     ]
    },
    {
     "name": "stdout",
     "output_type": "stream",
     "text": [
      "Training metrics: 0.7004435689616983| Distance: 0.7785558551596277| Speed: 0.6187150837988827 | Activity: 0.47695530726256985\n"
     ]
    },
    {
     "name": "stderr",
     "output_type": "stream",
     "text": [
      "train:  12%|█▏        | 180/1451 [04:24<40:42,  1.92s/it]"
     ]
    },
    {
     "name": "stdout",
     "output_type": "stream",
     "text": [
      "Training metrics: 0.6997370615677263| Distance: 0.7779182507610254| Speed: 0.6173611111111111 | Activity: 0.4777777777777778\n"
     ]
    },
    {
     "name": "stderr",
     "output_type": "stream",
     "text": [
      "train:  12%|█▏        | 181/1451 [04:26<37:30,  1.77s/it]"
     ]
    },
    {
     "name": "stdout",
     "output_type": "stream",
     "text": [
      "Training metrics: 0.7004392898251804| Distance: 0.7783564591008993| Speed: 0.6187845303867403 | Activity: 0.47790055248618785\n"
     ]
    },
    {
     "name": "stderr",
     "output_type": "stream",
     "text": [
      "train:  13%|█▎        | 182/1451 [04:27<34:38,  1.64s/it]"
     ]
    },
    {
     "name": "stdout",
     "output_type": "stream",
     "text": [
      "Training metrics: 0.7015588772697557| Distance: 0.7793838430686407| Speed: 0.6201923076923077 | Activity: 0.47870879120879123\n"
     ]
    },
    {
     "name": "stderr",
     "output_type": "stream",
     "text": [
      "train:  13%|█▎        | 183/1451 [04:29<35:02,  1.66s/it]"
     ]
    },
    {
     "name": "stdout",
     "output_type": "stream",
     "text": [
      "Training metrics: 0.7013943711488476| Distance: 0.7785079227708483| Speed: 0.6209016393442623 | Activity: 0.4801912568306011\n"
     ]
    },
    {
     "name": "stderr",
     "output_type": "stream",
     "text": [
      "train:  13%|█▎        | 184/1451 [04:31<39:49,  1.89s/it]"
     ]
    },
    {
     "name": "stdout",
     "output_type": "stream",
     "text": [
      "Training metrics: 0.7022248593748751| Distance: 0.779183642436386| Speed: 0.6222826086956522 | Activity: 0.48029891304347827\n"
     ]
    },
    {
     "name": "stderr",
     "output_type": "stream",
     "text": [
      "train:  13%|█▎        | 185/1451 [04:32<36:20,  1.72s/it]"
     ]
    },
    {
     "name": "stdout",
     "output_type": "stream",
     "text": [
      "Training metrics: 0.7022775106753574| Distance: 0.7796967520264966| Speed: 0.6216216216216216 | Activity: 0.4797297297297297\n"
     ]
    },
    {
     "name": "stderr",
     "output_type": "stream",
     "text": [
      "train:  13%|█▎        | 186/1451 [04:34<34:25,  1.63s/it]"
     ]
    },
    {
     "name": "stdout",
     "output_type": "stream",
     "text": [
      "Training metrics: 0.7024576500570954| Distance: 0.7790736819948004| Speed: 0.6236559139784946 | Activity: 0.4791666666666667\n"
     ]
    },
    {
     "name": "stderr",
     "output_type": "stream",
     "text": [
      "train:  13%|█▎        | 187/1451 [04:35<33:15,  1.58s/it]"
     ]
    },
    {
     "name": "stdout",
     "output_type": "stream",
     "text": [
      "Training metrics: 0.7024543491272014| Distance: 0.7788232021995246| Speed: 0.6243315508021391 | Activity: 0.4786096256684492\n"
     ]
    },
    {
     "name": "stderr",
     "output_type": "stream",
     "text": [
      "train:  13%|█▎        | 188/1451 [04:37<31:31,  1.50s/it]"
     ]
    },
    {
     "name": "stdout",
     "output_type": "stream",
     "text": [
      "Training metrics: 0.7032363225359083| Distance: 0.7793300411059466| Speed: 0.6256648936170213 | Activity: 0.47938829787234044\n"
     ]
    },
    {
     "name": "stderr",
     "output_type": "stream",
     "text": [
      "train:  13%|█▎        | 189/1451 [04:38<30:43,  1.46s/it]"
     ]
    },
    {
     "name": "stdout",
     "output_type": "stream",
     "text": [
      "Training metrics: 0.7036194492116419| Distance: 0.7796214806084686| Speed: 0.6263227513227513 | Activity: 0.4794973544973545\n"
     ]
    },
    {
     "name": "stderr",
     "output_type": "stream",
     "text": [
      "train:  13%|█▎        | 190/1451 [04:39<30:13,  1.44s/it]"
     ]
    },
    {
     "name": "stdout",
     "output_type": "stream",
     "text": [
      "Training metrics: 0.7034064377118415| Distance: 0.7795809049583325| Speed: 0.6256578947368421 | Activity: 0.47960526315789476\n"
     ]
    },
    {
     "name": "stderr",
     "output_type": "stream",
     "text": [
      "train:  13%|█▎        | 191/1451 [04:41<29:54,  1.42s/it]"
     ]
    },
    {
     "name": "stdout",
     "output_type": "stream",
     "text": [
      "Training metrics: 0.7034292372276236| Distance: 0.7792756048034565| Speed: 0.6256544502617801 | Activity: 0.4816753926701571\n"
     ]
    },
    {
     "name": "stderr",
     "output_type": "stream",
     "text": [
      "train:  13%|█▎        | 192/1451 [04:42<29:33,  1.41s/it]"
     ]
    },
    {
     "name": "stdout",
     "output_type": "stream",
     "text": [
      "Training metrics: 0.704645571148126| Distance: 0.7800950491357656| Speed: 0.6276041666666666 | Activity: 0.4830729166666667\n"
     ]
    },
    {
     "name": "stderr",
     "output_type": "stream",
     "text": [
      "train:  13%|█▎        | 193/1451 [04:44<30:43,  1.47s/it]"
     ]
    },
    {
     "name": "stdout",
     "output_type": "stream",
     "text": [
      "Training metrics: 0.7042083461433493| Distance: 0.7794664145567048| Speed: 0.6275906735751295 | Activity: 0.48251295336787564\n"
     ]
    },
    {
     "name": "stderr",
     "output_type": "stream",
     "text": [
      "train:  13%|█▎        | 194/1451 [04:45<29:51,  1.43s/it]"
     ]
    },
    {
     "name": "stdout",
     "output_type": "stream",
     "text": [
      "Training metrics: 0.7052270102278425| Distance: 0.7801893469433114| Speed: 0.6288659793814433 | Activity: 0.4845360824742268\n"
     ]
    },
    {
     "name": "stderr",
     "output_type": "stream",
     "text": [
      "train:  13%|█▎        | 195/1451 [04:46<29:32,  1.41s/it]"
     ]
    },
    {
     "name": "stdout",
     "output_type": "stream",
     "text": [
      "Training metrics: 0.7053317294792361| Distance: 0.7804674123799233| Speed: 0.6288461538461538 | Activity: 0.483974358974359\n"
     ]
    },
    {
     "name": "stderr",
     "output_type": "stream",
     "text": [
      "train:  14%|█▎        | 196/1451 [04:48<29:00,  1.39s/it]"
     ]
    },
    {
     "name": "stdout",
     "output_type": "stream",
     "text": [
      "Training metrics: 0.705921406417994| Distance: 0.7812338066150238| Speed: 0.6288265306122449 | Activity: 0.48533163265306123\n"
     ]
    },
    {
     "name": "stderr",
     "output_type": "stream",
     "text": [
      "train:  14%|█▎        | 197/1451 [04:49<29:28,  1.41s/it]"
     ]
    },
    {
     "name": "stdout",
     "output_type": "stream",
     "text": [
      "Training metrics: 0.705583431645146| Distance: 0.7806678175473244| Speed: 0.6288071065989848 | Activity: 0.4854060913705584\n"
     ]
    },
    {
     "name": "stderr",
     "output_type": "stream",
     "text": [
      "train:  14%|█▎        | 198/1451 [04:51<29:13,  1.40s/it]"
     ]
    },
    {
     "name": "stdout",
     "output_type": "stream",
     "text": [
      "Training metrics: 0.7055704965886169| Distance: 0.7805383697352368| Speed: 0.6287878787878788 | Activity: 0.4861111111111111\n"
     ]
    },
    {
     "name": "stderr",
     "output_type": "stream",
     "text": [
      "train:  14%|█▎        | 199/1451 [04:52<29:09,  1.40s/it]"
     ]
    },
    {
     "name": "stdout",
     "output_type": "stream",
     "text": [
      "Training metrics: 0.7059107626141947| Distance: 0.7805799142397384| Speed: 0.6293969849246231 | Activity: 0.48743718592964824\n"
     ]
    },
    {
     "name": "stderr",
     "output_type": "stream",
     "text": [
      "train:  14%|█▍        | 200/1451 [04:53<29:28,  1.41s/it]"
     ]
    },
    {
     "name": "stdout",
     "output_type": "stream",
     "text": [
      "Training metrics: 0.7066016049558275| Distance: 0.7814193415930458| Speed: 0.629375 | Activity: 0.489375\n"
     ]
    },
    {
     "name": "stderr",
     "output_type": "stream",
     "text": [
      "train:  14%|█▍        | 201/1451 [04:55<29:03,  1.39s/it]"
     ]
    },
    {
     "name": "stdout",
     "output_type": "stream",
     "text": [
      "Training metrics: 0.7066578025264713| Distance: 0.7815150771792766| Speed: 0.6293532338308457 | Activity: 0.4894278606965174\n"
     ]
    },
    {
     "name": "stderr",
     "output_type": "stream",
     "text": [
      "train:  14%|█▍        | 202/1451 [04:56<28:38,  1.38s/it]"
     ]
    },
    {
     "name": "stdout",
     "output_type": "stream",
     "text": [
      "Training metrics: 0.707535954375813| Distance: 0.7823619041577081| Speed: 0.630569306930693 | Activity: 0.48948019801980197\n"
     ]
    },
    {
     "name": "stderr",
     "output_type": "stream",
     "text": [
      "train:  14%|█▍        | 203/1451 [04:57<28:09,  1.35s/it]"
     ]
    },
    {
     "name": "stdout",
     "output_type": "stream",
     "text": [
      "Training metrics: 0.7082117146870573| Distance: 0.7823643520646357| Speed: 0.6323891625615764 | Activity: 0.4907635467980296\n"
     ]
    },
    {
     "name": "stderr",
     "output_type": "stream",
     "text": [
      "train:  14%|█▍        | 204/1451 [04:59<30:43,  1.48s/it]"
     ]
    },
    {
     "name": "stdout",
     "output_type": "stream",
     "text": [
      "Training metrics: 0.7081365892181176| Distance: 0.7818412107883661| Speed: 0.6329656862745098 | Activity: 0.49142156862745096\n"
     ]
    },
    {
     "name": "stderr",
     "output_type": "stream",
     "text": [
      "train:  14%|█▍        | 205/1451 [05:02<38:35,  1.86s/it]"
     ]
    },
    {
     "name": "stdout",
     "output_type": "stream",
     "text": [
      "Training metrics: 0.7087912959486997| Distance: 0.7825383387762882| Speed: 0.6335365853658537 | Activity: 0.4920731707317073\n"
     ]
    },
    {
     "name": "stderr",
     "output_type": "stream",
     "text": [
      "train:  14%|█▍        | 206/1451 [05:04<38:54,  1.87s/it]"
     ]
    },
    {
     "name": "stdout",
     "output_type": "stream",
     "text": [
      "Training metrics: 0.7093125496319681| Distance: 0.783118003431921| Speed: 0.6341019417475728 | Activity: 0.49211165048543687\n"
     ]
    },
    {
     "name": "stderr",
     "output_type": "stream",
     "text": [
      "train:  14%|█▍        | 207/1451 [05:05<36:28,  1.76s/it]"
     ]
    },
    {
     "name": "stdout",
     "output_type": "stream",
     "text": [
      "Training metrics: 0.7097309412139763| Distance: 0.7835290244065467| Speed: 0.6340579710144928 | Activity: 0.4939613526570048\n"
     ]
    },
    {
     "name": "stderr",
     "output_type": "stream",
     "text": [
      "train:  14%|█▍        | 208/1451 [05:07<34:07,  1.65s/it]"
     ]
    },
    {
     "name": "stdout",
     "output_type": "stream",
     "text": [
      "Training metrics: 0.7101737750358654| Distance: 0.7841838558290066| Speed: 0.6340144230769231 | Activity: 0.49459134615384615\n"
     ]
    },
    {
     "name": "stderr",
     "output_type": "stream",
     "text": [
      "train:  14%|█▍        | 209/1451 [05:08<32:48,  1.59s/it]"
     ]
    },
    {
     "name": "stdout",
     "output_type": "stream",
     "text": [
      "Training metrics: 0.7098291505823425| Distance: 0.7835270532034257| Speed: 0.6339712918660287 | Activity: 0.49521531100478466\n"
     ]
    },
    {
     "name": "stderr",
     "output_type": "stream",
     "text": [
      "train:  14%|█▍        | 210/1451 [05:10<31:47,  1.54s/it]"
     ]
    },
    {
     "name": "stdout",
     "output_type": "stream",
     "text": [
      "Training metrics: 0.7096294751826898| Distance: 0.7836086491140068| Speed: 0.6333333333333333 | Activity: 0.49464285714285716\n"
     ]
    },
    {
     "name": "stderr",
     "output_type": "stream",
     "text": [
      "train:  15%|█▍        | 211/1451 [05:11<30:46,  1.49s/it]"
     ]
    },
    {
     "name": "stdout",
     "output_type": "stream",
     "text": [
      "Training metrics: 0.7100920203012092| Distance: 0.7839013924451433| Speed: 0.634478672985782 | Activity: 0.4940758293838863\n"
     ]
    },
    {
     "name": "stderr",
     "output_type": "stream",
     "text": [
      "train:  15%|█▍        | 212/1451 [05:12<30:19,  1.47s/it]"
     ]
    },
    {
     "name": "stdout",
     "output_type": "stream",
     "text": [
      "Training metrics: 0.7101654469124368| Distance: 0.7832553046024892| Speed: 0.6356132075471698 | Activity: 0.49528301886792453\n"
     ]
    },
    {
     "name": "stderr",
     "output_type": "stream",
     "text": [
      "train:  15%|█▍        | 213/1451 [05:14<29:34,  1.43s/it]"
     ]
    },
    {
     "name": "stdout",
     "output_type": "stream",
     "text": [
      "Training metrics: 0.7111381512414274| Distance: 0.7839196104415028| Speed: 0.6373239436619719 | Activity: 0.49589201877934275\n"
     ]
    },
    {
     "name": "stderr",
     "output_type": "stream",
     "text": [
      "train:  15%|█▍        | 214/1451 [05:15<29:21,  1.42s/it]"
     ]
    },
    {
     "name": "stdout",
     "output_type": "stream",
     "text": [
      "Training metrics: 0.71232686217232| Distance: 0.7846608139009073| Speed: 0.639018691588785 | Activity: 0.4982476635514019\n"
     ]
    },
    {
     "name": "stderr",
     "output_type": "stream",
     "text": [
      "train:  15%|█▍        | 215/1451 [05:17<30:09,  1.46s/it]"
     ]
    },
    {
     "name": "stdout",
     "output_type": "stream",
     "text": [
      "Training metrics: 0.7128373899006406| Distance: 0.7851553397568817| Speed: 0.6395348837209303 | Activity: 0.49883720930232556\n"
     ]
    },
    {
     "name": "stderr",
     "output_type": "stream",
     "text": [
      "train:  15%|█▍        | 216/1451 [05:18<30:15,  1.47s/it]"
     ]
    },
    {
     "name": "stdout",
     "output_type": "stream",
     "text": [
      "Training metrics: 0.7129490934194529| Distance: 0.7852778100200758| Speed: 0.6394675925925926 | Activity: 0.4994212962962963\n"
     ]
    },
    {
     "name": "stderr",
     "output_type": "stream",
     "text": [
      "train:  15%|█▍        | 217/1451 [05:20<31:26,  1.53s/it]"
     ]
    },
    {
     "name": "stdout",
     "output_type": "stream",
     "text": [
      "Training metrics: 0.7134217809633836| Distance: 0.7857144890096331| Speed: 0.6399769585253456 | Activity: 0.5\n"
     ]
    },
    {
     "name": "stderr",
     "output_type": "stream",
     "text": [
      "train:  15%|█▌        | 218/1451 [05:21<30:42,  1.49s/it]"
     ]
    },
    {
     "name": "stdout",
     "output_type": "stream",
     "text": [
      "Training metrics: 0.713352339012536| Distance: 0.7857286689964285| Speed: 0.6393348623853211 | Activity: 0.5011467889908257\n"
     ]
    },
    {
     "name": "stderr",
     "output_type": "stream",
     "text": [
      "train:  15%|█▌        | 219/1451 [05:23<30:03,  1.46s/it]"
     ]
    },
    {
     "name": "stdout",
     "output_type": "stream",
     "text": [
      "Training metrics: 0.7139167819849176| Distance: 0.7861322317709051| Speed: 0.6398401826484018 | Activity: 0.5028538812785388\n"
     ]
    },
    {
     "name": "stderr",
     "output_type": "stream",
     "text": [
      "train:  15%|█▌        | 220/1451 [05:24<29:32,  1.44s/it]"
     ]
    },
    {
     "name": "stdout",
     "output_type": "stream",
     "text": [
      "Training metrics: 0.7148630253566282| Distance: 0.786608830139835| Speed: 0.6414772727272727 | Activity: 0.5045454545454545\n"
     ]
    },
    {
     "name": "stderr",
     "output_type": "stream",
     "text": [
      "train:  15%|█▌        | 221/1451 [05:25<29:14,  1.43s/it]"
     ]
    },
    {
     "name": "stdout",
     "output_type": "stream",
     "text": [
      "Training metrics: 0.7155554882131829| Distance: 0.7869552254533443| Speed: 0.6425339366515838 | Activity: 0.5062217194570136\n"
     ]
    },
    {
     "name": "stderr",
     "output_type": "stream",
     "text": [
      "train:  15%|█▌        | 222/1451 [05:27<28:44,  1.40s/it]"
     ]
    },
    {
     "name": "stdout",
     "output_type": "stream",
     "text": [
      "Training metrics: 0.7163678887594109| Distance: 0.7876026374218411| Speed: 0.643581081081081 | Activity: 0.5073198198198198\n"
     ]
    },
    {
     "name": "stderr",
     "output_type": "stream",
     "text": [
      "train:  15%|█▌        | 223/1451 [05:28<28:10,  1.38s/it]"
     ]
    },
    {
     "name": "stdout",
     "output_type": "stream",
     "text": [
      "Training metrics: 0.7167806265204708| Distance: 0.7876837048883784| Speed: 0.6446188340807175 | Activity: 0.507847533632287\n"
     ]
    },
    {
     "name": "stderr",
     "output_type": "stream",
     "text": [
      "train:  15%|█▌        | 224/1451 [05:30<29:07,  1.42s/it]"
     ]
    },
    {
     "name": "stdout",
     "output_type": "stream",
     "text": [
      "Training metrics: 0.7167750089487385| Distance: 0.7875379613431355| Speed: 0.64453125 | Activity: 0.5089285714285714\n"
     ]
    },
    {
     "name": "stderr",
     "output_type": "stream",
     "text": [
      "train:  16%|█▌        | 225/1451 [05:31<29:11,  1.43s/it]"
     ]
    },
    {
     "name": "stdout",
     "output_type": "stream",
     "text": [
      "Training metrics: 0.7172220154377995| Distance: 0.7875922479518881| Speed: 0.6461111111111111 | Activity: 0.5083333333333333\n"
     ]
    },
    {
     "name": "stderr",
     "output_type": "stream",
     "text": [
      "train:  16%|█▌        | 226/1451 [05:32<28:25,  1.39s/it]"
     ]
    },
    {
     "name": "stdout",
     "output_type": "stream",
     "text": [
      "Training metrics: 0.7176622021161183| Distance: 0.7881021952672771| Speed: 0.646570796460177 | Activity: 0.5082964601769911\n"
     ]
    },
    {
     "name": "stderr",
     "output_type": "stream",
     "text": [
      "train:  16%|█▌        | 227/1451 [05:34<28:58,  1.42s/it]"
     ]
    },
    {
     "name": "stdout",
     "output_type": "stream",
     "text": [
      "Training metrics: 0.7181089731682092| Distance: 0.7879826498471624| Speed: 0.6481277533039648 | Activity: 0.5088105726872246\n"
     ]
    },
    {
     "name": "stderr",
     "output_type": "stream",
     "text": [
      "train:  16%|█▌        | 228/1451 [05:35<29:53,  1.47s/it]"
     ]
    },
    {
     "name": "stdout",
     "output_type": "stream",
     "text": [
      "Training metrics: 0.7186614742987905| Distance: 0.7884123986851187| Speed: 0.6485745614035088 | Activity: 0.5104166666666666\n"
     ]
    },
    {
     "name": "stderr",
     "output_type": "stream",
     "text": [
      "train:  16%|█▌        | 229/1451 [05:37<28:57,  1.42s/it]"
     ]
    },
    {
     "name": "stdout",
     "output_type": "stream",
     "text": [
      "Training metrics: 0.7190194908487938| Distance: 0.7883403450099986| Speed: 0.6495633187772926 | Activity: 0.5114628820960698\n"
     ]
    },
    {
     "name": "stderr",
     "output_type": "stream",
     "text": [
      "train:  16%|█▌        | 230/1451 [05:38<28:39,  1.41s/it]"
     ]
    },
    {
     "name": "stdout",
     "output_type": "stream",
     "text": [
      "Training metrics: 0.7191907470167371| Distance: 0.788143998651084| Speed: 0.6505434782608696 | Activity: 0.5114130434782609\n"
     ]
    },
    {
     "name": "stderr",
     "output_type": "stream",
     "text": [
      "train:  16%|█▌        | 231/1451 [05:40<28:44,  1.41s/it]"
     ]
    },
    {
     "name": "stdout",
     "output_type": "stream",
     "text": [
      "Training metrics: 0.7196669957514608| Distance: 0.7883699568440654| Speed: 0.6515151515151515 | Activity: 0.5119047619047619\n"
     ]
    },
    {
     "name": "stderr",
     "output_type": "stream",
     "text": [
      "train:  16%|█▌        | 232/1451 [05:41<28:06,  1.38s/it]"
     ]
    },
    {
     "name": "stdout",
     "output_type": "stream",
     "text": [
      "Training metrics: 0.7198595051600107| Distance: 0.7881279108988686| Speed: 0.6524784482758621 | Activity: 0.5123922413793104\n"
     ]
    },
    {
     "name": "stderr",
     "output_type": "stream",
     "text": [
      "train:  16%|█▌        | 233/1451 [05:42<28:20,  1.40s/it]"
     ]
    },
    {
     "name": "stdout",
     "output_type": "stream",
     "text": [
      "Training metrics: 0.7201729241036303| Distance: 0.7881816260096272| Speed: 0.6534334763948498 | Activity: 0.5123390557939914\n"
     ]
    },
    {
     "name": "stderr",
     "output_type": "stream",
     "text": [
      "train:  16%|█▌        | 234/1451 [05:44<29:22,  1.45s/it]"
     ]
    },
    {
     "name": "stdout",
     "output_type": "stream",
     "text": [
      "Training metrics: 0.7208272425291645| Distance: 0.7887184811383511| Speed: 0.6543803418803419 | Activity: 0.5128205128205128\n"
     ]
    },
    {
     "name": "stderr",
     "output_type": "stream",
     "text": [
      "train:  16%|█▌        | 235/1451 [05:45<28:52,  1.43s/it]"
     ]
    },
    {
     "name": "stdout",
     "output_type": "stream",
     "text": [
      "Training metrics: 0.7210123571504661| Distance: 0.7882120846124789| Speed: 0.6558510638297872 | Activity: 0.5132978723404256\n"
     ]
    },
    {
     "name": "stderr",
     "output_type": "stream",
     "text": [
      "train:  16%|█▋        | 236/1451 [05:47<29:05,  1.44s/it]"
     ]
    },
    {
     "name": "stdout",
     "output_type": "stream",
     "text": [
      "Training metrics: 0.7217104922390096| Distance: 0.7884793514717957| Speed: 0.6573093220338984 | Activity: 0.5143008474576272\n"
     ]
    },
    {
     "name": "stderr",
     "output_type": "stream",
     "text": [
      "train:  16%|█▋        | 237/1451 [05:48<28:47,  1.42s/it]"
     ]
    },
    {
     "name": "stdout",
     "output_type": "stream",
     "text": [
      "Training metrics: 0.7221440570395373| Distance: 0.7883132314934624| Speed: 0.6587552742616034 | Activity: 0.515295358649789\n"
     ]
    },
    {
     "name": "stderr",
     "output_type": "stream",
     "text": [
      "train:  16%|█▋        | 238/1451 [05:50<29:04,  1.44s/it]"
     ]
    },
    {
     "name": "stdout",
     "output_type": "stream",
     "text": [
      "Training metrics: 0.7219586714656417| Distance: 0.7881734160281708| Speed: 0.6586134453781513 | Activity: 0.5147058823529411\n"
     ]
    },
    {
     "name": "stderr",
     "output_type": "stream",
     "text": [
      "train:  16%|█▋        | 239/1451 [05:51<29:20,  1.45s/it]"
     ]
    },
    {
     "name": "stdout",
     "output_type": "stream",
     "text": [
      "Training metrics: 0.7224448162053235| Distance: 0.7886283896309091| Speed: 0.6589958158995816 | Activity: 0.5156903765690377\n"
     ]
    },
    {
     "name": "stderr",
     "output_type": "stream",
     "text": [
      "train:  17%|█▋        | 240/1451 [05:52<29:09,  1.44s/it]"
     ]
    },
    {
     "name": "stdout",
     "output_type": "stream",
     "text": [
      "Training metrics: 0.722532685234772| Distance: 0.7887697531690646| Speed: 0.6588541666666666 | Activity: 0.5161458333333333\n"
     ]
    },
    {
     "name": "stderr",
     "output_type": "stream",
     "text": [
      "train:  17%|█▋        | 241/1451 [05:54<29:04,  1.44s/it]"
     ]
    },
    {
     "name": "stdout",
     "output_type": "stream",
     "text": [
      "Training metrics: 0.7230222686589115| Distance: 0.7891484560636078| Speed: 0.6592323651452282 | Activity: 0.5176348547717843\n"
     ]
    },
    {
     "name": "stderr",
     "output_type": "stream",
     "text": [
      "train:  17%|█▋        | 242/1451 [05:55<28:55,  1.44s/it]"
     ]
    },
    {
     "name": "stdout",
     "output_type": "stream",
     "text": [
      "Training metrics: 0.7230429299059922| Distance: 0.7892657647193534| Speed: 0.6590909090909091 | Activity: 0.5175619834710744\n"
     ]
    },
    {
     "name": "stderr",
     "output_type": "stream",
     "text": [
      "train:  17%|█▋        | 243/1451 [05:57<28:52,  1.43s/it]"
     ]
    },
    {
     "name": "stdout",
     "output_type": "stream",
     "text": [
      "Training metrics: 0.7231099975860783| Distance: 0.7898026708739168| Speed: 0.6584362139917695 | Activity: 0.5169753086419753\n"
     ]
    },
    {
     "name": "stderr",
     "output_type": "stream",
     "text": [
      "train:  17%|█▋        | 244/1451 [05:58<28:01,  1.39s/it]"
     ]
    },
    {
     "name": "stdout",
     "output_type": "stream",
     "text": [
      "Training metrics: 0.7233620120279105| Distance: 0.789705129336135| Speed: 0.6593237704918032 | Activity: 0.5174180327868853\n"
     ]
    },
    {
     "name": "stderr",
     "output_type": "stream",
     "text": [
      "train:  17%|█▋        | 245/1451 [06:00<28:50,  1.44s/it]"
     ]
    },
    {
     "name": "stdout",
     "output_type": "stream",
     "text": [
      "Training metrics: 0.7240249109096201| Distance: 0.7899564841690946| Speed: 0.6607142857142857 | Activity: 0.5183673469387755\n"
     ]
    },
    {
     "name": "stderr",
     "output_type": "stream",
     "text": [
      "train:  17%|█▋        | 246/1451 [06:01<28:22,  1.41s/it]"
     ]
    },
    {
     "name": "stdout",
     "output_type": "stream",
     "text": [
      "Training metrics: 0.7242080585520229| Distance: 0.7898386341720707| Speed: 0.6615853658536586 | Activity: 0.5182926829268293\n"
     ]
    },
    {
     "name": "stderr",
     "output_type": "stream",
     "text": [
      "train:  17%|█▋        | 247/1451 [06:02<27:46,  1.38s/it]"
     ]
    },
    {
     "name": "stdout",
     "output_type": "stream",
     "text": [
      "Training metrics: 0.724770565457681| Distance: 0.7900190935765667| Speed: 0.6629554655870445 | Activity: 0.5187246963562753\n"
     ]
    },
    {
     "name": "stderr",
     "output_type": "stream",
     "text": [
      "train:  17%|█▋        | 248/1451 [06:04<27:17,  1.36s/it]"
     ]
    },
    {
     "name": "stdout",
     "output_type": "stream",
     "text": [
      "Training metrics: 0.7251582180545281| Distance: 0.7905862774027083| Speed: 0.6633064516129032 | Activity: 0.5181451612903226\n"
     ]
    },
    {
     "name": "stderr",
     "output_type": "stream",
     "text": [
      "train:  17%|█▋        | 249/1451 [06:05<27:10,  1.36s/it]"
     ]
    },
    {
     "name": "stdout",
     "output_type": "stream",
     "text": [
      "Training metrics: 0.7248278080182584| Distance: 0.7898736559340452| Speed: 0.6636546184738956 | Activity: 0.5180722891566265\n"
     ]
    },
    {
     "name": "stderr",
     "output_type": "stream",
     "text": [
      "train:  17%|█▋        | 250/1451 [06:06<27:39,  1.38s/it]"
     ]
    },
    {
     "name": "stdout",
     "output_type": "stream",
     "text": [
      "Training metrics: 0.724640585947995| Distance: 0.7894843099133251| Speed: 0.664 | Activity: 0.5175\n"
     ]
    },
    {
     "name": "stderr",
     "output_type": "stream",
     "text": [
      "train:  17%|█▋        | 251/1451 [06:08<27:22,  1.37s/it]"
     ]
    },
    {
     "name": "stdout",
     "output_type": "stream",
     "text": [
      "Training metrics: 0.7250477564269548| Distance: 0.7897542288390816| Speed: 0.6648406374501992 | Activity: 0.5174302788844621\n"
     ]
    },
    {
     "name": "stderr",
     "output_type": "stream",
     "text": [
      "train:  17%|█▋        | 252/1451 [06:09<27:36,  1.38s/it]"
     ]
    },
    {
     "name": "stdout",
     "output_type": "stream",
     "text": [
      "Training metrics: 0.725172881325819| Distance: 0.7896399873948838| Speed: 0.6651785714285714 | Activity: 0.5183531746031746\n"
     ]
    },
    {
     "name": "stderr",
     "output_type": "stream",
     "text": [
      "train:  17%|█▋        | 253/1451 [06:11<27:48,  1.39s/it]"
     ]
    },
    {
     "name": "stdout",
     "output_type": "stream",
     "text": [
      "Training metrics: 0.7250405940665783| Distance: 0.7890992773309902| Speed: 0.6655138339920948 | Activity: 0.5192687747035574\n"
     ]
    },
    {
     "name": "stderr",
     "output_type": "stream",
     "text": [
      "train:  18%|█▊        | 254/1451 [06:12<28:19,  1.42s/it]"
     ]
    },
    {
     "name": "stdout",
     "output_type": "stream",
     "text": [
      "Training metrics: 0.7251813139154445| Distance: 0.7893441846097305| Speed: 0.6653543307086615 | Activity: 0.5196850393700787\n"
     ]
    },
    {
     "name": "stderr",
     "output_type": "stream",
     "text": [
      "train:  18%|█▊        | 255/1451 [06:13<27:44,  1.39s/it]"
     ]
    },
    {
     "name": "stdout",
     "output_type": "stream",
     "text": [
      "Training metrics: 0.7257059136928098| Distance: 0.7894118169389969| Speed: 0.6666666666666666 | Activity: 0.5205882352941177\n"
     ]
    },
    {
     "name": "stderr",
     "output_type": "stream",
     "text": [
      "train:  18%|█▊        | 256/1451 [06:15<28:48,  1.45s/it]"
     ]
    },
    {
     "name": "stdout",
     "output_type": "stream",
     "text": [
      "Training metrics: 0.7261497983118493| Distance: 0.7894326065614157| Speed: 0.66796875 | Activity: 0.52099609375\n"
     ]
    },
    {
     "name": "stderr",
     "output_type": "stream",
     "text": [
      "train:  18%|█▊        | 257/1451 [06:16<28:26,  1.43s/it]"
     ]
    },
    {
     "name": "stdout",
     "output_type": "stream",
     "text": [
      "Training metrics: 0.7268241778902628| Distance: 0.7897620863670398| Speed: 0.669260700389105 | Activity: 0.521887159533074\n"
     ]
    },
    {
     "name": "stderr",
     "output_type": "stream",
     "text": [
      "train:  18%|█▊        | 258/1451 [06:18<28:24,  1.43s/it]"
     ]
    },
    {
     "name": "stdout",
     "output_type": "stream",
     "text": [
      "Training metrics: 0.7271287249397393| Distance: 0.7898043348478863| Speed: 0.6700581395348837 | Activity: 0.5222868217054264\n"
     ]
    },
    {
     "name": "stderr",
     "output_type": "stream",
     "text": [
      "train:  18%|█▊        | 259/1451 [06:19<28:37,  1.44s/it]"
     ]
    },
    {
     "name": "stdout",
     "output_type": "stream",
     "text": [
      "Training metrics: 0.7269828239792268| Distance: 0.7898233681507061| Speed: 0.6694015444015444 | Activity: 0.5226833976833977\n"
     ]
    },
    {
     "name": "stderr",
     "output_type": "stream",
     "text": [
      "train:  18%|█▊        | 260/1451 [06:21<28:49,  1.45s/it]"
     ]
    },
    {
     "name": "stdout",
     "output_type": "stream",
     "text": [
      "Training metrics: 0.7267854225865429| Distance: 0.7899949350801357| Speed: 0.66875 | Activity: 0.5216346153846154\n"
     ]
    },
    {
     "name": "stderr",
     "output_type": "stream",
     "text": [
      "train:  18%|█▊        | 261/1451 [06:22<28:22,  1.43s/it]"
     ]
    },
    {
     "name": "stdout",
     "output_type": "stream",
     "text": [
      "Training metrics: 0.7261539280554224| Distance: 0.789598820066828| Speed: 0.6676245210727969 | Activity: 0.5210727969348659\n"
     ]
    },
    {
     "name": "stderr",
     "output_type": "stream",
     "text": [
      "train:  18%|█▊        | 262/1451 [06:23<27:20,  1.38s/it]"
     ]
    },
    {
     "name": "stdout",
     "output_type": "stream",
     "text": [
      "Training metrics: 0.7262429029482036| Distance: 0.7892057288322478| Speed: 0.6684160305343512 | Activity: 0.5219465648854962\n"
     ]
    },
    {
     "name": "stderr",
     "output_type": "stream",
     "text": [
      "train:  18%|█▊        | 263/1451 [06:25<27:19,  1.38s/it]"
     ]
    },
    {
     "name": "stdout",
     "output_type": "stream",
     "text": [
      "Training metrics: 0.7266073418106107| Distance: 0.7893550753877733| Speed: 0.6692015209125475 | Activity: 0.5223384030418251\n"
     ]
    },
    {
     "name": "stderr",
     "output_type": "stream",
     "text": [
      "train:  18%|█▊        | 264/1451 [06:26<27:10,  1.37s/it]"
     ]
    },
    {
     "name": "stdout",
     "output_type": "stream",
     "text": [
      "Training metrics: 0.7266127014645569| Distance: 0.7885148559762818| Speed: 0.6704545454545454 | Activity: 0.5236742424242424\n"
     ]
    },
    {
     "name": "stderr",
     "output_type": "stream",
     "text": [
      "train:  18%|█▊        | 265/1451 [06:27<26:53,  1.36s/it]"
     ]
    },
    {
     "name": "stdout",
     "output_type": "stream",
     "text": [
      "Training metrics: 0.7269347869305929| Distance: 0.7883661543182838| Speed: 0.6716981132075471 | Activity: 0.5240566037735849\n"
     ]
    },
    {
     "name": "stderr",
     "output_type": "stream",
     "text": [
      "train:  18%|█▊        | 266/1451 [06:29<27:09,  1.38s/it]"
     ]
    },
    {
     "name": "stdout",
     "output_type": "stream",
     "text": [
      "Training metrics: 0.7271985295502571| Distance: 0.7889868976213558| Speed: 0.6715225563909775 | Activity: 0.5234962406015038\n"
     ]
    },
    {
     "name": "stderr",
     "output_type": "stream",
     "text": [
      "train:  18%|█▊        | 267/1451 [06:30<26:35,  1.35s/it]"
     ]
    },
    {
     "name": "stdout",
     "output_type": "stream",
     "text": [
      "Training metrics: 0.7274090534451092| Distance: 0.7892835035570797| Speed: 0.6718164794007491 | Activity: 0.5229400749063671\n"
     ]
    },
    {
     "name": "stderr",
     "output_type": "stream",
     "text": [
      "train:  18%|█▊        | 268/1451 [06:31<26:37,  1.35s/it]"
     ]
    },
    {
     "name": "stdout",
     "output_type": "stream",
     "text": [
      "Training metrics: 0.7275890467690064| Distance: 0.7892186849135182| Speed: 0.6721082089552238 | Activity: 0.5242537313432836\n"
     ]
    },
    {
     "name": "stderr",
     "output_type": "stream",
     "text": [
      "train:  19%|█▊        | 269/1451 [06:33<27:09,  1.38s/it]"
     ]
    },
    {
     "name": "stdout",
     "output_type": "stream",
     "text": [
      "Training metrics: 0.7280797578358921| Distance: 0.7898293361701052| Speed: 0.6723977695167286 | Activity: 0.5246282527881041\n"
     ]
    },
    {
     "name": "stderr",
     "output_type": "stream",
     "text": [
      "train:  19%|█▊        | 270/1451 [06:34<27:19,  1.39s/it]"
     ]
    },
    {
     "name": "stdout",
     "output_type": "stream",
     "text": [
      "Training metrics: 0.7285448637589818| Distance: 0.7902445260180561| Speed: 0.6731481481481482 | Activity: 0.524537037037037\n"
     ]
    },
    {
     "name": "stderr",
     "output_type": "stream",
     "text": [
      "train:  19%|█▊        | 271/1451 [06:36<27:16,  1.39s/it]"
     ]
    },
    {
     "name": "stdout",
     "output_type": "stream",
     "text": [
      "Training metrics: 0.7283957951261057| Distance: 0.7899462514094382| Speed: 0.6734317343173432 | Activity: 0.5239852398523985\n"
     ]
    },
    {
     "name": "stderr",
     "output_type": "stream",
     "text": [
      "train:  19%|█▊        | 272/1451 [06:37<27:22,  1.39s/it]"
     ]
    },
    {
     "name": "stdout",
     "output_type": "stream",
     "text": [
      "Training metrics: 0.7287533784597651| Distance: 0.7903395768447066| Speed: 0.6737132352941176 | Activity: 0.5243566176470589\n"
     ]
    },
    {
     "name": "stderr",
     "output_type": "stream",
     "text": [
      "train:  19%|█▉        | 273/1451 [06:38<26:54,  1.37s/it]"
     ]
    },
    {
     "name": "stdout",
     "output_type": "stream",
     "text": [
      "Training metrics: 0.729071213302229| Distance: 0.7906681393864989| Speed: 0.673992673992674 | Activity: 0.5247252747252747\n"
     ]
    },
    {
     "name": "stderr",
     "output_type": "stream",
     "text": [
      "train:  19%|█▉        | 274/1451 [06:40<27:13,  1.39s/it]"
     ]
    },
    {
     "name": "stdout",
     "output_type": "stream",
     "text": [
      "Training metrics: 0.7293780602034967| Distance: 0.790371584524076| Speed: 0.6751824817518248 | Activity: 0.5260036496350365\n"
     ]
    },
    {
     "name": "stderr",
     "output_type": "stream",
     "text": [
      "train:  19%|█▉        | 275/1451 [06:41<26:34,  1.36s/it]"
     ]
    },
    {
     "name": "stdout",
     "output_type": "stream",
     "text": [
      "Training metrics: 0.7300420139844442| Distance: 0.7909033566407405| Speed: 0.6759090909090909 | Activity: 0.5272727272727272\n"
     ]
    },
    {
     "name": "stderr",
     "output_type": "stream",
     "text": [
      "train:  19%|█▉        | 276/1451 [06:43<27:09,  1.39s/it]"
     ]
    },
    {
     "name": "stdout",
     "output_type": "stream",
     "text": [
      "Training metrics: 0.7301490730778386| Distance: 0.7910395179316633| Speed: 0.6757246376811594 | Activity: 0.5280797101449275\n"
     ]
    },
    {
     "name": "stderr",
     "output_type": "stream",
     "text": [
      "train:  19%|█▉        | 277/1451 [06:44<26:37,  1.36s/it]"
     ]
    },
    {
     "name": "stdout",
     "output_type": "stream",
     "text": [
      "Training metrics: 0.7306206368502894| Distance: 0.7912570180958493| Speed: 0.6764440433212996 | Activity: 0.5293321299638989\n"
     ]
    },
    {
     "name": "stderr",
     "output_type": "stream",
     "text": [
      "train:  19%|█▉        | 278/1451 [06:45<27:16,  1.39s/it]"
     ]
    },
    {
     "name": "stdout",
     "output_type": "stream",
     "text": [
      "Training metrics: 0.731476438096414| Distance: 0.7918192433501386| Speed: 0.6776079136690647 | Activity: 0.5310251798561151\n"
     ]
    },
    {
     "name": "stderr",
     "output_type": "stream",
     "text": [
      "train:  19%|█▉        | 279/1451 [06:47<27:08,  1.39s/it]"
     ]
    },
    {
     "name": "stdout",
     "output_type": "stream",
     "text": [
      "Training metrics: 0.7317116133138508| Distance: 0.791726643456179| Speed: 0.6783154121863799 | Activity: 0.5318100358422939\n"
     ]
    },
    {
     "name": "stderr",
     "output_type": "stream",
     "text": [
      "train:  19%|█▉        | 280/1451 [06:48<27:25,  1.41s/it]"
     ]
    },
    {
     "name": "stdout",
     "output_type": "stream",
     "text": [
      "Training metrics: 0.7319855304430005| Distance: 0.7919996935954771| Speed: 0.6785714285714286 | Activity: 0.5321428571428571\n"
     ]
    },
    {
     "name": "stderr",
     "output_type": "stream",
     "text": [
      "train:  19%|█▉        | 281/1451 [06:50<27:41,  1.42s/it]"
     ]
    },
    {
     "name": "stdout",
     "output_type": "stream",
     "text": [
      "Training metrics: 0.7320243624224037| Distance: 0.7915856811429145| Speed: 0.6792704626334519 | Activity: 0.5329181494661922\n"
     ]
    },
    {
     "name": "stderr",
     "output_type": "stream",
     "text": [
      "train:  19%|█▉        | 282/1451 [06:51<27:47,  1.43s/it]"
     ]
    },
    {
     "name": "stdout",
     "output_type": "stream",
     "text": [
      "Training metrics: 0.7322318018835028| Distance: 0.7912344452195497| Speed: 0.6804078014184397 | Activity: 0.5336879432624113\n"
     ]
    },
    {
     "name": "stderr",
     "output_type": "stream",
     "text": [
      "train:  20%|█▉        | 283/1451 [06:52<27:08,  1.39s/it]"
     ]
    },
    {
     "name": "stdout",
     "output_type": "stream",
     "text": [
      "Training metrics: 0.7324019584811702| Distance: 0.7912676928749774| Speed: 0.6806537102473498 | Activity: 0.534452296819788\n"
     ]
    },
    {
     "name": "stderr",
     "output_type": "stream",
     "text": [
      "train:  20%|█▉        | 284/1451 [06:54<26:25,  1.36s/it]"
     ]
    },
    {
     "name": "stdout",
     "output_type": "stream",
     "text": [
      "Training metrics: 0.7327071601447602| Distance: 0.7916011354525346| Speed: 0.6808978873239436 | Activity: 0.5347711267605634\n"
     ]
    },
    {
     "name": "stderr",
     "output_type": "stream",
     "text": [
      "train:  20%|█▉        | 285/1451 [06:55<27:01,  1.39s/it]"
     ]
    },
    {
     "name": "stdout",
     "output_type": "stream",
     "text": [
      "Training metrics: 0.733223455965261| Distance: 0.7920683330415167| Speed: 0.6815789473684211 | Activity: 0.5350877192982456\n"
     ]
    },
    {
     "name": "stderr",
     "output_type": "stream",
     "text": [
      "train:  20%|█▉        | 286/1451 [06:56<26:57,  1.39s/it]"
     ]
    },
    {
     "name": "stdout",
     "output_type": "stream",
     "text": [
      "Training metrics: 0.7336799981769178| Distance: 0.7925115354230681| Speed: 0.6822552447552448 | Activity: 0.534965034965035\n"
     ]
    },
    {
     "name": "stderr",
     "output_type": "stream",
     "text": [
      "train:  20%|█▉        | 287/1451 [06:58<27:11,  1.40s/it]"
     ]
    },
    {
     "name": "stdout",
     "output_type": "stream",
     "text": [
      "Training metrics: 0.7335814522482709| Distance: 0.7918866248272576| Speed: 0.6829268292682927 | Activity: 0.5357142857142857\n"
     ]
    },
    {
     "name": "stderr",
     "output_type": "stream",
     "text": [
      "train:  20%|█▉        | 288/1451 [07:00<28:11,  1.45s/it]"
     ]
    },
    {
     "name": "stdout",
     "output_type": "stream",
     "text": [
      "Training metrics: 0.7335187857060349| Distance: 0.7915417261767248| Speed: 0.6831597222222222 | Activity: 0.5364583333333334\n"
     ]
    },
    {
     "name": "stderr",
     "output_type": "stream",
     "text": [
      "train:  20%|█▉        | 289/1451 [07:01<27:44,  1.43s/it]"
     ]
    },
    {
     "name": "stdout",
     "output_type": "stream",
     "text": [
      "Training metrics: 0.7337592822622507| Distance: 0.7914154127669577| Speed: 0.6838235294117647 | Activity: 0.5376297577854672\n"
     ]
    },
    {
     "name": "stderr",
     "output_type": "stream",
     "text": [
      "train:  20%|█▉        | 290/1451 [07:02<27:42,  1.43s/it]"
     ]
    },
    {
     "name": "stdout",
     "output_type": "stream",
     "text": [
      "Training metrics: 0.7337539967895887| Distance: 0.7918170061435675| Speed: 0.6831896551724138 | Activity: 0.5370689655172414\n"
     ]
    },
    {
     "name": "stderr",
     "output_type": "stream",
     "text": [
      "train:  20%|██        | 291/1451 [07:04<27:16,  1.41s/it]"
     ]
    },
    {
     "name": "stdout",
     "output_type": "stream",
     "text": [
      "Training metrics: 0.7343112284483042| Distance: 0.7922942009075402| Speed: 0.6838487972508591 | Activity: 0.5378006872852233\n"
     ]
    },
    {
     "name": "stderr",
     "output_type": "stream",
     "text": [
      "train:  20%|██        | 292/1451 [07:05<27:13,  1.41s/it]"
     ]
    },
    {
     "name": "stdout",
     "output_type": "stream",
     "text": [
      "Training metrics: 0.7347015058784357| Distance: 0.7924962312585803| Speed: 0.6845034246575342 | Activity: 0.538527397260274\n"
     ]
    },
    {
     "name": "stderr",
     "output_type": "stream",
     "text": [
      "train:  20%|██        | 293/1451 [07:07<28:02,  1.45s/it]"
     ]
    },
    {
     "name": "stdout",
     "output_type": "stream",
     "text": [
      "Training metrics: 0.7349306487804443| Distance: 0.7922905579787839| Speed: 0.6851535836177475 | Activity: 0.5401023890784983\n"
     ]
    },
    {
     "name": "stderr",
     "output_type": "stream",
     "text": [
      "train:  20%|██        | 294/1451 [07:08<27:50,  1.44s/it]"
     ]
    },
    {
     "name": "stdout",
     "output_type": "stream",
     "text": [
      "Training metrics: 0.7351662731204357| Distance: 0.7922414075816785| Speed: 0.6857993197278912 | Activity: 0.5408163265306123\n"
     ]
    },
    {
     "name": "stderr",
     "output_type": "stream",
     "text": [
      "train:  20%|██        | 295/1451 [07:10<28:55,  1.50s/it]"
     ]
    },
    {
     "name": "stdout",
     "output_type": "stream",
     "text": [
      "Training metrics: 0.7355738359798756| Distance: 0.7926936814353861| Speed: 0.6860169491525424 | Activity: 0.5415254237288135\n"
     ]
    },
    {
     "name": "stderr",
     "output_type": "stream",
     "text": [
      "train:  20%|██        | 296/1451 [07:11<28:15,  1.47s/it]"
     ]
    },
    {
     "name": "stdout",
     "output_type": "stream",
     "text": [
      "Training metrics: 0.7356327834612019| Distance: 0.7925664634263274| Speed: 0.6862331081081081 | Activity: 0.5422297297297297\n"
     ]
    },
    {
     "name": "stderr",
     "output_type": "stream",
     "text": [
      "train:  20%|██        | 297/1451 [07:13<29:17,  1.52s/it]"
     ]
    },
    {
     "name": "stdout",
     "output_type": "stream",
     "text": [
      "Training metrics: 0.7359899262937832| Distance: 0.7925168805233088| Speed: 0.6872895622895623 | Activity: 0.5429292929292929\n"
     ]
    },
    {
     "name": "stderr",
     "output_type": "stream",
     "text": [
      "train:  21%|██        | 298/1451 [07:14<28:30,  1.48s/it]"
     ]
    },
    {
     "name": "stdout",
     "output_type": "stream",
     "text": [
      "Training metrics: 0.7361949987605597| Distance: 0.7928473692989193| Speed: 0.6870805369127517 | Activity: 0.5436241610738255\n"
     ]
    },
    {
     "name": "stderr",
     "output_type": "stream",
     "text": [
      "train:  21%|██        | 299/1451 [07:16<28:30,  1.49s/it]"
     ]
    },
    {
     "name": "stdout",
     "output_type": "stream",
     "text": [
      "Training metrics: 0.7362472869872302| Distance: 0.7924355563499544| Speed: 0.6877090301003345 | Activity: 0.544732441471572\n"
     ]
    },
    {
     "name": "stderr",
     "output_type": "stream",
     "text": [
      "train:  21%|██        | 300/1451 [07:17<28:12,  1.47s/it]"
     ]
    },
    {
     "name": "stdout",
     "output_type": "stream",
     "text": [
      "Training metrics: 0.7369680508398881| Distance: 0.7929328625109247| Speed: 0.68875 | Activity: 0.5458333333333333\n"
     ]
    },
    {
     "name": "stderr",
     "output_type": "stream",
     "text": [
      "train:  21%|██        | 301/1451 [07:18<27:48,  1.45s/it]"
     ]
    },
    {
     "name": "stdout",
     "output_type": "stream",
     "text": [
      "Training metrics: 0.7372211379276279| Distance: 0.7928630261141529| Speed: 0.6893687707641196 | Activity: 0.5469269102990033\n"
     ]
    },
    {
     "name": "stderr",
     "output_type": "stream",
     "text": [
      "train:  21%|██        | 302/1451 [07:20<27:38,  1.44s/it]"
     ]
    },
    {
     "name": "stdout",
     "output_type": "stream",
     "text": [
      "Training metrics: 0.7374864701496804| Distance: 0.7932997460552068| Speed: 0.6895695364238411 | Activity: 0.5463576158940397\n"
     ]
    },
    {
     "name": "stderr",
     "output_type": "stream",
     "text": [
      "train:  21%|██        | 303/1451 [07:21<28:22,  1.48s/it]"
     ]
    },
    {
     "name": "stdout",
     "output_type": "stream",
     "text": [
      "Training metrics: 0.7380132155411376| Distance: 0.7934158652858345| Speed: 0.6905940594059405 | Activity: 0.5478547854785478\n"
     ]
    },
    {
     "name": "stderr",
     "output_type": "stream",
     "text": [
      "train:  21%|██        | 304/1451 [07:23<28:46,  1.50s/it]"
     ]
    },
    {
     "name": "stdout",
     "output_type": "stream",
     "text": [
      "Training metrics: 0.7382585714656136| Distance: 0.7939589129690049| Speed: 0.6903782894736842 | Activity: 0.5476973684210527\n"
     ]
    },
    {
     "name": "stderr",
     "output_type": "stream",
     "text": [
      "train:  21%|██        | 305/1451 [07:24<28:33,  1.50s/it]"
     ]
    },
    {
     "name": "stdout",
     "output_type": "stream",
     "text": [
      "Training metrics: 0.7384221409501511| Distance: 0.7936817103267546| Speed: 0.690983606557377 | Activity: 0.5491803278688525\n"
     ]
    },
    {
     "name": "stderr",
     "output_type": "stream",
     "text": [
      "train:  21%|██        | 306/1451 [07:26<28:34,  1.50s/it]"
     ]
    },
    {
     "name": "stdout",
     "output_type": "stream",
     "text": [
      "Training metrics: 0.7385107035302237| Distance: 0.7935554209163861| Speed: 0.6915849673202614 | Activity: 0.5490196078431373\n"
     ]
    },
    {
     "name": "stderr",
     "output_type": "stream",
     "text": [
      "train:  21%|██        | 307/1451 [07:27<27:42,  1.45s/it]"
     ]
    },
    {
     "name": "stdout",
     "output_type": "stream",
     "text": [
      "Training metrics: 0.7386278196423862| Distance: 0.7936142270912736| Speed: 0.6917752442996743 | Activity: 0.5492671009771987\n"
     ]
    },
    {
     "name": "stderr",
     "output_type": "stream",
     "text": [
      "train:  21%|██        | 308/1451 [07:29<27:25,  1.44s/it]"
     ]
    },
    {
     "name": "stdout",
     "output_type": "stream",
     "text": [
      "Training metrics: 0.7389470973382359| Distance: 0.7934697293299604| Speed: 0.692775974025974 | Activity: 0.5503246753246753\n"
     ]
    },
    {
     "name": "stderr",
     "output_type": "stream",
     "text": [
      "train:  21%|██▏       | 309/1451 [07:30<28:06,  1.48s/it]"
     ]
    },
    {
     "name": "stdout",
     "output_type": "stream",
     "text": [
      "Training metrics: 0.7392643085117824| Distance: 0.7939329629457431| Speed: 0.6929611650485437 | Activity: 0.5501618122977346\n"
     ]
    },
    {
     "name": "stderr",
     "output_type": "stream",
     "text": [
      "train:  21%|██▏       | 310/1451 [07:32<28:09,  1.48s/it]"
     ]
    },
    {
     "name": "stdout",
     "output_type": "stream",
     "text": [
      "Training metrics: 0.7392972150971124| Distance: 0.7935867563446498| Speed: 0.6935483870967742 | Activity: 0.5508064516129032\n"
     ]
    },
    {
     "name": "stderr",
     "output_type": "stream",
     "text": [
      "train:  21%|██▏       | 311/1451 [07:33<29:11,  1.54s/it]"
     ]
    },
    {
     "name": "stdout",
     "output_type": "stream",
     "text": [
      "Training metrics: 0.7397605951433461| Distance: 0.7938266081971096| Speed: 0.6945337620578779 | Activity: 0.5510450160771704\n"
     ]
    },
    {
     "name": "stderr",
     "output_type": "stream",
     "text": [
      "train:  22%|██▏       | 312/1451 [07:35<28:31,  1.50s/it]"
     ]
    },
    {
     "name": "stdout",
     "output_type": "stream",
     "text": [
      "Training metrics: 0.7397954883135583| Distance: 0.7937563694114862| Speed: 0.6947115384615384 | Activity: 0.5512820512820513\n"
     ]
    },
    {
     "name": "stderr",
     "output_type": "stream",
     "text": [
      "train:  22%|██▏       | 313/1451 [07:36<28:06,  1.48s/it]"
     ]
    },
    {
     "name": "stdout",
     "output_type": "stream",
     "text": [
      "Training metrics: 0.7398549545153545| Distance: 0.7937944662582853| Speed: 0.6944888178913738 | Activity: 0.5523162939297125\n"
     ]
    },
    {
     "name": "stderr",
     "output_type": "stream",
     "text": [
      "train:  22%|██▏       | 314/1451 [07:38<28:09,  1.49s/it]"
     ]
    },
    {
     "name": "stdout",
     "output_type": "stream",
     "text": [
      "Training metrics: 0.7402609943703612| Distance: 0.7940124853094133| Speed: 0.6950636942675159 | Activity: 0.553343949044586\n"
     ]
    },
    {
     "name": "stderr",
     "output_type": "stream",
     "text": [
      "train:  22%|██▏       | 315/1451 [07:39<27:51,  1.47s/it]"
     ]
    },
    {
     "name": "stdout",
     "output_type": "stream",
     "text": [
      "Training metrics: 0.7404414404878938| Distance: 0.794320390231146| Speed: 0.6952380952380952 | Activity: 0.5527777777777778\n"
     ]
    },
    {
     "name": "stderr",
     "output_type": "stream",
     "text": [
      "train:  22%|██▏       | 316/1451 [07:41<27:35,  1.46s/it]"
     ]
    },
    {
     "name": "stdout",
     "output_type": "stream",
     "text": [
      "Training metrics: 0.7404625166932903| Distance: 0.7946263463875514| Speed: 0.694620253164557 | Activity: 0.553006329113924\n"
     ]
    },
    {
     "name": "stderr",
     "output_type": "stream",
     "text": [
      "train:  22%|██▏       | 317/1451 [07:42<27:58,  1.48s/it]"
     ]
    },
    {
     "name": "stdout",
     "output_type": "stream",
     "text": [
      "Training metrics: 0.7403406449640845| Distance: 0.7942323052240525| Speed: 0.694794952681388 | Activity: 0.5536277602523659\n"
     ]
    },
    {
     "name": "stderr",
     "output_type": "stream",
     "text": [
      "train:  22%|██▏       | 318/1451 [07:44<28:31,  1.51s/it]"
     ]
    },
    {
     "name": "stdout",
     "output_type": "stream",
     "text": [
      "Training metrics: 0.7403767724281441| Distance: 0.7942338240678712| Speed: 0.6949685534591195 | Activity: 0.5534591194968553\n"
     ]
    },
    {
     "name": "stderr",
     "output_type": "stream",
     "text": [
      "train:  22%|██▏       | 319/1451 [07:45<27:20,  1.45s/it]"
     ]
    },
    {
     "name": "stdout",
     "output_type": "stream",
     "text": [
      "Training metrics: 0.7404836331727709| Distance: 0.7940923666777112| Speed: 0.6955329153605015 | Activity: 0.5536833855799373\n"
     ]
    },
    {
     "name": "stderr",
     "output_type": "stream",
     "text": [
      "train:  22%|██▏       | 320/1451 [07:47<27:21,  1.45s/it]"
     ]
    },
    {
     "name": "stdout",
     "output_type": "stream",
     "text": [
      "Training metrics: 0.7407238451596918| Distance: 0.7941100544328197| Speed: 0.69609375 | Activity: 0.554296875\n"
     ]
    },
    {
     "name": "stderr",
     "output_type": "stream",
     "text": [
      "train:  22%|██▏       | 321/1451 [07:48<26:48,  1.42s/it]"
     ]
    },
    {
     "name": "stdout",
     "output_type": "stream",
     "text": [
      "Training metrics: 0.7412240653570109| Distance: 0.7944985720643849| Speed: 0.6966510903426791 | Activity: 0.5552959501557633\n"
     ]
    },
    {
     "name": "stderr",
     "output_type": "stream",
     "text": [
      "train:  22%|██▏       | 322/1451 [07:49<26:31,  1.41s/it]"
     ]
    },
    {
     "name": "stdout",
     "output_type": "stream",
     "text": [
      "Training metrics: 0.7415213985390204| Distance: 0.7947458091592371| Speed: 0.6972049689440993 | Activity: 0.5551242236024845\n"
     ]
    },
    {
     "name": "stderr",
     "output_type": "stream",
     "text": [
      "train:  22%|██▏       | 323/1451 [07:51<26:46,  1.42s/it]"
     ]
    },
    {
     "name": "stdout",
     "output_type": "stream",
     "text": [
      "Training metrics: 0.7420233705468567| Distance: 0.7952711490538427| Speed: 0.6977554179566563 | Activity: 0.5553405572755418\n"
     ]
    },
    {
     "name": "stderr",
     "output_type": "stream",
     "text": [
      "train:  22%|██▏       | 324/1451 [07:52<27:18,  1.45s/it]"
     ]
    },
    {
     "name": "stdout",
     "output_type": "stream",
     "text": [
      "Training metrics: 0.7423273795589109| Distance: 0.7951469700467445| Speed: 0.6986882716049383 | Activity: 0.5563271604938271\n"
     ]
    },
    {
     "name": "stderr",
     "output_type": "stream",
     "text": [
      "train:  22%|██▏       | 325/1451 [07:54<27:01,  1.44s/it]"
     ]
    },
    {
     "name": "stdout",
     "output_type": "stream",
     "text": [
      "Training metrics: 0.7423712314093165| Distance: 0.7948494882462966| Speed: 0.6992307692307692 | Activity: 0.556923076923077\n"
     ]
    },
    {
     "name": "stderr",
     "output_type": "stream",
     "text": [
      "train:  22%|██▏       | 326/1451 [07:55<27:32,  1.47s/it]"
     ]
    },
    {
     "name": "stdout",
     "output_type": "stream",
     "text": [
      "Training metrics: 0.7425956211609822| Distance: 0.7951108000944798| Speed: 0.6993865030674846 | Activity: 0.5571319018404908\n"
     ]
    },
    {
     "name": "stderr",
     "output_type": "stream",
     "text": [
      "train:  23%|██▎       | 327/1451 [07:57<27:11,  1.45s/it]"
     ]
    },
    {
     "name": "stdout",
     "output_type": "stream",
     "text": [
      "Training metrics: 0.7428077610044169| Distance: 0.7949701215517041| Speed: 0.6999235474006116 | Activity: 0.5584862385321101\n"
     ]
    },
    {
     "name": "stderr",
     "output_type": "stream",
     "text": [
      "train:  23%|██▎       | 328/1451 [07:58<26:50,  1.43s/it]"
     ]
    },
    {
     "name": "stdout",
     "output_type": "stream",
     "text": [
      "Training metrics: 0.7432853756049038| Distance: 0.7954019471463843| Speed: 0.7004573170731707 | Activity: 0.5590701219512195\n"
     ]
    },
    {
     "name": "stderr",
     "output_type": "stream",
     "text": [
      "train:  23%|██▎       | 329/1451 [08:00<27:34,  1.47s/it]"
     ]
    },
    {
     "name": "stdout",
     "output_type": "stream",
     "text": [
      "Training metrics: 0.7429422167703095| Distance: 0.7948479701997558| Speed: 0.7002279635258358 | Activity: 0.5596504559270516\n"
     ]
    },
    {
     "name": "stderr",
     "output_type": "stream",
     "text": [
      "train:  23%|██▎       | 330/1451 [08:01<27:43,  1.48s/it]"
     ]
    },
    {
     "name": "stdout",
     "output_type": "stream",
     "text": [
      "Training metrics: 0.7428591260844976| Distance: 0.7945379374135567| Speed: 0.7007575757575758 | Activity: 0.5590909090909091\n"
     ]
    },
    {
     "name": "stderr",
     "output_type": "stream",
     "text": [
      "train:  23%|██▎       | 331/1451 [08:03<27:25,  1.47s/it]"
     ]
    },
    {
     "name": "stdout",
     "output_type": "stream",
     "text": [
      "Training metrics: 0.7430408879103825| Distance: 0.7947962431940415| Speed: 0.7009063444108762 | Activity: 0.5589123867069486\n"
     ]
    },
    {
     "name": "stderr",
     "output_type": "stream",
     "text": [
      "train:  23%|██▎       | 332/1451 [08:04<27:46,  1.49s/it]"
     ]
    },
    {
     "name": "stdout",
     "output_type": "stream",
     "text": [
      "Training metrics: 0.7432286747510843| Distance: 0.7951903615329317| Speed: 0.7006777108433735 | Activity: 0.5591114457831325\n"
     ]
    },
    {
     "name": "stderr",
     "output_type": "stream",
     "text": [
      "train:  23%|██▎       | 333/1451 [08:05<26:54,  1.44s/it]"
     ]
    },
    {
     "name": "stdout",
     "output_type": "stream",
     "text": [
      "Training metrics: 0.7437819713517856| Distance: 0.7954424247254485| Speed: 0.7015765765765766 | Activity: 0.5604354354354354\n"
     ]
    },
    {
     "name": "stderr",
     "output_type": "stream",
     "text": [
      "train:  23%|██▎       | 334/1451 [08:07<26:44,  1.44s/it]"
     ]
    },
    {
     "name": "stdout",
     "output_type": "stream",
     "text": [
      "Training metrics: 0.7441732389524213| Distance: 0.7956779531442549| Speed: 0.7020958083832335 | Activity: 0.561377245508982\n"
     ]
    },
    {
     "name": "stderr",
     "output_type": "stream",
     "text": [
      "train:  23%|██▎       | 335/1451 [08:08<26:18,  1.41s/it]"
     ]
    },
    {
     "name": "stdout",
     "output_type": "stream",
     "text": [
      "Training metrics: 0.7444875437614114| Distance: 0.7957255082590686| Speed: 0.7026119402985075 | Activity: 0.5626865671641791\n"
     ]
    },
    {
     "name": "stderr",
     "output_type": "stream",
     "text": [
      "train:  23%|██▎       | 336/1451 [08:10<26:55,  1.45s/it]"
     ]
    },
    {
     "name": "stdout",
     "output_type": "stream",
     "text": [
      "Training metrics: 0.74459982874295| Distance: 0.7955012026668216| Speed: 0.703125 | Activity: 0.5636160714285714\n"
     ]
    },
    {
     "name": "stderr",
     "output_type": "stream",
     "text": [
      "train:  23%|██▎       | 337/1451 [08:11<27:24,  1.48s/it]"
     ]
    },
    {
     "name": "stdout",
     "output_type": "stream",
     "text": [
      "Training metrics: 0.7446283283749825| Distance: 0.7956342564904506| Speed: 0.702893175074184 | Activity: 0.5637982195845698\n"
     ]
    },
    {
     "name": "stderr",
     "output_type": "stream",
     "text": [
      "train:  23%|██▎       | 338/1451 [08:13<27:14,  1.47s/it]"
     ]
    },
    {
     "name": "stdout",
     "output_type": "stream",
     "text": [
      "Training metrics: 0.7441073374131422| Distance: 0.7953440830652961| Speed: 0.7019230769230769 | Activity: 0.5632396449704142\n"
     ]
    },
    {
     "name": "stderr",
     "output_type": "stream",
     "text": [
      "train:  23%|██▎       | 339/1451 [08:14<26:38,  1.44s/it]"
     ]
    },
    {
     "name": "stdout",
     "output_type": "stream",
     "text": [
      "Training metrics: 0.7440318980203982| Distance: 0.7952399873594641| Speed: 0.7016961651917404 | Activity: 0.5637905604719764\n"
     ]
    },
    {
     "name": "stderr",
     "output_type": "stream",
     "text": [
      "train:  23%|██▎       | 340/1451 [08:15<26:19,  1.42s/it]"
     ]
    },
    {
     "name": "stdout",
     "output_type": "stream",
     "text": [
      "Training metrics: 0.7446519555820659| Distance: 0.7956209063622668| Speed: 0.7025735294117647 | Activity: 0.5650735294117647\n"
     ]
    },
    {
     "name": "stderr",
     "output_type": "stream",
     "text": [
      "train:  24%|██▎       | 341/1451 [08:17<28:01,  1.52s/it]"
     ]
    },
    {
     "name": "stdout",
     "output_type": "stream",
     "text": [
      "Training metrics: 0.7447428509154017| Distance: 0.7953680946341741| Speed: 0.7030791788856305 | Activity: 0.5659824046920822\n"
     ]
    },
    {
     "name": "stderr",
     "output_type": "stream",
     "text": [
      "train:  24%|██▎       | 342/1451 [08:19<28:01,  1.52s/it]"
     ]
    },
    {
     "name": "stdout",
     "output_type": "stream",
     "text": [
      "Training metrics: 0.7444781180318417| Distance: 0.7949513468172021| Speed: 0.7028508771929824 | Activity: 0.5665204678362573\n"
     ]
    },
    {
     "name": "stderr",
     "output_type": "stream",
     "text": [
      "train:  24%|██▎       | 343/1451 [08:20<27:37,  1.50s/it]"
     ]
    },
    {
     "name": "stdout",
     "output_type": "stream",
     "text": [
      "Training metrics: 0.7447078384983574| Distance: 0.795115590888905| Speed: 0.7033527696793003 | Activity: 0.5663265306122449\n"
     ]
    },
    {
     "name": "stderr",
     "output_type": "stream",
     "text": [
      "train:  24%|██▎       | 344/1451 [08:22<27:16,  1.48s/it]"
     ]
    },
    {
     "name": "stdout",
     "output_type": "stream",
     "text": [
      "Training metrics: 0.7450781364206334| Distance: 0.7953942777553192| Speed: 0.7038517441860465 | Activity: 0.5668604651162791\n"
     ]
    },
    {
     "name": "stderr",
     "output_type": "stream",
     "text": [
      "train:  24%|██▍       | 345/1451 [08:23<26:39,  1.45s/it]"
     ]
    },
    {
     "name": "stdout",
     "output_type": "stream",
     "text": [
      "Training metrics: 0.7449924673018848| Distance: 0.7949149817350255| Speed: 0.7043478260869566 | Activity: 0.5673913043478261\n"
     ]
    },
    {
     "name": "stderr",
     "output_type": "stream",
     "text": [
      "train:  24%|██▍       | 346/1451 [08:24<26:21,  1.43s/it]"
     ]
    },
    {
     "name": "stdout",
     "output_type": "stream",
     "text": [
      "Training metrics: 0.7455731492156823| Distance: 0.7953073681533047| Speed: 0.7052023121387283 | Activity: 0.5682803468208093\n"
     ]
    },
    {
     "name": "stderr",
     "output_type": "stream",
     "text": [
      "train:  24%|██▍       | 347/1451 [08:26<26:23,  1.43s/it]"
     ]
    },
    {
     "name": "stdout",
     "output_type": "stream",
     "text": [
      "Training metrics: 0.7457508245643123| Distance: 0.795451662458292| Speed: 0.7053314121037464 | Activity: 0.5688040345821326\n"
     ]
    },
    {
     "name": "stderr",
     "output_type": "stream",
     "text": [
      "train:  24%|██▍       | 348/1451 [08:27<26:14,  1.43s/it]"
     ]
    },
    {
     "name": "stdout",
     "output_type": "stream",
     "text": [
      "Training metrics: 0.7457478489119965| Distance: 0.7957746715583084| Speed: 0.7047413793103449 | Activity: 0.5686063218390804\n"
     ]
    },
    {
     "name": "stderr",
     "output_type": "stream",
     "text": [
      "train:  24%|██▍       | 349/1451 [08:29<26:39,  1.45s/it]"
     ]
    },
    {
     "name": "stdout",
     "output_type": "stream",
     "text": [
      "Training metrics: 0.7456646293011824| Distance: 0.7957232837923242| Speed: 0.704512893982808 | Activity: 0.5687679083094556\n"
     ]
    },
    {
     "name": "stderr",
     "output_type": "stream",
     "text": [
      "train:  24%|██▍       | 350/1451 [08:30<25:56,  1.41s/it]"
     ]
    },
    {
     "name": "stdout",
     "output_type": "stream",
     "text": [
      "Training metrics: 0.7453063656256307| Distance: 0.7955106093760511| Speed: 0.7039285714285715 | Activity: 0.5682142857142857\n"
     ]
    },
    {
     "name": "stderr",
     "output_type": "stream",
     "text": [
      "train:  24%|██▍       | 351/1451 [08:31<25:36,  1.40s/it]"
     ]
    },
    {
     "name": "stdout",
     "output_type": "stream",
     "text": [
      "Training metrics: 0.7448196390852845| Distance: 0.7955564734992159| Speed: 0.7026353276353277 | Activity: 0.5669515669515669\n"
     ]
    },
    {
     "name": "stderr",
     "output_type": "stream",
     "text": [
      "train:  24%|██▍       | 352/1451 [08:33<25:31,  1.39s/it]"
     ]
    },
    {
     "name": "stdout",
     "output_type": "stream",
     "text": [
      "Training metrics: 0.7447804735858177| Distance: 0.7958107324915141| Speed: 0.7020596590909091 | Activity: 0.5667613636363636\n"
     ]
    },
    {
     "name": "stderr",
     "output_type": "stream",
     "text": [
      "train:  24%|██▍       | 353/1451 [08:34<25:34,  1.40s/it]"
     ]
    },
    {
     "name": "stdout",
     "output_type": "stream",
     "text": [
      "Training metrics: 0.7450904875483783| Distance: 0.7959369315608006| Speed: 0.7025495750708215 | Activity: 0.5676345609065155\n"
     ]
    },
    {
     "name": "stderr",
     "output_type": "stream",
     "text": [
      "train:  24%|██▍       | 354/1451 [08:36<26:17,  1.44s/it]"
     ]
    },
    {
     "name": "stdout",
     "output_type": "stream",
     "text": [
      "Training metrics: 0.74565776981371| Distance: 0.7963175636254866| Speed: 0.7033898305084746 | Activity: 0.568502824858757\n"
     ]
    },
    {
     "name": "stderr",
     "output_type": "stream",
     "text": [
      "train:  24%|██▍       | 355/1451 [08:37<25:29,  1.40s/it]"
     ]
    },
    {
     "name": "stdout",
     "output_type": "stream",
     "text": [
      "Training metrics: 0.746039109569933| Distance: 0.7965675300343957| Speed: 0.7038732394366197 | Activity: 0.5693661971830986\n"
     ]
    },
    {
     "name": "stderr",
     "output_type": "stream",
     "text": [
      "train:  25%|██▍       | 356/1451 [08:38<25:02,  1.37s/it]"
     ]
    },
    {
     "name": "stdout",
     "output_type": "stream",
     "text": [
      "Training metrics: 0.7465285287645629| Distance: 0.7968827539334474| Speed: 0.7047050561797753 | Activity: 0.569873595505618\n"
     ]
    },
    {
     "name": "stderr",
     "output_type": "stream",
     "text": [
      "train:  25%|██▍       | 357/1451 [08:40<24:46,  1.36s/it]"
     ]
    },
    {
     "name": "stdout",
     "output_type": "stream",
     "text": [
      "Training metrics: 0.7464567637245383| Distance: 0.7969073979909438| Speed: 0.7044817927170869 | Activity: 0.5696778711484594\n"
     ]
    },
    {
     "name": "stderr",
     "output_type": "stream",
     "text": [
      "train:  25%|██▍       | 358/1451 [08:41<24:06,  1.32s/it]"
     ]
    },
    {
     "name": "stdout",
     "output_type": "stream",
     "text": [
      "Training metrics: 0.746955771134754| Distance: 0.7971841995635098| Speed: 0.7053072625698324 | Activity: 0.5705307262569832\n"
     ]
    },
    {
     "name": "stderr",
     "output_type": "stream",
     "text": [
      "train:  25%|██▍       | 359/1451 [08:42<24:32,  1.35s/it]"
     ]
    },
    {
     "name": "stdout",
     "output_type": "stream",
     "text": [
      "Training metrics: 0.7472761320785684| Distance: 0.7972243798338254| Speed: 0.7061281337047354 | Activity: 0.5710306406685237\n"
     ]
    },
    {
     "name": "stderr",
     "output_type": "stream",
     "text": [
      "train:  25%|██▍       | 360/1451 [08:44<24:17,  1.34s/it]"
     ]
    },
    {
     "name": "stdout",
     "output_type": "stream",
     "text": [
      "Training metrics: 0.7474558243504725| Distance: 0.7970907257693062| Speed: 0.7065972222222222 | Activity: 0.5722222222222222\n"
     ]
    },
    {
     "name": "stderr",
     "output_type": "stream",
     "text": [
      "train:  25%|██▍       | 361/1451 [08:45<24:41,  1.36s/it]"
     ]
    },
    {
     "name": "stdout",
     "output_type": "stream",
     "text": [
      "Training metrics: 0.747730058236326| Distance: 0.7969439105416145| Speed: 0.707409972299169 | Activity: 0.5734072022160664\n"
     ]
    },
    {
     "name": "stderr",
     "output_type": "stream",
     "text": [
      "train:  25%|██▍       | 362/1451 [08:46<24:45,  1.36s/it]"
     ]
    },
    {
     "name": "stdout",
     "output_type": "stream",
     "text": [
      "Training metrics: 0.7478170033924076| Distance: 0.7972364421181011| Speed: 0.7068370165745856 | Activity: 0.5742403314917127\n"
     ]
    },
    {
     "name": "stderr",
     "output_type": "stream",
     "text": [
      "train:  25%|██▌       | 363/1451 [08:48<25:27,  1.40s/it]"
     ]
    },
    {
     "name": "stdout",
     "output_type": "stream",
     "text": [
      "Training metrics: 0.7479675684262348| Distance: 0.7971833902994326| Speed: 0.7071917808219178 | Activity: 0.575\n"
     ]
    },
    {
     "name": "stderr",
     "output_type": "stream",
     "text": [
      "train:  25%|██▌       | 366/1451 [08:52<25:11,  1.39s/it]"
     ]
    },
    {
     "name": "stdout",
     "output_type": "stream",
     "text": [
      "Training metrics: 0.7480529144270863| Distance: 0.7971305404385867| Speed: 0.707308743169399 | Activity: 0.5758196721311475\n"
     ]
    },
    {
     "name": "stderr",
     "output_type": "stream",
     "text": [
      "train:  25%|██▌       | 367/1451 [08:53<25:05,  1.39s/it]"
     ]
    },
    {
     "name": "stdout",
     "output_type": "stream",
     "text": [
      "Training metrics: 0.7482417388264334| Distance: 0.7974782840567717| Speed: 0.7070844686648501 | Activity: 0.5762942779291553\n"
     ]
    },
    {
     "name": "stderr",
     "output_type": "stream",
     "text": [
      "train:  25%|██▌       | 368/1451 [08:55<25:01,  1.39s/it]"
     ]
    },
    {
     "name": "stdout",
     "output_type": "stream",
     "text": [
      "Training metrics: 0.747877876427902| Distance: 0.7973009896986776| Speed: 0.7065217391304348 | Activity: 0.5754076086956522\n"
     ]
    },
    {
     "name": "stderr",
     "output_type": "stream",
     "text": [
      "train:  25%|██▌       | 369/1451 [08:56<24:28,  1.36s/it]"
     ]
    },
    {
     "name": "stdout",
     "output_type": "stream",
     "text": [
      "Training metrics: 0.7479288962878209| Distance: 0.797248250813938| Speed: 0.7066395663956639 | Activity: 0.575880758807588\n"
     ]
    },
    {
     "name": "stderr",
     "output_type": "stream",
     "text": [
      "train:  25%|██▌       | 370/1451 [08:58<25:04,  1.39s/it]"
     ]
    },
    {
     "name": "stdout",
     "output_type": "stream",
     "text": [
      "Training metrics: 0.7483384542707298| Distance: 0.7974559823431081| Speed: 0.7074324324324325 | Activity: 0.5763513513513514\n"
     ]
    },
    {
     "name": "stderr",
     "output_type": "stream",
     "text": [
      "train:  26%|██▌       | 371/1451 [08:59<25:01,  1.39s/it]"
     ]
    },
    {
     "name": "stdout",
     "output_type": "stream",
     "text": [
      "Training metrics: 0.7486206209450738| Distance: 0.7973416458698223| Speed: 0.7082210242587601 | Activity: 0.5774932614555256\n"
     ]
    },
    {
     "name": "stderr",
     "output_type": "stream",
     "text": [
      "train:  26%|██▌       | 372/1451 [09:00<24:40,  1.37s/it]"
     ]
    },
    {
     "name": "stdout",
     "output_type": "stream",
     "text": [
      "Training metrics: 0.7488676684437495| Distance: 0.7973959348614463| Speed: 0.709005376344086 | Activity: 0.5772849462365591\n"
     ]
    },
    {
     "name": "stderr",
     "output_type": "stream",
     "text": [
      "train:  26%|██▌       | 373/1451 [09:02<24:12,  1.35s/it]"
     ]
    },
    {
     "name": "stdout",
     "output_type": "stream",
     "text": [
      "Training metrics: 0.7488724394780815| Distance: 0.7973276136073475| Speed: 0.7091152815013405 | Activity: 0.5774128686327078\n"
     ]
    },
    {
     "name": "stderr",
     "output_type": "stream",
     "text": [
      "train:  26%|██▌       | 374/1451 [09:03<24:25,  1.36s/it]"
     ]
    },
    {
     "name": "stdout",
     "output_type": "stream",
     "text": [
      "Training metrics: 0.7491779871378984| Distance: 0.7974267700070142| Speed: 0.7098930481283422 | Activity: 0.5775401069518716\n"
     ]
    },
    {
     "name": "stderr",
     "output_type": "stream",
     "text": [
      "train:  26%|██▌       | 375/1451 [09:04<24:19,  1.36s/it]"
     ]
    },
    {
     "name": "stdout",
     "output_type": "stream",
     "text": [
      "Training metrics: 0.7492566014577176| Distance: 0.7977054468739737| Speed: 0.7096666666666667 | Activity: 0.5773333333333334\n"
     ]
    },
    {
     "name": "stderr",
     "output_type": "stream",
     "text": [
      "train:  26%|██▌       | 376/1451 [09:06<24:28,  1.37s/it]"
     ]
    },
    {
     "name": "stdout",
     "output_type": "stream",
     "text": [
      "Training metrics: 0.7494614895615511| Distance: 0.7980275712550675| Speed: 0.7094414893617021 | Activity: 0.578125\n"
     ]
    },
    {
     "name": "stderr",
     "output_type": "stream",
     "text": [
      "train:  26%|██▌       | 377/1451 [09:07<25:15,  1.41s/it]"
     ]
    },
    {
     "name": "stdout",
     "output_type": "stream",
     "text": [
      "Training metrics: 0.7498862344798526| Distance: 0.7984399221879066| Speed: 0.7098806366047745 | Activity: 0.5785809018567639\n"
     ]
    },
    {
     "name": "stderr",
     "output_type": "stream",
     "text": [
      "train:  26%|██▌       | 378/1451 [09:09<25:09,  1.41s/it]"
     ]
    },
    {
     "name": "stdout",
     "output_type": "stream",
     "text": [
      "Training metrics: 0.7498882774094865| Distance: 0.7983697921551407| Speed: 0.7099867724867724 | Activity: 0.5787037037037037\n"
     ]
    },
    {
     "name": "stderr",
     "output_type": "stream",
     "text": [
      "train:  26%|██▌       | 379/1451 [09:10<25:45,  1.44s/it]"
     ]
    },
    {
     "name": "stdout",
     "output_type": "stream",
     "text": [
      "Training metrics: 0.7500426840904002| Distance: 0.7987188974066037| Speed: 0.7097625329815304 | Activity: 0.5788258575197889\n"
     ]
    },
    {
     "name": "stderr",
     "output_type": "stream",
     "text": [
      "train:  26%|██▌       | 380/1451 [09:11<25:03,  1.40s/it]"
     ]
    },
    {
     "name": "stdout",
     "output_type": "stream",
     "text": [
      "Training metrics: 0.7497357517887828| Distance: 0.7985727442093749| Speed: 0.7092105263157895 | Activity: 0.5782894736842106\n"
     ]
    },
    {
     "name": "stderr",
     "output_type": "stream",
     "text": [
      "train:  26%|██▋       | 381/1451 [09:13<26:19,  1.48s/it]"
     ]
    },
    {
     "name": "stdout",
     "output_type": "stream",
     "text": [
      "Training metrics: 0.7501349765246835| Distance: 0.7988907526505005| Speed: 0.7096456692913385 | Activity: 0.5790682414698163\n"
     ]
    },
    {
     "name": "stderr",
     "output_type": "stream",
     "text": [
      "train:  26%|██▋       | 382/1451 [09:14<25:22,  1.42s/it]"
     ]
    },
    {
     "name": "stdout",
     "output_type": "stream",
     "text": [
      "Training metrics: 0.7504449199978463| Distance: 0.7991163151796569| Speed: 0.7100785340314136 | Activity: 0.5795157068062827\n"
     ]
    },
    {
     "name": "stderr",
     "output_type": "stream",
     "text": [
      "train:  26%|██▋       | 383/1451 [09:16<24:57,  1.40s/it]"
     ]
    },
    {
     "name": "stdout",
     "output_type": "stream",
     "text": [
      "Training metrics: 0.7507298949423984| Distance: 0.799192992876147| Speed: 0.7108355091383812 | Activity: 0.5796344647519582\n"
     ]
    },
    {
     "name": "stderr",
     "output_type": "stream",
     "text": [
      "train:  26%|██▋       | 384/1451 [09:17<25:42,  1.45s/it]"
     ]
    },
    {
     "name": "stdout",
     "output_type": "stream",
     "text": [
      "Training metrics: 0.7510490447880657| Distance: 0.7991659427023317| Speed: 0.7115885416666666 | Activity: 0.5807291666666666\n"
     ]
    },
    {
     "name": "stderr",
     "output_type": "stream",
     "text": [
      "train:  27%|██▋       | 385/1451 [09:19<25:30,  1.44s/it]"
     ]
    },
    {
     "name": "stdout",
     "output_type": "stream",
     "text": [
      "Training metrics: 0.7508934845602268| Distance: 0.7991081885527589| Speed: 0.711038961038961 | Activity: 0.5811688311688312\n"
     ]
    },
    {
     "name": "stderr",
     "output_type": "stream",
     "text": [
      "train:  27%|██▋       | 386/1451 [09:20<25:26,  1.43s/it]"
     ]
    },
    {
     "name": "stdout",
     "output_type": "stream",
     "text": [
      "Training metrics: 0.7512814477200437| Distance: 0.7991996494815929| Speed: 0.7117875647668394 | Activity: 0.5822538860103627\n"
     ]
    },
    {
     "name": "stderr",
     "output_type": "stream",
     "text": [
      "train:  27%|██▋       | 387/1451 [09:22<25:02,  1.41s/it]"
     ]
    },
    {
     "name": "stdout",
     "output_type": "stream",
     "text": [
      "Training metrics: 0.7514413077110761| Distance: 0.7992906377441278| Speed: 0.7122093023255814 | Activity: 0.5820413436692506\n"
     ]
    },
    {
     "name": "stderr",
     "output_type": "stream",
     "text": [
      "train:  27%|██▋       | 388/1451 [09:23<24:42,  1.39s/it]"
     ]
    },
    {
     "name": "stdout",
     "output_type": "stream",
     "text": [
      "Training metrics: 0.7513426117227733| Distance: 0.7990589920465465| Speed: 0.7123067010309279 | Activity: 0.5821520618556701\n"
     ]
    },
    {
     "name": "stderr",
     "output_type": "stream",
     "text": [
      "train:  27%|██▋       | 389/1451 [09:24<25:15,  1.43s/it]"
     ]
    },
    {
     "name": "stdout",
     "output_type": "stream",
     "text": [
      "Training metrics: 0.7516253250235234| Distance: 0.7993562615002167| Speed: 0.7124035989717223 | Activity: 0.5829048843187661\n"
     ]
    },
    {
     "name": "stderr",
     "output_type": "stream",
     "text": [
      "train:  27%|██▋       | 390/1451 [09:26<24:51,  1.41s/it]"
     ]
    },
    {
     "name": "stdout",
     "output_type": "stream",
     "text": [
      "Training metrics: 0.7515998862535601| Distance: 0.7991408360636257| Speed: 0.7125 | Activity: 0.5836538461538462\n"
     ]
    },
    {
     "name": "stderr",
     "output_type": "stream",
     "text": [
      "train:  27%|██▋       | 391/1451 [09:27<24:25,  1.38s/it]"
     ]
    },
    {
     "name": "stdout",
     "output_type": "stream",
     "text": [
      "Training metrics: 0.7520298489423193| Distance: 0.7994188871971307| Speed: 0.7132352941176471 | Activity: 0.584079283887468\n"
     ]
    },
    {
     "name": "stderr",
     "output_type": "stream",
     "text": [
      "train:  27%|██▋       | 392/1451 [09:28<24:07,  1.37s/it]"
     ]
    },
    {
     "name": "stdout",
     "output_type": "stream",
     "text": [
      "Training metrics: 0.7522146333837014| Distance: 0.7994499842109309| Speed: 0.7136479591836735 | Activity: 0.5845025510204082\n"
     ]
    },
    {
     "name": "stderr",
     "output_type": "stream",
     "text": [
      "train:  27%|██▋       | 393/1451 [09:30<24:26,  1.39s/it]"
     ]
    },
    {
     "name": "stdout",
     "output_type": "stream",
     "text": [
      "Training metrics: 0.7520107547332626| Distance: 0.7992057956326217| Speed: 0.7134223918575063 | Activity: 0.5846055979643766\n"
     ]
    },
    {
     "name": "stderr",
     "output_type": "stream",
     "text": [
      "train:  27%|██▋       | 394/1451 [09:31<24:18,  1.38s/it]"
     ]
    },
    {
     "name": "stdout",
     "output_type": "stream",
     "text": [
      "Training metrics: 0.7522384315039138| Distance: 0.7993102453999237| Speed: 0.7138324873096447 | Activity: 0.5850253807106599\n"
     ]
    },
    {
     "name": "stderr",
     "output_type": "stream",
     "text": [
      "train:  27%|██▋       | 395/1451 [09:33<24:21,  1.38s/it]"
     ]
    },
    {
     "name": "stdout",
     "output_type": "stream",
     "text": [
      "Training metrics: 0.7525312671565295| Distance: 0.7993137153030765| Speed: 0.7145569620253165 | Activity: 0.5857594936708861\n"
     ]
    },
    {
     "name": "stderr",
     "output_type": "stream",
     "text": [
      "train:  27%|██▋       | 396/1451 [09:34<25:04,  1.43s/it]"
     ]
    },
    {
     "name": "stdout",
     "output_type": "stream",
     "text": [
      "Training metrics: 0.7523115475183877| Distance: 0.7988862492309827| Speed: 0.7146464646464646 | Activity: 0.5858585858585859\n"
     ]
    },
    {
     "name": "stderr",
     "output_type": "stream",
     "text": [
      "train:  27%|██▋       | 397/1451 [09:36<25:23,  1.45s/it]"
     ]
    },
    {
     "name": "stdout",
     "output_type": "stream",
     "text": [
      "Training metrics: 0.7526702753462766| Distance: 0.7991607863663804| Speed: 0.7150503778337531 | Activity: 0.5865869017632241\n"
     ]
    },
    {
     "name": "stderr",
     "output_type": "stream",
     "text": [
      "train:  27%|██▋       | 398/1451 [09:37<25:05,  1.43s/it]"
     ]
    },
    {
     "name": "stdout",
     "output_type": "stream",
     "text": [
      "Training metrics: 0.7528536346148779| Distance: 0.7994063926998384| Speed: 0.7154522613065326 | Activity: 0.5857412060301508\n"
     ]
    },
    {
     "name": "stderr",
     "output_type": "stream",
     "text": [
      "train:  27%|██▋       | 399/1451 [09:38<25:08,  1.43s/it]"
     ]
    },
    {
     "name": "stdout",
     "output_type": "stream",
     "text": [
      "Training metrics: 0.7531360121984305| Distance: 0.7996084748002247| Speed: 0.7161654135338346 | Activity: 0.5852130325814536\n"
     ]
    },
    {
     "name": "stderr",
     "output_type": "stream",
     "text": [
      "train:  28%|██▊       | 400/1451 [09:40<24:58,  1.43s/it]"
     ]
    },
    {
     "name": "stdout",
     "output_type": "stream",
     "text": [
      "Training metrics: 0.753399193191624| Distance: 0.7999361553193732| Speed: 0.71625 | Activity: 0.585625\n"
     ]
    },
    {
     "name": "stderr",
     "output_type": "stream",
     "text": [
      "train:  28%|██▊       | 401/1451 [09:41<24:28,  1.40s/it]"
     ]
    },
    {
     "name": "stdout",
     "output_type": "stream",
     "text": [
      "Training metrics: 0.7537040512241873| Distance: 0.8003338509596807| Speed: 0.7166458852867831 | Activity: 0.5850997506234414\n"
     ]
    },
    {
     "name": "stderr",
     "output_type": "stream",
     "text": [
      "train:  28%|██▊       | 402/1451 [09:43<24:11,  1.38s/it]"
     ]
    },
    {
     "name": "stdout",
     "output_type": "stream",
     "text": [
      "Training metrics: 0.7539540516060623| Distance: 0.8004333695921935| Speed: 0.7170398009950248 | Activity: 0.585820895522388\n"
     ]
    },
    {
     "name": "stderr",
     "output_type": "stream",
     "text": [
      "train:  28%|██▊       | 403/1451 [09:44<24:40,  1.41s/it]"
     ]
    },
    {
     "name": "stdout",
     "output_type": "stream",
     "text": [
      "Training metrics: 0.7537995854848013| Distance: 0.8002222206384406| Speed: 0.7168114143920595 | Activity: 0.5862282878411911\n"
     ]
    },
    {
     "name": "stderr",
     "output_type": "stream",
     "text": [
      "train:  28%|██▊       | 404/1451 [09:45<24:20,  1.40s/it]"
     ]
    },
    {
     "name": "stdout",
     "output_type": "stream",
     "text": [
      "Training metrics: 0.7536312009614397| Distance: 0.8003486187641157| Speed: 0.7162747524752475 | Activity: 0.5853960396039604\n"
     ]
    },
    {
     "name": "stderr",
     "output_type": "stream",
     "text": [
      "train:  28%|██▊       | 405/1451 [09:47<24:09,  1.39s/it]"
     ]
    },
    {
     "name": "stdout",
     "output_type": "stream",
     "text": [
      "Training metrics: 0.7539016386427237| Distance: 0.800587093211124| Speed: 0.7166666666666667 | Activity: 0.5854938271604938\n"
     ]
    },
    {
     "name": "stderr",
     "output_type": "stream",
     "text": [
      "train:  28%|██▊       | 406/1451 [09:48<24:02,  1.38s/it]"
     ]
    },
    {
     "name": "stdout",
     "output_type": "stream",
     "text": [
      "Training metrics: 0.7542176821375901| Distance: 0.8006973684230768| Speed: 0.7173645320197044 | Activity: 0.5858990147783252\n"
     ]
    },
    {
     "name": "stderr",
     "output_type": "stream",
     "text": [
      "train:  28%|██▊       | 407/1451 [09:49<24:05,  1.39s/it]"
     ]
    },
    {
     "name": "stdout",
     "output_type": "stream",
     "text": [
      "Training metrics: 0.7542761701187075| Distance: 0.8004316185025141| Speed: 0.7177518427518428 | Activity: 0.586916461916462\n"
     ]
    },
    {
     "name": "stderr",
     "output_type": "stream",
     "text": [
      "train:  28%|██▊       | 408/1451 [09:51<25:40,  1.48s/it]"
     ]
    },
    {
     "name": "stdout",
     "output_type": "stream",
     "text": [
      "Training metrics: 0.7543562906575442| Distance: 0.800459013841005| Speed: 0.7178308823529411 | Activity: 0.5873161764705882\n"
     ]
    },
    {
     "name": "stderr",
     "output_type": "stream",
     "text": [
      "train:  28%|██▊       | 409/1451 [09:53<26:07,  1.50s/it]"
     ]
    },
    {
     "name": "stdout",
     "output_type": "stream",
     "text": [
      "Training metrics: 0.7540139534583006| Distance: 0.8002922044190913| Speed: 0.7169926650366748 | Activity: 0.5874083129584352\n"
     ]
    },
    {
     "name": "stderr",
     "output_type": "stream",
     "text": [
      "train:  28%|██▊       | 410/1451 [09:54<25:22,  1.46s/it]"
     ]
    },
    {
     "name": "stdout",
     "output_type": "stream",
     "text": [
      "Training metrics: 0.7541582083568937| Distance: 0.8003754692127091| Speed: 0.7173780487804878 | Activity: 0.5871951219512195\n"
     ]
    },
    {
     "name": "stderr",
     "output_type": "stream",
     "text": [
      "train:  28%|██▊       | 411/1451 [09:55<24:42,  1.43s/it]"
     ]
    },
    {
     "name": "stdout",
     "output_type": "stream",
     "text": [
      "Training metrics: 0.7540830872554868| Distance: 0.8004993871127536| Speed: 0.7168491484184915 | Activity: 0.587287104622871\n"
     ]
    },
    {
     "name": "stderr",
     "output_type": "stream",
     "text": [
      "train:  28%|██▊       | 412/1451 [09:57<24:21,  1.41s/it]"
     ]
    },
    {
     "name": "stdout",
     "output_type": "stream",
     "text": [
      "Training metrics: 0.7543174935045789| Distance: 0.8007334438668549| Speed: 0.7169296116504854 | Activity: 0.5879854368932039\n"
     ]
    },
    {
     "name": "stderr",
     "output_type": "stream",
     "text": [
      "train:  28%|██▊       | 413/1451 [09:58<24:19,  1.41s/it]"
     ]
    },
    {
     "name": "stdout",
     "output_type": "stream",
     "text": [
      "Training metrics: 0.754377751885289| Distance: 0.8003753491873461| Speed: 0.7176150121065376 | Activity: 0.5886803874092009\n"
     ]
    },
    {
     "name": "stderr",
     "output_type": "stream",
     "text": [
      "train:  29%|██▊       | 414/1451 [10:00<25:09,  1.46s/it]"
     ]
    },
    {
     "name": "stdout",
     "output_type": "stream",
     "text": [
      "Training metrics: 0.754401789147728| Distance: 0.800512643748629| Speed: 0.717391304347826 | Activity: 0.5887681159420289\n"
     ]
    },
    {
     "name": "stderr",
     "output_type": "stream",
     "text": [
      "train:  29%|██▊       | 415/1451 [10:02<31:34,  1.83s/it]"
     ]
    },
    {
     "name": "stdout",
     "output_type": "stream",
     "text": [
      "Training metrics: 0.7547814603786108| Distance: 0.8006899841651548| Speed: 0.7180722891566265 | Activity: 0.5894578313253012\n"
     ]
    },
    {
     "name": "stderr",
     "output_type": "stream",
     "text": [
      "train:  29%|██▊       | 416/1451 [10:04<29:30,  1.71s/it]"
     ]
    },
    {
     "name": "stdout",
     "output_type": "stream",
     "text": [
      "Training metrics: 0.7549632023465069| Distance: 0.8005396321159731| Speed: 0.71875 | Activity: 0.5901442307692307\n"
     ]
    },
    {
     "name": "stderr",
     "output_type": "stream",
     "text": [
      "train:  29%|██▊       | 417/1451 [10:06<28:59,  1.68s/it]"
     ]
    },
    {
     "name": "stdout",
     "output_type": "stream",
     "text": [
      "Training metrics: 0.755189826201705| Distance: 0.8005661771627138| Speed: 0.7191247002398081 | Activity: 0.5911270983213429\n"
     ]
    },
    {
     "name": "stderr",
     "output_type": "stream",
     "text": [
      "train:  29%|██▉       | 418/1451 [10:07<26:55,  1.56s/it]"
     ]
    },
    {
     "name": "stdout",
     "output_type": "stream",
     "text": [
      "Training metrics: 0.7555079061970348| Distance: 0.8007966698180246| Speed: 0.7194976076555024 | Activity: 0.5918062200956937\n"
     ]
    },
    {
     "name": "stderr",
     "output_type": "stream",
     "text": [
      "train:  29%|██▉       | 419/1451 [10:08<25:51,  1.50s/it]"
     ]
    },
    {
     "name": "stdout",
     "output_type": "stream",
     "text": [
      "Training metrics: 0.7558003032954963| Distance: 0.8009857879109505| Speed: 0.7198687350835322 | Activity: 0.5924821002386634\n"
     ]
    },
    {
     "name": "stderr",
     "output_type": "stream",
     "text": [
      "train:  29%|██▉       | 420/1451 [10:10<25:20,  1.48s/it]"
     ]
    },
    {
     "name": "stdout",
     "output_type": "stream",
     "text": [
      "Training metrics: 0.7558419298011705| Distance: 0.8011055972876651| Speed: 0.7196428571428571 | Activity: 0.5928571428571429\n"
     ]
    },
    {
     "name": "stderr",
     "output_type": "stream",
     "text": [
      "train:  29%|██▉       | 421/1451 [10:11<25:21,  1.48s/it]"
     ]
    },
    {
     "name": "stdout",
     "output_type": "stream",
     "text": [
      "Training metrics: 0.7560614792269319| Distance: 0.8012247931691937| Speed: 0.7200118764845606 | Activity: 0.5932304038004751\n"
     ]
    },
    {
     "name": "stderr",
     "output_type": "stream",
     "text": [
      "train:  29%|██▉       | 422/1451 [10:12<24:58,  1.46s/it]"
     ]
    },
    {
     "name": "stdout",
     "output_type": "stream",
     "text": [
      "Training metrics: 0.7561191470881364| Distance: 0.8010753557314122| Speed: 0.7203791469194313 | Activity: 0.5936018957345972\n"
     ]
    },
    {
     "name": "stderr",
     "output_type": "stream",
     "text": [
      "train:  29%|██▉       | 423/1451 [10:14<24:31,  1.43s/it]"
     ]
    },
    {
     "name": "stdout",
     "output_type": "stream",
     "text": [
      "Training metrics: 0.7564720240903474| Distance: 0.8013698431450628| Speed: 0.7207446808510638 | Activity: 0.5942671394799054\n"
     ]
    },
    {
     "name": "stderr",
     "output_type": "stream",
     "text": [
      "train:  29%|██▉       | 424/1451 [10:15<24:08,  1.41s/it]"
     ]
    },
    {
     "name": "stdout",
     "output_type": "stream",
     "text": [
      "Training metrics: 0.7566212091636962| Distance: 0.8013262291093052| Speed: 0.7211084905660378 | Activity: 0.5949292452830188\n"
     ]
    },
    {
     "name": "stderr",
     "output_type": "stream",
     "text": [
      "train:  29%|██▉       | 425/1451 [10:17<23:59,  1.40s/it]"
     ]
    },
    {
     "name": "stdout",
     "output_type": "stream",
     "text": [
      "Training metrics: 0.7566281953156905| Distance: 0.801537188271249| Speed: 0.7208823529411764 | Activity: 0.5944117647058823\n"
     ]
    },
    {
     "name": "stderr",
     "output_type": "stream",
     "text": [
      "train:  29%|██▉       | 426/1451 [10:18<25:43,  1.51s/it]"
     ]
    },
    {
     "name": "stdout",
     "output_type": "stream",
     "text": [
      "Training metrics: 0.7569844868982258| Distance: 0.8018403420134752| Speed: 0.721244131455399 | Activity: 0.5950704225352113\n"
     ]
    },
    {
     "name": "stderr",
     "output_type": "stream",
     "text": [
      "train:  29%|██▉       | 427/1451 [10:20<25:28,  1.49s/it]"
     ]
    },
    {
     "name": "stdout",
     "output_type": "stream",
     "text": [
      "Training metrics: 0.757083973696975| Distance: 0.801716849213928| Speed: 0.7216042154566745 | Activity: 0.5957259953161592\n"
     ]
    },
    {
     "name": "stderr",
     "output_type": "stream",
     "text": [
      "train:  29%|██▉       | 428/1451 [10:21<24:29,  1.44s/it]"
     ]
    },
    {
     "name": "stdout",
     "output_type": "stream",
     "text": [
      "Training metrics: 0.7572205118202354| Distance: 0.8017538125352834| Speed: 0.7219626168224299 | Activity: 0.5957943925233645\n"
     ]
    },
    {
     "name": "stderr",
     "output_type": "stream",
     "text": [
      "train:  30%|██▉       | 429/1451 [10:22<23:50,  1.40s/it]"
     ]
    },
    {
     "name": "stdout",
     "output_type": "stream",
     "text": [
      "Training metrics: 0.7574146884604037| Distance: 0.8017906035334623| Speed: 0.7223193473193473 | Activity: 0.5964452214452215\n"
     ]
    },
    {
     "name": "stderr",
     "output_type": "stream",
     "text": [
      "train:  30%|██▉       | 430/1451 [10:24<24:46,  1.46s/it]"
     ]
    },
    {
     "name": "stdout",
     "output_type": "stream",
     "text": [
      "Training metrics: 0.7577477874738668| Distance: 0.8020118163324138| Speed: 0.7226744186046512 | Activity: 0.5973837209302325\n"
     ]
    },
    {
     "name": "stderr",
     "output_type": "stream",
     "text": [
      "train:  30%|██▉       | 431/1451 [10:25<24:02,  1.41s/it]"
     ]
    },
    {
     "name": "stdout",
     "output_type": "stream",
     "text": [
      "Training metrics: 0.7579468259792012| Distance: 0.8020594818137496| Speed: 0.7233178654292344 | Activity: 0.5971577726218097\n"
     ]
    },
    {
     "name": "stderr",
     "output_type": "stream",
     "text": [
      "train:  30%|██▉       | 432/1451 [10:27<24:21,  1.43s/it]"
     ]
    },
    {
     "name": "stdout",
     "output_type": "stream",
     "text": [
      "Training metrics: 0.7580030029967456| Distance: 0.8021597117846995| Speed: 0.7233796296296297 | Activity: 0.5969328703703703\n"
     ]
    },
    {
     "name": "stderr",
     "output_type": "stream",
     "text": [
      "train:  30%|██▉       | 433/1451 [10:28<24:13,  1.43s/it]"
     ]
    },
    {
     "name": "stdout",
     "output_type": "stream",
     "text": [
      "Training metrics: 0.7579681168851025| Distance: 0.8020119115136618| Speed: 0.7234411085450346 | Activity: 0.5972863741339491\n"
     ]
    },
    {
     "name": "stderr",
     "output_type": "stream",
     "text": [
      "train:  30%|██▉       | 434/1451 [10:30<23:38,  1.40s/it]"
     ]
    },
    {
     "name": "stdout",
     "output_type": "stream",
     "text": [
      "Training metrics: 0.7581076681901434| Distance: 0.802203256507382| Speed: 0.7235023041474654 | Activity: 0.5973502304147466\n"
     ]
    },
    {
     "name": "stderr",
     "output_type": "stream",
     "text": [
      "train:  30%|██▉       | 435/1451 [10:31<23:43,  1.40s/it]"
     ]
    },
    {
     "name": "stdout",
     "output_type": "stream",
     "text": [
      "Training metrics: 0.7583355018208752| Distance: 0.8023024647206156| Speed: 0.7241379310344828 | Activity: 0.5971264367816091\n"
     ]
    },
    {
     "name": "stderr",
     "output_type": "stream",
     "text": [
      "train:  30%|███       | 436/1451 [10:33<24:54,  1.47s/it]"
     ]
    },
    {
     "name": "stdout",
     "output_type": "stream",
     "text": [
      "Training metrics: 0.7582578179863413| Distance: 0.8021804611698959| Speed: 0.724197247706422 | Activity: 0.5969036697247706\n"
     ]
    },
    {
     "name": "stderr",
     "output_type": "stream",
     "text": [
      "train:  30%|███       | 437/1451 [10:34<24:40,  1.46s/it]"
     ]
    },
    {
     "name": "stdout",
     "output_type": "stream",
     "text": [
      "Training metrics: 0.7586014120172095| Distance: 0.8024745120195292| Speed: 0.7245423340961098 | Activity: 0.5975400457665904\n"
     ]
    },
    {
     "name": "stderr",
     "output_type": "stream",
     "text": [
      "train:  30%|███       | 438/1451 [10:35<23:57,  1.42s/it]"
     ]
    },
    {
     "name": "stdout",
     "output_type": "stream",
     "text": [
      "Training metrics: 0.7588632431214594| Distance: 0.8027286928736651| Speed: 0.7246004566210046 | Activity: 0.598458904109589\n"
     ]
    },
    {
     "name": "stderr",
     "output_type": "stream",
     "text": [
      "train:  30%|███       | 439/1451 [10:37<23:40,  1.40s/it]"
     ]
    },
    {
     "name": "stdout",
     "output_type": "stream",
     "text": [
      "Training metrics: 0.7585367261449922| Distance: 0.8024776870829596| Speed: 0.7240888382687927 | Activity: 0.5982346241457859\n"
     ]
    },
    {
     "name": "stderr",
     "output_type": "stream",
     "text": [
      "train:  30%|███       | 440/1451 [10:38<23:56,  1.42s/it]"
     ]
    },
    {
     "name": "stdout",
     "output_type": "stream",
     "text": [
      "Training metrics: 0.7583821478820544| Distance: 0.8022278222276669| Speed: 0.7241477272727272 | Activity: 0.5980113636363636\n"
     ]
    },
    {
     "name": "stderr",
     "output_type": "stream",
     "text": [
      "train:  30%|███       | 441/1451 [10:39<23:10,  1.38s/it]"
     ]
    },
    {
     "name": "stdout",
     "output_type": "stream",
     "text": [
      "Training metrics: 0.758125663063406| Distance: 0.8021860068441501| Speed: 0.7236394557823129 | Activity: 0.5972222222222222\n"
     ]
    },
    {
     "name": "stderr",
     "output_type": "stream",
     "text": [
      "train:  30%|███       | 442/1451 [10:41<24:47,  1.47s/it]"
     ]
    },
    {
     "name": "stdout",
     "output_type": "stream",
     "text": [
      "Training metrics: 0.758601698629491| Distance: 0.8025148974141593| Speed: 0.7242647058823529 | Activity: 0.5981334841628959\n"
     ]
    },
    {
     "name": "stderr",
     "output_type": "stream",
     "text": [
      "train:  31%|███       | 443/1451 [10:43<24:46,  1.47s/it]"
     ]
    },
    {
     "name": "stdout",
     "output_type": "stream",
     "text": [
      "Training metrics: 0.7589452239952903| Distance: 0.8027661182464773| Speed: 0.7248871331828443 | Activity: 0.5981941309255079\n"
     ]
    },
    {
     "name": "stderr",
     "output_type": "stream",
     "text": [
      "train:  31%|███       | 444/1451 [10:44<24:50,  1.48s/it]"
     ]
    },
    {
     "name": "stdout",
     "output_type": "stream",
     "text": [
      "Training metrics: 0.7590592895353038| Distance: 0.8025425095858669| Speed: 0.7255067567567568 | Activity: 0.5988175675675675\n"
     ]
    },
    {
     "name": "stderr",
     "output_type": "stream",
     "text": [
      "train:  31%|███       | 445/1451 [10:45<24:13,  1.44s/it]"
     ]
    },
    {
     "name": "stdout",
     "output_type": "stream",
     "text": [
      "Training metrics: 0.7594256514099689| Distance: 0.8027412542226074| Speed: 0.726123595505618 | Activity: 0.599438202247191\n"
     ]
    },
    {
     "name": "stderr",
     "output_type": "stream",
     "text": [
      "train:  31%|███       | 446/1451 [10:47<24:16,  1.45s/it]"
     ]
    },
    {
     "name": "stdout",
     "output_type": "stream",
     "text": [
      "Training metrics: 0.7593192381780274| Distance: 0.8024808678153971| Speed: 0.7261771300448431 | Activity: 0.5997757847533632\n"
     ]
    },
    {
     "name": "stderr",
     "output_type": "stream",
     "text": [
      "train:  31%|███       | 447/1451 [10:48<24:03,  1.44s/it]"
     ]
    },
    {
     "name": "stdout",
     "output_type": "stream",
     "text": [
      "Training metrics: 0.7591467711914778| Distance: 0.802437012388481| Speed: 0.7256711409395973 | Activity: 0.5998322147651006\n"
     ]
    },
    {
     "name": "stderr",
     "output_type": "stream",
     "text": [
      "train:  31%|███       | 448/1451 [10:50<24:19,  1.46s/it]"
     ]
    },
    {
     "name": "stdout",
     "output_type": "stream",
     "text": [
      "Training metrics: 0.7593736137514225| Distance: 0.8024065437523709| Speed: 0.7262834821428571 | Activity: 0.6004464285714286\n"
     ]
    },
    {
     "name": "stderr",
     "output_type": "stream",
     "text": [
      "train:  31%|███       | 449/1451 [10:51<23:48,  1.43s/it]"
     ]
    },
    {
     "name": "stdout",
     "output_type": "stream",
     "text": [
      "Training metrics: 0.7597213836327165| Distance: 0.8025794404272074| Speed: 0.7268930957683741 | Activity: 0.6010579064587973\n"
     ]
    },
    {
     "name": "stderr",
     "output_type": "stream",
     "text": [
      "train:  31%|███       | 450/1451 [10:53<23:13,  1.39s/it]"
     ]
    },
    {
     "name": "stdout",
     "output_type": "stream",
     "text": [
      "Training metrics: 0.7598070770817074| Distance: 0.8026877210621048| Speed: 0.7269444444444444 | Activity: 0.6011111111111112\n"
     ]
    },
    {
     "name": "stderr",
     "output_type": "stream",
     "text": [
      "train:  31%|███       | 451/1451 [10:54<22:50,  1.37s/it]"
     ]
    },
    {
     "name": "stdout",
     "output_type": "stream",
     "text": [
      "Training metrics: 0.7601193613104609| Distance: 0.8030352252439686| Speed: 0.7272727272727273 | Activity: 0.6011640798226164\n"
     ]
    },
    {
     "name": "stderr",
     "output_type": "stream",
     "text": [
      "train:  31%|███       | 452/1451 [10:55<22:30,  1.35s/it]"
     ]
    },
    {
     "name": "stdout",
     "output_type": "stream",
     "text": [
      "Training metrics: 0.7603315604740946| Distance: 0.8033549606721638| Speed: 0.7273230088495575 | Activity: 0.6012168141592921\n"
     ]
    },
    {
     "name": "stderr",
     "output_type": "stream",
     "text": [
      "train:  31%|███       | 453/1451 [10:56<22:20,  1.34s/it]"
     ]
    },
    {
     "name": "stdout",
     "output_type": "stream",
     "text": [
      "Training metrics: 0.7603601270912528| Distance: 0.8031848328636408| Speed: 0.7276490066225165 | Activity: 0.6015452538631346\n"
     ]
    },
    {
     "name": "stderr",
     "output_type": "stream",
     "text": [
      "train:  31%|███▏      | 454/1451 [10:58<22:37,  1.36s/it]"
     ]
    },
    {
     "name": "stdout",
     "output_type": "stream",
     "text": [
      "Training metrics: 0.7601237001383038| Distance: 0.8029411155021658| Speed: 0.7274229074889867 | Activity: 0.6013215859030837\n"
     ]
    },
    {
     "name": "stderr",
     "output_type": "stream",
     "text": [
      "train:  31%|███▏      | 455/1451 [10:59<23:41,  1.43s/it]"
     ]
    },
    {
     "name": "stdout",
     "output_type": "stream",
     "text": [
      "Training metrics: 0.7601905102269063| Distance: 0.8031105573378843| Speed: 0.7271978021978022 | Activity: 0.6016483516483516\n"
     ]
    },
    {
     "name": "stderr",
     "output_type": "stream",
     "text": [
      "train:  31%|███▏      | 456/1451 [11:01<23:30,  1.42s/it]"
     ]
    },
    {
     "name": "stdout",
     "output_type": "stream",
     "text": [
      "Training metrics: 0.7603562841862301| Distance: 0.8032162484975183| Speed: 0.7275219298245614 | Activity: 0.6016995614035088\n"
     ]
    },
    {
     "name": "stderr",
     "output_type": "stream",
     "text": [
      "train:  31%|███▏      | 457/1451 [11:03<24:33,  1.48s/it]"
     ]
    },
    {
     "name": "stdout",
     "output_type": "stream",
     "text": [
      "Training metrics: 0.7603598051179105| Distance: 0.8028243287340813| Speed: 0.7281181619256017 | Activity: 0.6022975929978118\n"
     ]
    },
    {
     "name": "stderr",
     "output_type": "stream",
     "text": [
      "train:  32%|███▏      | 458/1451 [11:04<24:06,  1.46s/it]"
     ]
    },
    {
     "name": "stdout",
     "output_type": "stream",
     "text": [
      "Training metrics: 0.7606414220852664| Distance: 0.80294312705623| Speed: 0.7287117903930131 | Activity: 0.6026200873362445\n"
     ]
    },
    {
     "name": "stderr",
     "output_type": "stream",
     "text": [
      "train:  32%|███▏      | 459/1451 [11:05<23:53,  1.44s/it]"
     ]
    },
    {
     "name": "stdout",
     "output_type": "stream",
     "text": [
      "Training metrics: 0.7608128551058541| Distance: 0.8031975326564527| Speed: 0.7287581699346405 | Activity: 0.6026688453159041\n"
     ]
    },
    {
     "name": "stderr",
     "output_type": "stream",
     "text": [
      "train:  32%|███▏      | 460/1451 [11:07<23:50,  1.44s/it]"
     ]
    },
    {
     "name": "stdout",
     "output_type": "stream",
     "text": [
      "Training metrics: 0.7610742040801303| Distance: 0.8033754850610871| Speed: 0.7290760869565217 | Activity: 0.6032608695652174\n"
     ]
    },
    {
     "name": "stderr",
     "output_type": "stream",
     "text": [
      "train:  32%|███▏      | 461/1451 [11:08<23:18,  1.41s/it]"
     ]
    },
    {
     "name": "stdout",
     "output_type": "stream",
     "text": [
      "Training metrics: 0.7613395711200341| Distance: 0.8036516351639039| Speed: 0.7293926247288504 | Activity: 0.6033080260303688\n"
     ]
    },
    {
     "name": "stderr",
     "output_type": "stream",
     "text": [
      "train:  32%|███▏      | 462/1451 [11:09<23:13,  1.41s/it]"
     ]
    },
    {
     "name": "stdout",
     "output_type": "stream",
     "text": [
      "Training metrics: 0.7611811462133881| Distance: 0.8033123721161088| Speed: 0.7294372294372294 | Activity: 0.6036255411255411\n"
     ]
    },
    {
     "name": "stderr",
     "output_type": "stream",
     "text": [
      "train:  32%|███▏      | 463/1451 [11:11<23:50,  1.45s/it]"
     ]
    },
    {
     "name": "stdout",
     "output_type": "stream",
     "text": [
      "Training metrics: 0.7612522003920648| Distance: 0.8030859207398346| Speed: 0.7300215982721382 | Activity: 0.6039416846652268\n"
     ]
    },
    {
     "name": "stderr",
     "output_type": "stream",
     "text": [
      "train:  32%|███▏      | 464/1451 [11:12<23:43,  1.44s/it]"
     ]
    },
    {
     "name": "stdout",
     "output_type": "stream",
     "text": [
      "Training metrics: 0.7611780369777865| Distance: 0.8030679208250467| Speed: 0.7297952586206896 | Activity: 0.6039870689655172\n"
     ]
    },
    {
     "name": "stderr",
     "output_type": "stream",
     "text": [
      "train:  32%|███▏      | 465/1451 [11:14<23:44,  1.44s/it]"
     ]
    },
    {
     "name": "stdout",
     "output_type": "stream",
     "text": [
      "Training metrics: 0.7615484248756318| Distance: 0.8033423568715727| Speed: 0.7303763440860215 | Activity: 0.6043010752688172\n"
     ]
    },
    {
     "name": "stderr",
     "output_type": "stream",
     "text": [
      "train:  32%|███▏      | 466/1451 [11:15<23:17,  1.42s/it]"
     ]
    },
    {
     "name": "stdout",
     "output_type": "stream",
     "text": [
      "Training metrics: 0.7616758068168337| Distance: 0.8034814949093154| Speed: 0.7304184549356223 | Activity: 0.6046137339055794\n"
     ]
    },
    {
     "name": "stderr",
     "output_type": "stream",
     "text": [
      "train:  32%|███▏      | 467/1451 [11:17<23:02,  1.40s/it]"
     ]
    },
    {
     "name": "stdout",
     "output_type": "stream",
     "text": [
      "Training metrics: 0.7618127906657262| Distance: 0.8038153934364531| Speed: 0.7301927194860813 | Activity: 0.6046573875802997\n"
     ]
    },
    {
     "name": "stderr",
     "output_type": "stream",
     "text": [
      "train:  32%|███▏      | 468/1451 [11:18<23:00,  1.40s/it]"
     ]
    },
    {
     "name": "stdout",
     "output_type": "stream",
     "text": [
      "Training metrics: 0.7620636509471451| Distance: 0.8040270250828486| Speed: 0.7305021367521367 | Activity: 0.6049679487179487\n"
     ]
    },
    {
     "name": "stderr",
     "output_type": "stream",
     "text": [
      "train:  32%|███▏      | 469/1451 [11:20<23:55,  1.46s/it]"
     ]
    },
    {
     "name": "stdout",
     "output_type": "stream",
     "text": [
      "Training metrics: 0.7623058573670478| Distance: 0.8042251140907796| Speed: 0.7308102345415778 | Activity: 0.6052771855010661\n"
     ]
    },
    {
     "name": "stderr",
     "output_type": "stream",
     "text": [
      "train:  32%|███▏      | 470/1451 [11:21<23:37,  1.45s/it]"
     ]
    },
    {
     "name": "stdout",
     "output_type": "stream",
     "text": [
      "Training metrics: 0.7625876034049696| Distance: 0.8044456510650202| Speed: 0.7311170212765957 | Activity: 0.6058510638297873\n"
     ]
    },
    {
     "name": "stderr",
     "output_type": "stream",
     "text": [
      "train:  32%|███▏      | 471/1451 [11:22<22:51,  1.40s/it]"
     ]
    },
    {
     "name": "stdout",
     "output_type": "stream",
     "text": [
      "Training metrics: 0.7626141720104403| Distance: 0.8046400389841382| Speed: 0.7308917197452229 | Activity: 0.6056263269639066\n"
     ]
    },
    {
     "name": "stderr",
     "output_type": "stream",
     "text": [
      "train:  33%|███▎      | 472/1451 [11:24<22:46,  1.40s/it]"
     ]
    },
    {
     "name": "stdout",
     "output_type": "stream",
     "text": [
      "Training metrics: 0.7629445093224373| Distance: 0.8049428262718589| Speed: 0.731197033898305 | Activity: 0.606197033898305\n"
     ]
    },
    {
     "name": "stderr",
     "output_type": "stream",
     "text": [
      "train:  33%|███▎      | 473/1451 [11:25<23:28,  1.44s/it]"
     ]
    },
    {
     "name": "stdout",
     "output_type": "stream",
     "text": [
      "Training metrics: 0.7631852802932885| Distance: 0.8050533388961432| Speed: 0.7315010570824524 | Activity: 0.6070295983086681\n"
     ]
    },
    {
     "name": "stderr",
     "output_type": "stream",
     "text": [
      "train:  33%|███▎      | 474/1451 [11:27<22:58,  1.41s/it]"
     ]
    },
    {
     "name": "stdout",
     "output_type": "stream",
     "text": [
      "Training metrics: 0.7634125442789055| Distance: 0.8051865189458552| Speed: 0.7318037974683544 | Activity: 0.6075949367088608\n"
     ]
    },
    {
     "name": "stderr",
     "output_type": "stream",
     "text": [
      "train:  33%|███▎      | 475/1451 [11:28<23:42,  1.46s/it]"
     ]
    },
    {
     "name": "stdout",
     "output_type": "stream",
     "text": [
      "Training metrics: 0.7636100473334557| Distance: 0.8052711315206721| Speed: 0.7321052631578947 | Activity: 0.6081578947368421\n"
     ]
    },
    {
     "name": "stderr",
     "output_type": "stream",
     "text": [
      "train:  33%|███▎      | 476/1451 [11:30<23:10,  1.43s/it]"
     ]
    },
    {
     "name": "stdout",
     "output_type": "stream",
     "text": [
      "Training metrics: 0.7639529681923496| Distance: 0.805511599648314| Speed: 0.7326680672268907 | Activity: 0.6084558823529411\n"
     ]
    },
    {
     "name": "stderr",
     "output_type": "stream",
     "text": [
      "train:  33%|███▎      | 477/1451 [11:31<23:23,  1.44s/it]"
     ]
    },
    {
     "name": "stdout",
     "output_type": "stream",
     "text": [
      "Training metrics: 0.7641396963312596| Distance: 0.8057988649546152| Speed: 0.7327044025157232 | Activity: 0.6084905660377359\n"
     ]
    },
    {
     "name": "stderr",
     "output_type": "stream",
     "text": [
      "train:  33%|███▎      | 478/1451 [11:33<23:38,  1.46s/it]"
     ]
    },
    {
     "name": "stdout",
     "output_type": "stream",
     "text": [
      "Training metrics: 0.7643630618399301| Distance: 0.8059293708489772| Speed: 0.7330020920502092 | Activity: 0.6090481171548117\n"
     ]
    },
    {
     "name": "stderr",
     "output_type": "stream",
     "text": [
      "train:  33%|███▎      | 479/1451 [11:34<23:48,  1.47s/it]"
     ]
    },
    {
     "name": "stdout",
     "output_type": "stream",
     "text": [
      "Training metrics: 0.764478619743309| Distance: 0.8058812068790713| Speed: 0.7332985386221295 | Activity: 0.6096033402922756\n"
     ]
    },
    {
     "name": "stderr",
     "output_type": "stream",
     "text": [
      "train:  33%|███▎      | 480/1451 [11:36<24:31,  1.52s/it]"
     ]
    },
    {
     "name": "stdout",
     "output_type": "stream",
     "text": [
      "Training metrics: 0.7648069774600131| Distance: 0.806058504100022| Speed: 0.7338541666666667 | Activity: 0.61015625\n"
     ]
    },
    {
     "name": "stderr",
     "output_type": "stream",
     "text": [
      "train:  33%|███▎      | 481/1451 [11:37<23:53,  1.48s/it]"
     ]
    },
    {
     "name": "stdout",
     "output_type": "stream",
     "text": [
      "Training metrics: 0.7649990945496148| Distance: 0.806270147187681| Speed: 0.7338877338877339 | Activity: 0.6107068607068608\n"
     ]
    },
    {
     "name": "stderr",
     "output_type": "stream",
     "text": [
      "train:  33%|███▎      | 482/1451 [11:38<23:36,  1.46s/it]"
     ]
    },
    {
     "name": "stdout",
     "output_type": "stream",
     "text": [
      "Training metrics: 0.7650730766395148| Distance: 0.8064582397657198| Speed: 0.733661825726141 | Activity: 0.6109958506224067\n"
     ]
    },
    {
     "name": "stderr",
     "output_type": "stream",
     "text": [
      "train:  33%|███▎      | 483/1451 [11:40<23:45,  1.47s/it]"
     ]
    },
    {
     "name": "stdout",
     "output_type": "stream",
     "text": [
      "Training metrics: 0.7654376656210106| Distance: 0.8066559437368811| Speed: 0.7342132505175983 | Activity: 0.6118012422360248\n"
     ]
    },
    {
     "name": "stderr",
     "output_type": "stream",
     "text": [
      "train:  33%|███▎      | 484/1451 [11:42<24:22,  1.51s/it]"
     ]
    },
    {
     "name": "stdout",
     "output_type": "stream",
     "text": [
      "Training metrics: 0.7656284166119305| Distance: 0.8068669202485342| Speed: 0.734245867768595 | Activity: 0.612345041322314\n"
     ]
    },
    {
     "name": "stderr",
     "output_type": "stream",
     "text": [
      "train:  33%|███▎      | 485/1451 [11:43<24:16,  1.51s/it]"
     ]
    },
    {
     "name": "stdout",
     "output_type": "stream",
     "text": [
      "Training metrics: 0.765561983607526| Distance: 0.8068644743974231| Speed: 0.734020618556701 | Activity: 0.6123711340206186\n"
     ]
    },
    {
     "name": "stderr",
     "output_type": "stream",
     "text": [
      "train:  33%|███▎      | 486/1451 [11:44<23:57,  1.49s/it]"
     ]
    },
    {
     "name": "stdout",
     "output_type": "stream",
     "text": [
      "Training metrics: 0.7656953896426036| Distance: 0.806980313327522| Speed: 0.7343106995884774 | Activity: 0.6121399176954733\n"
     ]
    },
    {
     "name": "stderr",
     "output_type": "stream",
     "text": [
      "train:  34%|███▎      | 487/1451 [11:46<23:06,  1.44s/it]"
     ]
    },
    {
     "name": "stdout",
     "output_type": "stream",
     "text": [
      "Training metrics: 0.7659541576358833| Distance: 0.8070488527333168| Speed: 0.7348562628336756 | Activity: 0.6126796714579056\n"
     ]
    },
    {
     "name": "stderr",
     "output_type": "stream",
     "text": [
      "train:  34%|███▎      | 488/1451 [11:47<23:44,  1.48s/it]"
     ]
    },
    {
     "name": "stdout",
     "output_type": "stream",
     "text": [
      "Training metrics: 0.7662412052294018| Distance: 0.8073367764752325| Speed: 0.7351434426229508 | Activity: 0.6129610655737705\n"
     ]
    },
    {
     "name": "stderr",
     "output_type": "stream",
     "text": [
      "train:  34%|███▎      | 489/1451 [11:49<23:16,  1.45s/it]"
     ]
    },
    {
     "name": "stdout",
     "output_type": "stream",
     "text": [
      "Training metrics: 0.7663115652682978| Distance: 0.8071365215275994| Speed: 0.7356850715746421 | Activity: 0.6132413087934561\n"
     ]
    },
    {
     "name": "stderr",
     "output_type": "stream",
     "text": [
      "train:  34%|███▍      | 490/1451 [11:50<23:26,  1.46s/it]"
     ]
    },
    {
     "name": "stdout",
     "output_type": "stream",
     "text": [
      "Training metrics: 0.7665905667482654| Distance: 0.8072852983219391| Speed: 0.7362244897959184 | Activity: 0.6135204081632653\n"
     ]
    },
    {
     "name": "stderr",
     "output_type": "stream",
     "text": [
      "train:  34%|███▍      | 491/1451 [11:52<23:08,  1.45s/it]"
     ]
    },
    {
     "name": "stdout",
     "output_type": "stream",
     "text": [
      "Training metrics: 0.7668842157733132| Distance: 0.8075022061938113| Speed: 0.7367617107942973 | Activity: 0.6135437881873728\n"
     ]
    },
    {
     "name": "stderr",
     "output_type": "stream",
     "text": [
      "train:  34%|███▍      | 492/1451 [11:53<23:01,  1.44s/it]"
     ]
    },
    {
     "name": "stdout",
     "output_type": "stream",
     "text": [
      "Training metrics: 0.767017002524909| Distance: 0.8077061830699703| Speed: 0.7367886178861789 | Activity: 0.6135670731707317\n"
     ]
    },
    {
     "name": "stderr",
     "output_type": "stream",
     "text": [
      "train:  34%|███▍      | 493/1451 [11:55<23:01,  1.44s/it]"
     ]
    },
    {
     "name": "stdout",
     "output_type": "stream",
     "text": [
      "Training metrics: 0.7667809584310441| Distance: 0.8072532539097526| Speed: 0.736815415821501 | Activity: 0.6138438133874239\n"
     ]
    },
    {
     "name": "stderr",
     "output_type": "stream",
     "text": [
      "train:  34%|███▍      | 494/1451 [11:56<23:02,  1.45s/it]"
     ]
    },
    {
     "name": "stdout",
     "output_type": "stream",
     "text": [
      "Training metrics: 0.7669797347151608| Distance: 0.8075252663606255| Speed: 0.7368421052631579 | Activity: 0.6141194331983806\n"
     ]
    },
    {
     "name": "stderr",
     "output_type": "stream",
     "text": [
      "train:  34%|███▍      | 495/1451 [11:57<22:57,  1.44s/it]"
     ]
    },
    {
     "name": "stdout",
     "output_type": "stream",
     "text": [
      "Training metrics: 0.7671572533702562| Distance: 0.8077620889504271| Speed: 0.7368686868686869 | Activity: 0.6143939393939394\n"
     ]
    },
    {
     "name": "stderr",
     "output_type": "stream",
     "text": [
      "train:  34%|███▍      | 496/1451 [11:59<22:40,  1.43s/it]"
     ]
    },
    {
     "name": "stdout",
     "output_type": "stream",
     "text": [
      "Training metrics: 0.7672200077700715| Distance: 0.8075978624124849| Speed: 0.7373991935483871 | Activity: 0.6144153225806451\n"
     ]
    },
    {
     "name": "stderr",
     "output_type": "stream",
     "text": [
      "train:  34%|███▍      | 497/1451 [12:00<22:15,  1.40s/it]"
     ]
    },
    {
     "name": "stdout",
     "output_type": "stream",
     "text": [
      "Training metrics: 0.7673531836286343| Distance: 0.8077197594347125| Speed: 0.7374245472837022 | Activity: 0.6149396378269618\n"
     ]
    },
    {
     "name": "stderr",
     "output_type": "stream",
     "text": [
      "train:  34%|███▍      | 498/1451 [12:02<22:09,  1.40s/it]"
     ]
    },
    {
     "name": "stdout",
     "output_type": "stream",
     "text": [
      "Training metrics: 0.767394938810604| Distance: 0.8078988605344071| Speed: 0.7371987951807228 | Activity: 0.6149598393574297\n"
     ]
    },
    {
     "name": "stderr",
     "output_type": "stream",
     "text": [
      "train:  34%|███▍      | 499/1451 [12:03<21:56,  1.38s/it]"
     ]
    },
    {
     "name": "stdout",
     "output_type": "stream",
     "text": [
      "Training metrics: 0.767577330535384| Distance: 0.8080196657887663| Speed: 0.7374749498997996 | Activity: 0.6152304609218436\n"
     ]
    },
    {
     "name": "stderr",
     "output_type": "stream",
     "text": [
      "train:  34%|███▍      | 500/1451 [12:04<21:57,  1.39s/it]"
     ]
    },
    {
     "name": "stdout",
     "output_type": "stream",
     "text": [
      "Training metrics: 0.7677708342313834| Distance: 0.8082430570523056| Speed: 0.7375 | Activity: 0.61575\n"
     ]
    },
    {
     "name": "stderr",
     "output_type": "stream",
     "text": [
      "train:  35%|███▍      | 501/1451 [12:06<22:11,  1.40s/it]"
     ]
    },
    {
     "name": "stdout",
     "output_type": "stream",
     "text": [
      "Training metrics: 0.7680704655383533| Distance: 0.8083526388380408| Speed: 0.7380239520958084 | Activity: 0.6165169660678643\n"
     ]
    },
    {
     "name": "stderr",
     "output_type": "stream",
     "text": [
      "train:  35%|███▍      | 502/1451 [12:07<22:04,  1.40s/it]"
     ]
    },
    {
     "name": "stdout",
     "output_type": "stream",
     "text": [
      "Training metrics: 0.7683867179546814| Distance: 0.8085744768036192| Speed: 0.7385458167330677 | Activity: 0.6167828685258964\n"
     ]
    },
    {
     "name": "stderr",
     "output_type": "stream",
     "text": [
      "train:  35%|███▍      | 503/1451 [12:09<23:07,  1.46s/it]"
     ]
    },
    {
     "name": "stdout",
     "output_type": "stream",
     "text": [
      "Training metrics: 0.768545536086077| Distance: 0.8089079014290815| Speed: 0.7383200795228628 | Activity: 0.6170477137176938\n"
     ]
    },
    {
     "name": "stderr",
     "output_type": "stream",
     "text": [
      "train:  35%|███▍      | 504/1451 [12:10<22:46,  1.44s/it]"
     ]
    },
    {
     "name": "stdout",
     "output_type": "stream",
     "text": [
      "Training metrics: 0.7686883471066452| Distance: 0.808801015019012| Speed: 0.7388392857142857 | Activity: 0.6175595238095238\n"
     ]
    },
    {
     "name": "stderr",
     "output_type": "stream",
     "text": [
      "train:  35%|███▍      | 505/1451 [12:11<22:07,  1.40s/it]"
     ]
    },
    {
     "name": "stdout",
     "output_type": "stream",
     "text": [
      "Training metrics: 0.7689697013461304| Distance: 0.8091326705603827| Speed: 0.7391089108910891 | Activity: 0.6175742574257426\n"
     ]
    },
    {
     "name": "stderr",
     "output_type": "stream",
     "text": [
      "train:  35%|███▍      | 506/1451 [12:13<23:16,  1.48s/it]"
     ]
    },
    {
     "name": "stdout",
     "output_type": "stream",
     "text": [
      "Training metrics: 0.7691828844979504| Distance: 0.8091042146112085| Speed: 0.7396245059288538 | Activity: 0.6183300395256917\n"
     ]
    },
    {
     "name": "stderr",
     "output_type": "stream",
     "text": [
      "train:  35%|███▍      | 507/1451 [12:14<22:32,  1.43s/it]"
     ]
    },
    {
     "name": "stdout",
     "output_type": "stream",
     "text": [
      "Training metrics: 0.7691439938972918| Distance: 0.8088626065283596| Speed: 0.7398915187376726 | Activity: 0.6185897435897436\n"
     ]
    },
    {
     "name": "stderr",
     "output_type": "stream",
     "text": [
      "train:  35%|███▌      | 508/1451 [12:16<22:50,  1.45s/it]"
     ]
    },
    {
     "name": "stdout",
     "output_type": "stream",
     "text": [
      "Training metrics: 0.7692997581574285| Distance: 0.8090691507348219| Speed: 0.7399114173228346 | Activity: 0.6188484251968503\n"
     ]
    },
    {
     "name": "stderr",
     "output_type": "stream",
     "text": [
      "train:  35%|███▌      | 509/1451 [12:17<22:27,  1.43s/it]"
     ]
    },
    {
     "name": "stdout",
     "output_type": "stream",
     "text": [
      "Training metrics: 0.769535594342123| Distance: 0.8092865668635908| Speed: 0.7401768172888016 | Activity: 0.6191060903732809\n"
     ]
    },
    {
     "name": "stderr",
     "output_type": "stream",
     "text": [
      "train:  35%|███▌      | 510/1451 [12:19<22:37,  1.44s/it]"
     ]
    },
    {
     "name": "stdout",
     "output_type": "stream",
     "text": [
      "Training metrics: 0.7697787272615951| Distance: 0.8095576826908941| Speed: 0.7401960784313726 | Activity: 0.6198529411764706\n"
     ]
    },
    {
     "name": "stderr",
     "output_type": "stream",
     "text": [
      "train:  35%|███▌      | 511/1451 [12:20<22:15,  1.42s/it]"
     ]
    },
    {
     "name": "stdout",
     "output_type": "stream",
     "text": [
      "Training metrics: 0.7698100257171435| Distance: 0.8092724172911296| Speed: 0.7407045009784736 | Activity: 0.6203522504892368\n"
     ]
    },
    {
     "name": "stderr",
     "output_type": "stream",
     "text": [
      "train:  35%|███▌      | 512/1451 [12:22<22:08,  1.41s/it]"
     ]
    },
    {
     "name": "stdout",
     "output_type": "stream",
     "text": [
      "Training metrics: 0.7700586200492607| Distance: 0.8093099396654347| Speed: 0.7412109375 | Activity: 0.62109375\n"
     ]
    },
    {
     "name": "stderr",
     "output_type": "stream",
     "text": [
      "train:  35%|███▌      | 513/1451 [12:23<22:13,  1.42s/it]"
     ]
    },
    {
     "name": "stdout",
     "output_type": "stream",
     "text": [
      "Training metrics: 0.7701646760529934| Distance: 0.8093144211019677| Speed: 0.7414717348927875 | Activity: 0.6213450292397661\n"
     ]
    },
    {
     "name": "stderr",
     "output_type": "stream",
     "text": [
      "train:  35%|███▌      | 514/1451 [12:24<22:11,  1.42s/it]"
     ]
    },
    {
     "name": "stdout",
     "output_type": "stream",
     "text": [
      "Training metrics: 0.7704116131107918| Distance: 0.8095949064168189| Speed: 0.7414883268482491 | Activity: 0.6220817120622568\n"
     ]
    },
    {
     "name": "stderr",
     "output_type": "stream",
     "text": [
      "train:  35%|███▌      | 515/1451 [12:26<22:42,  1.46s/it]"
     ]
    },
    {
     "name": "stdout",
     "output_type": "stream",
     "text": [
      "Training metrics: 0.7700796786192446| Distance: 0.8094774578929159| Speed: 0.7407766990291262 | Activity: 0.6216019417475728\n"
     ]
    },
    {
     "name": "stderr",
     "output_type": "stream",
     "text": [
      "train:  36%|███▌      | 516/1451 [12:27<23:00,  1.48s/it]"
     ]
    },
    {
     "name": "stdout",
     "output_type": "stream",
     "text": [
      "Training metrics: 0.7701516685738397| Distance: 0.8095470316023945| Speed: 0.7407945736434108 | Activity: 0.6218507751937985\n"
     ]
    },
    {
     "name": "stderr",
     "output_type": "stream",
     "text": [
      "train:  36%|███▌      | 517/1451 [12:29<23:39,  1.52s/it]"
     ]
    },
    {
     "name": "stdout",
     "output_type": "stream",
     "text": [
      "Training metrics: 0.7705618496743901| Distance: 0.8098580795669237| Speed: 0.7412959381044487 | Activity: 0.6225822050290135\n"
     ]
    },
    {
     "name": "stderr",
     "output_type": "stream",
     "text": [
      "train:  36%|███▌      | 518/1451 [12:30<22:50,  1.47s/it]"
     ]
    },
    {
     "name": "stdout",
     "output_type": "stream",
     "text": [
      "Training metrics: 0.7708198464988372| Distance: 0.8101582383732226| Speed: 0.7415540540540541 | Activity: 0.6225868725868726\n"
     ]
    },
    {
     "name": "stderr",
     "output_type": "stream",
     "text": [
      "train:  36%|███▌      | 519/1451 [12:32<22:24,  1.44s/it]"
     ]
    },
    {
     "name": "stdout",
     "output_type": "stream",
     "text": [
      "Training metrics: 0.770967854832036| Distance: 0.8103157246558339| Speed: 0.7415703275529865 | Activity: 0.6230732177263969\n"
     ]
    },
    {
     "name": "stderr",
     "output_type": "stream",
     "text": [
      "train:  36%|███▌      | 520/1451 [12:33<22:39,  1.46s/it]"
     ]
    },
    {
     "name": "stdout",
     "output_type": "stream",
     "text": [
      "Training metrics: 0.7710821637925265| Distance: 0.8104173883721596| Speed: 0.7415865384615384 | Activity: 0.6235576923076923\n"
     ]
    },
    {
     "name": "stderr",
     "output_type": "stream",
     "text": [
      "train:  36%|███▌      | 521/1451 [12:35<23:14,  1.50s/it]"
     ]
    },
    {
     "name": "stdout",
     "output_type": "stream",
     "text": [
      "Training metrics: 0.7710040738747965| Distance: 0.8102787027791717| Speed: 0.7416026871401151 | Activity: 0.6235604606525912\n"
     ]
    },
    {
     "name": "stderr",
     "output_type": "stream",
     "text": [
      "train:  36%|███▌      | 522/1451 [12:36<22:47,  1.47s/it]"
     ]
    },
    {
     "name": "stdout",
     "output_type": "stream",
     "text": [
      "Training metrics: 0.7711954614908905| Distance: 0.8105093579126591| Speed: 0.7418582375478927 | Activity: 0.623323754789272\n"
     ]
    },
    {
     "name": "stderr",
     "output_type": "stream",
     "text": [
      "train:  36%|███▌      | 523/1451 [12:38<22:07,  1.43s/it]"
     ]
    },
    {
     "name": "stdout",
     "output_type": "stream",
     "text": [
      "Training metrics: 0.7711493713613882| Distance: 0.8104242231421481| Speed: 0.7418738049713193 | Activity: 0.6233269598470363\n"
     ]
    },
    {
     "name": "stderr",
     "output_type": "stream",
     "text": [
      "train:  36%|███▌      | 524/1451 [12:39<22:21,  1.45s/it]"
     ]
    },
    {
     "name": "stdout",
     "output_type": "stream",
     "text": [
      "Training metrics: 0.7713306862196111| Distance: 0.8105988536230159| Speed: 0.7421278625954199 | Activity: 0.6233301526717557\n"
     ]
    },
    {
     "name": "stderr",
     "output_type": "stream",
     "text": [
      "train:  36%|███▌      | 525/1451 [12:40<21:44,  1.41s/it]"
     ]
    },
    {
     "name": "stdout",
     "output_type": "stream",
     "text": [
      "Training metrics: 0.7715351412071964| Distance: 0.8107728543929466| Speed: 0.7423809523809524 | Activity: 0.6235714285714286\n"
     ]
    },
    {
     "name": "stderr",
     "output_type": "stream",
     "text": [
      "train:  36%|███▋      | 526/1451 [12:42<22:13,  1.44s/it]"
     ]
    },
    {
     "name": "stdout",
     "output_type": "stream",
     "text": [
      "Training metrics: 0.7716810505122752| Distance: 0.8108499130844637| Speed: 0.7426330798479087 | Activity: 0.6238117870722434\n"
     ]
    },
    {
     "name": "stderr",
     "output_type": "stream",
     "text": [
      "train:  36%|███▋      | 527/1451 [12:43<22:14,  1.44s/it]"
     ]
    },
    {
     "name": "stdout",
     "output_type": "stream",
     "text": [
      "Training metrics: 0.7715722234307245| Distance: 0.8107007012902968| Speed: 0.7426470588235294 | Activity: 0.6235768500948766\n"
     ]
    },
    {
     "name": "stderr",
     "output_type": "stream",
     "text": [
      "train:  36%|███▋      | 528/1451 [12:45<21:55,  1.43s/it]"
     ]
    },
    {
     "name": "stdout",
     "output_type": "stream",
     "text": [
      "Training metrics: 0.7715607652243263| Distance: 0.8107136491112508| Speed: 0.7424242424242424 | Activity: 0.6240530303030303\n"
     ]
    },
    {
     "name": "stderr",
     "output_type": "stream",
     "text": [
      "train:  36%|███▋      | 529/1451 [12:46<21:55,  1.43s/it]"
     ]
    },
    {
     "name": "stdout",
     "output_type": "stream",
     "text": [
      "Training metrics: 0.7716652635436883| Distance: 0.8105652943119445| Speed: 0.7429111531190926 | Activity: 0.6245274102079396\n"
     ]
    },
    {
     "name": "stderr",
     "output_type": "stream",
     "text": [
      "train:  37%|███▋      | 530/1451 [12:48<21:52,  1.43s/it]"
     ]
    },
    {
     "name": "stdout",
     "output_type": "stream",
     "text": [
      "Training metrics: 0.7718547659169892| Distance: 0.8105991381635356| Speed: 0.7433962264150943 | Activity: 0.6247641509433962\n"
     ]
    },
    {
     "name": "stderr",
     "output_type": "stream",
     "text": [
      "train:  37%|███▋      | 531/1451 [12:49<21:41,  1.42s/it]"
     ]
    },
    {
     "name": "stdout",
     "output_type": "stream",
     "text": [
      "Training metrics: 0.7719437008793691| Distance: 0.8106233683833806| Speed: 0.7436440677966102 | Activity: 0.6247645951035782\n"
     ]
    },
    {
     "name": "stderr",
     "output_type": "stream",
     "text": [
      "train:  37%|███▋      | 532/1451 [12:50<21:26,  1.40s/it]"
     ]
    },
    {
     "name": "stdout",
     "output_type": "stream",
     "text": [
      "Training metrics: 0.7722538919490773| Distance: 0.8108601833236502| Speed: 0.744125939849624 | Activity: 0.625\n"
     ]
    },
    {
     "name": "stderr",
     "output_type": "stream",
     "text": [
      "train:  37%|███▋      | 533/1451 [12:52<21:33,  1.41s/it]"
     ]
    },
    {
     "name": "stdout",
     "output_type": "stream",
     "text": [
      "Training metrics: 0.7724757838787271| Distance: 0.8111072320430317| Speed: 0.7443714821763602 | Activity: 0.625\n"
     ]
    },
    {
     "name": "stderr",
     "output_type": "stream",
     "text": [
      "train:  37%|███▋      | 534/1451 [12:53<21:17,  1.39s/it]"
     ]
    },
    {
     "name": "stdout",
     "output_type": "stream",
     "text": [
      "Training metrics: 0.7727604085343176| Distance: 0.8113422539242374| Speed: 0.7446161048689138 | Activity: 0.6257022471910112\n"
     ]
    },
    {
     "name": "stderr",
     "output_type": "stream",
     "text": [
      "train:  37%|███▋      | 535/1451 [12:55<21:30,  1.41s/it]"
     ]
    },
    {
     "name": "stdout",
     "output_type": "stream",
     "text": [
      "Training metrics: 0.7730528268449786| Distance: 0.8116301008163973| Speed: 0.7448598130841122 | Activity: 0.6261682242990654\n"
     ]
    },
    {
     "name": "stderr",
     "output_type": "stream",
     "text": [
      "train:  37%|███▋      | 536/1451 [12:56<21:45,  1.43s/it]"
     ]
    },
    {
     "name": "stdout",
     "output_type": "stream",
     "text": [
      "Training metrics: 0.773254283106971| Distance: 0.8117670887603746| Speed: 0.7451026119402985 | Activity: 0.6266324626865671\n"
     ]
    },
    {
     "name": "stderr",
     "output_type": "stream",
     "text": [
      "train:  37%|███▋      | 537/1451 [12:58<22:09,  1.45s/it]"
     ]
    },
    {
     "name": "stdout",
     "output_type": "stream",
     "text": [
      "Training metrics: 0.7734405362819055| Distance: 0.8120734574282532| Speed: 0.74487895716946 | Activity: 0.6273277467411545\n"
     ]
    },
    {
     "name": "stderr",
     "output_type": "stream",
     "text": [
      "train:  37%|███▋      | 538/1451 [12:59<21:46,  1.43s/it]"
     ]
    },
    {
     "name": "stdout",
     "output_type": "stream",
     "text": [
      "Training metrics: 0.7735586121437681| Distance: 0.8119564229657598| Speed: 0.7453531598513011 | Activity: 0.6277881040892194\n"
     ]
    },
    {
     "name": "stderr",
     "output_type": "stream",
     "text": [
      "train:  37%|███▋      | 539/1451 [13:00<21:59,  1.45s/it]"
     ]
    },
    {
     "name": "stdout",
     "output_type": "stream",
     "text": [
      "Training metrics: 0.773613275739888| Distance: 0.8119667768206545| Speed: 0.7455936920222634 | Activity: 0.6275510204081632\n"
     ]
    },
    {
     "name": "stderr",
     "output_type": "stream",
     "text": [
      "train:  37%|███▋      | 540/1451 [13:02<21:56,  1.45s/it]"
     ]
    },
    {
     "name": "stdout",
     "output_type": "stream",
     "text": [
      "Training metrics: 0.7736523535580705| Distance: 0.8117971324733274| Speed: 0.7460648148148148 | Activity: 0.6275462962962963\n"
     ]
    },
    {
     "name": "stderr",
     "output_type": "stream",
     "text": [
      "train:  37%|███▋      | 541/1451 [13:03<21:59,  1.45s/it]"
     ]
    },
    {
     "name": "stdout",
     "output_type": "stream",
     "text": [
      "Training metrics: 0.7735195935303016| Distance: 0.8115345043126714| Speed: 0.7460720887245841 | Activity: 0.6277726432532348\n"
     ]
    },
    {
     "name": "stderr",
     "output_type": "stream",
     "text": [
      "train:  37%|███▋      | 542/1451 [13:05<22:19,  1.47s/it]"
     ]
    },
    {
     "name": "stdout",
     "output_type": "stream",
     "text": [
      "Training metrics: 0.7733686426284705| Distance: 0.8111263970007105| Speed: 0.746309963099631 | Activity: 0.6279981549815498\n"
     ]
    },
    {
     "name": "stderr",
     "output_type": "stream",
     "text": [
      "train:  37%|███▋      | 543/1451 [13:06<21:25,  1.42s/it]"
     ]
    },
    {
     "name": "stdout",
     "output_type": "stream",
     "text": [
      "Training metrics: 0.7733793895200164| Distance: 0.8112952992921084| Speed: 0.7460865561694291 | Activity: 0.6277624309392266\n"
     ]
    },
    {
     "name": "stderr",
     "output_type": "stream",
     "text": [
      "train:  37%|███▋      | 544/1451 [13:08<21:50,  1.44s/it]"
     ]
    },
    {
     "name": "stdout",
     "output_type": "stream",
     "text": [
      "Training metrics: 0.7734667590419939| Distance: 0.8115147577170487| Speed: 0.7458639705882353 | Activity: 0.6279871323529411\n"
     ]
    },
    {
     "name": "stderr",
     "output_type": "stream",
     "text": [
      "train:  38%|███▊      | 545/1451 [13:09<22:25,  1.49s/it]"
     ]
    },
    {
     "name": "stdout",
     "output_type": "stream",
     "text": [
      "Training metrics: 0.7735953216552617| Distance: 0.8116496951135096| Speed: 0.7458715596330275 | Activity: 0.6284403669724771\n"
     ]
    },
    {
     "name": "stderr",
     "output_type": "stream",
     "text": [
      "train:  38%|███▊      | 546/1451 [13:11<21:51,  1.45s/it]"
     ]
    },
    {
     "name": "stdout",
     "output_type": "stream",
     "text": [
      "Training metrics: 0.7736318382516312| Distance: 0.8116696693693242| Speed: 0.7458791208791209 | Activity: 0.6286630036630036\n"
     ]
    },
    {
     "name": "stderr",
     "output_type": "stream",
     "text": [
      "train:  38%|███▊      | 547/1451 [13:12<22:10,  1.47s/it]"
     ]
    },
    {
     "name": "stdout",
     "output_type": "stream",
     "text": [
      "Training metrics: 0.7739140877072085| Distance: 0.8117946556241408| Speed: 0.7463436928702011 | Activity: 0.6293418647166362\n"
     ]
    },
    {
     "name": "stderr",
     "output_type": "stream",
     "text": [
      "train:  38%|███▊      | 548/1451 [13:14<21:49,  1.45s/it]"
     ]
    },
    {
     "name": "stdout",
     "output_type": "stream",
     "text": [
      "Training metrics: 0.7739780296222383| Distance: 0.8120132610492293| Speed: 0.7461222627737226 | Activity: 0.6293339416058394\n"
     ]
    },
    {
     "name": "stderr",
     "output_type": "stream",
     "text": [
      "train:  38%|███▊      | 549/1451 [13:15<21:46,  1.45s/it]"
     ]
    },
    {
     "name": "stdout",
     "output_type": "stream",
     "text": [
      "Training metrics: 0.773974591178047| Distance: 0.8121571055153244| Speed: 0.7459016393442623 | Activity: 0.6290983606557377\n"
     ]
    },
    {
     "name": "stderr",
     "output_type": "stream",
     "text": [
      "train:  38%|███▊      | 550/1451 [13:16<21:14,  1.41s/it]"
     ]
    },
    {
     "name": "stdout",
     "output_type": "stream",
     "text": [
      "Training metrics: 0.7742254834667489| Distance: 0.8122697451718544| Speed: 0.7463636363636363 | Activity: 0.6295454545454545\n"
     ]
    },
    {
     "name": "stderr",
     "output_type": "stream",
     "text": [
      "train:  38%|███▊      | 551/1451 [13:18<20:45,  1.38s/it]"
     ]
    },
    {
     "name": "stdout",
     "output_type": "stream",
     "text": [
      "Training metrics: 0.7744570691202304| Distance: 0.8124647461743707| Speed: 0.7465970961887477 | Activity: 0.6299909255898367\n"
     ]
    },
    {
     "name": "stderr",
     "output_type": "stream",
     "text": [
      "train:  38%|███▊      | 552/1451 [13:19<21:04,  1.41s/it]"
     ]
    },
    {
     "name": "stdout",
     "output_type": "stream",
     "text": [
      "Training metrics: 0.7743588880986833| Distance: 0.8121863110823465| Speed: 0.7468297101449275 | Activity: 0.6299818840579711\n"
     ]
    },
    {
     "name": "stderr",
     "output_type": "stream",
     "text": [
      "train:  38%|███▊      | 553/1451 [13:20<20:37,  1.38s/it]"
     ]
    },
    {
     "name": "stdout",
     "output_type": "stream",
     "text": [
      "Training metrics: 0.7745441869963982| Distance: 0.8121547179295003| Speed: 0.7472875226039783 | Activity: 0.6306509945750453\n"
     ]
    },
    {
     "name": "stderr",
     "output_type": "stream",
     "text": [
      "train:  38%|███▊      | 554/1451 [13:22<20:57,  1.40s/it]"
     ]
    },
    {
     "name": "stdout",
     "output_type": "stream",
     "text": [
      "Training metrics: 0.7748449548081412| Distance: 0.812316801936553| Speed: 0.7477436823104693 | Activity: 0.6313176895306859\n"
     ]
    },
    {
     "name": "stderr",
     "output_type": "stream",
     "text": [
      "train:  38%|███▊      | 555/1451 [13:23<20:45,  1.39s/it]"
     ]
    },
    {
     "name": "stdout",
     "output_type": "stream",
     "text": [
      "Training metrics: 0.7750201918650511| Distance: 0.8124585780333433| Speed: 0.7479729729729729 | Activity: 0.6315315315315315\n"
     ]
    },
    {
     "name": "stderr",
     "output_type": "stream",
     "text": [
      "train:  38%|███▊      | 556/1451 [13:25<20:29,  1.37s/it]"
     ]
    },
    {
     "name": "stdout",
     "output_type": "stream",
     "text": [
      "Training metrics: 0.7749860429287343| Distance: 0.8124767382145572| Speed: 0.747751798561151 | Activity: 0.6317446043165468\n"
     ]
    },
    {
     "name": "stderr",
     "output_type": "stream",
     "text": [
      "train:  38%|███▊      | 557/1451 [13:26<20:24,  1.37s/it]"
     ]
    },
    {
     "name": "stdout",
     "output_type": "stream",
     "text": [
      "Training metrics: 0.7752180324472426| Distance: 0.8125267626364877| Speed: 0.7482046678635548 | Activity: 0.6324057450628366\n"
     ]
    },
    {
     "name": "stderr",
     "output_type": "stream",
     "text": [
      "train:  38%|███▊      | 558/1451 [13:27<20:05,  1.35s/it]"
     ]
    },
    {
     "name": "stdout",
     "output_type": "stream",
     "text": [
      "Training metrics: 0.7752412231809958| Distance: 0.812342002792699| Speed: 0.7486559139784946 | Activity: 0.6323924731182796\n"
     ]
    },
    {
     "name": "stderr",
     "output_type": "stream",
     "text": [
      "train:  39%|███▊      | 559/1451 [13:29<20:35,  1.38s/it]"
     ]
    },
    {
     "name": "stdout",
     "output_type": "stream",
     "text": [
      "Training metrics: 0.7751461410711215| Distance: 0.812259072327838| Speed: 0.7486583184257602 | Activity: 0.6319320214669052\n"
     ]
    },
    {
     "name": "stderr",
     "output_type": "stream",
     "text": [
      "train:  39%|███▊      | 560/1451 [13:30<20:15,  1.36s/it]"
     ]
    },
    {
     "name": "stdout",
     "output_type": "stream",
     "text": [
      "Training metrics: 0.7750556396584303| Distance: 0.8119230899069078| Speed: 0.7488839285714286 | Activity: 0.6323660714285714\n"
     ]
    },
    {
     "name": "stderr",
     "output_type": "stream",
     "text": [
      "train:  39%|███▊      | 561/1451 [13:31<20:28,  1.38s/it]"
     ]
    },
    {
     "name": "stdout",
     "output_type": "stream",
     "text": [
      "Training metrics: 0.7751521811249389| Distance: 0.8118623696110837| Speed: 0.7491087344028521 | Activity: 0.6330213903743316\n"
     ]
    },
    {
     "name": "stderr",
     "output_type": "stream",
     "text": [
      "train:  39%|███▊      | 562/1451 [13:33<20:09,  1.36s/it]"
     ]
    },
    {
     "name": "stdout",
     "output_type": "stream",
     "text": [
      "Training metrics: 0.7751869909406569| Distance: 0.811921971852459| Speed: 0.7491103202846975 | Activity: 0.6330071174377224\n"
     ]
    },
    {
     "name": "stderr",
     "output_type": "stream",
     "text": [
      "train:  39%|███▉      | 563/1451 [13:34<19:52,  1.34s/it]"
     ]
    },
    {
     "name": "stdout",
     "output_type": "stream",
     "text": [
      "Training metrics: 0.7754659044515233| Distance: 0.8122033872297442| Speed: 0.7493339253996447 | Activity: 0.6334369449378331\n"
     ]
    },
    {
     "name": "stderr",
     "output_type": "stream",
     "text": [
      "train:  39%|███▉      | 564/1451 [13:36<20:12,  1.37s/it]"
     ]
    },
    {
     "name": "stdout",
     "output_type": "stream",
     "text": [
      "Training metrics: 0.775339553920116| Distance: 0.8118100130347088| Speed: 0.7495567375886525 | Activity: 0.6338652482269503\n"
     ]
    },
    {
     "name": "stderr",
     "output_type": "stream",
     "text": [
      "train:  39%|███▉      | 565/1451 [13:37<21:03,  1.43s/it]"
     ]
    },
    {
     "name": "stdout",
     "output_type": "stream",
     "text": [
      "Training metrics: 0.7755107942207198| Distance: 0.8118395242911702| Speed: 0.75 | Activity: 0.6340707964601769\n"
     ]
    },
    {
     "name": "stderr",
     "output_type": "stream",
     "text": [
      "train:  39%|███▉      | 566/1451 [13:38<20:34,  1.39s/it]"
     ]
    },
    {
     "name": "stdout",
     "output_type": "stream",
     "text": [
      "Training metrics: 0.7757277070148151| Distance: 0.8120196765912407| Speed: 0.7502208480565371 | Activity: 0.6344964664310954\n"
     ]
    },
    {
     "name": "stderr",
     "output_type": "stream",
     "text": [
      "train:  39%|███▉      | 567/1451 [13:40<20:32,  1.39s/it]"
     ]
    },
    {
     "name": "stdout",
     "output_type": "stream",
     "text": [
      "Training metrics: 0.7756813889247784| Distance: 0.8120189521468237| Speed: 0.7502204585537919 | Activity: 0.6340388007054674\n"
     ]
    },
    {
     "name": "stderr",
     "output_type": "stream",
     "text": [
      "train:  39%|███▉      | 568/1451 [13:41<20:11,  1.37s/it]"
     ]
    },
    {
     "name": "stdout",
     "output_type": "stream",
     "text": [
      "Training metrics: 0.7759308080798184| Distance: 0.8122174266119041| Speed: 0.7506602112676056 | Activity: 0.6340228873239436\n"
     ]
    },
    {
     "name": "stderr",
     "output_type": "stream",
     "text": [
      "train:  39%|███▉      | 569/1451 [13:43<20:31,  1.40s/it]"
     ]
    },
    {
     "name": "stdout",
     "output_type": "stream",
     "text": [
      "Training metrics: 0.7762535840300495| Distance: 0.8124656980465675| Speed: 0.7510984182776801 | Activity: 0.6344463971880492\n"
     ]
    },
    {
     "name": "stderr",
     "output_type": "stream",
     "text": [
      "train:  39%|███▉      | 570/1451 [13:44<21:35,  1.47s/it]"
     ]
    },
    {
     "name": "stdout",
     "output_type": "stream",
     "text": [
      "Training metrics: 0.7763903395049756| Distance: 0.8124049518065382| Speed: 0.7515350877192982 | Activity: 0.6348684210526315\n"
     ]
    },
    {
     "name": "stderr",
     "output_type": "stream",
     "text": [
      "train:  39%|███▉      | 571/1451 [13:46<21:06,  1.44s/it]"
     ]
    },
    {
     "name": "stdout",
     "output_type": "stream",
     "text": [
      "Training metrics: 0.7765860609143356| Distance: 0.8124434932343421| Speed: 0.751970227670753 | Activity: 0.6352889667250438\n"
     ]
    },
    {
     "name": "stderr",
     "output_type": "stream",
     "text": [
      "train:  39%|███▉      | 572/1451 [13:47<21:14,  1.45s/it]"
     ]
    },
    {
     "name": "stdout",
     "output_type": "stream",
     "text": [
      "Training metrics: 0.7768103011382396| Distance: 0.8125305718271358| Speed: 0.7524038461538461 | Activity: 0.635708041958042\n"
     ]
    },
    {
     "name": "stderr",
     "output_type": "stream",
     "text": [
      "train:  39%|███▉      | 573/1451 [13:48<20:24,  1.39s/it]"
     ]
    },
    {
     "name": "stdout",
     "output_type": "stream",
     "text": [
      "Training metrics: 0.7770815335885922| Distance: 0.8126969713387532| Speed: 0.7528359511343804 | Activity: 0.6361256544502618\n"
     ]
    },
    {
     "name": "stderr",
     "output_type": "stream",
     "text": [
      "train:  40%|███▉      | 574/1451 [13:50<20:18,  1.39s/it]"
     ]
    },
    {
     "name": "stdout",
     "output_type": "stream",
     "text": [
      "Training metrics: 0.7771164116161263| Distance: 0.812615622147667| Speed: 0.7530487804878049 | Activity: 0.6363240418118467\n"
     ]
    },
    {
     "name": "stderr",
     "output_type": "stream",
     "text": [
      "train:  40%|███▉      | 575/1451 [13:51<20:20,  1.39s/it]"
     ]
    },
    {
     "name": "stdout",
     "output_type": "stream",
     "text": [
      "Training metrics: 0.777159409815345| Distance: 0.8125845236052854| Speed: 0.7532608695652174 | Activity: 0.6363043478260869\n"
     ]
    },
    {
     "name": "stderr",
     "output_type": "stream",
     "text": [
      "train:  40%|███▉      | 576/1451 [13:52<20:02,  1.37s/it]"
     ]
    },
    {
     "name": "stdout",
     "output_type": "stream",
     "text": [
      "Training metrics: 0.7773438698842| Distance: 0.8126810447144074| Speed: 0.7534722222222222 | Activity: 0.6369357638888888\n"
     ]
    },
    {
     "name": "stderr",
     "output_type": "stream",
     "text": [
      "train:  40%|███▉      | 577/1451 [13:54<19:52,  1.36s/it]"
     ]
    },
    {
     "name": "stdout",
     "output_type": "stream",
     "text": [
      "Training metrics: 0.777551402733207| Distance: 0.8127084326316015| Speed: 0.7538994800693241 | Activity: 0.6375649913344887\n"
     ]
    },
    {
     "name": "stderr",
     "output_type": "stream",
     "text": [
      "train:  40%|███▉      | 578/1451 [13:55<20:12,  1.39s/it]"
     ]
    },
    {
     "name": "stdout",
     "output_type": "stream",
     "text": [
      "Training metrics: 0.7773689441190688| Distance: 0.8125194628051376| Speed: 0.7536764705882353 | Activity: 0.6375432525951558\n"
     ]
    },
    {
     "name": "stderr",
     "output_type": "stream",
     "text": [
      "train:  40%|███▉      | 579/1451 [13:56<19:42,  1.36s/it]"
     ]
    },
    {
     "name": "stdout",
     "output_type": "stream",
     "text": [
      "Training metrics: 0.7775191538462671| Distance: 0.8125966899164901| Speed: 0.7538860103626943 | Activity: 0.6379533678756477\n"
     ]
    },
    {
     "name": "stderr",
     "output_type": "stream",
     "text": [
      "train:  40%|███▉      | 580/1451 [13:58<19:41,  1.36s/it]"
     ]
    },
    {
     "name": "stdout",
     "output_type": "stream",
     "text": [
      "Training metrics: 0.7777037786178996| Distance: 0.8127318724091431| Speed: 0.7540948275862069 | Activity: 0.6383620689655173\n"
     ]
    },
    {
     "name": "stderr",
     "output_type": "stream",
     "text": [
      "train:  40%|████      | 581/1451 [13:59<19:46,  1.36s/it]"
     ]
    },
    {
     "name": "stdout",
     "output_type": "stream",
     "text": [
      "Training metrics: 0.7779113167539766| Distance: 0.8129058377339656| Speed: 0.754302925989673 | Activity: 0.6387693631669535\n"
     ]
    },
    {
     "name": "stderr",
     "output_type": "stream",
     "text": [
      "train:  40%|████      | 582/1451 [14:01<19:34,  1.35s/it]"
     ]
    },
    {
     "name": "stdout",
     "output_type": "stream",
     "text": [
      "Training metrics: 0.7781007448383881| Distance: 0.8130502104694785| Speed: 0.7545103092783505 | Activity: 0.6391752577319587\n"
     ]
    },
    {
     "name": "stderr",
     "output_type": "stream",
     "text": [
      "train:  40%|████      | 583/1451 [14:02<19:24,  1.34s/it]"
     ]
    },
    {
     "name": "stdout",
     "output_type": "stream",
     "text": [
      "Training metrics: 0.7783395968523659| Distance: 0.8132418095052296| Speed: 0.7549313893653516 | Activity: 0.6391509433962265\n"
     ]
    },
    {
     "name": "stderr",
     "output_type": "stream",
     "text": [
      "train:  40%|████      | 584/1451 [14:03<19:28,  1.35s/it]"
     ]
    },
    {
     "name": "stdout",
     "output_type": "stream",
     "text": [
      "Training metrics: 0.7783859285643572| Distance: 0.8132202690684491| Speed: 0.7549229452054794 | Activity: 0.6397688356164384\n"
     ]
    },
    {
     "name": "stderr",
     "output_type": "stream",
     "text": [
      "train:  40%|████      | 585/1451 [14:05<20:15,  1.40s/it]"
     ]
    },
    {
     "name": "stdout",
     "output_type": "stream",
     "text": [
      "Training metrics: 0.7786549841320738| Distance: 0.8133922100206928| Speed: 0.7553418803418803 | Activity: 0.6401709401709401\n"
     ]
    },
    {
     "name": "stderr",
     "output_type": "stream",
     "text": [
      "train:  40%|████      | 586/1451 [14:06<19:51,  1.38s/it]"
     ]
    },
    {
     "name": "stdout",
     "output_type": "stream",
     "text": [
      "Training metrics: 0.7787951350732796| Distance: 0.8134569088536457| Speed: 0.7555460750853242 | Activity: 0.6405716723549488\n"
     ]
    },
    {
     "name": "stderr",
     "output_type": "stream",
     "text": [
      "train:  40%|████      | 587/1451 [14:07<19:58,  1.39s/it]"
     ]
    },
    {
     "name": "stdout",
     "output_type": "stream",
     "text": [
      "Training metrics: 0.7789926140553666| Distance: 0.8136177298424198| Speed: 0.7557495741056218 | Activity: 0.6409710391822828\n"
     ]
    },
    {
     "name": "stderr",
     "output_type": "stream",
     "text": [
      "train:  41%|████      | 588/1451 [14:09<19:45,  1.37s/it]"
     ]
    },
    {
     "name": "stdout",
     "output_type": "stream",
     "text": [
      "Training metrics: 0.7790274316334427| Distance: 0.8136143134933795| Speed: 0.7557397959183674 | Activity: 0.6413690476190477\n"
     ]
    },
    {
     "name": "stderr",
     "output_type": "stream",
     "text": [
      "train:  41%|████      | 589/1451 [14:10<20:11,  1.41s/it]"
     ]
    },
    {
     "name": "stdout",
     "output_type": "stream",
     "text": [
      "Training metrics: 0.7790661442767391| Distance: 0.8133700027702303| Speed: 0.7561544991511036 | Activity: 0.6419779286926995\n"
     ]
    },
    {
     "name": "stderr",
     "output_type": "stream",
     "text": [
      "train:  41%|████      | 590/1451 [14:12<20:28,  1.43s/it]"
     ]
    },
    {
     "name": "stdout",
     "output_type": "stream",
     "text": [
      "Training metrics: 0.7789412818570417| Distance: 0.8132425319086289| Speed: 0.7559322033898305 | Activity: 0.6421610169491525\n"
     ]
    },
    {
     "name": "stderr",
     "output_type": "stream",
     "text": [
      "train:  41%|████      | 591/1451 [14:13<20:31,  1.43s/it]"
     ]
    },
    {
     "name": "stdout",
     "output_type": "stream",
     "text": [
      "Training metrics: 0.779073725200022| Distance: 0.8135083801275044| Speed: 0.755922165820643 | Activity: 0.6419204737732657\n"
     ]
    },
    {
     "name": "stderr",
     "output_type": "stream",
     "text": [
      "train:  41%|████      | 592/1451 [14:15<20:42,  1.45s/it]"
     ]
    },
    {
     "name": "stdout",
     "output_type": "stream",
     "text": [
      "Training metrics: 0.7792097518827806| Distance: 0.8135337080929228| Speed: 0.7563344594594594 | Activity: 0.6418918918918919\n"
     ]
    },
    {
     "name": "stderr",
     "output_type": "stream",
     "text": [
      "train:  41%|████      | 593/1451 [14:16<20:47,  1.45s/it]"
     ]
    },
    {
     "name": "stdout",
     "output_type": "stream",
     "text": [
      "Training metrics: 0.7791806719469988| Distance: 0.8134250659487641| Speed: 0.7563237774030354 | Activity: 0.6422849915682968\n"
     ]
    },
    {
     "name": "stderr",
     "output_type": "stream",
     "text": [
      "train:  41%|████      | 594/1451 [14:18<20:20,  1.42s/it]"
     ]
    },
    {
     "name": "stdout",
     "output_type": "stream",
     "text": [
      "Training metrics: 0.779254919023988| Distance: 0.8133836192487343| Speed: 0.756523569023569 | Activity: 0.6426767676767676\n"
     ]
    },
    {
     "name": "stderr",
     "output_type": "stream",
     "text": [
      "train:  41%|████      | 595/1451 [14:19<20:22,  1.43s/it]"
     ]
    },
    {
     "name": "stdout",
     "output_type": "stream",
     "text": [
      "Training metrics: 0.7792168086238481| Distance: 0.8131904793590745| Speed: 0.7567226890756302 | Activity: 0.6428571428571429\n"
     ]
    },
    {
     "name": "stderr",
     "output_type": "stream",
     "text": [
      "train:  41%|████      | 596/1451 [14:20<20:45,  1.46s/it]"
     ]
    },
    {
     "name": "stdout",
     "output_type": "stream",
     "text": [
      "Training metrics: 0.7794854723277794| Distance: 0.8133692435888046| Speed: 0.7571308724832215 | Activity: 0.643246644295302\n"
     ]
    },
    {
     "name": "stderr",
     "output_type": "stream",
     "text": [
      "train:  41%|████      | 597/1451 [14:22<20:13,  1.42s/it]"
     ]
    },
    {
     "name": "stdout",
     "output_type": "stream",
     "text": [
      "Training metrics: 0.7795698374813133| Distance: 0.8135558151210049| Speed: 0.7571189279731994 | Activity: 0.6430067001675042\n"
     ]
    },
    {
     "name": "stderr",
     "output_type": "stream",
     "text": [
      "train:  41%|████      | 598/1451 [14:23<19:42,  1.39s/it]"
     ]
    },
    {
     "name": "stdout",
     "output_type": "stream",
     "text": [
      "Training metrics: 0.7797593295909154| Distance: 0.8136387377239893| Speed: 0.7575250836120402 | Activity: 0.643185618729097\n"
     ]
    },
    {
     "name": "stderr",
     "output_type": "stream",
     "text": [
      "train:  41%|████▏     | 599/1451 [14:25<19:38,  1.38s/it]"
     ]
    },
    {
     "name": "stdout",
     "output_type": "stream",
     "text": [
      "Training metrics: 0.7797962114677233| Distance: 0.8135028677494887| Speed: 0.7577212020033389 | Activity: 0.6437813021702838\n"
     ]
    },
    {
     "name": "stderr",
     "output_type": "stream",
     "text": [
      "train:  41%|████▏     | 600/1451 [14:26<19:30,  1.38s/it]"
     ]
    },
    {
     "name": "stdout",
     "output_type": "stream",
     "text": [
      "Training metrics: 0.7797873266985504| Distance: 0.8133955444975841| Speed: 0.7579166666666667 | Activity: 0.64375\n"
     ]
    },
    {
     "name": "stderr",
     "output_type": "stream",
     "text": [
      "train:  41%|████▏     | 601/1451 [14:27<19:28,  1.38s/it]"
     ]
    },
    {
     "name": "stdout",
     "output_type": "stream",
     "text": [
      "Training metrics: 0.779765576408486| Distance: 0.8132324221339436| Speed: 0.7581114808652246 | Activity: 0.6439267886855241\n"
     ]
    },
    {
     "name": "stderr",
     "output_type": "stream",
     "text": [
      "train:  41%|████▏     | 602/1451 [14:29<19:50,  1.40s/it]"
     ]
    },
    {
     "name": "stdout",
     "output_type": "stream",
     "text": [
      "Training metrics: 0.7798260295325086| Distance: 0.8134835818897291| Speed: 0.7580980066445183 | Activity: 0.6430647840531561\n"
     ]
    },
    {
     "name": "stderr",
     "output_type": "stream",
     "text": [
      "train:  42%|████▏     | 603/1451 [14:30<19:55,  1.41s/it]"
     ]
    },
    {
     "name": "stdout",
     "output_type": "stream",
     "text": [
      "Training metrics: 0.7798566202597295| Distance: 0.8135462742305608| Speed: 0.7580845771144279 | Activity: 0.6430348258706468\n"
     ]
    },
    {
     "name": "stderr",
     "output_type": "stream",
     "text": [
      "train:  42%|████▏     | 604/1451 [14:32<20:01,  1.42s/it]"
     ]
    },
    {
     "name": "stdout",
     "output_type": "stream",
     "text": [
      "Training metrics: 0.7799718665009618| Distance: 0.8136465435060182| Speed: 0.7582781456953642 | Activity: 0.6430049668874173\n"
     ]
    },
    {
     "name": "stderr",
     "output_type": "stream",
     "text": [
      "train:  42%|████▏     | 605/1451 [14:33<19:58,  1.42s/it]"
     ]
    },
    {
     "name": "stdout",
     "output_type": "stream",
     "text": [
      "Training metrics: 0.7802008938014114| Distance: 0.813867880853592| Speed: 0.7584710743801653 | Activity: 0.6433884297520661\n"
     ]
    },
    {
     "name": "stderr",
     "output_type": "stream",
     "text": [
      "train:  42%|████▏     | 606/1451 [14:35<21:17,  1.51s/it]"
     ]
    },
    {
     "name": "stdout",
     "output_type": "stream",
     "text": [
      "Training metrics: 0.7802660990881392| Distance: 0.8140229814285267| Speed: 0.7582508250825083 | Activity: 0.6437706270627063\n"
     ]
    },
    {
     "name": "stderr",
     "output_type": "stream",
     "text": [
      "train:  42%|████▏     | 607/1451 [14:36<21:00,  1.49s/it]"
     ]
    },
    {
     "name": "stdout",
     "output_type": "stream",
     "text": [
      "Training metrics: 0.7801839244916569| Distance: 0.8138979740978465| Speed: 0.7580313014827018 | Activity: 0.6443574958813838\n"
     ]
    },
    {
     "name": "stderr",
     "output_type": "stream",
     "text": [
      "train:  42%|████▏     | 608/1451 [14:37<20:03,  1.43s/it]"
     ]
    },
    {
     "name": "stdout",
     "output_type": "stream",
     "text": [
      "Training metrics: 0.7801950781519733| Distance: 0.8138942092006572| Speed: 0.7580180921052632 | Activity: 0.64453125\n"
     ]
    },
    {
     "name": "stderr",
     "output_type": "stream",
     "text": [
      "train:  42%|████▏     | 609/1451 [14:39<19:49,  1.41s/it]"
     ]
    },
    {
     "name": "stdout",
     "output_type": "stream",
     "text": [
      "Training metrics: 0.7801837289853505| Distance: 0.813750385747341| Speed: 0.7582101806239737 | Activity: 0.6447044334975369\n"
     ]
    },
    {
     "name": "stderr",
     "output_type": "stream",
     "text": [
      "train:  42%|████▏     | 610/1451 [14:40<19:59,  1.43s/it]"
     ]
    },
    {
     "name": "stdout",
     "output_type": "stream",
     "text": [
      "Training metrics: 0.7803382890197418| Distance: 0.8138493341585861| Speed: 0.7584016393442623 | Activity: 0.6450819672131147\n"
     ]
    },
    {
     "name": "stderr",
     "output_type": "stream",
     "text": [
      "train:  42%|████▏     | 611/1451 [14:42<19:45,  1.41s/it]"
     ]
    },
    {
     "name": "stdout",
     "output_type": "stream",
     "text": [
      "Training metrics: 0.7804699321441723| Distance: 0.8139106070378866| Speed: 0.7585924713584288 | Activity: 0.6454582651391162\n"
     ]
    },
    {
     "name": "stderr",
     "output_type": "stream",
     "text": [
      "train:  42%|████▏     | 612/1451 [14:43<20:15,  1.45s/it]"
     ]
    },
    {
     "name": "stdout",
     "output_type": "stream",
     "text": [
      "Training metrics: 0.7807032692453201| Distance: 0.814073803862026| Speed: 0.7589869281045751 | Activity: 0.6456290849673203\n"
     ]
    },
    {
     "name": "stderr",
     "output_type": "stream",
     "text": [
      "train:  42%|████▏     | 613/1451 [14:45<19:59,  1.43s/it]"
     ]
    },
    {
     "name": "stdout",
     "output_type": "stream",
     "text": [
      "Training metrics: 0.7807697472027398| Distance: 0.81395963848635| Speed: 0.7593800978792822 | Activity: 0.6457993474714518\n"
     ]
    },
    {
     "name": "stderr",
     "output_type": "stream",
     "text": [
      "train:  42%|████▏     | 614/1451 [14:46<19:33,  1.40s/it]"
     ]
    },
    {
     "name": "stdout",
     "output_type": "stream",
     "text": [
      "Training metrics: 0.7808962127726176| Distance: 0.8140479767708665| Speed: 0.7595684039087948 | Activity: 0.6459690553745928\n"
     ]
    },
    {
     "name": "stderr",
     "output_type": "stream",
     "text": [
      "train:  42%|████▏     | 615/1451 [14:47<19:15,  1.38s/it]"
     ]
    },
    {
     "name": "stdout",
     "output_type": "stream",
     "text": [
      "Training metrics: 0.7810474701539568| Distance: 0.8142457835899283| Speed: 0.7595528455284553 | Activity: 0.6463414634146342\n"
     ]
    },
    {
     "name": "stderr",
     "output_type": "stream",
     "text": [
      "train:  42%|████▏     | 616/1451 [14:49<19:53,  1.43s/it]"
     ]
    },
    {
     "name": "stdout",
     "output_type": "stream",
     "text": [
      "Training metrics: 0.7810995983872807| Distance: 0.8142785514246887| Speed: 0.7595373376623377 | Activity: 0.6467126623376623\n"
     ]
    },
    {
     "name": "stderr",
     "output_type": "stream",
     "text": [
      "train:  43%|████▎     | 617/1451 [14:50<20:37,  1.48s/it]"
     ]
    },
    {
     "name": "stdout",
     "output_type": "stream",
     "text": [
      "Training metrics: 0.7812914391515867| Distance: 0.8143755212223907| Speed: 0.7599270664505673 | Activity: 0.6468800648298217\n"
     ]
    },
    {
     "name": "stderr",
     "output_type": "stream",
     "text": [
      "train:  43%|████▎     | 618/1451 [14:52<20:09,  1.45s/it]"
     ]
    },
    {
     "name": "stdout",
     "output_type": "stream",
     "text": [
      "Training metrics: 0.781363212331357| Distance: 0.8143068101962745| Speed: 0.7601132686084142 | Activity: 0.6474514563106796\n"
     ]
    },
    {
     "name": "stderr",
     "output_type": "stream",
     "text": [
      "train:  43%|████▎     | 619/1451 [14:53<20:07,  1.45s/it]"
     ]
    },
    {
     "name": "stdout",
     "output_type": "stream",
     "text": [
      "Training metrics: 0.7815761106381716| Distance: 0.8145412290926984| Speed: 0.7602988691437803 | Activity: 0.6476171243941842\n"
     ]
    },
    {
     "name": "stderr",
     "output_type": "stream",
     "text": [
      "train:  43%|████▎     | 620/1451 [14:55<20:00,  1.45s/it]"
     ]
    },
    {
     "name": "stdout",
     "output_type": "stream",
     "text": [
      "Training metrics: 0.7817681608859319| Distance: 0.8145732788959079| Speed: 0.7606854838709678 | Activity: 0.6481854838709677\n"
     ]
    },
    {
     "name": "stderr",
     "output_type": "stream",
     "text": [
      "train:  43%|████▎     | 621/1451 [14:56<20:11,  1.46s/it]"
     ]
    },
    {
     "name": "stdout",
     "output_type": "stream",
     "text": [
      "Training metrics: 0.782014269356958| Distance: 0.8146963533834432| Speed: 0.7610708534621579 | Activity: 0.6487520128824477\n"
     ]
    },
    {
     "name": "stderr",
     "output_type": "stream",
     "text": [
      "train:  43%|████▎     | 622/1451 [14:58<19:44,  1.43s/it]"
     ]
    },
    {
     "name": "stdout",
     "output_type": "stream",
     "text": [
      "Training metrics: 0.7820374847714059| Distance: 0.8145828390348726| Speed: 0.7612540192926045 | Activity: 0.6491157556270096\n"
     ]
    },
    {
     "name": "stderr",
     "output_type": "stream",
     "text": [
      "train:  43%|████▎     | 623/1451 [14:59<19:13,  1.39s/it]"
     ]
    },
    {
     "name": "stdout",
     "output_type": "stream",
     "text": [
      "Training metrics: 0.7821953477477332| Distance: 0.8147611065993522| Speed: 0.7614365971107544 | Activity: 0.6490770465489567\n"
     ]
    },
    {
     "name": "stderr",
     "output_type": "stream",
     "text": [
      "train:  43%|████▎     | 624/1451 [15:01<22:00,  1.60s/it]"
     ]
    },
    {
     "name": "stdout",
     "output_type": "stream",
     "text": [
      "Training metrics: 0.7823689486174523| Distance: 0.8147655553880616| Speed: 0.7618189102564102 | Activity: 0.6496394230769231\n"
     ]
    },
    {
     "name": "stderr",
     "output_type": "stream",
     "text": [
      "train:  43%|████▎     | 625/1451 [15:03<23:51,  1.73s/it]"
     ]
    },
    {
     "name": "stdout",
     "output_type": "stream",
     "text": [
      "Training metrics: 0.7823144117967501| Distance: 0.8147240196612503| Speed: 0.7616 | Activity: 0.65\n"
     ]
    },
    {
     "name": "stderr",
     "output_type": "stream",
     "text": [
      "train:  43%|████▎     | 626/1451 [15:04<22:32,  1.64s/it]"
     ]
    },
    {
     "name": "stdout",
     "output_type": "stream",
     "text": [
      "Training metrics: 0.7824454436887153| Distance: 0.814791926914632| Speed: 0.7617811501597445 | Activity: 0.6503594249201278\n"
     ]
    },
    {
     "name": "stderr",
     "output_type": "stream",
     "text": [
      "train:  43%|████▎     | 627/1451 [15:06<22:32,  1.64s/it]"
     ]
    },
    {
     "name": "stdout",
     "output_type": "stream",
     "text": [
      "Training metrics: 0.7825323972872406| Distance: 0.8147868503431682| Speed: 0.7619617224880383 | Activity: 0.6507177033492823\n"
     ]
    },
    {
     "name": "stderr",
     "output_type": "stream",
     "text": [
      "train:  43%|████▎     | 628/1451 [15:07<21:33,  1.57s/it]"
     ]
    },
    {
     "name": "stdout",
     "output_type": "stream",
     "text": [
      "Training metrics: 0.7826949099090146| Distance: 0.8150077054746846| Speed: 0.7621417197452229 | Activity: 0.6504777070063694\n"
     ]
    },
    {
     "name": "stderr",
     "output_type": "stream",
     "text": [
      "train:  43%|████▎     | 629/1451 [15:09<20:37,  1.51s/it]"
     ]
    },
    {
     "name": "stdout",
     "output_type": "stream",
     "text": [
      "Training metrics: 0.782762328838542| Distance: 0.8152358368824667| Speed: 0.7619236883942766 | Activity: 0.6504372019077902\n"
     ]
    },
    {
     "name": "stderr",
     "output_type": "stream",
     "text": [
      "train:  43%|████▎     | 630/1451 [15:10<19:57,  1.46s/it]"
     ]
    },
    {
     "name": "stdout",
     "output_type": "stream",
     "text": [
      "Training metrics: 0.7829258544049548| Distance: 0.8152930906749246| Speed: 0.7623015873015873 | Activity: 0.6505952380952381\n"
     ]
    },
    {
     "name": "stderr",
     "output_type": "stream",
     "text": [
      "train:  43%|████▎     | 631/1451 [15:12<19:41,  1.44s/it]"
     ]
    },
    {
     "name": "stdout",
     "output_type": "stream",
     "text": [
      "Training metrics: 0.782854889919764| Distance: 0.8150262428403886| Speed: 0.7624801901743264 | Activity: 0.6509508716323297\n"
     ]
    },
    {
     "name": "stderr",
     "output_type": "stream",
     "text": [
      "train:  44%|████▎     | 632/1451 [15:13<19:24,  1.42s/it]"
     ]
    },
    {
     "name": "stdout",
     "output_type": "stream",
     "text": [
      "Training metrics: 0.7829471599589763| Distance: 0.8151637792565218| Speed: 0.7624604430379747 | Activity: 0.6511075949367089\n"
     ]
    },
    {
     "name": "stderr",
     "output_type": "stream",
     "text": [
      "train:  44%|████▎     | 633/1451 [15:14<19:21,  1.42s/it]"
     ]
    },
    {
     "name": "stdout",
     "output_type": "stream",
     "text": [
      "Training metrics: 0.7831725945629111| Distance: 0.8153916597112235| Speed: 0.7626382306477093 | Activity: 0.6514612954186414\n"
     ]
    },
    {
     "name": "stderr",
     "output_type": "stream",
     "text": [
      "train:  44%|████▎     | 634/1451 [15:16<19:26,  1.43s/it]"
     ]
    },
    {
     "name": "stdout",
     "output_type": "stream",
     "text": [
      "Training metrics: 0.7831588607386226| Distance: 0.81538569323945| Speed: 0.7624211356466877 | Activity: 0.6520110410094637\n"
     ]
    },
    {
     "name": "stderr",
     "output_type": "stream",
     "text": [
      "train:  44%|████▍     | 635/1451 [15:17<19:41,  1.45s/it]"
     ]
    },
    {
     "name": "stdout",
     "output_type": "stream",
     "text": [
      "Training metrics: 0.7832332343737167| Distance: 0.8154609024338849| Speed: 0.7624015748031496 | Activity: 0.6523622047244094\n"
     ]
    },
    {
     "name": "stderr",
     "output_type": "stream",
     "text": [
      "train:  44%|████▍     | 636/1451 [15:19<20:55,  1.54s/it]"
     ]
    },
    {
     "name": "stdout",
     "output_type": "stream",
     "text": [
      "Training metrics: 0.7834890129509212| Distance: 0.8156420656100261| Speed: 0.7627751572327044 | Activity: 0.6527122641509434\n"
     ]
    },
    {
     "name": "stderr",
     "output_type": "stream",
     "text": [
      "train:  44%|████▍     | 637/1451 [15:20<20:22,  1.50s/it]"
     ]
    },
    {
     "name": "stdout",
     "output_type": "stream",
     "text": [
      "Training metrics: 0.7834318897302653| Distance: 0.8155641385614313| Speed: 0.7627551020408163 | Activity: 0.652668759811617\n"
     ]
    },
    {
     "name": "stderr",
     "output_type": "stream",
     "text": [
      "train:  44%|████▍     | 638/1451 [15:22<20:05,  1.48s/it]"
     ]
    },
    {
     "name": "stdout",
     "output_type": "stream",
     "text": [
      "Training metrics: 0.7835483932655255| Distance: 0.8155143022554997| Speed: 0.763126959247649 | Activity: 0.6530172413793104\n"
     ]
    },
    {
     "name": "stderr",
     "output_type": "stream",
     "text": [
      "train:  44%|████▍     | 639/1451 [15:23<19:36,  1.45s/it]"
     ]
    },
    {
     "name": "stdout",
     "output_type": "stream",
     "text": [
      "Training metrics: 0.7837149473336305| Distance: 0.8156138532764471| Speed: 0.763302034428795 | Activity: 0.6535602503912363\n"
     ]
    },
    {
     "name": "stderr",
     "output_type": "stream",
     "text": [
      "train:  44%|████▍     | 640/1451 [15:25<21:44,  1.61s/it]"
     ]
    },
    {
     "name": "stdout",
     "output_type": "stream",
     "text": [
      "Training metrics: 0.7838074197856955| Distance: 0.8157858038094925| Speed: 0.7630859375 | Activity: 0.6541015625\n"
     ]
    },
    {
     "name": "stderr",
     "output_type": "stream",
     "text": [
      "train:  44%|████▍     | 641/1451 [15:27<21:03,  1.56s/it]"
     ]
    },
    {
     "name": "stdout",
     "output_type": "stream",
     "text": [
      "Training metrics: 0.7838420936756912| Distance: 0.815698861274358| Speed: 0.7632605304212169 | Activity: 0.6544461778471139\n"
     ]
    },
    {
     "name": "stderr",
     "output_type": "stream",
     "text": [
      "train:  44%|████▍     | 642/1451 [15:28<21:04,  1.56s/it]"
     ]
    },
    {
     "name": "stdout",
     "output_type": "stream",
     "text": [
      "Training metrics: 0.784088993014183| Distance: 0.8158687266747289| Speed: 0.7636292834890965 | Activity: 0.6547897196261683\n"
     ]
    },
    {
     "name": "stderr",
     "output_type": "stream",
     "text": [
      "train:  44%|████▍     | 643/1451 [15:30<20:28,  1.52s/it]"
     ]
    },
    {
     "name": "stdout",
     "output_type": "stream",
     "text": [
      "Training metrics: 0.7843498642202807| Distance: 0.8160302298953875| Speed: 0.7639968895800933 | Activity: 0.6553265940902022\n"
     ]
    },
    {
     "name": "stderr",
     "output_type": "stream",
     "text": [
      "train:  44%|████▍     | 644/1451 [15:31<20:00,  1.49s/it]"
     ]
    },
    {
     "name": "stdout",
     "output_type": "stream",
     "text": [
      "Training metrics: 0.7845488551143486| Distance: 0.8161217978613885| Speed: 0.7643633540372671 | Activity: 0.655667701863354\n"
     ]
    },
    {
     "name": "stderr",
     "output_type": "stream",
     "text": [
      "train:  44%|████▍     | 645/1451 [15:33<19:49,  1.48s/it]"
     ]
    },
    {
     "name": "stdout",
     "output_type": "stream",
     "text": [
      "Training metrics: 0.7847464000676041| Distance: 0.8163085995958776| Speed: 0.7645348837209303 | Activity: 0.6560077519379846\n"
     ]
    },
    {
     "name": "stderr",
     "output_type": "stream",
     "text": [
      "train:  45%|████▍     | 646/1451 [15:34<20:42,  1.54s/it]"
     ]
    },
    {
     "name": "stdout",
     "output_type": "stream",
     "text": [
      "Training metrics: 0.7847673552310886| Distance: 0.8160725270363344| Speed: 0.7648993808049536 | Activity: 0.6565402476780186\n"
     ]
    },
    {
     "name": "stderr",
     "output_type": "stream",
     "text": [
      "train:  45%|████▍     | 647/1451 [15:36<19:53,  1.48s/it]"
     ]
    },
    {
     "name": "stdout",
     "output_type": "stream",
     "text": [
      "Training metrics: 0.7849989381772433| Distance: 0.8161883384870594| Speed: 0.7652627511591963 | Activity: 0.6570710973724884\n"
     ]
    },
    {
     "name": "stderr",
     "output_type": "stream",
     "text": [
      "train:  45%|████▍     | 648/1451 [15:37<19:30,  1.46s/it]"
     ]
    },
    {
     "name": "stdout",
     "output_type": "stream",
     "text": [
      "Training metrics: 0.7849284774334003| Distance: 0.8160587792614284| Speed: 0.7652391975308642 | Activity: 0.6572145061728395\n"
     ]
    },
    {
     "name": "stderr",
     "output_type": "stream",
     "text": [
      "train:  45%|████▍     | 649/1451 [15:38<18:49,  1.41s/it]"
     ]
    },
    {
     "name": "stdout",
     "output_type": "stream",
     "text": [
      "Training metrics: 0.7850086575143413| Distance: 0.8159556207673535| Speed: 0.7656009244992296 | Activity: 0.6575500770416025\n"
     ]
    },
    {
     "name": "stderr",
     "output_type": "stream",
     "text": [
      "train:  45%|████▍     | 650/1451 [15:40<18:35,  1.39s/it]"
     ]
    },
    {
     "name": "stdout",
     "output_type": "stream",
     "text": [
      "Training metrics: 0.7849209861803998| Distance: 0.8157657461981023| Speed: 0.765576923076923 | Activity: 0.6578846153846154\n"
     ]
    },
    {
     "name": "stderr",
     "output_type": "stream",
     "text": [
      "train:  45%|████▍     | 651/1451 [15:41<18:17,  1.37s/it]"
     ]
    },
    {
     "name": "stdout",
     "output_type": "stream",
     "text": [
      "Training metrics: 0.7849122046420857| Distance: 0.8157074890476133| Speed: 0.7655529953917051 | Activity: 0.6582181259600615\n"
     ]
    },
    {
     "name": "stderr",
     "output_type": "stream",
     "text": [
      "train:  45%|████▍     | 652/1451 [15:42<18:09,  1.36s/it]"
     ]
    },
    {
     "name": "stdout",
     "output_type": "stream",
     "text": [
      "Training metrics: 0.7847811511839904| Distance: 0.8156053439978574| Speed: 0.7653374233128835 | Activity: 0.6581671779141104\n"
     ]
    },
    {
     "name": "stderr",
     "output_type": "stream",
     "text": [
      "train:  45%|████▌     | 653/1451 [15:44<17:47,  1.34s/it]"
     ]
    },
    {
     "name": "stdout",
     "output_type": "stream",
     "text": [
      "Training metrics: 0.7849303783570476| Distance: 0.8157466489718023| Speed: 0.7655053598774885 | Activity: 0.6583078101071975\n"
     ]
    },
    {
     "name": "stderr",
     "output_type": "stream",
     "text": [
      "train:  45%|████▌     | 654/1451 [15:45<18:12,  1.37s/it]"
     ]
    },
    {
     "name": "stdout",
     "output_type": "stream",
     "text": [
      "Training metrics: 0.7850363016389755| Distance: 0.8156886882566006| Speed: 0.7658639143730887 | Activity: 0.6586391437308868\n"
     ]
    },
    {
     "name": "stderr",
     "output_type": "stream",
     "text": [
      "train:  45%|████▌     | 655/1451 [15:46<18:14,  1.37s/it]"
     ]
    },
    {
     "name": "stdout",
     "output_type": "stream",
     "text": [
      "Training metrics: 0.7848638650315286| Distance: 0.8154219633477131| Speed: 0.7658396946564886 | Activity: 0.658587786259542\n"
     ]
    },
    {
     "name": "stderr",
     "output_type": "stream",
     "text": [
      "train:  45%|████▌     | 656/1451 [15:48<18:15,  1.38s/it]"
     ]
    },
    {
     "name": "stdout",
     "output_type": "stream",
     "text": [
      "Training metrics: 0.7850658278424371| Distance: 0.8155886256723546| Speed: 0.7660060975609756 | Activity: 0.659108231707317\n"
     ]
    },
    {
     "name": "stderr",
     "output_type": "stream",
     "text": [
      "train:  45%|████▌     | 657/1451 [15:49<17:59,  1.36s/it]"
     ]
    },
    {
     "name": "stdout",
     "output_type": "stream",
     "text": [
      "Training metrics: 0.7853459091256917| Distance: 0.8157908734032964| Speed: 0.7663622526636226 | Activity: 0.659627092846271\n"
     ]
    },
    {
     "name": "stderr",
     "output_type": "stream",
     "text": [
      "train:  45%|████▌     | 658/1451 [15:50<17:56,  1.36s/it]"
     ]
    },
    {
     "name": "stdout",
     "output_type": "stream",
     "text": [
      "Training metrics: 0.7854017687188035| Distance: 0.8159051768413692| Speed: 0.7663373860182371 | Activity: 0.6595744680851063\n"
     ]
    },
    {
     "name": "stderr",
     "output_type": "stream",
     "text": [
      "train:  45%|████▌     | 659/1451 [15:52<19:09,  1.45s/it]"
     ]
    },
    {
     "name": "stdout",
     "output_type": "stream",
     "text": [
      "Training metrics: 0.7855179501774457| Distance: 0.815993498146021| Speed: 0.7665022761760243 | Activity: 0.659711684370258\n"
     ]
    },
    {
     "name": "stderr",
     "output_type": "stream",
     "text": [
      "train:  45%|████▌     | 660/1451 [15:53<18:40,  1.42s/it]"
     ]
    },
    {
     "name": "stdout",
     "output_type": "stream",
     "text": [
      "Training metrics: 0.7855976915624034| Distance: 0.8160214051292582| Speed: 0.7666666666666667 | Activity: 0.6598484848484848\n"
     ]
    },
    {
     "name": "stderr",
     "output_type": "stream",
     "text": [
      "train:  46%|████▌     | 661/1451 [15:55<18:34,  1.41s/it]"
     ]
    },
    {
     "name": "stdout",
     "output_type": "stream",
     "text": [
      "Training metrics: 0.7857852749696634| Distance: 0.8162293665026414| Speed: 0.7668305597579426 | Activity: 0.6599848714069592\n"
     ]
    },
    {
     "name": "stderr",
     "output_type": "stream",
     "text": [
      "train:  46%|████▌     | 662/1451 [15:56<18:21,  1.40s/it]"
     ]
    },
    {
     "name": "stdout",
     "output_type": "stream",
     "text": [
      "Training metrics: 0.7857457055569619| Distance: 0.8160590560893978| Speed: 0.7669939577039275 | Activity: 0.6601208459214502\n"
     ]
    },
    {
     "name": "stderr",
     "output_type": "stream",
     "text": [
      "train:  46%|████▌     | 663/1451 [15:58<18:00,  1.37s/it]"
     ]
    },
    {
     "name": "stdout",
     "output_type": "stream",
     "text": [
      "Training metrics: 0.7859100808052776| Distance: 0.8161975454346383| Speed: 0.7671568627450981 | Activity: 0.6604449472096531\n"
     ]
    },
    {
     "name": "stderr",
     "output_type": "stream",
     "text": [
      "train:  46%|████▌     | 664/1451 [15:59<17:46,  1.35s/it]"
     ]
    },
    {
     "name": "stdout",
     "output_type": "stream",
     "text": [
      "Training metrics: 0.7860676293137825| Distance: 0.816293689418553| Speed: 0.7673192771084337 | Activity: 0.6609563253012049\n"
     ]
    },
    {
     "name": "stderr",
     "output_type": "stream",
     "text": [
      "train:  46%|████▌     | 665/1451 [16:00<18:46,  1.43s/it]"
     ]
    },
    {
     "name": "stdout",
     "output_type": "stream",
     "text": [
      "Training metrics: 0.786311546018644| Distance: 0.8164402959959854| Speed: 0.7676691729323308 | Activity: 0.6614661654135339\n"
     ]
    },
    {
     "name": "stderr",
     "output_type": "stream",
     "text": [
      "train:  46%|████▌     | 666/1451 [16:02<18:33,  1.42s/it]"
     ]
    },
    {
     "name": "stdout",
     "output_type": "stream",
     "text": [
      "Training metrics: 0.7863652679071463| Distance: 0.8163645356009996| Speed: 0.7678303303303303 | Activity: 0.6619744744744744\n"
     ]
    },
    {
     "name": "stderr",
     "output_type": "stream",
     "text": [
      "train:  46%|████▌     | 667/1451 [16:03<18:25,  1.41s/it]"
     ]
    },
    {
     "name": "stdout",
     "output_type": "stream",
     "text": [
      "Training metrics: 0.7864446740700067| Distance: 0.81633207797275| Speed: 0.7679910044977512 | Activity: 0.6624812593703149\n"
     ]
    },
    {
     "name": "stderr",
     "output_type": "stream",
     "text": [
      "train:  46%|████▌     | 668/1451 [16:05<18:23,  1.41s/it]"
     ]
    },
    {
     "name": "stdout",
     "output_type": "stream",
     "text": [
      "Training metrics: 0.7866004788849505| Distance: 0.8165210077224224| Speed: 0.7679640718562875 | Activity: 0.6629865269461078\n"
     ]
    },
    {
     "name": "stderr",
     "output_type": "stream",
     "text": [
      "train:  46%|████▌     | 669/1451 [16:06<18:49,  1.44s/it]"
     ]
    },
    {
     "name": "stdout",
     "output_type": "stream",
     "text": [
      "Training metrics: 0.7866989481882385| Distance: 0.8167080128000288| Speed: 0.7679372197309418 | Activity: 0.6629297458893871\n"
     ]
    },
    {
     "name": "stderr",
     "output_type": "stream",
     "text": [
      "train:  46%|████▌     | 670/1451 [16:08<18:54,  1.45s/it]"
     ]
    },
    {
     "name": "stdout",
     "output_type": "stream",
     "text": [
      "Training metrics: 0.7864976500245768| Distance: 0.8164886206877278| Speed: 0.7677238805970149 | Activity: 0.6628731343283583\n"
     ]
    },
    {
     "name": "stderr",
     "output_type": "stream",
     "text": [
      "train:  46%|████▌     | 671/1451 [16:09<18:51,  1.45s/it]"
     ]
    },
    {
     "name": "stdout",
     "output_type": "stream",
     "text": [
      "Training metrics: 0.7864530622167024| Distance: 0.8164058736895362| Speed: 0.7676974664679582 | Activity: 0.6630029806259314\n"
     ]
    },
    {
     "name": "stderr",
     "output_type": "stream",
     "text": [
      "train:  46%|████▋     | 672/1451 [16:11<18:48,  1.45s/it]"
     ]
    },
    {
     "name": "stdout",
     "output_type": "stream",
     "text": [
      "Training metrics: 0.7863236162163264| Distance: 0.8163987353605442| Speed: 0.7672991071428571 | Activity: 0.6629464285714286\n"
     ]
    },
    {
     "name": "stderr",
     "output_type": "stream",
     "text": [
      "train:  46%|████▋     | 673/1451 [16:12<18:19,  1.41s/it]"
     ]
    },
    {
     "name": "stdout",
     "output_type": "stream",
     "text": [
      "Training metrics: 0.7864563408047861| Distance: 0.8164255011431922| Speed: 0.7676448736998515 | Activity: 0.663075780089153\n"
     ]
    },
    {
     "name": "stderr",
     "output_type": "stream",
     "text": [
      "train:  46%|████▋     | 674/1451 [16:13<18:33,  1.43s/it]"
     ]
    },
    {
     "name": "stdout",
     "output_type": "stream",
     "text": [
      "Training metrics: 0.78660371038175| Distance: 0.8165699821891681| Speed: 0.7678041543026706 | Activity: 0.6632047477744807\n"
     ]
    },
    {
     "name": "stderr",
     "output_type": "stream",
     "text": [
      "train:  47%|████▋     | 675/1451 [16:15<18:34,  1.44s/it]"
     ]
    },
    {
     "name": "stdout",
     "output_type": "stream",
     "text": [
      "Training metrics: 0.7867629333751709| Distance: 0.8165801976005935| Speed: 0.7681481481481481 | Activity: 0.6637037037037037\n"
     ]
    },
    {
     "name": "stderr",
     "output_type": "stream",
     "text": [
      "train:  47%|████▋     | 676/1451 [16:16<18:22,  1.42s/it]"
     ]
    },
    {
     "name": "stdout",
     "output_type": "stream",
     "text": [
      "Training metrics: 0.7867852372846261| Distance: 0.8166403363027792| Speed: 0.7681213017751479 | Activity: 0.663646449704142\n"
     ]
    },
    {
     "name": "stderr",
     "output_type": "stream",
     "text": [
      "train:  47%|████▋     | 677/1451 [16:18<18:17,  1.42s/it]"
     ]
    },
    {
     "name": "stdout",
     "output_type": "stream",
     "text": [
      "Training metrics: 0.7868478945482202| Distance: 0.8165830246409285| Speed: 0.7682791728212703 | Activity: 0.6641432791728212\n"
     ]
    },
    {
     "name": "stderr",
     "output_type": "stream",
     "text": [
      "train:  47%|████▋     | 678/1451 [16:19<18:39,  1.45s/it]"
     ]
    },
    {
     "name": "stdout",
     "output_type": "stream",
     "text": [
      "Training metrics: 0.7867962610402833| Distance: 0.816458615991426| Speed: 0.7682522123893806 | Activity: 0.6644542772861357\n"
     ]
    },
    {
     "name": "stderr",
     "output_type": "stream",
     "text": [
      "train:  47%|████▋     | 679/1451 [16:21<18:53,  1.47s/it]"
     ]
    },
    {
     "name": "stdout",
     "output_type": "stream",
     "text": [
      "Training metrics: 0.7868649092706743| Distance: 0.8164427427461656| Speed: 0.7684094256259205 | Activity: 0.6647643593519882\n"
     ]
    },
    {
     "name": "stderr",
     "output_type": "stream",
     "text": [
      "train:  47%|████▋     | 680/1451 [16:22<18:28,  1.44s/it]"
     ]
    },
    {
     "name": "stdout",
     "output_type": "stream",
     "text": [
      "Training metrics: 0.7868973771386757| Distance: 0.8164282266036754| Speed: 0.7685661764705882 | Activity: 0.6647058823529411\n"
     ]
    },
    {
     "name": "stderr",
     "output_type": "stream",
     "text": [
      "train:  47%|████▋     | 681/1451 [16:23<18:32,  1.45s/it]"
     ]
    },
    {
     "name": "stdout",
     "output_type": "stream",
     "text": [
      "Training metrics: 0.7871291379581347| Distance: 0.8165625133369795| Speed: 0.768906020558003 | Activity: 0.6651982378854625\n"
     ]
    },
    {
     "name": "stderr",
     "output_type": "stream",
     "text": [
      "train:  47%|████▋     | 682/1451 [16:25<18:03,  1.41s/it]"
     ]
    },
    {
     "name": "stdout",
     "output_type": "stream",
     "text": [
      "Training metrics: 0.7870555840167945| Distance: 0.8165552499986657| Speed: 0.7686950146627566 | Activity: 0.6651392961876833\n"
     ]
    },
    {
     "name": "stderr",
     "output_type": "stream",
     "text": [
      "train:  47%|████▋     | 683/1451 [16:26<18:07,  1.42s/it]"
     ]
    },
    {
     "name": "stdout",
     "output_type": "stream",
     "text": [
      "Training metrics: 0.7869072921486101| Distance: 0.8163315776903384| Speed: 0.7686676427525623 | Activity: 0.6650805270863837\n"
     ]
    },
    {
     "name": "stderr",
     "output_type": "stream",
     "text": [
      "train:  47%|████▋     | 684/1451 [16:28<18:02,  1.41s/it]"
     ]
    },
    {
     "name": "stdout",
     "output_type": "stream",
     "text": [
      "Training metrics: 0.7869952790369326| Distance: 0.8163493442038546| Speed: 0.7688230994152047 | Activity: 0.6653874269005848\n"
     ]
    },
    {
     "name": "stderr",
     "output_type": "stream",
     "text": [
      "train:  47%|████▋     | 685/1451 [16:29<17:43,  1.39s/it]"
     ]
    },
    {
     "name": "stdout",
     "output_type": "stream",
     "text": [
      "Training metrics: 0.7868709653101151| Distance: 0.8164090297747661| Speed: 0.7684306569343066 | Activity: 0.6649635036496351\n"
     ]
    },
    {
     "name": "stderr",
     "output_type": "stream",
     "text": [
      "train:  47%|████▋     | 686/1451 [16:30<18:19,  1.44s/it]"
     ]
    },
    {
     "name": "stdout",
     "output_type": "stream",
     "text": [
      "Training metrics: 0.7868893244714182| Distance: 0.8164931403969703| Speed: 0.7682215743440233 | Activity: 0.6652696793002916\n"
     ]
    },
    {
     "name": "stderr",
     "output_type": "stream",
     "text": [
      "train:  47%|████▋     | 687/1451 [16:32<18:03,  1.42s/it]"
     ]
    },
    {
     "name": "stdout",
     "output_type": "stream",
     "text": [
      "Training metrics: 0.7868513083339732| Distance: 0.8163618360636578| Speed: 0.7683770014556041 | Activity: 0.6652110625909753\n"
     ]
    },
    {
     "name": "stderr",
     "output_type": "stream",
     "text": [
      "train:  47%|████▋     | 688/1451 [16:33<18:11,  1.43s/it]"
     ]
    },
    {
     "name": "stdout",
     "output_type": "stream",
     "text": [
      "Training metrics: 0.7865961728359799| Distance: 0.8160505496878735| Speed: 0.7681686046511628 | Activity: 0.6651526162790697\n"
     ]
    },
    {
     "name": "stderr",
     "output_type": "stream",
     "text": [
      "train:  47%|████▋     | 689/1451 [16:35<17:34,  1.38s/it]"
     ]
    },
    {
     "name": "stdout",
     "output_type": "stream",
     "text": [
      "Training metrics: 0.7864765908793789| Distance: 0.8159043810253801| Speed: 0.7681422351233672 | Activity: 0.6649129172714079\n"
     ]
    },
    {
     "name": "stderr",
     "output_type": "stream",
     "text": [
      "train:  48%|████▊     | 690/1451 [16:36<17:26,  1.38s/it]"
     ]
    },
    {
     "name": "stdout",
     "output_type": "stream",
     "text": [
      "Training metrics: 0.7866679775350217| Distance: 0.8160951799496741| Speed: 0.7682971014492753 | Activity: 0.6652173913043479\n"
     ]
    },
    {
     "name": "stderr",
     "output_type": "stream",
     "text": [
      "train:  48%|████▊     | 691/1451 [16:37<17:17,  1.37s/it]"
     ]
    },
    {
     "name": "stdout",
     "output_type": "stream",
     "text": [
      "Training metrics: 0.7865486377769939| Distance: 0.8156780238878507| Speed: 0.7686324167872648 | Activity: 0.665520984081042\n"
     ]
    },
    {
     "name": "stderr",
     "output_type": "stream",
     "text": [
      "train:  48%|████▊     | 692/1451 [16:39<17:42,  1.40s/it]"
     ]
    },
    {
     "name": "stdout",
     "output_type": "stream",
     "text": [
      "Training metrics: 0.7866593294337463| Distance: 0.8156147783433345| Speed: 0.7689667630057804 | Activity: 0.6660043352601156\n"
     ]
    },
    {
     "name": "stderr",
     "output_type": "stream",
     "text": [
      "train:  48%|████▊     | 693/1451 [16:40<17:35,  1.39s/it]"
     ]
    },
    {
     "name": "stdout",
     "output_type": "stream",
     "text": [
      "Training metrics: 0.7866958460578882| Distance: 0.8155188102888807| Speed: 0.7691197691197691 | Activity: 0.6664862914862915\n"
     ]
    },
    {
     "name": "stderr",
     "output_type": "stream",
     "text": [
      "train:  48%|████▊     | 694/1451 [16:42<17:34,  1.39s/it]"
     ]
    },
    {
     "name": "stdout",
     "output_type": "stream",
     "text": [
      "Training metrics: 0.7868257211767314| Distance: 0.8154888340457533| Speed: 0.7694524495677233 | Activity: 0.6669668587896254\n"
     ]
    },
    {
     "name": "stderr",
     "output_type": "stream",
     "text": [
      "train:  48%|████▊     | 695/1451 [16:43<17:59,  1.43s/it]"
     ]
    },
    {
     "name": "stdout",
     "output_type": "stream",
     "text": [
      "Training metrics: 0.7867445292277797| Distance: 0.8154675007513355| Speed: 0.7692446043165467 | Activity: 0.6669064748201439\n"
     ]
    },
    {
     "name": "stderr",
     "output_type": "stream",
     "text": [
      "train:  48%|████▊     | 696/1451 [16:44<17:57,  1.43s/it]"
     ]
    },
    {
     "name": "stdout",
     "output_type": "stream",
     "text": [
      "Training metrics: 0.7867448464989525| Distance: 0.8153721579580243| Speed: 0.7693965517241379 | Activity: 0.6670258620689655\n"
     ]
    },
    {
     "name": "stderr",
     "output_type": "stream",
     "text": [
      "train:  48%|████▊     | 697/1451 [16:46<17:53,  1.42s/it]"
     ]
    },
    {
     "name": "stdout",
     "output_type": "stream",
     "text": [
      "Training metrics: 0.7868886348826902| Distance: 0.815366758759529| Speed: 0.7697274031563845 | Activity: 0.6675035868005739\n"
     ]
    },
    {
     "name": "stderr",
     "output_type": "stream",
     "text": [
      "train:  48%|████▊     | 698/1451 [16:47<17:44,  1.41s/it]"
     ]
    },
    {
     "name": "stdout",
     "output_type": "stream",
     "text": [
      "Training metrics: 0.7868529281707725| Distance: 0.8152718334842388| Speed: 0.7696991404011462 | Activity: 0.6678008595988538\n"
     ]
    },
    {
     "name": "stderr",
     "output_type": "stream",
     "text": [
      "train:  48%|████▊     | 699/1451 [16:49<17:27,  1.39s/it]"
     ]
    },
    {
     "name": "stdout",
     "output_type": "stream",
     "text": [
      "Training metrics: 0.7870285181501581| Distance: 0.8153801482760142| Speed: 0.7700286123032904 | Activity: 0.6679184549356223\n"
     ]
    },
    {
     "name": "stderr",
     "output_type": "stream",
     "text": [
      "train:  48%|████▊     | 700/1451 [16:50<17:22,  1.39s/it]"
     ]
    },
    {
     "name": "stdout",
     "output_type": "stream",
     "text": [
      "Training metrics: 0.7869893207296023| Distance: 0.8153095821683849| Speed: 0.77 | Activity: 0.6680357142857143\n"
     ]
    },
    {
     "name": "stderr",
     "output_type": "stream",
     "text": [
      "train:  48%|████▊     | 701/1451 [16:51<17:05,  1.37s/it]"
     ]
    },
    {
     "name": "stdout",
     "output_type": "stream",
     "text": [
      "Training metrics: 0.7871888229484859| Distance: 0.8154585470444331| Speed: 0.7703281027104137 | Activity: 0.6681526390870185\n"
     ]
    },
    {
     "name": "stderr",
     "output_type": "stream",
     "text": [
      "train:  48%|████▊     | 702/1451 [16:53<17:31,  1.40s/it]"
     ]
    },
    {
     "name": "stdout",
     "output_type": "stream",
     "text": [
      "Training metrics: 0.7871978607837059| Distance: 0.8153796255227008| Speed: 0.770477207977208 | Activity: 0.6682692307692307\n"
     ]
    },
    {
     "name": "stderr",
     "output_type": "stream",
     "text": [
      "train:  48%|████▊     | 703/1451 [16:54<17:05,  1.37s/it]"
     ]
    },
    {
     "name": "stdout",
     "output_type": "stream",
     "text": [
      "Training metrics: 0.7874075388215571| Distance: 0.8154871972298593| Speed: 0.7708036984352774 | Activity: 0.6687411095305832\n"
     ]
    },
    {
     "name": "stderr",
     "output_type": "stream",
     "text": [
      "train:  49%|████▊     | 704/1451 [16:55<17:12,  1.38s/it]"
     ]
    },
    {
     "name": "stdout",
     "output_type": "stream",
     "text": [
      "Training metrics: 0.7876343609592557| Distance: 0.8156832152351231| Speed: 0.7711292613636364 | Activity: 0.6688565340909091\n"
     ]
    },
    {
     "name": "stderr",
     "output_type": "stream",
     "text": [
      "train:  49%|████▊     | 705/1451 [16:57<16:53,  1.36s/it]"
     ]
    },
    {
     "name": "stdout",
     "output_type": "stream",
     "text": [
      "Training metrics: 0.7877237409639228| Distance: 0.8157097810391619| Speed: 0.7712765957446809 | Activity: 0.6691489361702128\n"
     ]
    },
    {
     "name": "stderr",
     "output_type": "stream",
     "text": [
      "train:  49%|████▊     | 706/1451 [16:58<17:15,  1.39s/it]"
     ]
    },
    {
     "name": "stdout",
     "output_type": "stream",
     "text": [
      "Training metrics: 0.7878289149109935| Distance: 0.8157925257959431| Speed: 0.7714235127478754 | Activity: 0.6692634560906515\n"
     ]
    },
    {
     "name": "stderr",
     "output_type": "stream",
     "text": [
      "train:  49%|████▊     | 707/1451 [17:00<17:15,  1.39s/it]"
     ]
    },
    {
     "name": "stdout",
     "output_type": "stream",
     "text": [
      "Training metrics: 0.7878807344796684| Distance: 0.815698206688179| Speed: 0.7717468175388967 | Activity: 0.6693776520509194\n"
     ]
    },
    {
     "name": "stderr",
     "output_type": "stream",
     "text": [
      "train:  49%|████▉     | 708/1451 [17:01<17:12,  1.39s/it]"
     ]
    },
    {
     "name": "stdout",
     "output_type": "stream",
     "text": [
      "Training metrics: 0.7877398679962926| Distance: 0.8157246387508832| Speed: 0.7713629943502824 | Activity: 0.6689618644067796\n"
     ]
    },
    {
     "name": "stderr",
     "output_type": "stream",
     "text": [
      "train:  49%|████▉     | 709/1451 [17:02<17:06,  1.38s/it]"
     ]
    },
    {
     "name": "stdout",
     "output_type": "stream",
     "text": [
      "Training metrics: 0.7877177952963842| Distance: 0.8157426348498739| Speed: 0.7711565585331452 | Activity: 0.6692524682651622\n"
     ]
    },
    {
     "name": "stderr",
     "output_type": "stream",
     "text": [
      "train:  49%|████▉     | 710/1451 [17:04<17:14,  1.40s/it]"
     ]
    },
    {
     "name": "stdout",
     "output_type": "stream",
     "text": [
      "Training metrics: 0.7878911271842465| Distance: 0.8157927237108334| Speed: 0.7714788732394366 | Activity: 0.6697183098591549\n"
     ]
    },
    {
     "name": "stderr",
     "output_type": "stream",
     "text": [
      "train:  49%|████▉     | 711/1451 [17:05<16:56,  1.37s/it]"
     ]
    },
    {
     "name": "stdout",
     "output_type": "stream",
     "text": [
      "Training metrics: 0.7878387605663802| Distance: 0.8157310331990072| Speed: 0.7714486638537271 | Activity: 0.6696554149085795\n"
     ]
    },
    {
     "name": "stderr",
     "output_type": "stream",
     "text": [
      "train:  49%|████▉     | 712/1451 [17:07<16:51,  1.37s/it]"
     ]
    },
    {
     "name": "stdout",
     "output_type": "stream",
     "text": [
      "Training metrics: 0.7880289918516504| Distance: 0.815868778554249| Speed: 0.7717696629213483 | Activity: 0.6697682584269663\n"
     ]
    },
    {
     "name": "stderr",
     "output_type": "stream",
     "text": [
      "train:  49%|████▉     | 713/1451 [17:08<17:27,  1.42s/it]"
     ]
    },
    {
     "name": "stdout",
     "output_type": "stream",
     "text": [
      "Training metrics: 0.7877870469689026| Distance: 0.8156958029191853| Speed: 0.7713884992987378 | Activity: 0.6695301542776999\n"
     ]
    },
    {
     "name": "stderr",
     "output_type": "stream",
     "text": [
      "train:  49%|████▉     | 714/1451 [17:09<17:11,  1.40s/it]"
     ]
    },
    {
     "name": "stdout",
     "output_type": "stream",
     "text": [
      "Training metrics: 0.7877075600449586| Distance: 0.8155303405044363| Speed: 0.7715336134453782 | Activity: 0.6692927170868347\n"
     ]
    },
    {
     "name": "stderr",
     "output_type": "stream",
     "text": [
      "train:  49%|████▉     | 715/1451 [17:11<16:53,  1.38s/it]"
     ]
    },
    {
     "name": "stdout",
     "output_type": "stream",
     "text": [
      "Training metrics: 0.7878813471637265| Distance: 0.8156122685829013| Speed: 0.7718531468531469 | Activity: 0.6695804195804196\n"
     ]
    },
    {
     "name": "stderr",
     "output_type": "stream",
     "text": [
      "train:  49%|████▉     | 716/1451 [17:12<17:11,  1.40s/it]"
     ]
    },
    {
     "name": "stdout",
     "output_type": "stream",
     "text": [
      "Training metrics: 0.7879607241894174| Distance: 0.8157411045615061| Speed: 0.771822625698324 | Activity: 0.6696927374301676\n"
     ]
    },
    {
     "name": "stderr",
     "output_type": "stream",
     "text": [
      "train:  49%|████▉     | 717/1451 [17:14<17:15,  1.41s/it]"
     ]
    },
    {
     "name": "stdout",
     "output_type": "stream",
     "text": [
      "Training metrics: 0.7880257584984438| Distance: 0.8156717081436173| Speed: 0.7721408647140865 | Activity: 0.6698047419804742\n"
     ]
    },
    {
     "name": "stderr",
     "output_type": "stream",
     "text": [
      "train:  49%|████▉     | 718/1451 [17:15<17:46,  1.45s/it]"
     ]
    },
    {
     "name": "stdout",
     "output_type": "stream",
     "text": [
      "Training metrics: 0.7881544096936484| Distance: 0.8157378508821714| Speed: 0.7722841225626741 | Activity: 0.6702646239554317\n"
     ]
    },
    {
     "name": "stderr",
     "output_type": "stream",
     "text": [
      "train:  50%|████▉     | 719/1451 [17:17<17:58,  1.47s/it]"
     ]
    },
    {
     "name": "stdout",
     "output_type": "stream",
     "text": [
      "Training metrics: 0.788262899189304| Distance: 0.8157708032385479| Speed: 0.7724269819193325 | Activity: 0.6707232267037552\n"
     ]
    },
    {
     "name": "stderr",
     "output_type": "stream",
     "text": [
      "train:  50%|████▉     | 720/1451 [17:18<17:44,  1.46s/it]"
     ]
    },
    {
     "name": "stdout",
     "output_type": "stream",
     "text": [
      "Training metrics: 0.7884049261216138| Distance: 0.815773256498986| Speed: 0.7727430555555556 | Activity: 0.6711805555555556\n"
     ]
    },
    {
     "name": "stderr",
     "output_type": "stream",
     "text": [
      "train:  50%|████▉     | 721/1451 [17:20<18:18,  1.50s/it]"
     ]
    },
    {
     "name": "stdout",
     "output_type": "stream",
     "text": [
      "Training metrics: 0.788576299802394| Distance: 0.8159408510345033| Speed: 0.7728848821081831 | Activity: 0.6714632454923717\n"
     ]
    },
    {
     "name": "stderr",
     "output_type": "stream",
     "text": [
      "train:  50%|████▉     | 722/1451 [17:21<18:17,  1.51s/it]"
     ]
    },
    {
     "name": "stdout",
     "output_type": "stream",
     "text": [
      "Training metrics: 0.7887125727250557| Distance: 0.8159348511253236| Speed: 0.7731994459833795 | Activity: 0.6719182825484764\n"
     ]
    },
    {
     "name": "stderr",
     "output_type": "stream",
     "text": [
      "train:  50%|████▉     | 723/1451 [17:23<17:49,  1.47s/it]"
     ]
    },
    {
     "name": "stdout",
     "output_type": "stream",
     "text": [
      "Training metrics: 0.7885998517358901| Distance: 0.8157162120909373| Speed: 0.7731673582295989 | Activity: 0.6721991701244814\n"
     ]
    },
    {
     "name": "stderr",
     "output_type": "stream",
     "text": [
      "train:  50%|████▉     | 724/1451 [17:24<17:25,  1.44s/it]"
     ]
    },
    {
     "name": "stdout",
     "output_type": "stream",
     "text": [
      "Training metrics: 0.7887464200312251| Distance: 0.8157571549323364| Speed: 0.7734806629834254 | Activity: 0.6724792817679558\n"
     ]
    },
    {
     "name": "stderr",
     "output_type": "stream",
     "text": [
      "train:  50%|████▉     | 725/1451 [17:25<17:30,  1.45s/it]"
     ]
    },
    {
     "name": "stdout",
     "output_type": "stream",
     "text": [
      "Training metrics: 0.7887858752711646| Distance: 0.8158212863714815| Speed: 0.773448275862069 | Activity: 0.6725862068965517\n"
     ]
    },
    {
     "name": "stderr",
     "output_type": "stream",
     "text": [
      "train:  50%|█████     | 726/1451 [17:27<17:22,  1.44s/it]"
     ]
    },
    {
     "name": "stdout",
     "output_type": "stream",
     "text": [
      "Training metrics: 0.78885059477912| Distance: 0.8158701373040431| Speed: 0.7735881542699724 | Activity: 0.6725206611570248\n"
     ]
    },
    {
     "name": "stderr",
     "output_type": "stream",
     "text": [
      "train:  50%|█████     | 727/1451 [17:28<17:00,  1.41s/it]"
     ]
    },
    {
     "name": "stdout",
     "output_type": "stream",
     "text": [
      "Training metrics: 0.7888946908103397| Distance: 0.8160280610250275| Speed: 0.7733837689133425 | Activity: 0.672627235213205\n"
     ]
    },
    {
     "name": "stderr",
     "output_type": "stream",
     "text": [
      "train:  50%|█████     | 728/1451 [17:30<17:01,  1.41s/it]"
     ]
    },
    {
     "name": "stdout",
     "output_type": "stream",
     "text": [
      "Training metrics: 0.7888781326858295| Distance: 0.815998810886639| Speed: 0.7733516483516484 | Activity: 0.6727335164835165\n"
     ]
    },
    {
     "name": "stderr",
     "output_type": "stream",
     "text": [
      "train:  50%|█████     | 729/1451 [17:31<16:44,  1.39s/it]"
     ]
    },
    {
     "name": "stdout",
     "output_type": "stream",
     "text": [
      "Training metrics: 0.7890036734045806| Distance: 0.8160635068860063| Speed: 0.7736625514403292 | Activity: 0.6726680384087792\n"
     ]
    },
    {
     "name": "stderr",
     "output_type": "stream",
     "text": [
      "train:  50%|█████     | 730/1451 [17:32<16:48,  1.40s/it]"
     ]
    },
    {
     "name": "stdout",
     "output_type": "stream",
     "text": [
      "Training metrics: 0.7888777800456606| Distance: 0.8161661630897998| Speed: 0.7731164383561644 | Activity: 0.6724315068493151\n"
     ]
    },
    {
     "name": "stderr",
     "output_type": "stream",
     "text": [
      "train:  50%|█████     | 731/1451 [17:34<17:39,  1.47s/it]"
     ]
    },
    {
     "name": "stdout",
     "output_type": "stream",
     "text": [
      "Training metrics: 0.7889867633573695| Distance: 0.8162604286690313| Speed: 0.7732558139534884 | Activity: 0.6725376196990424\n"
     ]
    },
    {
     "name": "stderr",
     "output_type": "stream",
     "text": [
      "train:  50%|█████     | 732/1451 [17:35<17:32,  1.46s/it]"
     ]
    },
    {
     "name": "stdout",
     "output_type": "stream",
     "text": [
      "Training metrics: 0.7891499076826678| Distance: 0.8164167404911495| Speed: 0.7733948087431693 | Activity: 0.6728142076502732\n"
     ]
    },
    {
     "name": "stderr",
     "output_type": "stream",
     "text": [
      "train:  51%|█████     | 733/1451 [17:37<17:18,  1.45s/it]"
     ]
    },
    {
     "name": "stdout",
     "output_type": "stream",
     "text": [
      "Training metrics: 0.7891517799647546| Distance: 0.8163330029880976| Speed: 0.7735334242837654 | Activity: 0.6729195088676672\n"
     ]
    },
    {
     "name": "stderr",
     "output_type": "stream",
     "text": [
      "train:  51%|█████     | 734/1451 [17:38<17:34,  1.47s/it]"
     ]
    },
    {
     "name": "stdout",
     "output_type": "stream",
     "text": [
      "Training metrics: 0.7891041674644458| Distance: 0.8161954108058656| Speed: 0.7736716621253406 | Activity: 0.6728542234332425\n"
     ]
    },
    {
     "name": "stderr",
     "output_type": "stream",
     "text": [
      "train:  51%|█████     | 735/1451 [17:40<17:33,  1.47s/it]"
     ]
    },
    {
     "name": "stdout",
     "output_type": "stream",
     "text": [
      "Training metrics: 0.7892340806022644| Distance: 0.8162121298019602| Speed: 0.7739795918367347 | Activity: 0.6731292517006803\n"
     ]
    },
    {
     "name": "stderr",
     "output_type": "stream",
     "text": [
      "train:  51%|█████     | 736/1451 [17:41<17:06,  1.44s/it]"
     ]
    },
    {
     "name": "stdout",
     "output_type": "stream",
     "text": [
      "Training metrics: 0.7894348024356365| Distance: 0.8163757123927277| Speed: 0.7742866847826086 | Activity: 0.673233695652174\n"
     ]
    },
    {
     "name": "stderr",
     "output_type": "stream",
     "text": [
      "train:  51%|█████     | 737/1451 [17:43<17:03,  1.43s/it]"
     ]
    },
    {
     "name": "stdout",
     "output_type": "stream",
     "text": [
      "Training metrics: 0.7895243038117825| Distance: 0.8163543914728263| Speed: 0.7745929443690638 | Activity: 0.673337856173677\n"
     ]
    },
    {
     "name": "stderr",
     "output_type": "stream",
     "text": [
      "train:  51%|█████     | 738/1451 [17:44<17:22,  1.46s/it]"
     ]
    },
    {
     "name": "stdout",
     "output_type": "stream",
     "text": [
      "Training metrics: 0.7896240639207769| Distance: 0.8165482366159289| Speed: 0.774559620596206 | Activity: 0.6732723577235772\n"
     ]
    },
    {
     "name": "stderr",
     "output_type": "stream",
     "text": [
      "train:  51%|█████     | 739/1451 [17:46<17:14,  1.45s/it]"
     ]
    },
    {
     "name": "stdout",
     "output_type": "stream",
     "text": [
      "Training metrics: 0.7896833120203102| Distance: 0.8166181046075983| Speed: 0.7745263870094723 | Activity: 0.6735453315290933\n"
     ]
    },
    {
     "name": "stderr",
     "output_type": "stream",
     "text": [
      "train:  51%|█████     | 740/1451 [17:47<16:54,  1.43s/it]"
     ]
    },
    {
     "name": "stdout",
     "output_type": "stream",
     "text": [
      "Training metrics: 0.7899129160902302| Distance: 0.816803058348582| Speed: 0.7748310810810811 | Activity: 0.6738175675675676\n"
     ]
    },
    {
     "name": "stderr",
     "output_type": "stream",
     "text": [
      "train:  51%|█████     | 741/1451 [17:48<16:38,  1.41s/it]"
     ]
    },
    {
     "name": "stdout",
     "output_type": "stream",
     "text": [
      "Training metrics: 0.7899932837472801| Distance: 0.8169647396687684| Speed: 0.7747975708502024 | Activity: 0.6737516869095816\n"
     ]
    },
    {
     "name": "stderr",
     "output_type": "stream",
     "text": [
      "train:  51%|█████     | 742/1451 [17:50<16:34,  1.40s/it]"
     ]
    },
    {
     "name": "stdout",
     "output_type": "stream",
     "text": [
      "Training metrics: 0.7900613821390657| Distance: 0.8170497429182095| Speed: 0.7747641509433962 | Activity: 0.6740229110512129\n"
     ]
    },
    {
     "name": "stderr",
     "output_type": "stream",
     "text": [
      "train:  51%|█████     | 743/1451 [17:51<17:14,  1.46s/it]"
     ]
    },
    {
     "name": "stdout",
     "output_type": "stream",
     "text": [
      "Training metrics: 0.7899410401230638| Distance: 0.8169048739601535| Speed: 0.7745625841184388 | Activity: 0.6742934051144011\n"
     ]
    },
    {
     "name": "stderr",
     "output_type": "stream",
     "text": [
      "train:  51%|█████▏    | 744/1451 [17:53<16:52,  1.43s/it]"
     ]
    },
    {
     "name": "stdout",
     "output_type": "stream",
     "text": [
      "Training metrics: 0.7899202394642479| Distance: 0.8169817611142485| Speed: 0.774361559139785 | Activity: 0.6742271505376344\n"
     ]
    },
    {
     "name": "stderr",
     "output_type": "stream",
     "text": [
      "train:  51%|█████▏    | 745/1451 [17:54<16:37,  1.41s/it]"
     ]
    },
    {
     "name": "stdout",
     "output_type": "stream",
     "text": [
      "Training metrics: 0.7901112545726051| Distance: 0.8171037688066908| Speed: 0.7746644295302013 | Activity: 0.674496644295302\n"
     ]
    },
    {
     "name": "stderr",
     "output_type": "stream",
     "text": [
      "train:  51%|█████▏    | 746/1451 [17:55<16:17,  1.39s/it]"
     ]
    },
    {
     "name": "stdout",
     "output_type": "stream",
     "text": [
      "Training metrics: 0.7902410857996714| Distance: 0.8170964030530716| Speed: 0.7749664879356568 | Activity: 0.6749329758713136\n"
     ]
    },
    {
     "name": "stderr",
     "output_type": "stream",
     "text": [
      "train:  51%|█████▏    | 747/1451 [17:57<16:35,  1.41s/it]"
     ]
    },
    {
     "name": "stdout",
     "output_type": "stream",
     "text": [
      "Training metrics: 0.7902391493106479| Distance: 0.8172325848617895| Speed: 0.7747657295850067 | Activity: 0.6746987951807228\n"
     ]
    },
    {
     "name": "stderr",
     "output_type": "stream",
     "text": [
      "train:  52%|█████▏    | 748/1451 [17:58<16:08,  1.38s/it]"
     ]
    },
    {
     "name": "stdout",
     "output_type": "stream",
     "text": [
      "Training metrics: 0.7903700425124381| Distance: 0.8172555521374859| Speed: 0.7750668449197861 | Activity: 0.6749665775401069\n"
     ]
    },
    {
     "name": "stderr",
     "output_type": "stream",
     "text": [
      "train:  52%|█████▏    | 749/1451 [18:00<16:44,  1.43s/it]"
     ]
    },
    {
     "name": "stdout",
     "output_type": "stream",
     "text": [
      "Training metrics: 0.7904624743934536| Distance: 0.8173540127296325| Speed: 0.7750333778371161 | Activity: 0.6754005340453939\n"
     ]
    },
    {
     "name": "stderr",
     "output_type": "stream",
     "text": [
      "train:  52%|█████▏    | 750/1451 [18:01<17:26,  1.49s/it]"
     ]
    },
    {
     "name": "stdout",
     "output_type": "stream",
     "text": [
      "Training metrics: 0.7904172967355166| Distance: 0.8171954945591945| Speed: 0.7751666666666667 | Activity: 0.6755\n"
     ]
    },
    {
     "name": "stderr",
     "output_type": "stream",
     "text": [
      "train:  52%|█████▏    | 751/1451 [18:03<17:10,  1.47s/it]"
     ]
    },
    {
     "name": "stdout",
     "output_type": "stream",
     "text": [
      "Training metrics: 0.7905426935757639| Distance: 0.8172105256888565| Speed: 0.7754660452729694 | Activity: 0.6757656458055925\n"
     ]
    },
    {
     "name": "stderr",
     "output_type": "stream",
     "text": [
      "train:  52%|█████▏    | 752/1451 [18:04<17:45,  1.52s/it]"
     ]
    },
    {
     "name": "stdout",
     "output_type": "stream",
     "text": [
      "Training metrics: 0.7906273498406072| Distance: 0.8172412834222886| Speed: 0.7755984042553191 | Activity: 0.676030585106383\n"
     ]
    },
    {
     "name": "stderr",
     "output_type": "stream",
     "text": [
      "train:  52%|█████▏    | 753/1451 [18:06<16:59,  1.46s/it]"
     ]
    },
    {
     "name": "stdout",
     "output_type": "stream",
     "text": [
      "Training metrics: 0.7906509634656207| Distance: 0.8172259306985669| Speed: 0.775730411686587 | Activity: 0.6759628154050464\n"
     ]
    },
    {
     "name": "stderr",
     "output_type": "stream",
     "text": [
      "train:  52%|█████▏    | 754/1451 [18:07<17:36,  1.52s/it]"
     ]
    },
    {
     "name": "stdout",
     "output_type": "stream",
     "text": [
      "Training metrics: 0.7905165992914845| Distance: 0.8171132092523858| Speed: 0.7755305039787799 | Activity: 0.675895225464191\n"
     ]
    },
    {
     "name": "stderr",
     "output_type": "stream",
     "text": [
      "train:  52%|█████▏    | 755/1451 [18:09<17:35,  1.52s/it]"
     ]
    },
    {
     "name": "stdout",
     "output_type": "stream",
     "text": [
      "Training metrics: 0.7904535125626525| Distance: 0.8170086136529862| Speed: 0.7754966887417218 | Activity: 0.6759933774834437\n"
     ]
    },
    {
     "name": "stderr",
     "output_type": "stream",
     "text": [
      "train:  52%|█████▏    | 756/1451 [18:10<17:27,  1.51s/it]"
     ]
    },
    {
     "name": "stdout",
     "output_type": "stream",
     "text": [
      "Training metrics: 0.7905300071699488| Distance: 0.817136652161555| Speed: 0.7754629629629629 | Activity: 0.6760912698412699\n"
     ]
    },
    {
     "name": "stderr",
     "output_type": "stream",
     "text": [
      "train:  52%|█████▏    | 757/1451 [18:12<17:35,  1.52s/it]"
     ]
    },
    {
     "name": "stdout",
     "output_type": "stream",
     "text": [
      "Training metrics: 0.7906015861532889| Distance: 0.8172564965170405| Speed: 0.7754293262879789 | Activity: 0.6761889035667107\n"
     ]
    },
    {
     "name": "stderr",
     "output_type": "stream",
     "text": [
      "train:  52%|█████▏    | 758/1451 [18:13<17:05,  1.48s/it]"
     ]
    },
    {
     "name": "stdout",
     "output_type": "stream",
     "text": [
      "Training metrics: 0.7907523115923841| Distance: 0.8173983117568759| Speed: 0.7755606860158312 | Activity: 0.6764511873350924\n"
     ]
    },
    {
     "name": "stderr",
     "output_type": "stream",
     "text": [
      "train:  52%|█████▏    | 759/1451 [18:15<16:39,  1.44s/it]"
     ]
    },
    {
     "name": "stdout",
     "output_type": "stream",
     "text": [
      "Training metrics: 0.7908343537252697| Distance: 0.817398494680456| Speed: 0.775691699604743 | Activity: 0.6768774703557312\n"
     ]
    },
    {
     "name": "stderr",
     "output_type": "stream",
     "text": [
      "train:  52%|█████▏    | 760/1451 [18:16<16:20,  1.42s/it]"
     ]
    },
    {
     "name": "stdout",
     "output_type": "stream",
     "text": [
      "Training metrics: 0.7908676747823022| Distance: 0.8174274842862933| Speed: 0.7756578947368421 | Activity: 0.6771381578947369\n"
     ]
    },
    {
     "name": "stderr",
     "output_type": "stream",
     "text": [
      "train:  52%|█████▏    | 761/1451 [18:17<15:59,  1.39s/it]"
     ]
    },
    {
     "name": "stdout",
     "output_type": "stream",
     "text": [
      "Training metrics: 0.7910181736546714| Distance: 0.817487582459932| Speed: 0.7759526938239159 | Activity: 0.6773981603153745\n"
     ]
    },
    {
     "name": "stderr",
     "output_type": "stream",
     "text": [
      "train:  53%|█████▎    | 762/1451 [18:19<16:24,  1.43s/it]"
     ]
    },
    {
     "name": "stdout",
     "output_type": "stream",
     "text": [
      "Training metrics: 0.7910964270544023| Distance: 0.8174277721247913| Speed: 0.776246719160105 | Activity: 0.6776574803149606\n"
     ]
    },
    {
     "name": "stderr",
     "output_type": "stream",
     "text": [
      "train:  53%|█████▎    | 763/1451 [18:20<16:22,  1.43s/it]"
     ]
    },
    {
     "name": "stdout",
     "output_type": "stream",
     "text": [
      "Training metrics: 0.7910106483351299| Distance: 0.8172862050670687| Speed: 0.7762123197903015 | Activity: 0.6777522935779816\n"
     ]
    },
    {
     "name": "stderr",
     "output_type": "stream",
     "text": [
      "train:  53%|█████▎    | 764/1451 [18:22<16:24,  1.43s/it]"
     ]
    },
    {
     "name": "stdout",
     "output_type": "stream",
     "text": [
      "Training metrics: 0.790929749848746| Distance: 0.817070961789795| Speed: 0.7763416230366492 | Activity: 0.6778468586387435\n"
     ]
    },
    {
     "name": "stderr",
     "output_type": "stream",
     "text": [
      "train:  53%|█████▎    | 765/1451 [18:23<16:03,  1.40s/it]"
     ]
    },
    {
     "name": "stdout",
     "output_type": "stream",
     "text": [
      "Training metrics: 0.7909183730452709| Distance: 0.8171896631364539| Speed: 0.7761437908496732 | Activity: 0.6776143790849674\n"
     ]
    },
    {
     "name": "stderr",
     "output_type": "stream",
     "text": [
      "train:  53%|█████▎    | 766/1451 [18:25<16:30,  1.45s/it]"
     ]
    },
    {
     "name": "stdout",
     "output_type": "stream",
     "text": [
      "Training metrics: 0.7911308273325097| Distance: 0.8173818836742872| Speed: 0.7764360313315927 | Activity: 0.6777088772845953\n"
     ]
    },
    {
     "name": "stderr",
     "output_type": "stream",
     "text": [
      "train:  53%|█████▎    | 767/1451 [18:26<16:18,  1.43s/it]"
     ]
    },
    {
     "name": "stdout",
     "output_type": "stream",
     "text": [
      "Training metrics: 0.7913194080505205| Distance: 0.817589061222836| Speed: 0.7765645371577575 | Activity: 0.6779661016949152\n"
     ]
    },
    {
     "name": "stderr",
     "output_type": "stream",
     "text": [
      "train:  53%|█████▎    | 768/1451 [18:28<16:23,  1.44s/it]"
     ]
    },
    {
     "name": "stdout",
     "output_type": "stream",
     "text": [
      "Training metrics: 0.7914393156044595| Distance: 0.8177363159379881| Speed: 0.7765299479166666 | Activity: 0.6783854166666666\n"
     ]
    },
    {
     "name": "stderr",
     "output_type": "stream",
     "text": [
      "train:  53%|█████▎    | 769/1451 [18:29<15:53,  1.40s/it]"
     ]
    },
    {
     "name": "stdout",
     "output_type": "stream",
     "text": [
      "Training metrics: 0.7914730115126298| Distance: 0.8178754786588912| Speed: 0.776332899869961 | Activity: 0.6784785435630689\n"
     ]
    },
    {
     "name": "stderr",
     "output_type": "stream",
     "text": [
      "train:  53%|█████▎    | 770/1451 [18:30<15:49,  1.39s/it]"
     ]
    },
    {
     "name": "stdout",
     "output_type": "stream",
     "text": [
      "Training metrics: 0.7916294950690603| Distance: 0.8180296779289534| Speed: 0.7764610389610389 | Activity: 0.6787337662337662\n"
     ]
    },
    {
     "name": "stderr",
     "output_type": "stream",
     "text": [
      "train:  53%|█████▎    | 771/1451 [18:32<15:36,  1.38s/it]"
     ]
    },
    {
     "name": "stdout",
     "output_type": "stream",
     "text": [
      "Training metrics: 0.7916350448931936| Distance: 0.8180136610736106| Speed: 0.7764267185473411 | Activity: 0.6789883268482491\n"
     ]
    },
    {
     "name": "stderr",
     "output_type": "stream",
     "text": [
      "train:  53%|█████▎    | 772/1451 [18:33<15:21,  1.36s/it]"
     ]
    },
    {
     "name": "stdout",
     "output_type": "stream",
     "text": [
      "Training metrics: 0.7918156126890223| Distance: 0.8181814615628784| Speed: 0.7767163212435233 | Activity: 0.6789183937823834\n"
     ]
    },
    {
     "name": "stderr",
     "output_type": "stream",
     "text": [
      "train:  53%|█████▎    | 773/1451 [18:34<15:25,  1.37s/it]"
     ]
    },
    {
     "name": "stdout",
     "output_type": "stream",
     "text": [
      "Training metrics: 0.7916876314553022| Distance: 0.8177545043444342| Speed: 0.7770051746442432 | Activity: 0.6793337645536869\n"
     ]
    },
    {
     "name": "stderr",
     "output_type": "stream",
     "text": [
      "train:  53%|█████▎    | 774/1451 [18:36<15:35,  1.38s/it]"
     ]
    },
    {
     "name": "stdout",
     "output_type": "stream",
     "text": [
      "Training metrics: 0.7916023079834602| Distance: 0.8176145270869901| Speed: 0.7769702842377261 | Activity: 0.6794250645994832\n"
     ]
    },
    {
     "name": "stderr",
     "output_type": "stream",
     "text": [
      "train:  53%|█████▎    | 775/1451 [18:37<15:23,  1.37s/it]"
     ]
    },
    {
     "name": "stdout",
     "output_type": "stream",
     "text": [
      "Training metrics: 0.79179139824961| Distance: 0.8177168465450488| Speed: 0.777258064516129 | Activity: 0.6798387096774193\n"
     ]
    },
    {
     "name": "stderr",
     "output_type": "stream",
     "text": [
      "train:  53%|█████▎    | 776/1451 [18:38<15:24,  1.37s/it]"
     ]
    },
    {
     "name": "stdout",
     "output_type": "stream",
     "text": [
      "Training metrics: 0.7919769549988742| Distance: 0.8178406724208039| Speed: 0.7775451030927835 | Activity: 0.680090206185567\n"
     ]
    },
    {
     "name": "stderr",
     "output_type": "stream",
     "text": [
      "train:  54%|█████▎    | 777/1451 [18:40<15:24,  1.37s/it]"
     ]
    },
    {
     "name": "stdout",
     "output_type": "stream",
     "text": [
      "Training metrics: 0.791986592572832| Distance: 0.8177522145626135| Speed: 0.7776705276705277 | Activity: 0.6803410553410554\n"
     ]
    },
    {
     "name": "stderr",
     "output_type": "stream",
     "text": [
      "train:  54%|█████▎    | 778/1451 [18:41<15:24,  1.37s/it]"
     ]
    },
    {
     "name": "stdout",
     "output_type": "stream",
     "text": [
      "Training metrics: 0.7921668351242274| Distance: 0.8179483670236694| Speed: 0.7777956298200515 | Activity: 0.6805912596401028\n"
     ]
    },
    {
     "name": "stderr",
     "output_type": "stream",
     "text": [
      "train:  54%|█████▎    | 779/1451 [18:43<15:43,  1.40s/it]"
     ]
    },
    {
     "name": "stdout",
     "output_type": "stream",
     "text": [
      "Training metrics: 0.7923060911308067| Distance: 0.8179695014781738| Speed: 0.7780808729139923 | Activity: 0.6810012836970475\n"
     ]
    },
    {
     "name": "stderr",
     "output_type": "stream",
     "text": [
      "train:  54%|█████▍    | 780/1451 [18:44<15:40,  1.40s/it]"
     ]
    },
    {
     "name": "stdout",
     "output_type": "stream",
     "text": [
      "Training metrics: 0.7922176005468935| Distance: 0.817771855612344| Speed: 0.7782051282051282 | Activity: 0.6809294871794872\n"
     ]
    },
    {
     "name": "stderr",
     "output_type": "stream",
     "text": [
      "train:  54%|█████▍    | 781/1451 [18:45<15:40,  1.40s/it]"
     ]
    },
    {
     "name": "stdout",
     "output_type": "stream",
     "text": [
      "Training metrics: 0.7920614463147289| Distance: 0.8174882406568571| Speed: 0.778169014084507 | Activity: 0.6811779769526248\n"
     ]
    },
    {
     "name": "stderr",
     "output_type": "stream",
     "text": [
      "train:  54%|█████▍    | 782/1451 [18:47<15:57,  1.43s/it]"
     ]
    },
    {
     "name": "stdout",
     "output_type": "stream",
     "text": [
      "Training metrics: 0.7920244716573565| Distance: 0.8174299591561227| Speed: 0.7781329923273658 | Activity: 0.6812659846547314\n"
     ]
    },
    {
     "name": "stderr",
     "output_type": "stream",
     "text": [
      "train:  54%|█████▍    | 783/1451 [18:48<15:38,  1.40s/it]"
     ]
    },
    {
     "name": "stdout",
     "output_type": "stream",
     "text": [
      "Training metrics: 0.7920719553522231| Distance: 0.8173793977028324| Speed: 0.7782567049808429 | Activity: 0.6816730523627076\n"
     ]
    },
    {
     "name": "stderr",
     "output_type": "stream",
     "text": [
      "train:  54%|█████▍    | 784/1451 [18:50<15:31,  1.40s/it]"
     ]
    },
    {
     "name": "stdout",
     "output_type": "stream",
     "text": [
      "Training metrics: 0.7922795822828803| Distance: 0.8175163531245283| Speed: 0.7785395408163265 | Activity: 0.6820790816326531\n"
     ]
    },
    {
     "name": "stderr",
     "output_type": "stream",
     "text": [
      "train:  54%|█████▍    | 785/1451 [18:51<16:05,  1.45s/it]"
     ]
    },
    {
     "name": "stdout",
     "output_type": "stream",
     "text": [
      "Training metrics: 0.7922091182926653| Distance: 0.8175884455620854| Speed: 0.7781847133757962 | Activity: 0.6820063694267516\n"
     ]
    },
    {
     "name": "stderr",
     "output_type": "stream",
     "text": [
      "train:  54%|█████▍    | 786/1451 [18:53<15:51,  1.43s/it]"
     ]
    },
    {
     "name": "stdout",
     "output_type": "stream",
     "text": [
      "Training metrics: 0.7921031960774628| Distance: 0.8174949366346179| Speed: 0.7781488549618321 | Activity: 0.681615776081425\n"
     ]
    },
    {
     "name": "stderr",
     "output_type": "stream",
     "text": [
      "train:  54%|█████▍    | 787/1451 [18:54<15:58,  1.44s/it]"
     ]
    },
    {
     "name": "stdout",
     "output_type": "stream",
     "text": [
      "Training metrics: 0.7921859306409711| Distance: 0.8175303418349094| Speed: 0.7782719186785261 | Activity: 0.681861499364676\n"
     ]
    },
    {
     "name": "stderr",
     "output_type": "stream",
     "text": [
      "train:  54%|█████▍    | 788/1451 [18:55<15:57,  1.44s/it]"
     ]
    },
    {
     "name": "stdout",
     "output_type": "stream",
     "text": [
      "Training metrics: 0.7921347306987451| Distance: 0.817342782975066| Speed: 0.7783946700507615 | Activity: 0.6821065989847716\n"
     ]
    },
    {
     "name": "stderr",
     "output_type": "stream",
     "text": [
      "train:  54%|█████▍    | 789/1451 [18:57<15:39,  1.42s/it]"
     ]
    },
    {
     "name": "stdout",
     "output_type": "stream",
     "text": [
      "Training metrics: 0.7920776401956559| Distance: 0.8171984751042931| Speed: 0.7785171102661597 | Activity: 0.6820342205323194\n"
     ]
    },
    {
     "name": "stderr",
     "output_type": "stream",
     "text": [
      "train:  54%|█████▍    | 790/1451 [18:58<15:23,  1.40s/it]"
     ]
    },
    {
     "name": "stdout",
     "output_type": "stream",
     "text": [
      "Training metrics: 0.7919807346896517| Distance: 0.8168824481114448| Speed: 0.7787974683544304 | Activity: 0.6821202531645569\n"
     ]
    },
    {
     "name": "stderr",
     "output_type": "stream",
     "text": [
      "train:  55%|█████▍    | 791/1451 [19:00<15:45,  1.43s/it]"
     ]
    },
    {
     "name": "stdout",
     "output_type": "stream",
     "text": [
      "Training metrics: 0.7921866395370573| Distance: 0.8170188197931147| Speed: 0.7790771175726928 | Activity: 0.6825221238938053\n"
     ]
    },
    {
     "name": "stderr",
     "output_type": "stream",
     "text": [
      "train:  55%|█████▍    | 792/1451 [19:01<15:51,  1.44s/it]"
     ]
    },
    {
     "name": "stdout",
     "output_type": "stream",
     "text": [
      "Training metrics: 0.7923875333362518| Distance: 0.8171473619577259| Speed: 0.7793560606060606 | Activity: 0.6829229797979798\n"
     ]
    },
    {
     "name": "stderr",
     "output_type": "stream",
     "text": [
      "train:  55%|█████▍    | 793/1451 [19:03<15:27,  1.41s/it]"
     ]
    },
    {
     "name": "stdout",
     "output_type": "stream",
     "text": [
      "Training metrics: 0.7924663024858749| Distance: 0.8172042410073536| Speed: 0.7794766708701135 | Activity: 0.6830075662042875\n"
     ]
    },
    {
     "name": "stderr",
     "output_type": "stream",
     "text": [
      "train:  55%|█████▍    | 794/1451 [19:04<15:29,  1.42s/it]"
     ]
    },
    {
     "name": "stdout",
     "output_type": "stream",
     "text": [
      "Training metrics: 0.7926610430668264| Distance: 0.8173758778233838| Speed: 0.7797544080604534 | Activity: 0.6830919395465995\n"
     ]
    },
    {
     "name": "stderr",
     "output_type": "stream",
     "text": [
      "train:  55%|█████▍    | 795/1451 [19:05<15:07,  1.38s/it]"
     ]
    },
    {
     "name": "stdout",
     "output_type": "stream",
     "text": [
      "Training metrics: 0.7927010484843072| Distance: 0.8173686237841179| Speed: 0.779874213836478 | Activity: 0.6831761006289309\n"
     ]
    },
    {
     "name": "stderr",
     "output_type": "stream",
     "text": [
      "train:  55%|█████▍    | 796/1451 [19:07<15:16,  1.40s/it]"
     ]
    },
    {
     "name": "stdout",
     "output_type": "stream",
     "text": [
      "Training metrics: 0.7927798126403008| Distance: 0.8173476358075366| Speed: 0.7801507537688442 | Activity: 0.6832600502512562\n"
     ]
    },
    {
     "name": "stderr",
     "output_type": "stream",
     "text": [
      "train:  55%|█████▍    | 797/1451 [19:08<15:21,  1.41s/it]"
     ]
    },
    {
     "name": "stdout",
     "output_type": "stream",
     "text": [
      "Training metrics: 0.7928621571783628| Distance: 0.817411416292671| Speed: 0.7802697616060226 | Activity: 0.6833437892095358\n"
     ]
    },
    {
     "name": "stderr",
     "output_type": "stream",
     "text": [
      "train:  55%|█████▍    | 798/1451 [19:10<15:25,  1.42s/it]"
     ]
    },
    {
     "name": "stdout",
     "output_type": "stream",
     "text": [
      "Training metrics: 0.7930397613971385| Distance: 0.8175819331556318| Speed: 0.7803884711779449 | Activity: 0.6837406015037594\n"
     ]
    },
    {
     "name": "stderr",
     "output_type": "stream",
     "text": [
      "train:  55%|█████▌    | 799/1451 [19:11<15:15,  1.40s/it]"
     ]
    },
    {
     "name": "stdout",
     "output_type": "stream",
     "text": [
      "Training metrics: 0.7930150350820966| Distance: 0.8176241406562268| Speed: 0.7801939924906133 | Activity: 0.6838235294117647\n"
     ]
    },
    {
     "name": "stderr",
     "output_type": "stream",
     "text": [
      "train:  55%|█████▌    | 800/1451 [19:12<15:13,  1.40s/it]"
     ]
    },
    {
     "name": "stdout",
     "output_type": "stream",
     "text": [
      "Training metrics: 0.7930826291929455| Distance: 0.8176377153215758| Speed: 0.7803125 | Activity: 0.6840625\n"
     ]
    },
    {
     "name": "stderr",
     "output_type": "stream",
     "text": [
      "train:  55%|█████▌    | 801/1451 [19:14<15:03,  1.39s/it]"
     ]
    },
    {
     "name": "stdout",
     "output_type": "stream",
     "text": [
      "Training metrics: 0.7931671355710399| Distance: 0.8177577519608886| Speed: 0.7802746566791511 | Activity: 0.6843008739076155\n"
     ]
    },
    {
     "name": "stderr",
     "output_type": "stream",
     "text": [
      "train:  55%|█████▌    | 802/1451 [19:15<14:49,  1.37s/it]"
     ]
    },
    {
     "name": "stdout",
     "output_type": "stream",
     "text": [
      "Training metrics: 0.7929485806875641| Distance: 0.8175805521850092| Speed: 0.779925187032419 | Activity: 0.6842269326683291\n"
     ]
    },
    {
     "name": "stderr",
     "output_type": "stream",
     "text": [
      "train:  55%|█████▌    | 803/1451 [19:16<14:49,  1.37s/it]"
     ]
    },
    {
     "name": "stdout",
     "output_type": "stream",
     "text": [
      "Training metrics: 0.7930092975294698| Distance: 0.8175310625076057| Speed: 0.7801992528019925 | Activity: 0.6843088418430884\n"
     ]
    },
    {
     "name": "stderr",
     "output_type": "stream",
     "text": [
      "train:  55%|█████▌    | 804/1451 [19:18<14:38,  1.36s/it]"
     ]
    },
    {
     "name": "stdout",
     "output_type": "stream",
     "text": [
      "Training metrics: 0.7930973388615217| Distance: 0.8176570490146424| Speed: 0.7801616915422885 | Activity: 0.6845460199004975\n"
     ]
    },
    {
     "name": "stderr",
     "output_type": "stream",
     "text": [
      "train:  55%|█████▌    | 805/1451 [19:19<14:59,  1.39s/it]"
     ]
    },
    {
     "name": "stdout",
     "output_type": "stream",
     "text": [
      "Training metrics: 0.7931325509368635| Distance: 0.8176432784765532| Speed: 0.78027950310559 | Activity: 0.6846273291925465\n"
     ]
    },
    {
     "name": "stderr",
     "output_type": "stream",
     "text": [
      "train:  56%|█████▌    | 806/1451 [19:21<15:00,  1.40s/it]"
     ]
    },
    {
     "name": "stdout",
     "output_type": "stream",
     "text": [
      "Training metrics: 0.7931921363042744| Distance: 0.8178253967354121| Speed: 0.7800868486352357 | Activity: 0.6847084367245657\n"
     ]
    },
    {
     "name": "stderr",
     "output_type": "stream",
     "text": [
      "train:  56%|█████▌    | 807/1451 [19:22<14:50,  1.38s/it]"
     ]
    },
    {
     "name": "stdout",
     "output_type": "stream",
     "text": [
      "Training metrics: 0.7933267685717623| Distance: 0.8179516774832966| Speed: 0.7802044609665427 | Activity: 0.6849442379182156\n"
     ]
    },
    {
     "name": "stderr",
     "output_type": "stream",
     "text": [
      "train:  56%|█████▌    | 808/1451 [19:23<14:53,  1.39s/it]"
     ]
    },
    {
     "name": "stdout",
     "output_type": "stream",
     "text": [
      "Training metrics: 0.7931347147297794| Distance: 0.8178173463318106| Speed: 0.7798576732673267 | Activity: 0.6848700495049505\n"
     ]
    },
    {
     "name": "stderr",
     "output_type": "stream",
     "text": [
      "train:  56%|█████▌    | 809/1451 [19:25<15:06,  1.41s/it]"
     ]
    },
    {
     "name": "stdout",
     "output_type": "stream",
     "text": [
      "Training metrics: 0.7932602778729544| Distance: 0.8179286460634944| Speed: 0.7799752781211372 | Activity: 0.6851050679851669\n"
     ]
    },
    {
     "name": "stderr",
     "output_type": "stream",
     "text": [
      "train:  56%|█████▌    | 810/1451 [19:26<14:52,  1.39s/it]"
     ]
    },
    {
     "name": "stdout",
     "output_type": "stream",
     "text": [
      "Training metrics: 0.7934082864981108| Distance: 0.8180261565091971| Speed: 0.7802469135802469 | Activity: 0.6851851851851852\n"
     ]
    },
    {
     "name": "stderr",
     "output_type": "stream",
     "text": [
      "train:  56%|█████▌    | 811/1451 [19:28<14:47,  1.39s/it]"
     ]
    },
    {
     "name": "stdout",
     "output_type": "stream",
     "text": [
      "Training metrics: 0.7934884346152227| Distance: 0.8180879993278782| Speed: 0.7803637484586929 | Activity: 0.6852651048088779\n"
     ]
    },
    {
     "name": "stderr",
     "output_type": "stream",
     "text": [
      "train:  56%|█████▌    | 812/1451 [19:29<14:51,  1.40s/it]"
     ]
    },
    {
     "name": "stdout",
     "output_type": "stream",
     "text": [
      "Training metrics: 0.7934914148798292| Distance: 0.8179187784942967| Speed: 0.780634236453202 | Activity: 0.6854987684729064\n"
     ]
    },
    {
     "name": "stderr",
     "output_type": "stream",
     "text": [
      "train:  56%|█████▌    | 813/1451 [19:30<14:49,  1.39s/it]"
     ]
    },
    {
     "name": "stdout",
     "output_type": "stream",
     "text": [
      "Training metrics: 0.7935982964347412| Distance: 0.8179744054970165| Speed: 0.7807503075030751 | Activity: 0.6858856088560885\n"
     ]
    },
    {
     "name": "stderr",
     "output_type": "stream",
     "text": [
      "train:  56%|█████▌    | 814/1451 [19:32<15:01,  1.41s/it]"
     ]
    },
    {
     "name": "stdout",
     "output_type": "stream",
     "text": [
      "Training metrics: 0.7937546970650127| Distance: 0.8180360839699435| Speed: 0.7810196560196561 | Activity: 0.6862714987714987\n"
     ]
    },
    {
     "name": "stderr",
     "output_type": "stream",
     "text": [
      "train:  56%|█████▌    | 815/1451 [19:33<15:46,  1.49s/it]"
     ]
    },
    {
     "name": "stdout",
     "output_type": "stream",
     "text": [
      "Training metrics: 0.7938829531860111| Distance: 0.8181535927333314| Speed: 0.7811349693251534 | Activity: 0.6865030674846626\n"
     ]
    },
    {
     "name": "stderr",
     "output_type": "stream",
     "text": [
      "train:  56%|█████▌    | 816/1451 [19:35<16:05,  1.52s/it]"
     ]
    },
    {
     "name": "stdout",
     "output_type": "stream",
     "text": [
      "Training metrics: 0.7938467353249191| Distance: 0.8179716830578719| Speed: 0.78125 | Activity: 0.6868872549019608\n"
     ]
    },
    {
     "name": "stderr",
     "output_type": "stream",
     "text": [
      "train:  56%|█████▋    | 817/1451 [19:37<16:05,  1.52s/it]"
     ]
    },
    {
     "name": "stdout",
     "output_type": "stream",
     "text": [
      "Training metrics: 0.7939979039095735| Distance: 0.8181023816689548| Speed: 0.7815177478580171 | Activity: 0.6868115055079559\n"
     ]
    },
    {
     "name": "stderr",
     "output_type": "stream",
     "text": [
      "train:  56%|█████▋    | 818/1451 [19:38<15:43,  1.49s/it]"
     ]
    },
    {
     "name": "stdout",
     "output_type": "stream",
     "text": [
      "Training metrics: 0.7940475278947222| Distance: 0.8181150729785714| Speed: 0.7816320293398533 | Activity: 0.6868887530562348\n"
     ]
    },
    {
     "name": "stderr",
     "output_type": "stream",
     "text": [
      "train:  56%|█████▋    | 819/1451 [19:39<15:38,  1.49s/it]"
     ]
    },
    {
     "name": "stdout",
     "output_type": "stream",
     "text": [
      "Training metrics: 0.7941733432742906| Distance: 0.8181277332959791| Speed: 0.7818986568986569 | Activity: 0.6872710622710623\n"
     ]
    },
    {
     "name": "stderr",
     "output_type": "stream",
     "text": [
      "train:  57%|█████▋    | 820/1451 [19:41<15:25,  1.47s/it]"
     ]
    },
    {
     "name": "stdout",
     "output_type": "stream",
     "text": [
      "Training metrics: 0.7942945277104255| Distance: 0.8182093754523352| Speed: 0.7821646341463414 | Activity: 0.6871951219512196\n"
     ]
    },
    {
     "name": "stderr",
     "output_type": "stream",
     "text": [
      "train:  57%|█████▋    | 821/1451 [19:42<15:05,  1.44s/it]"
     ]
    },
    {
     "name": "stdout",
     "output_type": "stream",
     "text": [
      "Training metrics: 0.7942979330649331| Distance: 0.8182218900655912| Speed: 0.7821254567600487 | Activity: 0.6872716199756395\n"
     ]
    },
    {
     "name": "stderr",
     "output_type": "stream",
     "text": [
      "train:  57%|█████▋    | 822/1451 [19:44<15:00,  1.43s/it]"
     ]
    },
    {
     "name": "stdout",
     "output_type": "stream",
     "text": [
      "Training metrics: 0.7943925710098191| Distance: 0.8183104082929266| Speed: 0.7822384428223844 | Activity: 0.6873479318734793\n"
     ]
    },
    {
     "name": "stderr",
     "output_type": "stream",
     "text": [
      "train:  57%|█████▋    | 823/1451 [19:45<14:58,  1.43s/it]"
     ]
    },
    {
     "name": "stdout",
     "output_type": "stream",
     "text": [
      "Training metrics: 0.7942222463820671| Distance: 0.8180334321029591| Speed: 0.7821992709599028 | Activity: 0.6874240583232077\n"
     ]
    },
    {
     "name": "stderr",
     "output_type": "stream",
     "text": [
      "train:  57%|█████▋    | 824/1451 [19:46<14:38,  1.40s/it]"
     ]
    },
    {
     "name": "stdout",
     "output_type": "stream",
     "text": [
      "Training metrics: 0.7942813180692918| Distance: 0.8179365009892727| Speed: 0.7824635922330098 | Activity: 0.6878033980582524\n"
     ]
    },
    {
     "name": "stderr",
     "output_type": "stream",
     "text": [
      "train:  57%|█████▋    | 825/1451 [19:48<14:45,  1.42s/it]"
     ]
    },
    {
     "name": "stdout",
     "output_type": "stream",
     "text": [
      "Training metrics: 0.7943785108352249| Distance: 0.818004588765779| Speed: 0.7825757575757576 | Activity: 0.688030303030303\n"
     ]
    },
    {
     "name": "stderr",
     "output_type": "stream",
     "text": [
      "train:  57%|█████▋    | 826/1451 [19:49<14:44,  1.42s/it]"
     ]
    },
    {
     "name": "stdout",
     "output_type": "stream",
     "text": [
      "Training metrics: 0.7945583021284309| Distance: 0.8181349022560208| Speed: 0.7828389830508474 | Activity: 0.6882566585956417\n"
     ]
    },
    {
     "name": "stderr",
     "output_type": "stream",
     "text": [
      "train:  57%|█████▋    | 827/1451 [19:51<14:34,  1.40s/it]"
     ]
    },
    {
     "name": "stdout",
     "output_type": "stream",
     "text": [
      "Training metrics: 0.7945807797126159| Distance: 0.8181545844867664| Speed: 0.7827992744860943 | Activity: 0.6884824667472793\n"
     ]
    },
    {
     "name": "stderr",
     "output_type": "stream",
     "text": [
      "train:  57%|█████▋    | 828/1451 [19:52<14:18,  1.38s/it]"
     ]
    },
    {
     "name": "stdout",
     "output_type": "stream",
     "text": [
      "Training metrics: 0.7945413890969777| Distance: 0.8182221621825636| Speed: 0.782608695652174 | Activity: 0.6882548309178744\n"
     ]
    },
    {
     "name": "stderr",
     "output_type": "stream",
     "text": [
      "train:  57%|█████▋    | 829/1451 [19:53<14:18,  1.38s/it]"
     ]
    },
    {
     "name": "stdout",
     "output_type": "stream",
     "text": [
      "Training metrics: 0.7945652720729366| Distance: 0.8181938290077695| Speed: 0.7827201447527141 | Activity: 0.6883293124246079\n"
     ]
    },
    {
     "name": "stderr",
     "output_type": "stream",
     "text": [
      "train:  57%|█████▋    | 830/1451 [19:55<14:25,  1.39s/it]"
     ]
    },
    {
     "name": "stdout",
     "output_type": "stream",
     "text": [
      "Training metrics: 0.7947541025023658| Distance: 0.81831507043567| Speed: 0.7829819277108434 | Activity: 0.6887048192771085\n"
     ]
    },
    {
     "name": "stderr",
     "output_type": "stream",
     "text": [
      "train:  57%|█████▋    | 831/1451 [19:56<14:30,  1.40s/it]"
     ]
    },
    {
     "name": "stdout",
     "output_type": "stream",
     "text": [
      "Training metrics: 0.7948091785408133| Distance: 0.8183893449005536| Speed: 0.78309265944645 | Activity: 0.6884777376654633\n"
     ]
    },
    {
     "name": "stderr",
     "output_type": "stream",
     "text": [
      "train:  57%|█████▋    | 832/1451 [19:58<14:30,  1.41s/it]"
     ]
    },
    {
     "name": "stdout",
     "output_type": "stream",
     "text": [
      "Training metrics: 0.7949678698841142| Distance: 0.818511153332498| Speed: 0.7833533653846154 | Activity: 0.6885516826923077\n"
     ]
    },
    {
     "name": "stderr",
     "output_type": "stream",
     "text": [
      "train:  57%|█████▋    | 833/1451 [19:59<14:33,  1.41s/it]"
     ]
    },
    {
     "name": "stdout",
     "output_type": "stream",
     "text": [
      "Training metrics: 0.7950118210978675| Distance: 0.8185171007893631| Speed: 0.7834633853541416 | Activity: 0.688625450180072\n"
     ]
    },
    {
     "name": "stderr",
     "output_type": "stream",
     "text": [
      "train:  57%|█████▋    | 834/1451 [20:01<16:24,  1.59s/it]"
     ]
    },
    {
     "name": "stdout",
     "output_type": "stream",
     "text": [
      "Training metrics: 0.795034983396953| Distance: 0.818488561456952| Speed: 0.7835731414868106 | Activity: 0.6886990407673861\n"
     ]
    },
    {
     "name": "stderr",
     "output_type": "stream",
     "text": [
      "train:  58%|█████▊    | 835/1451 [20:03<18:03,  1.76s/it]"
     ]
    },
    {
     "name": "stdout",
     "output_type": "stream",
     "text": [
      "Training metrics: 0.7952021155411019| Distance: 0.8185753821892616| Speed: 0.7838323353293413 | Activity: 0.6890718562874252\n"
     ]
    },
    {
     "name": "stderr",
     "output_type": "stream",
     "text": [
      "train:  58%|█████▊    | 836/1451 [20:05<16:47,  1.64s/it]"
     ]
    },
    {
     "name": "stdout",
     "output_type": "stream",
     "text": [
      "Training metrics: 0.7953823862276265| Distance: 0.8187094794383887| Speed: 0.7840909090909091 | Activity: 0.6892942583732058\n"
     ]
    },
    {
     "name": "stderr",
     "output_type": "stream",
     "text": [
      "train:  58%|█████▊    | 837/1451 [20:06<16:28,  1.61s/it]"
     ]
    },
    {
     "name": "stdout",
     "output_type": "stream",
     "text": [
      "Training metrics: 0.7955622261598226| Distance: 0.8188432562639816| Speed: 0.7843488649940262 | Activity: 0.6895161290322581\n"
     ]
    },
    {
     "name": "stderr",
     "output_type": "stream",
     "text": [
      "train:  58%|█████▊    | 838/1451 [20:07<15:35,  1.53s/it]"
     ]
    },
    {
     "name": "stdout",
     "output_type": "stream",
     "text": [
      "Training metrics: 0.7957607979066058| Distance: 0.8189837880782332| Speed: 0.7846062052505967 | Activity: 0.6898866348448688\n"
     ]
    },
    {
     "name": "stderr",
     "output_type": "stream",
     "text": [
      "train:  58%|█████▊    | 839/1451 [20:09<15:34,  1.53s/it]"
     ]
    },
    {
     "name": "stdout",
     "output_type": "stream",
     "text": [
      "Training metrics: 0.7958028524751376| Distance: 0.819062561038221| Speed: 0.784564958283671 | Activity: 0.689958283671037\n"
     ]
    },
    {
     "name": "stderr",
     "output_type": "stream",
     "text": [
      "train:  58%|█████▊    | 840/1451 [20:10<15:10,  1.49s/it]"
     ]
    },
    {
     "name": "stdout",
     "output_type": "stream",
     "text": [
      "Training metrics: 0.7956746910605834| Distance: 0.8190064295454168| Speed: 0.7842261904761905 | Activity: 0.690029761904762\n"
     ]
    },
    {
     "name": "stderr",
     "output_type": "stream",
     "text": [
      "train:  58%|█████▊    | 841/1451 [20:12<15:23,  1.51s/it]"
     ]
    },
    {
     "name": "stdout",
     "output_type": "stream",
     "text": [
      "Training metrics: 0.7956452424498999| Distance: 0.8190649007141614| Speed: 0.7840368608799049 | Activity: 0.6899524375743162\n"
     ]
    },
    {
     "name": "stderr",
     "output_type": "stream",
     "text": [
      "train:  58%|█████▊    | 842/1451 [20:13<15:10,  1.50s/it]"
     ]
    },
    {
     "name": "stdout",
     "output_type": "stream",
     "text": [
      "Training metrics: 0.7957536986345961| Distance: 0.8191302736546515| Speed: 0.7842933491686461 | Activity: 0.689875296912114\n"
     ]
    },
    {
     "name": "stderr",
     "output_type": "stream",
     "text": [
      "train:  58%|█████▊    | 843/1451 [20:15<14:46,  1.46s/it]"
     ]
    },
    {
     "name": "stdout",
     "output_type": "stream",
     "text": [
      "Training metrics: 0.7958909059936253| Distance: 0.8192685522985887| Speed: 0.7844009489916963 | Activity: 0.6900948991696323\n"
     ]
    },
    {
     "name": "stderr",
     "output_type": "stream",
     "text": [
      "train:  58%|█████▊    | 844/1451 [20:16<14:18,  1.41s/it]"
     ]
    },
    {
     "name": "stdout",
     "output_type": "stream",
     "text": [
      "Training metrics: 0.7958478958251036| Distance: 0.8192794709249358| Speed: 0.7842120853080569 | Activity: 0.6901658767772512\n"
     ]
    },
    {
     "name": "stderr",
     "output_type": "stream",
     "text": [
      "train:  58%|█████▊    | 845/1451 [20:17<13:57,  1.38s/it]"
     ]
    },
    {
     "name": "stdout",
     "output_type": "stream",
     "text": [
      "Training metrics: 0.7959493530264239| Distance: 0.8192844246692864| Speed: 0.7844674556213018 | Activity: 0.6903846153846154\n"
     ]
    },
    {
     "name": "stderr",
     "output_type": "stream",
     "text": [
      "train:  58%|█████▊    | 846/1451 [20:19<15:41,  1.56s/it]"
     ]
    },
    {
     "name": "stdout",
     "output_type": "stream",
     "text": [
      "Training metrics: 0.7955468092482073| Distance: 0.8189669043025679| Speed: 0.7838356973995272 | Activity: 0.6901595744680851\n"
     ]
    },
    {
     "name": "stderr",
     "output_type": "stream",
     "text": [
      "train:  58%|█████▊    | 847/1451 [20:21<15:11,  1.51s/it]"
     ]
    },
    {
     "name": "stdout",
     "output_type": "stream",
     "text": [
      "Training metrics: 0.795682848715502| Distance: 0.8190050626958484| Speed: 0.7840909090909091 | Activity: 0.6905253837072018\n"
     ]
    },
    {
     "name": "stderr",
     "output_type": "stream",
     "text": [
      "train:  58%|█████▊    | 848/1451 [20:22<14:46,  1.47s/it]"
     ]
    },
    {
     "name": "stdout",
     "output_type": "stream",
     "text": [
      "Training metrics: 0.7957104387888807| Distance: 0.8188629168493927| Speed: 0.7843455188679245 | Activity: 0.6908903301886793\n"
     ]
    },
    {
     "name": "stderr",
     "output_type": "stream",
     "text": [
      "train:  59%|█████▊    | 849/1451 [20:24<14:49,  1.48s/it]"
     ]
    },
    {
     "name": "stdout",
     "output_type": "stream",
     "text": [
      "Training metrics: 0.7958824116552894| Distance: 0.8189618521698875| Speed: 0.7845995288574794 | Activity: 0.6912544169611308\n"
     ]
    },
    {
     "name": "stderr",
     "output_type": "stream",
     "text": [
      "train:  59%|█████▊    | 850/1451 [20:25<14:51,  1.48s/it]"
     ]
    },
    {
     "name": "stdout",
     "output_type": "stream",
     "text": [
      "Training metrics: 0.7960070680841266| Distance: 0.8190804075911914| Speed: 0.7847058823529411 | Activity: 0.6914705882352942\n"
     ]
    },
    {
     "name": "stderr",
     "output_type": "stream",
     "text": [
      "train:  59%|█████▊    | 851/1451 [20:26<14:16,  1.43s/it]"
     ]
    },
    {
     "name": "stdout",
     "output_type": "stream",
     "text": [
      "Training metrics: 0.796153838168018| Distance: 0.8192115477496738| Speed: 0.7848119858989424 | Activity: 0.6918331374853114\n"
     ]
    },
    {
     "name": "stderr",
     "output_type": "stream",
     "text": [
      "train:  59%|█████▊    | 852/1451 [20:28<14:31,  1.46s/it]"
     ]
    },
    {
     "name": "stdout",
     "output_type": "stream",
     "text": [
      "Training metrics: 0.7961898552313971| Distance: 0.8191828181869139| Speed: 0.7849178403755869 | Activity: 0.6920481220657277\n"
     ]
    },
    {
     "name": "stderr",
     "output_type": "stream",
     "text": [
      "train:  59%|█████▉    | 853/1451 [20:29<14:35,  1.46s/it]"
     ]
    },
    {
     "name": "stdout",
     "output_type": "stream",
     "text": [
      "Training metrics: 0.7963479498687632| Distance: 0.8192600649434449| Speed: 0.7851699882766706 | Activity: 0.692409144196952\n"
     ]
    },
    {
     "name": "stderr",
     "output_type": "stream",
     "text": [
      "train:  59%|█████▉    | 854/1451 [20:31<14:00,  1.41s/it]"
     ]
    },
    {
     "name": "stdout",
     "output_type": "stream",
     "text": [
      "Training metrics: 0.7964833332412403| Distance: 0.8193974757767745| Speed: 0.7852751756440282 | Activity: 0.6926229508196722\n"
     ]
    },
    {
     "name": "stderr",
     "output_type": "stream",
     "text": [
      "train:  59%|█████▉    | 855/1451 [20:32<14:14,  1.43s/it]"
     ]
    },
    {
     "name": "stdout",
     "output_type": "stream",
     "text": [
      "Training metrics: 0.7965654629155052| Distance: 0.8194219703562517| Speed: 0.7853801169590643 | Activity: 0.6929824561403509\n"
     ]
    },
    {
     "name": "stderr",
     "output_type": "stream",
     "text": [
      "train:  59%|█████▉    | 856/1451 [20:34<14:01,  1.41s/it]"
     ]
    },
    {
     "name": "stdout",
     "output_type": "stream",
     "text": [
      "Training metrics: 0.7966168143495439| Distance: 0.8193467544455015| Speed: 0.7856308411214953 | Activity: 0.693195093457944\n"
     ]
    },
    {
     "name": "stderr",
     "output_type": "stream",
     "text": [
      "train:  59%|█████▉    | 857/1451 [20:35<13:52,  1.40s/it]"
     ]
    },
    {
     "name": "stdout",
     "output_type": "stream",
     "text": [
      "Training metrics: 0.7965221883006557| Distance: 0.8191987852463282| Speed: 0.7855892648774796 | Activity: 0.6932613768961493\n"
     ]
    },
    {
     "name": "stderr",
     "output_type": "stream",
     "text": [
      "train:  59%|█████▉    | 858/1451 [20:36<13:40,  1.38s/it]"
     ]
    },
    {
     "name": "stdout",
     "output_type": "stream",
     "text": [
      "Training metrics: 0.7965984623818486| Distance: 0.8192627830684268| Speed: 0.7856934731934732 | Activity: 0.6933275058275058\n"
     ]
    },
    {
     "name": "stderr",
     "output_type": "stream",
     "text": [
      "train:  59%|█████▉    | 859/1451 [20:38<13:32,  1.37s/it]"
     ]
    },
    {
     "name": "stdout",
     "output_type": "stream",
     "text": [
      "Training metrics: 0.7966163516572645| Distance: 0.8191083548187625| Speed: 0.7859429569266589 | Activity: 0.6936845168800931\n"
     ]
    },
    {
     "name": "stderr",
     "output_type": "stream",
     "text": [
      "train:  59%|█████▉    | 860/1451 [20:39<13:44,  1.40s/it]"
     ]
    },
    {
     "name": "stdout",
     "output_type": "stream",
     "text": [
      "Training metrics: 0.7966051295622724| Distance: 0.8190996345417718| Speed: 0.7859011627906977 | Activity: 0.69375\n"
     ]
    },
    {
     "name": "stderr",
     "output_type": "stream",
     "text": [
      "train:  59%|█████▉    | 861/1451 [20:40<13:35,  1.38s/it]"
     ]
    },
    {
     "name": "stdout",
     "output_type": "stream",
     "text": [
      "Training metrics: 0.7966478743705342| Distance: 0.8190114592199575| Speed: 0.7861498257839721 | Activity: 0.6939605110336817\n"
     ]
    },
    {
     "name": "stderr",
     "output_type": "stream",
     "text": [
      "train:  59%|█████▉    | 862/1451 [20:42<13:39,  1.39s/it]"
     ]
    },
    {
     "name": "stdout",
     "output_type": "stream",
     "text": [
      "Training metrics: 0.7967526510243551| Distance: 0.8190753773839794| Speed: 0.7862529002320185 | Activity: 0.6943155452436195\n"
     ]
    },
    {
     "name": "stderr",
     "output_type": "stream",
     "text": [
      "train:  59%|█████▉    | 863/1451 [20:43<13:34,  1.39s/it]"
     ]
    },
    {
     "name": "stdout",
     "output_type": "stream",
     "text": [
      "Training metrics: 0.7967861326155778| Distance: 0.8189483052283577| Speed: 0.7865005793742758 | Activity: 0.6946697566628042\n"
     ]
    },
    {
     "name": "stderr",
     "output_type": "stream",
     "text": [
      "train:  60%|█████▉    | 864/1451 [20:45<13:55,  1.42s/it]"
     ]
    },
    {
     "name": "stdout",
     "output_type": "stream",
     "text": [
      "Training metrics: 0.7969614767163454| Distance: 0.8190580939099582| Speed: 0.7867476851851852 | Activity: 0.6950231481481481\n"
     ]
    },
    {
     "name": "stderr",
     "output_type": "stream",
     "text": [
      "train:  60%|█████▉    | 865/1451 [20:46<13:32,  1.39s/it]"
     ]
    },
    {
     "name": "stdout",
     "output_type": "stream",
     "text": [
      "Training metrics: 0.7970696395067915| Distance: 0.8190563355941709| Speed: 0.7869942196531792 | Activity: 0.6953757225433526\n"
     ]
    },
    {
     "name": "stderr",
     "output_type": "stream",
     "text": [
      "train:  60%|█████▉    | 866/1451 [20:48<14:10,  1.45s/it]"
     ]
    },
    {
     "name": "stdout",
     "output_type": "stream",
     "text": [
      "Training metrics: 0.797118450980995| Distance: 0.81917259151182| Speed: 0.7869515011547344 | Activity: 0.6952944572748267\n"
     ]
    },
    {
     "name": "stderr",
     "output_type": "stream",
     "text": [
      "train:  60%|█████▉    | 867/1451 [20:49<14:07,  1.45s/it]"
     ]
    },
    {
     "name": "stdout",
     "output_type": "stream",
     "text": [
      "Training metrics: 0.7972179780380824| Distance: 0.8191570299096836| Speed: 0.78719723183391 | Activity: 0.6956459054209919\n"
     ]
    },
    {
     "name": "stderr",
     "output_type": "stream",
     "text": [
      "train:  60%|█████▉    | 868/1451 [20:51<14:16,  1.47s/it]"
     ]
    },
    {
     "name": "stdout",
     "output_type": "stream",
     "text": [
      "Training metrics: 0.7969537708272358| Distance: 0.8189196871698171| Speed: 0.7868663594470046 | Activity: 0.6954205069124424\n"
     ]
    },
    {
     "name": "stderr",
     "output_type": "stream",
     "text": [
      "train:  60%|█████▉    | 869/1451 [20:52<13:46,  1.42s/it]"
     ]
    },
    {
     "name": "stdout",
     "output_type": "stream",
     "text": [
      "Training metrics: 0.7970936783214196| Distance: 0.818995792982957| Speed: 0.7871116225546605 | Activity: 0.6956271576524741\n"
     ]
    },
    {
     "name": "stderr",
     "output_type": "stream",
     "text": [
      "train:  60%|█████▉    | 870/1451 [20:53<13:51,  1.43s/it]"
     ]
    },
    {
     "name": "stdout",
     "output_type": "stream",
     "text": [
      "Training metrics: 0.7971237814907959| Distance: 0.8189610917566903| Speed: 0.7872126436781609 | Activity: 0.6958333333333333\n"
     ]
    },
    {
     "name": "stderr",
     "output_type": "stream",
     "text": [
      "train:  60%|██████    | 871/1451 [20:55<13:47,  1.43s/it]"
     ]
    },
    {
     "name": "stdout",
     "output_type": "stream",
     "text": [
      "Training metrics: 0.797126469858733| Distance: 0.8189526506830395| Speed: 0.7871699196326062 | Activity: 0.6960390355912744\n"
     ]
    },
    {
     "name": "stderr",
     "output_type": "stream",
     "text": [
      "train:  60%|██████    | 872/1451 [20:56<13:35,  1.41s/it]"
     ]
    },
    {
     "name": "stdout",
     "output_type": "stream",
     "text": [
      "Training metrics: 0.797127783813077| Distance: 0.8190614057435075| Speed: 0.7869839449541285 | Activity: 0.6959575688073395\n"
     ]
    },
    {
     "name": "stderr",
     "output_type": "stream",
     "text": [
      "train:  60%|██████    | 873/1451 [20:58<13:37,  1.42s/it]"
     ]
    },
    {
     "name": "stdout",
     "output_type": "stream",
     "text": [
      "Training metrics: 0.7972006997945954| Distance: 0.8190983408184075| Speed: 0.7870847651775487 | Activity: 0.6961626575028637\n"
     ]
    },
    {
     "name": "stderr",
     "output_type": "stream",
     "text": [
      "train:  60%|██████    | 874/1451 [20:59<13:47,  1.43s/it]"
     ]
    },
    {
     "name": "stdout",
     "output_type": "stream",
     "text": [
      "Training metrics: 0.7971944108986495| Distance: 0.8190511348692213| Speed: 0.7871853546910755 | Activity: 0.6960812356979404\n"
     ]
    },
    {
     "name": "stderr",
     "output_type": "stream",
     "text": [
      "train:  60%|██████    | 875/1451 [21:00<13:36,  1.42s/it]"
     ]
    },
    {
     "name": "stdout",
     "output_type": "stream",
     "text": [
      "Training metrics: 0.7971970062575814| Distance: 0.8190426294769214| Speed: 0.7872857142857143 | Activity: 0.6958571428571428\n"
     ]
    },
    {
     "name": "stderr",
     "output_type": "stream",
     "text": [
      "train:  60%|██████    | 876/1451 [21:02<13:43,  1.43s/it]"
     ]
    },
    {
     "name": "stdout",
     "output_type": "stream",
     "text": [
      "Training metrics: 0.7972036561253838| Distance: 0.8191122579258681| Speed: 0.7872431506849316 | Activity: 0.6956335616438356\n"
     ]
    },
    {
     "name": "stderr",
     "output_type": "stream",
     "text": [
      "train:  60%|██████    | 877/1451 [21:03<13:53,  1.45s/it]"
     ]
    },
    {
     "name": "stdout",
     "output_type": "stream",
     "text": [
      "Training metrics: 0.7971118793252063| Distance: 0.8189939531892929| Speed: 0.7872006841505131 | Activity: 0.6955530216647663\n"
     ]
    },
    {
     "name": "stderr",
     "output_type": "stream",
     "text": [
      "train:  61%|██████    | 878/1451 [21:05<14:03,  1.47s/it]"
     ]
    },
    {
     "name": "stdout",
     "output_type": "stream",
     "text": [
      "Training metrics: 0.7971478220078678| Distance: 0.8190884353130371| Speed: 0.7871583143507973 | Activity: 0.6954726651480638\n"
     ]
    },
    {
     "name": "stderr",
     "output_type": "stream",
     "text": [
      "train:  61%|██████    | 879/1451 [21:06<14:03,  1.47s/it]"
     ]
    },
    {
     "name": "stdout",
     "output_type": "stream",
     "text": [
      "Training metrics: 0.7971321912768871| Distance: 0.8190020783700868| Speed: 0.7872582480091013 | Activity: 0.6955346985210467\n"
     ]
    },
    {
     "name": "stderr",
     "output_type": "stream",
     "text": [
      "train:  61%|██████    | 880/1451 [21:08<14:22,  1.51s/it]"
     ]
    },
    {
     "name": "stdout",
     "output_type": "stream",
     "text": [
      "Training metrics: 0.7971003129128685| Distance: 0.818936127582054| Speed: 0.7872159090909091 | Activity: 0.6957386363636363\n"
     ]
    },
    {
     "name": "stderr",
     "output_type": "stream",
     "text": [
      "train:  61%|██████    | 881/1451 [21:09<14:17,  1.50s/it]"
     ]
    },
    {
     "name": "stdout",
     "output_type": "stream",
     "text": [
      "Training metrics: 0.7969665048418776| Distance: 0.8187476177935948| Speed: 0.7870317820658342 | Activity: 0.6960839954597049\n"
     ]
    },
    {
     "name": "stderr",
     "output_type": "stream",
     "text": [
      "train:  61%|██████    | 882/1451 [21:11<13:52,  1.46s/it]"
     ]
    },
    {
     "name": "stdout",
     "output_type": "stream",
     "text": [
      "Training metrics: 0.797072577161164| Distance: 0.8188879687379945| Speed: 0.7871315192743764 | Activity: 0.6960034013605442\n"
     ]
    },
    {
     "name": "stderr",
     "output_type": "stream",
     "text": [
      "train:  61%|██████    | 883/1451 [21:12<13:38,  1.44s/it]"
     ]
    },
    {
     "name": "stdout",
     "output_type": "stream",
     "text": [
      "Training metrics: 0.7970571024525733| Distance: 0.818873011448891| Speed: 0.7870894677236693 | Activity: 0.6960645526613817\n"
     ]
    },
    {
     "name": "stderr",
     "output_type": "stream",
     "text": [
      "train:  61%|██████    | 884/1451 [21:14<13:59,  1.48s/it]"
     ]
    },
    {
     "name": "stdout",
     "output_type": "stream",
     "text": [
      "Training metrics: 0.7971588086149168| Distance: 0.8189354955044995| Speed: 0.7871889140271493 | Activity: 0.696408371040724\n"
     ]
    },
    {
     "name": "stderr",
     "output_type": "stream",
     "text": [
      "train:  61%|██████    | 885/1451 [21:15<13:54,  1.47s/it]"
     ]
    },
    {
     "name": "stdout",
     "output_type": "stream",
     "text": [
      "Training metrics: 0.7972226499126063| Distance: 0.8190292752780727| Speed: 0.7871468926553672 | Activity: 0.6966101694915254\n"
     ]
    },
    {
     "name": "stderr",
     "output_type": "stream",
     "text": [
      "train:  61%|██████    | 886/1451 [21:17<13:44,  1.46s/it]"
     ]
    },
    {
     "name": "stdout",
     "output_type": "stream",
     "text": [
      "Training metrics: 0.7971674011407486| Distance: 0.8189246000953787| Speed: 0.7871049661399548 | Activity: 0.6968115124153499\n"
     ]
    },
    {
     "name": "stderr",
     "output_type": "stream",
     "text": [
      "train:  61%|██████    | 887/1451 [21:18<13:35,  1.45s/it]"
     ]
    },
    {
     "name": "stdout",
     "output_type": "stream",
     "text": [
      "Training metrics: 0.7971854167699581| Distance: 0.818942060644406| Speed: 0.7870631341600902 | Activity: 0.6970124013528749\n"
     ]
    },
    {
     "name": "stderr",
     "output_type": "stream",
     "text": [
      "train:  61%|██████    | 888/1451 [21:20<13:34,  1.45s/it]"
     ]
    },
    {
     "name": "stdout",
     "output_type": "stream",
     "text": [
      "Training metrics: 0.7971189449739127| Distance: 0.8189595028844489| Speed: 0.7868806306306306 | Activity: 0.6967905405405406\n"
     ]
    },
    {
     "name": "stderr",
     "output_type": "stream",
     "text": [
      "train:  61%|██████▏   | 889/1451 [21:21<13:30,  1.44s/it]"
     ]
    },
    {
     "name": "stdout",
     "output_type": "stream",
     "text": [
      "Training metrics: 0.7971637665768261| Distance: 0.8189512345084335| Speed: 0.7869797525309337 | Activity: 0.6969910011248593\n"
     ]
    },
    {
     "name": "stderr",
     "output_type": "stream",
     "text": [
      "train:  61%|██████▏   | 890/1451 [21:22<13:24,  1.43s/it]"
     ]
    },
    {
     "name": "stdout",
     "output_type": "stream",
     "text": [
      "Training metrics: 0.7972278569567823| Distance: 0.8189752672126149| Speed: 0.7870786516853933 | Activity: 0.6971910112359551\n"
     ]
    },
    {
     "name": "stderr",
     "output_type": "stream",
     "text": [
      "train:  61%|██████▏   | 891/1451 [21:24<13:22,  1.43s/it]"
     ]
    },
    {
     "name": "stdout",
     "output_type": "stream",
     "text": [
      "Training metrics: 0.7973145432564539| Distance: 0.8189669997035175| Speed: 0.787317620650954 | Activity: 0.6973905723905723\n"
     ]
    },
    {
     "name": "stderr",
     "output_type": "stream",
     "text": [
      "train:  61%|██████▏   | 892/1451 [21:25<13:25,  1.44s/it]"
     ]
    },
    {
     "name": "stdout",
     "output_type": "stream",
     "text": [
      "Training metrics: 0.7973362805451101| Distance: 0.8189208935841523| Speed: 0.7874159192825112 | Activity: 0.6975896860986547\n"
     ]
    },
    {
     "name": "stderr",
     "output_type": "stream",
     "text": [
      "train:  62%|██████▏   | 893/1451 [21:27<13:34,  1.46s/it]"
     ]
    },
    {
     "name": "stdout",
     "output_type": "stream",
     "text": [
      "Training metrics: 0.7972126848781661| Distance: 0.8189826942818261| Speed: 0.7869540873460247 | Activity: 0.6973684210526315\n"
     ]
    },
    {
     "name": "stderr",
     "output_type": "stream",
     "text": [
      "train:  62%|██████▏   | 894/1451 [21:28<13:52,  1.49s/it]"
     ]
    },
    {
     "name": "stdout",
     "output_type": "stream",
     "text": [
      "Training metrics: 0.7973170580387638| Distance: 0.818981077342757| Speed: 0.7871923937360179 | Activity: 0.6977069351230425\n"
     ]
    },
    {
     "name": "stderr",
     "output_type": "stream",
     "text": [
      "train:  62%|██████▏   | 895/1451 [21:30<13:22,  1.44s/it]"
     ]
    },
    {
     "name": "stdout",
     "output_type": "stream",
     "text": [
      "Training metrics: 0.7973766573726663| Distance: 0.8189285071667344| Speed: 0.7874301675977654 | Activity: 0.6979050279329609\n"
     ]
    },
    {
     "name": "stderr",
     "output_type": "stream",
     "text": [
      "train:  62%|██████▏   | 896/1451 [21:31<13:03,  1.41s/it]"
     ]
    },
    {
     "name": "stdout",
     "output_type": "stream",
     "text": [
      "Training metrics: 0.797412179188922| Distance: 0.818812895374394| Speed: 0.7876674107142857 | Activity: 0.6982421875\n"
     ]
    },
    {
     "name": "stderr",
     "output_type": "stream",
     "text": [
      "train:  62%|██████▏   | 897/1451 [21:32<13:07,  1.42s/it]"
     ]
    },
    {
     "name": "stdout",
     "output_type": "stream",
     "text": [
      "Training metrics: 0.7975445606581318| Distance: 0.818975233947128| Speed: 0.7877647714604237 | Activity: 0.6982998885172799\n"
     ]
    },
    {
     "name": "stderr",
     "output_type": "stream",
     "text": [
      "train:  62%|██████▏   | 898/1451 [21:34<13:03,  1.42s/it]"
     ]
    },
    {
     "name": "stdout",
     "output_type": "stream",
     "text": [
      "Training metrics: 0.7976932119082597| Distance: 0.8190488201440558| Speed: 0.7880011135857461 | Activity: 0.6986358574610245\n"
     ]
    },
    {
     "name": "stderr",
     "output_type": "stream",
     "text": [
      "train:  62%|██████▏   | 899/1451 [21:35<12:55,  1.40s/it]"
     ]
    },
    {
     "name": "stdout",
     "output_type": "stream",
     "text": [
      "Training metrics: 0.797817680330788| Distance: 0.8191983585787513| Speed: 0.7880978865406006 | Activity: 0.6986929922135706\n"
     ]
    },
    {
     "name": "stderr",
     "output_type": "stream",
     "text": [
      "train:  62%|██████▏   | 900/1451 [21:37<12:44,  1.39s/it]"
     ]
    },
    {
     "name": "stdout",
     "output_type": "stream",
     "text": [
      "Training metrics: 0.7978221499928282| Distance: 0.819171175913973| Speed: 0.7880555555555555 | Activity: 0.6990277777777778\n"
     ]
    },
    {
     "name": "stderr",
     "output_type": "stream",
     "text": [
      "train:  62%|██████▏   | 901/1451 [21:38<12:22,  1.35s/it]"
     ]
    },
    {
     "name": "stdout",
     "output_type": "stream",
     "text": [
      "Training metrics: 0.7977849893115564| Distance: 0.8191440535880732| Speed: 0.7881520532741398 | Activity: 0.6985294117647058\n"
     ]
    },
    {
     "name": "stderr",
     "output_type": "stream",
     "text": [
      "train:  62%|██████▏   | 902/1451 [21:39<12:26,  1.36s/it]"
     ]
    },
    {
     "name": "stdout",
     "output_type": "stream",
     "text": [
      "Training metrics: 0.7977604587933411| Distance: 0.818953129770129| Speed: 0.7883869179600886 | Activity: 0.6987250554323725\n"
     ]
    },
    {
     "name": "stderr",
     "output_type": "stream",
     "text": [
      "train:  62%|██████▏   | 903/1451 [21:41<12:32,  1.37s/it]"
     ]
    },
    {
     "name": "stdout",
     "output_type": "stream",
     "text": [
      "Training metrics: 0.7978869315410385| Distance: 0.8190142103757067| Speed: 0.7886212624584718 | Activity: 0.6989202657807309\n"
     ]
    },
    {
     "name": "stderr",
     "output_type": "stream",
     "text": [
      "train:  62%|██████▏   | 904/1451 [21:42<12:19,  1.35s/it]"
     ]
    },
    {
     "name": "stdout",
     "output_type": "stream",
     "text": [
      "Training metrics: 0.7978774773868635| Distance: 0.8189873516919706| Speed: 0.7887168141592921 | Activity: 0.698700221238938\n"
     ]
    },
    {
     "name": "stderr",
     "output_type": "stream",
     "text": [
      "train:  62%|██████▏   | 905/1451 [21:43<12:29,  1.37s/it]"
     ]
    },
    {
     "name": "stdout",
     "output_type": "stream",
     "text": [
      "Training metrics: 0.797979847346052| Distance: 0.8189857492599949| Speed: 0.7889502762430939 | Activity: 0.6990331491712707\n"
     ]
    },
    {
     "name": "stderr",
     "output_type": "stream",
     "text": [
      "train:  62%|██████▏   | 906/1451 [21:45<12:24,  1.37s/it]"
     ]
    },
    {
     "name": "stdout",
     "output_type": "stream",
     "text": [
      "Training metrics: 0.7979414007863429| Distance: 0.8189337915975474| Speed: 0.7889072847682119 | Activity: 0.6990894039735099\n"
     ]
    },
    {
     "name": "stderr",
     "output_type": "stream",
     "text": [
      "train:  63%|██████▎   | 907/1451 [21:46<12:26,  1.37s/it]"
     ]
    },
    {
     "name": "stdout",
     "output_type": "stream",
     "text": [
      "Training metrics: 0.7979142144962572| Distance: 0.8190383913048612| Speed: 0.7885887541345094 | Activity: 0.6991455347298787\n"
     ]
    },
    {
     "name": "stderr",
     "output_type": "stream",
     "text": [
      "train:  63%|██████▎   | 908/1451 [21:48<12:28,  1.38s/it]"
     ]
    },
    {
     "name": "stdout",
     "output_type": "stream",
     "text": [
      "Training metrics: 0.7980660528455771| Distance: 0.8191427606163437| Speed: 0.7888215859030837 | Activity: 0.6993392070484582\n"
     ]
    },
    {
     "name": "stderr",
     "output_type": "stream",
     "text": [
      "train:  63%|██████▎   | 909/1451 [21:49<12:33,  1.39s/it]"
     ]
    },
    {
     "name": "stdout",
     "output_type": "stream",
     "text": [
      "Training metrics: 0.7979752456262226| Distance: 0.8190034805174854| Speed: 0.7887788778877888 | Activity: 0.6993949394939494\n"
     ]
    },
    {
     "name": "stderr",
     "output_type": "stream",
     "text": [
      "train:  63%|██████▎   | 910/1451 [21:50<12:21,  1.37s/it]"
     ]
    },
    {
     "name": "stdout",
     "output_type": "stream",
     "text": [
      "Training metrics: 0.7981214633599003| Distance: 0.8191447466254751| Speed: 0.7888736263736263 | Activity: 0.6997252747252747\n"
     ]
    },
    {
     "name": "stderr",
     "output_type": "stream",
     "text": [
      "train:  63%|██████▎   | 911/1451 [21:52<12:29,  1.39s/it]"
     ]
    },
    {
     "name": "stdout",
     "output_type": "stream",
     "text": [
      "Training metrics: 0.7981902470836312| Distance: 0.8192486554943068| Speed: 0.7888309549945115 | Activity: 0.6999176728869374\n"
     ]
    },
    {
     "name": "stderr",
     "output_type": "stream",
     "text": [
      "train:  63%|██████▎   | 912/1451 [21:53<12:38,  1.41s/it]"
     ]
    },
    {
     "name": "stdout",
     "output_type": "stream",
     "text": [
      "Training metrics: 0.798264076078553| Distance: 0.8193838402478808| Speed: 0.7887883771929824 | Activity: 0.6999725877192983\n"
     ]
    },
    {
     "name": "stderr",
     "output_type": "stream",
     "text": [
      "train:  63%|██████▎   | 913/1451 [21:55<12:34,  1.40s/it]"
     ]
    },
    {
     "name": "stdout",
     "output_type": "stream",
     "text": [
      "Training metrics: 0.7984036099074718| Distance: 0.8194687766438881| Speed: 0.7890197152245345 | Activity: 0.7001642935377875\n"
     ]
    },
    {
     "name": "stderr",
     "output_type": "stream",
     "text": [
      "train:  63%|██████▎   | 914/1451 [21:56<12:45,  1.43s/it]"
     ]
    },
    {
     "name": "stdout",
     "output_type": "stream",
     "text": [
      "Training metrics: 0.7984607815179466| Distance: 0.8194851464394663| Speed: 0.7891137855579868 | Activity: 0.700355579868709\n"
     ]
    },
    {
     "name": "stderr",
     "output_type": "stream",
     "text": [
      "train:  63%|██████▎   | 915/1451 [21:57<12:35,  1.41s/it]"
     ]
    },
    {
     "name": "stdout",
     "output_type": "stream",
     "text": [
      "Training metrics: 0.7986193308094822| Distance: 0.8196251141906672| Speed: 0.7893442622950819 | Activity: 0.7004098360655737\n"
     ]
    },
    {
     "name": "stderr",
     "output_type": "stream",
     "text": [
      "train:  63%|██████▎   | 916/1451 [21:59<12:59,  1.46s/it]"
     ]
    },
    {
     "name": "stdout",
     "output_type": "stream",
     "text": [
      "Training metrics: 0.7987606004160793| Distance: 0.819759297636697| Speed: 0.7894377729257642 | Activity: 0.7007368995633187\n"
     ]
    },
    {
     "name": "stderr",
     "output_type": "stream",
     "text": [
      "train:  63%|██████▎   | 917/1451 [22:00<12:45,  1.43s/it]"
     ]
    },
    {
     "name": "stdout",
     "output_type": "stream",
     "text": [
      "Training metrics: 0.7988522162747947| Distance: 0.8197882266884529| Speed: 0.7896673936750273 | Activity: 0.7007906215921483\n"
     ]
    },
    {
     "name": "stderr",
     "output_type": "stream",
     "text": [
      "train:  63%|██████▎   | 918/1451 [22:02<12:53,  1.45s/it]"
     ]
    },
    {
     "name": "stdout",
     "output_type": "stream",
     "text": [
      "Training metrics: 0.7987899757367718| Distance: 0.8196744693652079| Speed: 0.7896241830065359 | Activity: 0.7009803921568627\n"
     ]
    },
    {
     "name": "stderr",
     "output_type": "stream",
     "text": [
      "train:  63%|██████▎   | 919/1451 [22:03<12:52,  1.45s/it]"
     ]
    },
    {
     "name": "stdout",
     "output_type": "stream",
     "text": [
      "Training metrics: 0.7988723210841356| Distance: 0.8198017103306504| Speed: 0.7895810663764962 | Activity: 0.7011697497279652\n"
     ]
    },
    {
     "name": "stderr",
     "output_type": "stream",
     "text": [
      "train:  63%|██████▎   | 920/1451 [22:05<12:41,  1.43s/it]"
     ]
    },
    {
     "name": "stdout",
     "output_type": "stream",
     "text": [
      "Training metrics: 0.7988160363044368| Distance: 0.8196073431160905| Speed: 0.7896739130434782 | Activity: 0.7014945652173913\n"
     ]
    },
    {
     "name": "stderr",
     "output_type": "stream",
     "text": [
      "train:  63%|██████▎   | 921/1451 [22:06<12:50,  1.45s/it]"
     ]
    },
    {
     "name": "stdout",
     "output_type": "stream",
     "text": [
      "Training metrics: 0.7989705882270922| Distance: 0.8197645887751575| Speed: 0.7899022801302932 | Activity: 0.7014115092290988\n"
     ]
    },
    {
     "name": "stderr",
     "output_type": "stream",
     "text": [
      "train:  64%|██████▎   | 922/1451 [22:08<12:39,  1.44s/it]"
     ]
    },
    {
     "name": "stdout",
     "output_type": "stream",
     "text": [
      "Training metrics: 0.7990292126329765| Distance: 0.8197621728987788| Speed: 0.7899945770065075 | Activity: 0.7017353579175705\n"
     ]
    },
    {
     "name": "stderr",
     "output_type": "stream",
     "text": [
      "train:  64%|██████▎   | 923/1451 [22:09<12:39,  1.44s/it]"
     ]
    },
    {
     "name": "stdout",
     "output_type": "stream",
     "text": [
      "Training metrics: 0.799041935304064| Distance: 0.8197286137335703| Speed: 0.7900866738894908 | Activity: 0.7017876489707475\n"
     ]
    },
    {
     "name": "stderr",
     "output_type": "stream",
     "text": [
      "train:  64%|██████▎   | 924/1451 [22:10<12:39,  1.44s/it]"
     ]
    },
    {
     "name": "stdout",
     "output_type": "stream",
     "text": [
      "Training metrics: 0.7992079899658394| Distance: 0.8198605388319549| Speed: 0.7903138528138528 | Activity: 0.7019751082251082\n"
     ]
    },
    {
     "name": "stderr",
     "output_type": "stream",
     "text": [
      "train:  64%|██████▎   | 925/1451 [22:12<12:37,  1.44s/it]"
     ]
    },
    {
     "name": "stdout",
     "output_type": "stream",
     "text": [
      "Training metrics: 0.7993485264142416| Distance: 0.819950246726439| Speed: 0.7905405405405406 | Activity: 0.7021621621621622\n"
     ]
    },
    {
     "name": "stderr",
     "output_type": "stream",
     "text": [
      "train:  64%|██████▍   | 926/1451 [22:13<12:45,  1.46s/it]"
     ]
    },
    {
     "name": "stdout",
     "output_type": "stream",
     "text": [
      "Training metrics: 0.7994148587162206| Distance: 0.8199840877811743| Speed: 0.7906317494600432 | Activity: 0.7023488120950324\n"
     ]
    },
    {
     "name": "stderr",
     "output_type": "stream",
     "text": [
      "train:  64%|██████▍   | 927/1451 [22:15<12:36,  1.44s/it]"
     ]
    },
    {
     "name": "stdout",
     "output_type": "stream",
     "text": [
      "Training metrics: 0.799575450492879| Distance: 0.8200852977470315| Speed: 0.7908576051779935 | Activity: 0.7026699029126213\n"
     ]
    },
    {
     "name": "stderr",
     "output_type": "stream",
     "text": [
      "train:  64%|██████▍   | 928/1451 [22:16<12:34,  1.44s/it]"
     ]
    },
    {
     "name": "stdout",
     "output_type": "stream",
     "text": [
      "Training metrics: 0.7997036499868575| Distance: 0.8201553290010845| Speed: 0.791082974137931 | Activity: 0.7028556034482759\n"
     ]
    },
    {
     "name": "stderr",
     "output_type": "stream",
     "text": [
      "train:  64%|██████▍   | 929/1451 [22:18<12:17,  1.41s/it]"
     ]
    },
    {
     "name": "stdout",
     "output_type": "stream",
     "text": [
      "Training metrics: 0.7996713697366654| Distance: 0.8201151820691823| Speed: 0.7910387513455328 | Activity: 0.7029063509149623\n"
     ]
    },
    {
     "name": "stderr",
     "output_type": "stream",
     "text": [
      "train:  64%|██████▍   | 930/1451 [22:19<12:24,  1.43s/it]"
     ]
    },
    {
     "name": "stdout",
     "output_type": "stream",
     "text": [
      "Training metrics: 0.7998030030205628| Distance: 0.8201913849625868| Speed: 0.791263440860215 | Activity: 0.7030913978494624\n"
     ]
    },
    {
     "name": "stderr",
     "output_type": "stream",
     "text": [
      "train:  64%|██████▍   | 931/1451 [22:21<12:58,  1.50s/it]"
     ]
    },
    {
     "name": "stdout",
     "output_type": "stream",
     "text": [
      "Training metrics: 0.7999624879106358| Distance: 0.8202919374235627| Speed: 0.7914876476906552 | Activity: 0.7034103114930182\n"
     ]
    },
    {
     "name": "stderr",
     "output_type": "stream",
     "text": [
      "train:  64%|██████▍   | 932/1451 [22:22<12:41,  1.47s/it]"
     ]
    },
    {
     "name": "stdout",
     "output_type": "stream",
     "text": [
      "Training metrics: 0.8000437067668278| Distance: 0.8203071078445701| Speed: 0.791711373390558 | Activity: 0.7034603004291845\n"
     ]
    },
    {
     "name": "stderr",
     "output_type": "stream",
     "text": [
      "train:  64%|██████▍   | 933/1451 [22:23<12:17,  1.42s/it]"
     ]
    },
    {
     "name": "stdout",
     "output_type": "stream",
     "text": [
      "Training metrics: 0.8001636656555708| Distance: 0.8203647732344546| Speed: 0.7919346195069668 | Activity: 0.7036441586280815\n"
     ]
    },
    {
     "name": "stderr",
     "output_type": "stream",
     "text": [
      "train:  64%|██████▍   | 934/1451 [22:25<12:09,  1.41s/it]"
     ]
    },
    {
     "name": "stdout",
     "output_type": "stream",
     "text": [
      "Training metrics: 0.8002636332333195| Distance: 0.8204340354031416| Speed: 0.7920235546038544 | Activity: 0.7039614561027837\n"
     ]
    },
    {
     "name": "stderr",
     "output_type": "stream",
     "text": [
      "train:  64%|██████▍   | 935/1451 [22:26<12:05,  1.41s/it]"
     ]
    },
    {
     "name": "stdout",
     "output_type": "stream",
     "text": [
      "Training metrics: 0.8002118316774925| Distance: 0.820339683811864| Speed: 0.7919786096256685 | Activity: 0.7041443850267379\n"
     ]
    },
    {
     "name": "stderr",
     "output_type": "stream",
     "text": [
      "train:  65%|██████▍   | 936/1451 [22:28<11:48,  1.38s/it]"
     ]
    },
    {
     "name": "stdout",
     "output_type": "stream",
     "text": [
      "Training metrics: 0.8003013000807683| Distance: 0.8203249944366082| Speed: 0.7922008547008547 | Activity: 0.7044604700854701\n"
     ]
    },
    {
     "name": "stderr",
     "output_type": "stream",
     "text": [
      "train:  65%|██████▍   | 937/1451 [22:29<11:36,  1.36s/it]"
     ]
    },
    {
     "name": "stdout",
     "output_type": "stream",
     "text": [
      "Training metrics: 0.8003950524438087| Distance: 0.8203400287083756| Speed: 0.7924226254002135 | Activity: 0.7046424759871932\n"
     ]
    },
    {
     "name": "stderr",
     "output_type": "stream",
     "text": [
      "train:  65%|██████▍   | 938/1451 [22:30<11:35,  1.36s/it]"
     ]
    },
    {
     "name": "stdout",
     "output_type": "stream",
     "text": [
      "Training metrics: 0.8004848247987654| Distance: 0.820415361871432| Speed: 0.7925106609808102 | Activity: 0.7048240938166311\n"
     ]
    },
    {
     "name": "stderr",
     "output_type": "stream",
     "text": [
      "train:  65%|██████▍   | 939/1451 [22:32<11:52,  1.39s/it]"
     ]
    },
    {
     "name": "stdout",
     "output_type": "stream",
     "text": [
      "Training metrics: 0.8005528285808401| Distance: 0.8203880121359759| Speed: 0.7927316293929713 | Activity: 0.7050053248136315\n"
     ]
    },
    {
     "name": "stderr",
     "output_type": "stream",
     "text": [
      "train:  65%|██████▍   | 940/1451 [22:33<11:48,  1.39s/it]"
     ]
    },
    {
     "name": "stdout",
     "output_type": "stream",
     "text": [
      "Training metrics: 0.8006384461922147| Distance: 0.8204568074834784| Speed: 0.7928191489361702 | Activity: 0.705186170212766\n"
     ]
    },
    {
     "name": "stderr",
     "output_type": "stream",
     "text": [
      "train:  65%|██████▍   | 941/1451 [22:34<11:37,  1.37s/it]"
     ]
    },
    {
     "name": "stdout",
     "output_type": "stream",
     "text": [
      "Training metrics: 0.8007561731381276| Distance: 0.8205792754569218| Speed: 0.7929064824654622 | Activity: 0.7053666312433581\n"
     ]
    },
    {
     "name": "stderr",
     "output_type": "stream",
     "text": [
      "train:  65%|██████▍   | 942/1451 [22:36<11:33,  1.36s/it]"
     ]
    },
    {
     "name": "stdout",
     "output_type": "stream",
     "text": [
      "Training metrics: 0.800881202023621| Distance: 0.8206477217024966| Speed: 0.7931263269639066 | Activity: 0.7055467091295117\n"
     ]
    },
    {
     "name": "stderr",
     "output_type": "stream",
     "text": [
      "train:  65%|██████▍   | 943/1451 [22:37<11:43,  1.39s/it]"
     ]
    },
    {
     "name": "stdout",
     "output_type": "stream",
     "text": [
      "Training metrics: 0.8009427853270356| Distance: 0.8206328147108423| Speed: 0.7933457051961824 | Activity: 0.7055938494167551\n"
     ]
    },
    {
     "name": "stderr",
     "output_type": "stream",
     "text": [
      "train:  65%|██████▌   | 944/1451 [22:38<11:29,  1.36s/it]"
     ]
    },
    {
     "name": "stdout",
     "output_type": "stream",
     "text": [
      "Training metrics: 0.8009796927956284| Distance: 0.820599099574635| Speed: 0.7934322033898306 | Activity: 0.705905720338983\n"
     ]
    },
    {
     "name": "stderr",
     "output_type": "stream",
     "text": [
      "train:  65%|██████▌   | 945/1451 [22:40<11:52,  1.41s/it]"
     ]
    },
    {
     "name": "stdout",
     "output_type": "stream",
     "text": [
      "Training metrics: 0.8010429771796316| Distance: 0.8206977309254883| Speed: 0.7933862433862434 | Activity: 0.7060846560846561\n"
     ]
    },
    {
     "name": "stderr",
     "output_type": "stream",
     "text": [
      "train:  65%|██████▌   | 946/1451 [22:41<11:47,  1.40s/it]"
     ]
    },
    {
     "name": "stdout",
     "output_type": "stream",
     "text": [
      "Training metrics: 0.80114826712368| Distance: 0.8207782958051469| Speed: 0.7934725158562368 | Activity: 0.7063953488372093\n"
     ]
    },
    {
     "name": "stderr",
     "output_type": "stream",
     "text": [
      "train:  65%|██████▌   | 947/1451 [22:43<11:46,  1.40s/it]"
     ]
    },
    {
     "name": "stdout",
     "output_type": "stream",
     "text": [
      "Training metrics: 0.8010446494080821| Distance: 0.8207088753774266| Speed: 0.7932946145723336 | Activity: 0.7063093980992609\n"
     ]
    },
    {
     "name": "stderr",
     "output_type": "stream",
     "text": [
      "train:  65%|██████▌   | 948/1451 [22:44<11:39,  1.39s/it]"
     ]
    },
    {
     "name": "stdout",
     "output_type": "stream",
     "text": [
      "Training metrics: 0.8010800469523701| Distance: 0.8207170965380572| Speed: 0.7933808016877637 | Activity: 0.7063554852320675\n"
     ]
    },
    {
     "name": "stderr",
     "output_type": "stream",
     "text": [
      "train:  65%|██████▌   | 949/1451 [22:46<12:12,  1.46s/it]"
     ]
    },
    {
     "name": "stdout",
     "output_type": "stream",
     "text": [
      "Training metrics: 0.8010244130100375| Distance: 0.8206176114269855| Speed: 0.7933350895679663 | Activity: 0.7065331928345627\n"
     ]
    },
    {
     "name": "stderr",
     "output_type": "stream",
     "text": [
      "train:  65%|██████▌   | 950/1451 [22:47<11:53,  1.43s/it]"
     ]
    },
    {
     "name": "stdout",
     "output_type": "stream",
     "text": [
      "Training metrics: 0.8010841358860544| Distance: 0.8206446124416698| Speed: 0.7934210526315789 | Activity: 0.7067105263157895\n"
     ]
    },
    {
     "name": "stderr",
     "output_type": "stream",
     "text": [
      "train:  66%|██████▌   | 951/1451 [22:48<11:40,  1.40s/it]"
     ]
    },
    {
     "name": "stdout",
     "output_type": "stream",
     "text": [
      "Training metrics: 0.8010692896337706| Distance: 0.8205693908897931| Speed: 0.7935068349106204 | Activity: 0.7067560462670873\n"
     ]
    },
    {
     "name": "stderr",
     "output_type": "stream",
     "text": [
      "train:  66%|██████▌   | 952/1451 [22:50<11:49,  1.42s/it]"
     ]
    },
    {
     "name": "stdout",
     "output_type": "stream",
     "text": [
      "Training metrics: 0.8010963483405996| Distance: 0.8204765819682265| Speed: 0.7937237394957983 | Activity: 0.7069327731092437\n"
     ]
    },
    {
     "name": "stderr",
     "output_type": "stream",
     "text": [
      "train:  66%|██████▌   | 953/1451 [22:51<11:48,  1.42s/it]"
     ]
    },
    {
     "name": "stdout",
     "output_type": "stream",
     "text": [
      "Training metrics: 0.8012507826424949| Distance: 0.820574494330706| Speed: 0.7939401888772298 | Activity: 0.7072402938090241\n"
     ]
    },
    {
     "name": "stderr",
     "output_type": "stream",
     "text": [
      "train:  66%|██████▌   | 954/1451 [22:53<11:30,  1.39s/it]"
     ]
    },
    {
     "name": "stdout",
     "output_type": "stream",
     "text": [
      "Training metrics: 0.801232079945255| Distance: 0.8205588823685769| Speed: 0.7938941299790356 | Activity: 0.7072851153039832\n"
     ]
    },
    {
     "name": "stderr",
     "output_type": "stream",
     "text": [
      "train:  66%|██████▌   | 955/1451 [22:54<11:24,  1.38s/it]"
     ]
    },
    {
     "name": "stdout",
     "output_type": "stream",
     "text": [
      "Training metrics: 0.8013087639976308| Distance: 0.8206149557028578| Speed: 0.793979057591623 | Activity: 0.7074607329842932\n"
     ]
    },
    {
     "name": "stderr",
     "output_type": "stream",
     "text": [
      "train:  66%|██████▌   | 956/1451 [22:55<11:23,  1.38s/it]"
     ]
    },
    {
     "name": "stdout",
     "output_type": "stream",
     "text": [
      "Training metrics: 0.8013367187299391| Distance: 0.8205463791942501| Speed: 0.794194560669456 | Activity: 0.707505230125523\n"
     ]
    },
    {
     "name": "stderr",
     "output_type": "stream",
     "text": [
      "train:  66%|██████▌   | 957/1451 [22:57<11:08,  1.35s/it]"
     ]
    },
    {
     "name": "stdout",
     "output_type": "stream",
     "text": [
      "Training metrics: 0.8013857631597371| Distance: 0.8206438093762949| Speed: 0.7941483803552769 | Activity: 0.7075496342737722\n"
     ]
    },
    {
     "name": "stderr",
     "output_type": "stream",
     "text": [
      "train:  66%|██████▌   | 958/1451 [22:58<11:14,  1.37s/it]"
     ]
    },
    {
     "name": "stdout",
     "output_type": "stream",
     "text": [
      "Training metrics: 0.8015049035848861| Distance: 0.8207710466846225| Speed: 0.7942327766179541 | Activity: 0.7077244258872651\n"
     ]
    },
    {
     "name": "stderr",
     "output_type": "stream",
     "text": [
      "train:  66%|██████▌   | 959/1451 [22:59<11:07,  1.36s/it]"
     ]
    },
    {
     "name": "stdout",
     "output_type": "stream",
     "text": [
      "Training metrics: 0.8013643397696129| Distance: 0.8204655923515102| Speed: 0.7943169968717414 | Activity: 0.7078988529718456\n"
     ]
    },
    {
     "name": "stderr",
     "output_type": "stream",
     "text": [
      "train:  66%|██████▌   | 960/1451 [23:01<11:02,  1.35s/it]"
     ]
    },
    {
     "name": "stdout",
     "output_type": "stream",
     "text": [
      "Training metrics: 0.8014689906433269| Distance: 0.8205038732944339| Speed: 0.79453125 | Activity: 0.7080729166666667\n"
     ]
    },
    {
     "name": "stderr",
     "output_type": "stream",
     "text": [
      "train:  66%|██████▌   | 961/1451 [23:02<11:21,  1.39s/it]"
     ]
    },
    {
     "name": "stdout",
     "output_type": "stream",
     "text": [
      "Training metrics: 0.8015108587121037| Distance: 0.8204594783599234| Speed: 0.7947450572320499 | Activity: 0.7081165452653486\n"
     ]
    },
    {
     "name": "stderr",
     "output_type": "stream",
     "text": [
      "train:  66%|██████▋   | 962/1451 [23:04<11:42,  1.44s/it]"
     ]
    },
    {
     "name": "stdout",
     "output_type": "stream",
     "text": [
      "Training metrics: 0.8015124298469689| Distance: 0.8204564405973392| Speed: 0.7946985446985447 | Activity: 0.7082900207900208\n"
     ]
    },
    {
     "name": "stderr",
     "output_type": "stream",
     "text": [
      "train:  66%|██████▋   | 963/1451 [23:05<11:47,  1.45s/it]"
     ]
    },
    {
     "name": "stdout",
     "output_type": "stream",
     "text": [
      "Training metrics: 0.8015541658541245| Distance: 0.8204770884692316| Speed: 0.7947819314641744 | Activity: 0.7083333333333334\n"
     ]
    },
    {
     "name": "stderr",
     "output_type": "stream",
     "text": [
      "train:  66%|██████▋   | 964/1451 [23:07<12:21,  1.52s/it]"
     ]
    },
    {
     "name": "stdout",
     "output_type": "stream",
     "text": [
      "Training metrics: 0.801443337152573| Distance: 0.82043806537877| Speed: 0.7944761410788381 | Activity: 0.7083765560165975\n"
     ]
    },
    {
     "name": "stderr",
     "output_type": "stream",
     "text": [
      "train:  67%|██████▋   | 965/1451 [23:08<11:57,  1.48s/it]"
     ]
    },
    {
     "name": "stdout",
     "output_type": "stream",
     "text": [
      "Training metrics: 0.8016059952586074| Distance: 0.8205523064327396| Speed: 0.7946891191709845 | Activity: 0.708678756476684\n"
     ]
    },
    {
     "name": "stderr",
     "output_type": "stream",
     "text": [
      "train:  67%|██████▋   | 966/1451 [23:10<11:46,  1.46s/it]"
     ]
    },
    {
     "name": "stdout",
     "output_type": "stream",
     "text": [
      "Training metrics: 0.8015002596009527| Distance: 0.8204783484722574| Speed: 0.7945134575569358 | Activity: 0.7085921325051759\n"
     ]
    },
    {
     "name": "stderr",
     "output_type": "stream",
     "text": [
      "train:  67%|██████▋   | 967/1451 [23:11<11:21,  1.41s/it]"
     ]
    },
    {
     "name": "stdout",
     "output_type": "stream",
     "text": [
      "Training metrics: 0.8016508180954308| Distance: 0.8206158929649803| Speed: 0.7947259565667011 | Activity: 0.7086349534643226\n"
     ]
    },
    {
     "name": "stderr",
     "output_type": "stream",
     "text": [
      "train:  67%|██████▋   | 968/1451 [23:12<11:15,  1.40s/it]"
     ]
    },
    {
     "name": "stdout",
     "output_type": "stream",
     "text": [
      "Training metrics: 0.8017014342588132| Distance: 0.8205655791365896| Speed: 0.7949380165289256 | Activity: 0.7088068181818182\n"
     ]
    },
    {
     "name": "stderr",
     "output_type": "stream",
     "text": [
      "train:  67%|██████▋   | 969/1451 [23:14<11:40,  1.45s/it]"
     ]
    },
    {
     "name": "stdout",
     "output_type": "stream",
     "text": [
      "Training metrics: 0.8018176767169226| Distance: 0.8206679200871999| Speed: 0.7950206398348814 | Activity: 0.7091073271413829\n"
     ]
    },
    {
     "name": "stderr",
     "output_type": "stream",
     "text": [
      "train:  67%|██████▋   | 970/1451 [23:15<11:39,  1.45s/it]"
     ]
    },
    {
     "name": "stdout",
     "output_type": "stream",
     "text": [
      "Training metrics: 0.8018459217949153| Distance: 0.8206882201736562| Speed: 0.7951030927835051 | Activity: 0.7090206185567011\n"
     ]
    },
    {
     "name": "stderr",
     "output_type": "stream",
     "text": [
      "train:  67%|██████▋   | 971/1451 [23:17<11:26,  1.43s/it]"
     ]
    },
    {
     "name": "stdout",
     "output_type": "stream",
     "text": [
      "Training metrics: 0.8018900715124884| Distance: 0.8206492609657163| Speed: 0.7953141091658085 | Activity: 0.7090628218331617\n"
     ]
    },
    {
     "name": "stderr",
     "output_type": "stream",
     "text": [
      "train:  67%|██████▋   | 972/1451 [23:18<11:14,  1.41s/it]"
     ]
    },
    {
     "name": "stdout",
     "output_type": "stream",
     "text": [
      "Training metrics: 0.8019543207971124| Distance: 0.8206868995452559| Speed: 0.7953960905349794 | Activity: 0.7092335390946503\n"
     ]
    },
    {
     "name": "stderr",
     "output_type": "stream",
     "text": [
      "train:  67%|██████▋   | 973/1451 [23:20<11:22,  1.43s/it]"
     ]
    },
    {
     "name": "stdout",
     "output_type": "stream",
     "text": [
      "Training metrics: 0.8020661698360451| Distance: 0.8207183680206781| Speed: 0.795606372045221 | Activity: 0.7095323741007195\n"
     ]
    },
    {
     "name": "stderr",
     "output_type": "stream",
     "text": [
      "train:  67%|██████▋   | 974/1451 [23:21<11:09,  1.40s/it]"
     ]
    },
    {
     "name": "stdout",
     "output_type": "stream",
     "text": [
      "Training metrics: 0.8021429285718755| Distance: 0.8206916708230781| Speed: 0.7958162217659137 | Activity: 0.7098305954825462\n"
     ]
    },
    {
     "name": "stderr",
     "output_type": "stream",
     "text": [
      "train:  67%|██████▋   | 975/1451 [23:22<10:57,  1.38s/it]"
     ]
    },
    {
     "name": "stdout",
     "output_type": "stream",
     "text": [
      "Training metrics: 0.8022659630260512| Distance: 0.8207637845305984| Speed: 0.796025641025641 | Activity: 0.71\n"
     ]
    },
    {
     "name": "stderr",
     "output_type": "stream",
     "text": [
      "train:  67%|██████▋   | 976/1451 [23:24<10:55,  1.38s/it]"
     ]
    },
    {
     "name": "stdout",
     "output_type": "stream",
     "text": [
      "Training metrics: 0.8022771119002557| Distance: 0.8207777684676393| Speed: 0.7959784836065574 | Activity: 0.7101690573770492\n"
     ]
    },
    {
     "name": "stderr",
     "output_type": "stream",
     "text": [
      "train:  67%|██████▋   | 977/1451 [23:25<11:04,  1.40s/it]"
     ]
    },
    {
     "name": "stdout",
     "output_type": "stream",
     "text": [
      "Training metrics: 0.8022650803532262| Distance: 0.8207744515610746| Speed: 0.7959314227226203 | Activity: 0.7102098259979529\n"
     ]
    },
    {
     "name": "stderr",
     "output_type": "stream",
     "text": [
      "train:  67%|██████▋   | 978/1451 [23:26<10:47,  1.37s/it]"
     ]
    },
    {
     "name": "stdout",
     "output_type": "stream",
     "text": [
      "Training metrics: 0.8023924579563076| Distance: 0.82087563715281| Speed: 0.796140081799591 | Activity: 0.7102505112474438\n"
     ]
    },
    {
     "name": "stderr",
     "output_type": "stream",
     "text": [
      "train:  67%|██████▋   | 979/1451 [23:28<10:53,  1.39s/it]"
     ]
    },
    {
     "name": "stdout",
     "output_type": "stream",
     "text": [
      "Training metrics: 0.8024326129581274| Distance: 0.8208955193837365| Speed: 0.7962206332992849 | Activity: 0.710291113381001\n"
     ]
    },
    {
     "name": "stderr",
     "output_type": "stream",
     "text": [
      "train:  68%|██████▊   | 980/1451 [23:29<11:00,  1.40s/it]"
     ]
    },
    {
     "name": "stdout",
     "output_type": "stream",
     "text": [
      "Training metrics: 0.8025316259550724| Distance: 0.8210135942788622| Speed: 0.7963010204081633 | Activity: 0.7103316326530612\n"
     ]
    },
    {
     "name": "stderr",
     "output_type": "stream",
     "text": [
      "train:  68%|██████▊   | 981/1451 [23:31<11:08,  1.42s/it]"
     ]
    },
    {
     "name": "stdout",
     "output_type": "stream",
     "text": [
      "Training metrics: 0.8026085787221441| Distance: 0.8210737610030978| Speed: 0.79638124362895 | Activity: 0.7104994903160041\n"
     ]
    },
    {
     "name": "stderr",
     "output_type": "stream",
     "text": [
      "train:  68%|██████▊   | 982/1451 [23:32<10:56,  1.40s/it]"
     ]
    },
    {
     "name": "stdout",
     "output_type": "stream",
     "text": [
      "Training metrics: 0.8025374509894597| Distance: 0.8209721263945172| Speed: 0.7963340122199593 | Activity: 0.7105397148676171\n"
     ]
    },
    {
     "name": "stderr",
     "output_type": "stream",
     "text": [
      "train:  68%|██████▊   | 983/1451 [23:33<10:48,  1.39s/it]"
     ]
    },
    {
     "name": "stdout",
     "output_type": "stream",
     "text": [
      "Training metrics: 0.8026626898635799| Distance: 0.8211129605559496| Speed: 0.796414038657172 | Activity: 0.7107070193285859\n"
     ]
    },
    {
     "name": "stderr",
     "output_type": "stream",
     "text": [
      "train:  68%|██████▊   | 984/1451 [23:35<11:03,  1.42s/it]"
     ]
    },
    {
     "name": "stdout",
     "output_type": "stream",
     "text": [
      "Training metrics: 0.8025693166377823| Distance: 0.8210801280006398| Speed: 0.796239837398374 | Activity: 0.7104928861788617\n"
     ]
    },
    {
     "name": "stderr",
     "output_type": "stream",
     "text": [
      "train:  68%|██████▊   | 985/1451 [23:36<10:54,  1.40s/it]"
     ]
    },
    {
     "name": "stdout",
     "output_type": "stream",
     "text": [
      "Training metrics: 0.80269306895588| Distance: 0.8211974161109| Speed: 0.7963197969543148 | Activity: 0.7107868020304569\n"
     ]
    },
    {
     "name": "stderr",
     "output_type": "stream",
     "text": [
      "train:  68%|██████▊   | 986/1451 [23:38<10:47,  1.39s/it]"
     ]
    },
    {
     "name": "stdout",
     "output_type": "stream",
     "text": [
      "Training metrics: 0.8026723117816755| Distance: 0.821158552090487| Speed: 0.7962728194726166 | Activity: 0.7109533468559838\n"
     ]
    },
    {
     "name": "stderr",
     "output_type": "stream",
     "text": [
      "train:  68%|██████▊   | 987/1451 [23:39<10:38,  1.38s/it]"
     ]
    },
    {
     "name": "stdout",
     "output_type": "stream",
     "text": [
      "Training metrics: 0.8028373066942092| Distance: 0.8212815293940975| Speed: 0.7964792299898683 | Activity: 0.7112462006079028\n"
     ]
    },
    {
     "name": "stderr",
     "output_type": "stream",
     "text": [
      "train:  68%|██████▊   | 988/1451 [23:40<10:49,  1.40s/it]"
     ]
    },
    {
     "name": "stdout",
     "output_type": "stream",
     "text": [
      "Training metrics: 0.8029176487902256| Distance: 0.8213691582401197| Speed: 0.7965587044534413 | Activity: 0.7112854251012146\n"
     ]
    },
    {
     "name": "stderr",
     "output_type": "stream",
     "text": [
      "train:  68%|██████▊   | 989/1451 [23:42<11:01,  1.43s/it]"
     ]
    },
    {
     "name": "stdout",
     "output_type": "stream",
     "text": [
      "Training metrics: 0.8028359337979131| Distance: 0.8214395661040378| Speed: 0.7962588473205258 | Activity: 0.7109453993933266\n"
     ]
    },
    {
     "name": "stderr",
     "output_type": "stream",
     "text": [
      "train:  68%|██████▊   | 990/1451 [23:43<10:50,  1.41s/it]"
     ]
    },
    {
     "name": "stdout",
     "output_type": "stream",
     "text": [
      "Training metrics: 0.8029335392687881| Distance: 0.8215558987813135| Speed: 0.7963383838383838 | Activity: 0.7109848484848484\n"
     ]
    },
    {
     "name": "stderr",
     "output_type": "stream",
     "text": [
      "train:  68%|██████▊   | 991/1451 [23:45<10:52,  1.42s/it]"
     ]
    },
    {
     "name": "stdout",
     "output_type": "stream",
     "text": [
      "Training metrics: 0.8029576519219326| Distance: 0.8215288144208464| Speed: 0.7964177598385469 | Activity: 0.7111503531786074\n"
     ]
    },
    {
     "name": "stderr",
     "output_type": "stream",
     "text": [
      "train:  68%|██████▊   | 992/1451 [23:46<10:37,  1.39s/it]"
     ]
    },
    {
     "name": "stdout",
     "output_type": "stream",
     "text": [
      "Training metrics: 0.803008120307548| Distance: 0.8214617865340855| Speed: 0.7966229838709677 | Activity: 0.7114415322580645\n"
     ]
    },
    {
     "name": "stderr",
     "output_type": "stream",
     "text": [
      "train:  68%|██████▊   | 993/1451 [23:48<10:43,  1.41s/it]"
     ]
    },
    {
     "name": "stdout",
     "output_type": "stream",
     "text": [
      "Training metrics: 0.8029739522417203| Distance: 0.8213379230883323| Speed: 0.7967019133937563 | Activity: 0.7116062437059416\n"
     ]
    },
    {
     "name": "stderr",
     "output_type": "stream",
     "text": [
      "train:  69%|██████▊   | 994/1451 [23:49<10:47,  1.42s/it]"
     ]
    },
    {
     "name": "stdout",
     "output_type": "stream",
     "text": [
      "Training metrics: 0.8030207242716222| Distance: 0.8213281353554535| Speed: 0.7967806841046278 | Activity: 0.7118963782696177\n"
     ]
    },
    {
     "name": "stderr",
     "output_type": "stream",
     "text": [
      "train:  69%|██████▊   | 995/1451 [23:50<10:52,  1.43s/it]"
     ]
    },
    {
     "name": "stdout",
     "output_type": "stream",
     "text": [
      "Training metrics: 0.8028939098514164| Distance: 0.821175779400602| Speed: 0.7966080402010051 | Activity: 0.7120603015075377\n"
     ]
    },
    {
     "name": "stderr",
     "output_type": "stream",
     "text": [
      "train:  69%|██████▊   | 996/1451 [23:52<10:41,  1.41s/it]"
     ]
    },
    {
     "name": "stdout",
     "output_type": "stream",
     "text": [
      "Training metrics: 0.8030046059903704| Distance: 0.8213145708942586| Speed: 0.7966867469879518 | Activity: 0.7120983935742972\n"
     ]
    },
    {
     "name": "stderr",
     "output_type": "stream",
     "text": [
      "train:  69%|██████▊   | 997/1451 [23:53<10:32,  1.39s/it]"
     ]
    },
    {
     "name": "stdout",
     "output_type": "stream",
     "text": [
      "Training metrics: 0.8030088293520234| Distance: 0.821338687502453| Speed: 0.7966399197592778 | Activity: 0.7121364092276831\n"
     ]
    },
    {
     "name": "stderr",
     "output_type": "stream",
     "text": [
      "train:  69%|██████▉   | 998/1451 [23:55<10:32,  1.40s/it]"
     ]
    },
    {
     "name": "stdout",
     "output_type": "stream",
     "text": [
      "Training metrics: 0.8029599269225502| Distance: 0.8212324767346447| Speed: 0.7965931863727455 | Activity: 0.7124248496993988\n"
     ]
    },
    {
     "name": "stderr",
     "output_type": "stream",
     "text": [
      "train:  69%|██████▉   | 999/1451 [23:56<10:34,  1.40s/it]"
     ]
    },
    {
     "name": "stdout",
     "output_type": "stream",
     "text": [
      "Training metrics: 0.8029880284804586| Distance: 0.8212963637837475| Speed: 0.7965465465465466 | Activity: 0.7124624624624625\n"
     ]
    },
    {
     "name": "stderr",
     "output_type": "stream",
     "text": [
      "train:  69%|██████▉   | 1000/1451 [23:57<10:32,  1.40s/it]"
     ]
    },
    {
     "name": "stdout",
     "output_type": "stream",
     "text": [
      "Training metrics: 0.8030720058019423| Distance: 0.8212866763365705| Speed: 0.79675 | Activity: 0.71275\n"
     ]
    },
    {
     "name": "stderr",
     "output_type": "stream",
     "text": [
      "train:  69%|██████▉   | 1001/1451 [23:59<10:19,  1.38s/it]"
     ]
    },
    {
     "name": "stdout",
     "output_type": "stream",
     "text": [
      "Training metrics: 0.8030719561362585| Distance: 0.8212204929943303| Speed: 0.7968281718281718 | Activity: 0.7129120879120879\n"
     ]
    },
    {
     "name": "stderr",
     "output_type": "stream",
     "text": [
      "train:  69%|██████▉   | 1002/1451 [24:00<10:20,  1.38s/it]"
     ]
    },
    {
     "name": "stdout",
     "output_type": "stream",
     "text": [
      "Training metrics: 0.8030267357660887| Distance: 0.8211207405815385| Speed: 0.7969061876247505 | Activity: 0.7128243512974052\n"
     ]
    },
    {
     "name": "stderr",
     "output_type": "stream",
     "text": [
      "train:  69%|██████▉   | 1003/1451 [24:01<10:13,  1.37s/it]"
     ]
    },
    {
     "name": "stdout",
     "output_type": "stream",
     "text": [
      "Training metrics: 0.8030332797222155| Distance: 0.8211280816905653| Speed: 0.7968594217347956 | Activity: 0.7129860418743769\n"
     ]
    },
    {
     "name": "stderr",
     "output_type": "stream",
     "text": [
      "train:  69%|██████▉   | 1004/1451 [24:03<10:06,  1.36s/it]"
     ]
    },
    {
     "name": "stdout",
     "output_type": "stream",
     "text": [
      "Training metrics: 0.8030386334371094| Distance: 0.8212371978267894| Speed: 0.7966882470119522 | Activity: 0.712898406374502\n"
     ]
    },
    {
     "name": "stderr",
     "output_type": "stream",
     "text": [
      "train:  69%|██████▉   | 1005/1451 [24:04<10:11,  1.37s/it]"
     ]
    },
    {
     "name": "stdout",
     "output_type": "stream",
     "text": [
      "Training metrics: 0.8031932302291878| Distance: 0.8213460968164739| Speed: 0.7968905472636816 | Activity: 0.71318407960199\n"
     ]
    },
    {
     "name": "stderr",
     "output_type": "stream",
     "text": [
      "train:  69%|██████▉   | 1006/1451 [24:06<10:09,  1.37s/it]"
     ]
    },
    {
     "name": "stdout",
     "output_type": "stream",
     "text": [
      "Training metrics: 0.8033327333634261| Distance: 0.8214715536176387| Speed: 0.7970924453280318 | Activity: 0.713220675944334\n"
     ]
    },
    {
     "name": "stderr",
     "output_type": "stream",
     "text": [
      "train:  69%|██████▉   | 1007/1451 [24:07<10:10,  1.38s/it]"
     ]
    },
    {
     "name": "stdout",
     "output_type": "stream",
     "text": [
      "Training metrics: 0.8034293714278612| Distance: 0.8214844042169087| Speed: 0.7972939424031777 | Activity: 0.7135054617676266\n"
     ]
    },
    {
     "name": "stderr",
     "output_type": "stream",
     "text": [
      "train:  69%|██████▉   | 1008/1451 [24:09<10:46,  1.46s/it]"
     ]
    },
    {
     "name": "stdout",
     "output_type": "stream",
     "text": [
      "Training metrics: 0.8033917651967347| Distance: 0.8214804882908543| Speed: 0.7971230158730159 | Activity: 0.7136656746031746\n"
     ]
    },
    {
     "name": "stderr",
     "output_type": "stream",
     "text": [
      "train:  70%|██████▉   | 1009/1451 [24:10<10:36,  1.44s/it]"
     ]
    },
    {
     "name": "stdout",
     "output_type": "stream",
     "text": [
      "Training metrics: 0.8034421244034158| Distance: 0.8215611224364826| Speed: 0.7970763131813677 | Activity: 0.7138255698711595\n"
     ]
    },
    {
     "name": "stderr",
     "output_type": "stream",
     "text": [
      "train:  70%|██████▉   | 1010/1451 [24:11<10:40,  1.45s/it]"
     ]
    },
    {
     "name": "stdout",
     "output_type": "stream",
     "text": [
      "Training metrics: 0.8032943751736794| Distance: 0.8213322094478818| Speed: 0.7970297029702971 | Activity: 0.7138613861386138\n"
     ]
    },
    {
     "name": "stderr",
     "output_type": "stream",
     "text": [
      "train:  70%|██████▉   | 1011/1451 [24:13<10:29,  1.43s/it]"
     ]
    },
    {
     "name": "stdout",
     "output_type": "stream",
     "text": [
      "Training metrics: 0.8034478015181918| Distance: 0.8214403681748963| Speed: 0.7972304648862513 | Activity: 0.7141444114737884\n"
     ]
    },
    {
     "name": "stderr",
     "output_type": "stream",
     "text": [
      "train:  70%|██████▉   | 1012/1451 [24:14<10:24,  1.42s/it]"
     ]
    },
    {
     "name": "stdout",
     "output_type": "stream",
     "text": [
      "Training metrics: 0.803513833673666| Distance: 0.8214649204179022| Speed: 0.7973073122529645 | Activity: 0.7144268774703557\n"
     ]
    },
    {
     "name": "stderr",
     "output_type": "stream",
     "text": [
      "train:  70%|██████▉   | 1013/1451 [24:16<10:16,  1.41s/it]"
     ]
    },
    {
     "name": "stdout",
     "output_type": "stream",
     "text": [
      "Training metrics: 0.8034493059644616| Distance: 0.8213543055972357| Speed: 0.7972606120434353 | Activity: 0.7145853899308984\n"
     ]
    },
    {
     "name": "stderr",
     "output_type": "stream",
     "text": [
      "train:  70%|██████▉   | 1014/1451 [24:17<10:33,  1.45s/it]"
     ]
    },
    {
     "name": "stdout",
     "output_type": "stream",
     "text": [
      "Training metrics: 0.8034342151935397| Distance: 0.8212439089517577| Speed: 0.7973372781065089 | Activity: 0.7148668639053254\n"
     ]
    },
    {
     "name": "stderr",
     "output_type": "stream",
     "text": [
      "train:  70%|██████▉   | 1015/1451 [24:19<10:26,  1.44s/it]"
     ]
    },
    {
     "name": "stdout",
     "output_type": "stream",
     "text": [
      "Training metrics: 0.8034338093563563| Distance: 0.8211786806185579| Speed: 0.7974137931034483 | Activity: 0.7150246305418719\n"
     ]
    },
    {
     "name": "stderr",
     "output_type": "stream",
     "text": [
      "train:  70%|███████   | 1016/1451 [24:20<10:13,  1.41s/it]"
     ]
    },
    {
     "name": "stdout",
     "output_type": "stream",
     "text": [
      "Training metrics: 0.8034644752169909| Distance: 0.821185870768476| Speed: 0.7974901574803149 | Activity: 0.7150590551181102\n"
     ]
    },
    {
     "name": "stderr",
     "output_type": "stream",
     "text": [
      "train:  70%|███████   | 1017/1451 [24:21<10:04,  1.39s/it]"
     ]
    },
    {
     "name": "stdout",
     "output_type": "stream",
     "text": [
      "Training metrics: 0.8035342892531239| Distance: 0.8212379091616308| Speed: 0.797566371681416 | Activity: 0.7152163225172075\n"
     ]
    },
    {
     "name": "stderr",
     "output_type": "stream",
     "text": [
      "train:  70%|███████   | 1018/1451 [24:23<10:01,  1.39s/it]"
     ]
    },
    {
     "name": "stdout",
     "output_type": "stream",
     "text": [
      "Training metrics: 0.8035250013765891| Distance: 0.8211787023598032| Speed: 0.7976424361493124 | Activity: 0.7152504911591355\n"
     ]
    },
    {
     "name": "stderr",
     "output_type": "stream",
     "text": [
      "train:  70%|███████   | 1019/1451 [24:24<10:26,  1.45s/it]"
     ]
    },
    {
     "name": "stdout",
     "output_type": "stream",
     "text": [
      "Training metrics: 0.8035519968445934| Distance: 0.8212413882640509| Speed: 0.7975956820412169 | Activity: 0.7152845927379784\n"
     ]
    },
    {
     "name": "stderr",
     "output_type": "stream",
     "text": [
      "train:  70%|███████   | 1020/1451 [24:26<10:24,  1.45s/it]"
     ]
    },
    {
     "name": "stdout",
     "output_type": "stream",
     "text": [
      "Training metrics: 0.8035847660119967| Distance: 0.821293237470975| Speed: 0.7975490196078432 | Activity: 0.7154411764705882\n"
     ]
    },
    {
     "name": "stderr",
     "output_type": "stream",
     "text": [
      "train:  70%|███████   | 1021/1451 [24:27<10:19,  1.44s/it]"
     ]
    },
    {
     "name": "stdout",
     "output_type": "stream",
     "text": [
      "Training metrics: 0.8036944011975408| Distance: 0.8213507731353071| Speed: 0.797747306562194 | Activity: 0.7155974534769833\n"
     ]
    },
    {
     "name": "stderr",
     "output_type": "stream",
     "text": [
      "train:  70%|███████   | 1022/1451 [24:28<10:04,  1.41s/it]"
     ]
    },
    {
     "name": "stdout",
     "output_type": "stream",
     "text": [
      "Training metrics: 0.8038480977110918| Distance: 0.8215023742021134| Speed: 0.797945205479452 | Activity: 0.7156311154598826\n"
     ]
    },
    {
     "name": "stderr",
     "output_type": "stream",
     "text": [
      "train:  71%|███████   | 1023/1451 [24:30<09:52,  1.38s/it]"
     ]
    },
    {
     "name": "stdout",
     "output_type": "stream",
     "text": [
      "Training metrics: 0.8038903677267811| Distance: 0.8215702935557139| Speed: 0.7978983382209188 | Activity: 0.7157869012707723\n"
     ]
    },
    {
     "name": "stderr",
     "output_type": "stream",
     "text": [
      "train:  71%|███████   | 1024/1451 [24:31<09:45,  1.37s/it]"
     ]
    },
    {
     "name": "stdout",
     "output_type": "stream",
     "text": [
      "Training metrics: 0.8039901167654003| Distance: 0.8216933261194175| Speed: 0.7979736328125 | Activity: 0.7158203125\n"
     ]
    },
    {
     "name": "stderr",
     "output_type": "stream",
     "text": [
      "train:  71%|███████   | 1025/1451 [24:33<10:07,  1.43s/it]"
     ]
    },
    {
     "name": "stdout",
     "output_type": "stream",
     "text": [
      "Training metrics: 0.8040763229626902| Distance: 0.8217938716044839| Speed: 0.7980487804878049 | Activity: 0.7158536585365853\n"
     ]
    },
    {
     "name": "stderr",
     "output_type": "stream",
     "text": [
      "train:  71%|███████   | 1026/1451 [24:34<10:23,  1.47s/it]"
     ]
    },
    {
     "name": "stdout",
     "output_type": "stream",
     "text": [
      "Training metrics: 0.8040573307607395| Distance: 0.8218003920736173| Speed: 0.7980019493177388 | Activity: 0.7157651072124757\n"
     ]
    },
    {
     "name": "stderr",
     "output_type": "stream",
     "text": [
      "train:  71%|███████   | 1027/1451 [24:36<10:58,  1.55s/it]"
     ]
    },
    {
     "name": "stdout",
     "output_type": "stream",
     "text": [
      "Training metrics: 0.8040748896633689| Distance: 0.8217460429800066| Speed: 0.7980769230769231 | Activity: 0.7160418695228822\n"
     ]
    },
    {
     "name": "stderr",
     "output_type": "stream",
     "text": [
      "train:  71%|███████   | 1028/1451 [24:37<10:39,  1.51s/it]"
     ]
    },
    {
     "name": "stdout",
     "output_type": "stream",
     "text": [
      "Training metrics: 0.8040773257930163| Distance: 0.8216261201608638| Speed: 0.798273346303502 | Activity: 0.7161964980544747\n"
     ]
    },
    {
     "name": "stderr",
     "output_type": "stream",
     "text": [
      "train:  71%|███████   | 1029/1451 [24:39<10:32,  1.50s/it]"
     ]
    },
    {
     "name": "stdout",
     "output_type": "stream",
     "text": [
      "Training metrics: 0.8041104355485619| Distance: 0.8217600229664244| Speed: 0.7981049562682215 | Activity: 0.7162293488824101\n"
     ]
    },
    {
     "name": "stderr",
     "output_type": "stream",
     "text": [
      "train:  71%|███████   | 1030/1451 [24:40<10:09,  1.45s/it]"
     ]
    },
    {
     "name": "stdout",
     "output_type": "stream",
     "text": [
      "Training metrics: 0.804267763627709| Distance: 0.821898538085017| Speed: 0.7983009708737864 | Activity: 0.716383495145631\n"
     ]
    },
    {
     "name": "stderr",
     "output_type": "stream",
     "text": [
      "train:  71%|███████   | 1031/1451 [24:42<10:01,  1.43s/it]"
     ]
    },
    {
     "name": "stdout",
     "output_type": "stream",
     "text": [
      "Training metrics: 0.8042994780664445| Distance: 0.8218885578507995| Speed: 0.7983753637245393 | Activity: 0.716537342386033\n"
     ]
    },
    {
     "name": "stderr",
     "output_type": "stream",
     "text": [
      "train:  71%|███████   | 1032/1451 [24:43<10:00,  1.43s/it]"
     ]
    },
    {
     "name": "stdout",
     "output_type": "stream",
     "text": [
      "Training metrics: 0.8044488084263374| Distance: 0.8219939765761957| Speed: 0.7985707364341085 | Activity: 0.716812015503876\n"
     ]
    },
    {
     "name": "stderr",
     "output_type": "stream",
     "text": [
      "train:  71%|███████   | 1033/1451 [24:44<09:57,  1.43s/it]"
     ]
    },
    {
     "name": "stdout",
     "output_type": "stream",
     "text": [
      "Training metrics: 0.8044111254466918| Distance: 0.8218686553508111| Speed: 0.7986447241045499 | Activity: 0.7169651500484027\n"
     ]
    },
    {
     "name": "stderr",
     "output_type": "stream",
     "text": [
      "train:  71%|███████▏  | 1034/1451 [24:46<10:11,  1.47s/it]"
     ]
    },
    {
     "name": "stdout",
     "output_type": "stream",
     "text": [
      "Training metrics: 0.804418431273111| Distance: 0.821798288098641| Speed: 0.7987185686653772 | Activity: 0.7172388781431335\n"
     ]
    },
    {
     "name": "stderr",
     "output_type": "stream",
     "text": [
      "train:  71%|███████▏  | 1035/1451 [24:48<10:14,  1.48s/it]"
     ]
    },
    {
     "name": "stdout",
     "output_type": "stream",
     "text": [
      "Training metrics: 0.8044838147441139| Distance: 0.8218651340743286| Speed: 0.798792270531401 | Activity: 0.7172705314009662\n"
     ]
    },
    {
     "name": "stderr",
     "output_type": "stream",
     "text": [
      "train:  71%|███████▏  | 1036/1451 [24:49<10:35,  1.53s/it]"
     ]
    },
    {
     "name": "stdout",
     "output_type": "stream",
     "text": [
      "Training metrics: 0.8044209349771476| Distance: 0.8217786174973054| Speed: 0.7987451737451737 | Activity: 0.7173021235521235\n"
     ]
    },
    {
     "name": "stderr",
     "output_type": "stream",
     "text": [
      "train:  71%|███████▏  | 1037/1451 [24:51<10:36,  1.54s/it]"
     ]
    },
    {
     "name": "stdout",
     "output_type": "stream",
     "text": [
      "Training metrics: 0.8043352082225431| Distance: 0.8215334473268682| Speed: 0.7989392478302797 | Activity: 0.7173336547733847\n"
     ]
    },
    {
     "name": "stderr",
     "output_type": "stream",
     "text": [
      "train:  72%|███████▏  | 1038/1451 [24:52<10:27,  1.52s/it]"
     ]
    },
    {
     "name": "stdout",
     "output_type": "stream",
     "text": [
      "Training metrics: 0.804453841396495| Distance: 0.8216491447809281| Speed: 0.7990125240847784 | Activity: 0.7176059730250481\n"
     ]
    },
    {
     "name": "stderr",
     "output_type": "stream",
     "text": [
      "train:  72%|███████▏  | 1039/1451 [24:54<10:02,  1.46s/it]"
     ]
    },
    {
     "name": "stdout",
     "output_type": "stream",
     "text": [
      "Training metrics: 0.8044817091232317| Distance: 0.8216337757122839| Speed: 0.7990856592877768 | Activity: 0.7177574590952839\n"
     ]
    },
    {
     "name": "stderr",
     "output_type": "stream",
     "text": [
      "train:  72%|███████▏  | 1040/1451 [24:55<10:03,  1.47s/it]"
     ]
    },
    {
     "name": "stdout",
     "output_type": "stream",
     "text": [
      "Training metrics: 0.8045043442975867| Distance: 0.821629836649824| Speed: 0.7991586538461538 | Activity: 0.7177884615384615\n"
     ]
    },
    {
     "name": "stderr",
     "output_type": "stream",
     "text": [
      "train:  72%|███████▏  | 1041/1451 [24:56<09:52,  1.44s/it]"
     ]
    },
    {
     "name": "stdout",
     "output_type": "stream",
     "text": [
      "Training metrics: 0.804558417581941| Distance: 0.8216583616759539| Speed: 0.7993515850144092 | Activity: 0.7175792507204611\n"
     ]
    },
    {
     "name": "stderr",
     "output_type": "stream",
     "text": [
      "train:  72%|███████▏  | 1042/1451 [24:58<10:00,  1.47s/it]"
     ]
    },
    {
     "name": "stdout",
     "output_type": "stream",
     "text": [
      "Training metrics: 0.8045832149898808| Distance: 0.8216382118033525| Speed: 0.7994241842610365 | Activity: 0.7177303262955854\n"
     ]
    },
    {
     "name": "stderr",
     "output_type": "stream",
     "text": [
      "train:  72%|███████▏  | 1043/1451 [24:59<10:11,  1.50s/it]"
     ]
    },
    {
     "name": "stdout",
     "output_type": "stream",
     "text": [
      "Training metrics: 0.8045566159114312| Distance: 0.8215524934413917| Speed: 0.799496644295302 | Activity: 0.7177612655800575\n"
     ]
    },
    {
     "name": "stderr",
     "output_type": "stream",
     "text": [
      "train:  72%|███████▏  | 1044/1451 [25:01<11:07,  1.64s/it]"
     ]
    },
    {
     "name": "stdout",
     "output_type": "stream",
     "text": [
      "Training metrics: 0.8046549479819742| Distance: 0.8216351623454363| Speed: 0.7996886973180076 | Activity: 0.7176724137931034\n"
     ]
    },
    {
     "name": "stderr",
     "output_type": "stream",
     "text": [
      "train:  72%|███████▏  | 1045/1451 [25:03<11:49,  1.75s/it]"
     ]
    },
    {
     "name": "stdout",
     "output_type": "stream",
     "text": [
      "Training metrics: 0.8045725350013915| Distance: 0.821755660409018| Speed: 0.7992822966507177 | Activity: 0.7173444976076555\n"
     ]
    },
    {
     "name": "stderr",
     "output_type": "stream",
     "text": [
      "train:  72%|███████▏  | 1046/1451 [25:05<11:02,  1.64s/it]"
     ]
    },
    {
     "name": "stdout",
     "output_type": "stream",
     "text": [
      "Training metrics: 0.8046934344739265| Distance: 0.821816176640738| Speed: 0.7994741873804971 | Activity: 0.717614722753346\n"
     ]
    },
    {
     "name": "stderr",
     "output_type": "stream",
     "text": [
      "train:  72%|███████▏  | 1047/1451 [25:06<10:27,  1.55s/it]"
     ]
    },
    {
     "name": "stdout",
     "output_type": "stream",
     "text": [
      "Training metrics: 0.8048141030019103| Distance: 0.8219362716380136| Speed: 0.7995463228271251 | Activity: 0.7178844317096467\n"
     ]
    },
    {
     "name": "stderr",
     "output_type": "stream",
     "text": [
      "train:  72%|███████▏  | 1048/1451 [25:08<10:26,  1.56s/it]"
     ]
    },
    {
     "name": "stdout",
     "output_type": "stream",
     "text": [
      "Training metrics: 0.8048913531307698| Distance: 0.8220239155232933| Speed: 0.799618320610687 | Activity: 0.7179150763358778\n"
     ]
    },
    {
     "name": "stderr",
     "output_type": "stream",
     "text": [
      "train:  72%|███████▏  | 1049/1451 [25:09<09:51,  1.47s/it]"
     ]
    },
    {
     "name": "stdout",
     "output_type": "stream",
     "text": [
      "Training metrics: 0.8050422167257352| Distance: 0.8221548861539506| Speed: 0.7998093422306959 | Activity: 0.7180648236415634\n"
     ]
    },
    {
     "name": "stderr",
     "output_type": "stream",
     "text": [
      "train:  72%|███████▏  | 1050/1451 [25:10<09:29,  1.42s/it]"
     ]
    },
    {
     "name": "stdout",
     "output_type": "stream",
     "text": [
      "Training metrics: 0.8051848922040797| Distance: 0.822252598117911| Speed: 0.8 | Activity: 0.7183333333333334\n"
     ]
    },
    {
     "name": "stderr",
     "output_type": "stream",
     "text": [
      "train:  72%|███████▏  | 1051/1451 [25:12<09:21,  1.40s/it]"
     ]
    },
    {
     "name": "stdout",
     "output_type": "stream",
     "text": [
      "Training metrics: 0.8052672131484507| Distance: 0.8222698081494161| Speed: 0.8001902949571836 | Activity: 0.7184823977164605\n"
     ]
    },
    {
     "name": "stderr",
     "output_type": "stream",
     "text": [
      "train:  73%|███████▎  | 1052/1451 [25:13<09:24,  1.42s/it]"
     ]
    },
    {
     "name": "stdout",
     "output_type": "stream",
     "text": [
      "Training metrics: 0.8053092265864883| Distance: 0.82237849551487| Speed: 0.8001425855513308 | Activity: 0.718393536121673\n"
     ]
    },
    {
     "name": "stderr",
     "output_type": "stream",
     "text": [
      "train:  73%|███████▎  | 1053/1451 [25:15<09:35,  1.45s/it]"
     ]
    },
    {
     "name": "stdout",
     "output_type": "stream",
     "text": [
      "Training metrics: 0.8053132922058377| Distance: 0.8225030020461335| Speed: 0.7999762583095916 | Activity: 0.7181861348528015\n"
     ]
    },
    {
     "name": "stderr",
     "output_type": "stream",
     "text": [
      "train:  73%|███████▎  | 1054/1451 [25:16<09:27,  1.43s/it]"
     ]
    },
    {
     "name": "stdout",
     "output_type": "stream",
     "text": [
      "Training metrics: 0.8053359591057732| Distance: 0.8225199255178447| Speed: 0.7999288425047438 | Activity: 0.7184535104364327\n"
     ]
    },
    {
     "name": "stderr",
     "output_type": "stream",
     "text": [
      "train:  73%|███████▎  | 1055/1451 [25:18<09:29,  1.44s/it]"
     ]
    },
    {
     "name": "stdout",
     "output_type": "stream",
     "text": [
      "Training metrics: 0.8054759461497035| Distance: 0.8226336859209122| Speed: 0.8001184834123223 | Activity: 0.7186018957345972\n"
     ]
    },
    {
     "name": "stderr",
     "output_type": "stream",
     "text": [
      "train:  73%|███████▎  | 1056/1451 [25:19<09:19,  1.42s/it]"
     ]
    },
    {
     "name": "stdout",
     "output_type": "stream",
     "text": [
      "Training metrics: 0.8055091339757479| Distance: 0.8225696740504891| Speed: 0.8003077651515151 | Activity: 0.71875\n"
     ]
    },
    {
     "name": "stderr",
     "output_type": "stream",
     "text": [
      "train:  73%|███████▎  | 1057/1451 [25:20<09:42,  1.48s/it]"
     ]
    },
    {
     "name": "stdout",
     "output_type": "stream",
     "text": [
      "Training metrics: 0.8056549061515147| Distance: 0.8226935285432846| Speed: 0.8004966887417219 | Activity: 0.7188978240302744\n"
     ]
    },
    {
     "name": "stderr",
     "output_type": "stream",
     "text": [
      "train:  73%|███████▎  | 1058/1451 [25:22<09:16,  1.42s/it]"
     ]
    },
    {
     "name": "stdout",
     "output_type": "stream",
     "text": [
      "Training metrics: 0.8057930776732682| Distance: 0.8227852491781947| Speed: 0.8006852551984878 | Activity: 0.719163516068053\n"
     ]
    },
    {
     "name": "stderr",
     "output_type": "stream",
     "text": [
      "train:  73%|███████▎  | 1059/1451 [25:23<09:17,  1.42s/it]"
     ]
    },
    {
     "name": "stdout",
     "output_type": "stream",
     "text": [
      "Training metrics: 0.8059253867684548| Distance: 0.8228871334400281| Speed: 0.8008734655335222 | Activity: 0.7193106704438149\n"
     ]
    },
    {
     "name": "stderr",
     "output_type": "stream",
     "text": [
      "train:  73%|███████▎  | 1060/1451 [25:25<09:27,  1.45s/it]"
     ]
    },
    {
     "name": "stdout",
     "output_type": "stream",
     "text": [
      "Training metrics: 0.8060338613181788| Distance: 0.8229298632032541| Speed: 0.801061320754717 | Activity: 0.7195754716981132\n"
     ]
    },
    {
     "name": "stderr",
     "output_type": "stream",
     "text": [
      "train:  73%|███████▎  | 1061/1451 [25:26<09:39,  1.49s/it]"
     ]
    },
    {
     "name": "stdout",
     "output_type": "stream",
     "text": [
      "Training metrics: 0.8061034349352092| Distance: 0.8229080183258829| Speed: 0.801248821866164 | Activity: 0.7198397737983034\n"
     ]
    },
    {
     "name": "stderr",
     "output_type": "stream",
     "text": [
      "train:  73%|███████▎  | 1062/1451 [25:28<09:26,  1.46s/it]"
     ]
    },
    {
     "name": "stdout",
     "output_type": "stream",
     "text": [
      "Training metrics: 0.8062075787862474| Distance: 0.8229832841666588| Speed: 0.8014359698681732 | Activity: 0.7198681732580038\n"
     ]
    },
    {
     "name": "stderr",
     "output_type": "stream",
     "text": [
      "train:  73%|███████▎  | 1063/1451 [25:29<09:12,  1.42s/it]"
     ]
    },
    {
     "name": "stdout",
     "output_type": "stream",
     "text": [
      "Training metrics: 0.8061178100721292| Distance: 0.8229511321835584| Speed: 0.8012699905926622 | Activity: 0.7196613358419567\n"
     ]
    },
    {
     "name": "stderr",
     "output_type": "stream",
     "text": [
      "train:  73%|███████▎  | 1064/1451 [25:31<09:22,  1.45s/it]"
     ]
    },
    {
     "name": "stdout",
     "output_type": "stream",
     "text": [
      "Training metrics: 0.8061725200048951| Distance: 0.8229833353465048| Speed: 0.8013392857142857 | Activity: 0.7198073308270677\n"
     ]
    },
    {
     "name": "stderr",
     "output_type": "stream",
     "text": [
      "train:  73%|███████▎  | 1065/1451 [25:32<09:25,  1.47s/it]"
     ]
    },
    {
     "name": "stdout",
     "output_type": "stream",
     "text": [
      "Training metrics: 0.8062545489844896| Distance: 0.8229829337534922| Speed: 0.8015258215962441 | Activity: 0.7200704225352113\n"
     ]
    },
    {
     "name": "stderr",
     "output_type": "stream",
     "text": [
      "train:  73%|███████▎  | 1066/1451 [25:33<09:09,  1.43s/it]"
     ]
    },
    {
     "name": "stdout",
     "output_type": "stream",
     "text": [
      "Training metrics: 0.8062884110107588| Distance: 0.8230197719472624| Speed: 0.801594746716698 | Activity: 0.7199812382739212\n"
     ]
    },
    {
     "name": "stderr",
     "output_type": "stream",
     "text": [
      "train:  74%|███████▎  | 1067/1451 [25:35<09:04,  1.42s/it]"
     ]
    },
    {
     "name": "stdout",
     "output_type": "stream",
     "text": [
      "Training metrics: 0.8062022366575781| Distance: 0.8228761113927459| Speed: 0.8015463917525774 | Activity: 0.7201265229615745\n"
     ]
    },
    {
     "name": "stderr",
     "output_type": "stream",
     "text": [
      "train:  74%|███████▎  | 1068/1451 [25:36<09:27,  1.48s/it]"
     ]
    },
    {
     "name": "stdout",
     "output_type": "stream",
     "text": [
      "Training metrics: 0.8062076328310861| Distance: 0.822807040985643| Speed: 0.8016151685393258 | Activity: 0.7203885767790262\n"
     ]
    },
    {
     "name": "stderr",
     "output_type": "stream",
     "text": [
      "train:  74%|███████▎  | 1069/1451 [25:38<09:22,  1.47s/it]"
     ]
    },
    {
     "name": "stdout",
     "output_type": "stream",
     "text": [
      "Training metrics: 0.8062408382304376| Distance: 0.8228819084320829| Speed: 0.8015668849391955 | Activity: 0.7204162768942938\n"
     ]
    },
    {
     "name": "stderr",
     "output_type": "stream",
     "text": [
      "train:  74%|███████▎  | 1070/1451 [25:39<09:19,  1.47s/it]"
     ]
    },
    {
     "name": "stdout",
     "output_type": "stream",
     "text": [
      "Training metrics: 0.8062862687264722| Distance: 0.8229187033291673| Speed: 0.8016355140186916 | Activity: 0.7204439252336449\n"
     ]
    },
    {
     "name": "stderr",
     "output_type": "stream",
     "text": [
      "train:  74%|███████▍  | 1071/1451 [25:41<09:06,  1.44s/it]"
     ]
    },
    {
     "name": "stdout",
     "output_type": "stream",
     "text": [
      "Training metrics: 0.806263199596887| Distance: 0.8228608570934736| Speed: 0.8017040149393091 | Activity: 0.7203548085901027\n"
     ]
    },
    {
     "name": "stderr",
     "output_type": "stream",
     "text": [
      "train:  74%|███████▍  | 1072/1451 [25:42<09:13,  1.46s/it]"
     ]
    },
    {
     "name": "stdout",
     "output_type": "stream",
     "text": [
      "Training metrics: 0.8063012846007717| Distance: 0.8228661024440724| Speed: 0.8017723880597015 | Activity: 0.7204990671641791\n"
     ]
    },
    {
     "name": "stderr",
     "output_type": "stream",
     "text": [
      "train:  74%|███████▍  | 1073/1451 [25:44<09:09,  1.45s/it]"
     ]
    },
    {
     "name": "stdout",
     "output_type": "stream",
     "text": [
      "Training metrics: 0.8063131932180502| Distance: 0.822866660955216| Speed: 0.8018406337371855 | Activity: 0.7204100652376515\n"
     ]
    },
    {
     "name": "stderr",
     "output_type": "stream",
     "text": [
      "train:  74%|███████▍  | 1074/1451 [25:45<09:07,  1.45s/it]"
     ]
    },
    {
     "name": "stdout",
     "output_type": "stream",
     "text": [
      "Training metrics: 0.8063439343589414| Distance: 0.8228404492574537| Speed: 0.8019087523277467 | Activity: 0.7206703910614525\n"
     ]
    },
    {
     "name": "stderr",
     "output_type": "stream",
     "text": [
      "train:  74%|███████▍  | 1075/1451 [25:47<09:11,  1.47s/it]"
     ]
    },
    {
     "name": "stdout",
     "output_type": "stream",
     "text": [
      "Training metrics: 0.8063430433679315| Distance: 0.8227035218922892| Speed: 0.802093023255814 | Activity: 0.7209302325581395\n"
     ]
    },
    {
     "name": "stderr",
     "output_type": "stream",
     "text": [
      "train:  74%|███████▍  | 1076/1451 [25:48<09:13,  1.48s/it]"
     ]
    },
    {
     "name": "stdout",
     "output_type": "stream",
     "text": [
      "Training metrics: 0.8064223857090113| Distance: 0.822719930332863| Speed: 0.8022769516728625 | Activity: 0.7210734200743495\n"
     ]
    },
    {
     "name": "stderr",
     "output_type": "stream",
     "text": [
      "train:  74%|███████▍  | 1077/1451 [25:50<09:11,  1.48s/it]"
     ]
    },
    {
     "name": "stdout",
     "output_type": "stream",
     "text": [
      "Training metrics: 0.8065762092355222| Distance: 0.8228413453213519| Speed: 0.802460538532962 | Activity: 0.7213324048282266\n"
     ]
    },
    {
     "name": "stderr",
     "output_type": "stream",
     "text": [
      "train:  74%|███████▍  | 1078/1451 [25:51<09:04,  1.46s/it]"
     ]
    },
    {
     "name": "stdout",
     "output_type": "stream",
     "text": [
      "Training metrics: 0.8066695768477251| Distance: 0.8229202285742854| Speed: 0.8025278293135436 | Activity: 0.7215909090909091\n"
     ]
    },
    {
     "name": "stderr",
     "output_type": "stream",
     "text": [
      "train:  74%|███████▍  | 1079/1451 [25:52<09:05,  1.47s/it]"
     ]
    },
    {
     "name": "stdout",
     "output_type": "stream",
     "text": [
      "Training metrics: 0.806723025225222| Distance: 0.8228941059901371| Speed: 0.802710843373494 | Activity: 0.7217330861909175\n"
     ]
    },
    {
     "name": "stderr",
     "output_type": "stream",
     "text": [
      "train:  74%|███████▍  | 1080/1451 [25:54<08:50,  1.43s/it]"
     ]
    },
    {
     "name": "stdout",
     "output_type": "stream",
     "text": [
      "Training metrics: 0.8068540996793456| Distance: 0.8229782834161935| Speed: 0.8028935185185185 | Activity: 0.7219907407407408\n"
     ]
    },
    {
     "name": "stderr",
     "output_type": "stream",
     "text": [
      "train:  75%|███████▍  | 1081/1451 [25:55<08:45,  1.42s/it]"
     ]
    },
    {
     "name": "stdout",
     "output_type": "stream",
     "text": [
      "Training metrics: 0.806863211709927| Distance: 0.8231099781967797| Speed: 0.8027289546716003 | Activity: 0.7217853839037928\n"
     ]
    },
    {
     "name": "stderr",
     "output_type": "stream",
     "text": [
      "train:  75%|███████▍  | 1082/1451 [25:57<08:44,  1.42s/it]"
     ]
    },
    {
     "name": "stdout",
     "output_type": "stream",
     "text": [
      "Training metrics: 0.8068250038344579| Distance: 0.8229893009070913| Speed: 0.8027957486136784 | Activity: 0.7219269870609981\n"
     ]
    },
    {
     "name": "stderr",
     "output_type": "stream",
     "text": [
      "train:  75%|███████▍  | 1083/1451 [25:58<08:38,  1.41s/it]"
     ]
    },
    {
     "name": "stdout",
     "output_type": "stream",
     "text": [
      "Training metrics: 0.8069116459933195| Distance: 0.8230575755782782| Speed: 0.8029778393351801 | Activity: 0.7218374884579871\n"
     ]
    },
    {
     "name": "stderr",
     "output_type": "stream",
     "text": [
      "train:  75%|███████▍  | 1084/1451 [25:59<08:39,  1.41s/it]"
     ]
    },
    {
     "name": "stdout",
     "output_type": "stream",
     "text": [
      "Training metrics: 0.807015718732431| Distance: 0.823135822733634| Speed: 0.803159594095941 | Activity: 0.7218634686346863\n"
     ]
    },
    {
     "name": "stderr",
     "output_type": "stream",
     "text": [
      "train:  75%|███████▍  | 1085/1451 [26:01<08:34,  1.40s/it]"
     ]
    },
    {
     "name": "stdout",
     "output_type": "stream",
     "text": [
      "Training metrics: 0.8070455110434306| Distance: 0.8231672495885136| Speed: 0.8032258064516129 | Activity: 0.7217741935483871\n"
     ]
    },
    {
     "name": "stderr",
     "output_type": "stream",
     "text": [
      "train:  75%|███████▍  | 1086/1451 [26:02<08:32,  1.41s/it]"
     ]
    },
    {
     "name": "stdout",
     "output_type": "stream",
     "text": [
      "Training metrics: 0.807015510895107| Distance: 0.8229839546226005| Speed: 0.8034069981583793 | Activity: 0.7220303867403315\n"
     ]
    },
    {
     "name": "stderr",
     "output_type": "stream",
     "text": [
      "train:  75%|███████▍  | 1087/1451 [26:04<08:31,  1.40s/it]"
     ]
    },
    {
     "name": "stdout",
     "output_type": "stream",
     "text": [
      "Training metrics: 0.8071202881707104| Distance: 0.8230255339490374| Speed: 0.8035878564857406 | Activity: 0.7222861085556578\n"
     ]
    },
    {
     "name": "stderr",
     "output_type": "stream",
     "text": [
      "train:  75%|███████▍  | 1088/1451 [26:05<08:24,  1.39s/it]"
     ]
    },
    {
     "name": "stdout",
     "output_type": "stream",
     "text": [
      "Training metrics: 0.8072248728410274| Distance: 0.8231244816958303| Speed: 0.8036534926470589 | Activity: 0.7225413602941176\n"
     ]
    },
    {
     "name": "stderr",
     "output_type": "stream",
     "text": [
      "train:  75%|███████▌  | 1089/1451 [26:07<08:39,  1.43s/it]"
     ]
    },
    {
     "name": "stdout",
     "output_type": "stream",
     "text": [
      "Training metrics: 0.8072887886405629| Distance: 0.8231557863935921| Speed: 0.8037190082644629 | Activity: 0.7227961432506887\n"
     ]
    },
    {
     "name": "stderr",
     "output_type": "stream",
     "text": [
      "train:  75%|███████▌  | 1090/1451 [26:08<08:32,  1.42s/it]"
     ]
    },
    {
     "name": "stdout",
     "output_type": "stream",
     "text": [
      "Training metrics: 0.807367912121877| Distance: 0.823212575249| Speed: 0.8037844036697248 | Activity: 0.7230504587155964\n"
     ]
    },
    {
     "name": "stderr",
     "output_type": "stream",
     "text": [
      "train:  75%|███████▌  | 1091/1451 [26:09<08:28,  1.41s/it]"
     ]
    },
    {
     "name": "stdout",
     "output_type": "stream",
     "text": [
      "Training metrics: 0.8074119354074254| Distance: 0.8233064795745513| Speed: 0.8037351054078826 | Activity: 0.7230751604032998\n"
     ]
    },
    {
     "name": "stderr",
     "output_type": "stream",
     "text": [
      "train:  75%|███████▌  | 1092/1451 [26:11<08:36,  1.44s/it]"
     ]
    },
    {
     "name": "stdout",
     "output_type": "stream",
     "text": [
      "Training metrics: 0.8074776894980502| Distance: 0.823379329871598| Speed: 0.8038003663003663 | Activity: 0.7230998168498168\n"
     ]
    },
    {
     "name": "stderr",
     "output_type": "stream",
     "text": [
      "train:  75%|███████▌  | 1093/1451 [26:12<08:37,  1.45s/it]"
     ]
    },
    {
     "name": "stdout",
     "output_type": "stream",
     "text": [
      "Training metrics: 0.8075014138530162| Distance: 0.8233631371475248| Speed: 0.8038655077767612 | Activity: 0.7232387923147301\n"
     ]
    },
    {
     "name": "stderr",
     "output_type": "stream",
     "text": [
      "train:  75%|███████▌  | 1094/1451 [26:14<08:33,  1.44s/it]"
     ]
    },
    {
     "name": "stdout",
     "output_type": "stream",
     "text": [
      "Training metrics: 0.8073591277125353| Distance: 0.8232227082838418| Speed: 0.8037020109689214 | Activity: 0.7231489945155393\n"
     ]
    },
    {
     "name": "stderr",
     "output_type": "stream",
     "text": [
      "train:  75%|███████▌  | 1095/1451 [26:15<08:24,  1.42s/it]"
     ]
    },
    {
     "name": "stdout",
     "output_type": "stream",
     "text": [
      "Training metrics: 0.8073622447082743| Distance: 0.8231912602063325| Speed: 0.8037671232876712 | Activity: 0.7231735159817352\n"
     ]
    },
    {
     "name": "stderr",
     "output_type": "stream",
     "text": [
      "train:  76%|███████▌  | 1096/1451 [26:17<08:32,  1.44s/it]"
     ]
    },
    {
     "name": "stdout",
     "output_type": "stream",
     "text": [
      "Training metrics: 0.8074929792151551| Distance: 0.8233155493001978| Speed: 0.8039461678832117 | Activity: 0.7231979927007299\n"
     ]
    },
    {
     "name": "stderr",
     "output_type": "stream",
     "text": [
      "train:  76%|███████▌  | 1097/1451 [26:18<08:29,  1.44s/it]"
     ]
    },
    {
     "name": "stdout",
     "output_type": "stream",
     "text": [
      "Training metrics: 0.8075518748780338| Distance: 0.8233772512020711| Speed: 0.8040109389243391 | Activity: 0.7232224247948952\n"
     ]
    },
    {
     "name": "stderr",
     "output_type": "stream",
     "text": [
      "train:  76%|███████▌  | 1098/1451 [26:19<08:27,  1.44s/it]"
     ]
    },
    {
     "name": "stdout",
     "output_type": "stream",
     "text": [
      "Training metrics: 0.8077239069223267| Distance: 0.823532710687181| Speed: 0.8041894353369763 | Activity: 0.7234744990892532\n"
     ]
    },
    {
     "name": "stderr",
     "output_type": "stream",
     "text": [
      "train:  76%|███████▌  | 1099/1451 [26:21<08:30,  1.45s/it]"
     ]
    },
    {
     "name": "stdout",
     "output_type": "stream",
     "text": [
      "Training metrics: 0.8078312177093686| Distance: 0.8235994969102158| Speed: 0.8043676069153776 | Activity: 0.7236123748862603\n"
     ]
    },
    {
     "name": "stderr",
     "output_type": "stream",
     "text": [
      "train:  76%|███████▌  | 1100/1451 [26:22<08:25,  1.44s/it]"
     ]
    },
    {
     "name": "stdout",
     "output_type": "stream",
     "text": [
      "Training metrics: 0.8079383232062234| Distance: 0.8236661447376453| Speed: 0.8045454545454546 | Activity: 0.72375\n"
     ]
    },
    {
     "name": "stderr",
     "output_type": "stream",
     "text": [
      "train:  76%|███████▌  | 1101/1451 [26:24<08:35,  1.47s/it]"
     ]
    },
    {
     "name": "stdout",
     "output_type": "stream",
     "text": [
      "Training metrics: 0.807847923647885| Distance: 0.8236498091679105| Speed: 0.804268846503179 | Activity: 0.7237738419618529\n"
     ]
    },
    {
     "name": "stderr",
     "output_type": "stream",
     "text": [
      "train:  76%|███████▌  | 1102/1451 [26:25<08:19,  1.43s/it]"
     ]
    },
    {
     "name": "stdout",
     "output_type": "stream",
     "text": [
      "Training metrics: 0.8078711182811228| Distance: 0.8236335032453077| Speed: 0.8043330308529946 | Activity: 0.7239110707803993\n"
     ]
    },
    {
     "name": "stderr",
     "output_type": "stream",
     "text": [
      "train:  76%|███████▌  | 1103/1451 [26:27<08:22,  1.44s/it]"
     ]
    },
    {
     "name": "stdout",
     "output_type": "stream",
     "text": [
      "Training metrics: 0.8079282690437652| Distance: 0.823617226889201| Speed: 0.8045104261106074 | Activity: 0.7240480507706256\n"
     ]
    },
    {
     "name": "stderr",
     "output_type": "stream",
     "text": [
      "train:  76%|███████▌  | 1104/1451 [26:28<08:33,  1.48s/it]"
     ]
    },
    {
     "name": "stdout",
     "output_type": "stream",
     "text": [
      "Training metrics: 0.8079082001751084| Distance: 0.8236422901469203| Speed: 0.8043478260869565 | Activity: 0.7241847826086957\n"
     ]
    },
    {
     "name": "stderr",
     "output_type": "stream",
     "text": [
      "train:  76%|███████▌  | 1105/1451 [26:30<08:28,  1.47s/it]"
     ]
    },
    {
     "name": "stdout",
     "output_type": "stream",
     "text": [
      "Training metrics: 0.8079161603602332| Distance: 0.8236574015053664| Speed: 0.8042986425339367 | Activity: 0.7243212669683258\n"
     ]
    },
    {
     "name": "stderr",
     "output_type": "stream",
     "text": [
      "train:  76%|███████▌  | 1106/1451 [26:31<08:16,  1.44s/it]"
     ]
    },
    {
     "name": "stdout",
     "output_type": "stream",
     "text": [
      "Training metrics: 0.8078202408468288| Distance: 0.8235182133462823| Speed: 0.804249547920434 | Activity: 0.7243444846292948\n"
     ]
    },
    {
     "name": "stderr",
     "output_type": "stream",
     "text": [
      "train:  76%|███████▋  | 1107/1451 [26:33<08:33,  1.49s/it]"
     ]
    },
    {
     "name": "stdout",
     "output_type": "stream",
     "text": [
      "Training metrics: 0.8078116157313817| Distance: 0.8234303803291775| Speed: 0.8043134598012647 | Activity: 0.7245934959349594\n"
     ]
    },
    {
     "name": "stderr",
     "output_type": "stream",
     "text": [
      "train:  76%|███████▋  | 1108/1451 [26:34<09:04,  1.59s/it]"
     ]
    },
    {
     "name": "stdout",
     "output_type": "stream",
     "text": [
      "Training metrics: 0.807927113763825| Distance: 0.8235119465257494| Speed: 0.8044900722021661 | Activity: 0.7247292418772563\n"
     ]
    },
    {
     "name": "stderr",
     "output_type": "stream",
     "text": [
      "train:  76%|███████▋  | 1109/1451 [26:36<08:45,  1.54s/it]"
     ]
    },
    {
     "name": "stdout",
     "output_type": "stream",
     "text": [
      "Training metrics: 0.8079624277493952| Distance: 0.8235164297776969| Speed: 0.8045536519386834 | Activity: 0.7248647430117223\n"
     ]
    },
    {
     "name": "stderr",
     "output_type": "stream",
     "text": [
      "train:  76%|███████▋  | 1110/1451 [26:37<08:38,  1.52s/it]"
     ]
    },
    {
     "name": "stdout",
     "output_type": "stream",
     "text": [
      "Training metrics: 0.808022340291931| Distance: 0.8235620085946601| Speed: 0.8046171171171171 | Activity: 0.725\n"
     ]
    },
    {
     "name": "stderr",
     "output_type": "stream",
     "text": [
      "train:  77%|███████▋  | 1111/1451 [26:39<08:23,  1.48s/it]"
     ]
    },
    {
     "name": "stdout",
     "output_type": "stream",
     "text": [
      "Training metrics: 0.8080617703893597| Distance: 0.8235922995838263| Speed: 0.8046804680468047 | Activity: 0.725022502250225\n"
     ]
    },
    {
     "name": "stderr",
     "output_type": "stream",
     "text": [
      "train:  77%|███████▋  | 1112/1451 [26:40<08:10,  1.45s/it]"
     ]
    },
    {
     "name": "stdout",
     "output_type": "stream",
     "text": [
      "Training metrics: 0.8081969742014876| Distance: 0.8236886020864125| Speed: 0.8048561151079137 | Activity: 0.7252697841726619\n"
     ]
    },
    {
     "name": "stderr",
     "output_type": "stream",
     "text": [
      "train:  77%|███████▋  | 1113/1451 [26:42<08:14,  1.46s/it]"
     ]
    },
    {
     "name": "stdout",
     "output_type": "stream",
     "text": [
      "Training metrics: 0.808202483819038| Distance: 0.8236625703662616| Speed: 0.8049191374663073 | Activity: 0.7252920035938903\n"
     ]
    },
    {
     "name": "stderr",
     "output_type": "stream",
     "text": [
      "train:  77%|███████▋  | 1114/1451 [26:43<08:08,  1.45s/it]"
     ]
    },
    {
     "name": "stdout",
     "output_type": "stream",
     "text": [
      "Training metrics: 0.8080669477451954| Distance: 0.8236820463616815| Speed: 0.8045332136445242 | Activity: 0.7249775583482945\n"
     ]
    },
    {
     "name": "stderr",
     "output_type": "stream",
     "text": [
      "train:  77%|███████▋  | 1115/1451 [26:45<08:16,  1.48s/it]"
     ]
    },
    {
     "name": "stdout",
     "output_type": "stream",
     "text": [
      "Training metrics: 0.8081120970382274| Distance: 0.8237780092640115| Speed: 0.8044843049327354 | Activity: 0.725\n"
     ]
    },
    {
     "name": "stderr",
     "output_type": "stream",
     "text": [
      "train:  77%|███████▋  | 1116/1451 [26:46<08:21,  1.50s/it]"
     ]
    },
    {
     "name": "stdout",
     "output_type": "stream",
     "text": [
      "Training metrics: 0.8082286260389829| Distance: 0.8238435583325944| Speed: 0.8046594982078853 | Activity: 0.7252464157706093\n"
     ]
    },
    {
     "name": "stderr",
     "output_type": "stream",
     "text": [
      "train:  77%|███████▋  | 1117/1451 [26:48<08:15,  1.48s/it]"
     ]
    },
    {
     "name": "stdout",
     "output_type": "stream",
     "text": [
      "Training metrics: 0.8082969892419573| Distance: 0.8239036660448618| Speed: 0.8047224709042077 | Activity: 0.7253804834377797\n"
     ]
    },
    {
     "name": "stderr",
     "output_type": "stream",
     "text": [
      "train:  77%|███████▋  | 1118/1451 [26:49<08:04,  1.45s/it]"
     ]
    },
    {
     "name": "stdout",
     "output_type": "stream",
     "text": [
      "Training metrics: 0.8083620586441601| Distance: 0.8239583803878521| Speed: 0.8047853309481217 | Activity: 0.7255143112701252\n"
     ]
    },
    {
     "name": "stderr",
     "output_type": "stream",
     "text": [
      "train:  77%|███████▋  | 1119/1451 [26:51<08:18,  1.50s/it]"
     ]
    },
    {
     "name": "stdout",
     "output_type": "stream",
     "text": [
      "Training metrics: 0.8084961483231875| Distance: 0.8240537533119556| Speed: 0.8049597855227882 | Activity: 0.7257596067917784\n"
     ]
    },
    {
     "name": "stderr",
     "output_type": "stream",
     "text": [
      "train:  77%|███████▋  | 1120/1451 [26:52<08:10,  1.48s/it]"
     ]
    },
    {
     "name": "stdout",
     "output_type": "stream",
     "text": [
      "Training metrics: 0.8085337932460074| Distance: 0.8240630185052507| Speed: 0.8050223214285714 | Activity: 0.7258928571428571\n"
     ]
    },
    {
     "name": "stderr",
     "output_type": "stream",
     "text": [
      "train:  77%|███████▋  | 1121/1451 [26:53<07:57,  1.45s/it]"
     ]
    },
    {
     "name": "stdout",
     "output_type": "stream",
     "text": [
      "Training metrics: 0.8086616214220012| Distance: 0.8242040999317031| Speed: 0.8051962533452275 | Activity: 0.7258028545941124\n"
     ]
    },
    {
     "name": "stderr",
     "output_type": "stream",
     "text": [
      "train:  77%|███████▋  | 1122/1451 [26:55<07:55,  1.44s/it]"
     ]
    },
    {
     "name": "stdout",
     "output_type": "stream",
     "text": [
      "Training metrics: 0.8086831004984755| Distance: 0.8241123570399431| Speed: 0.8053698752228164 | Activity: 0.7260472370766489\n"
     ]
    },
    {
     "name": "stderr",
     "output_type": "stream",
     "text": [
      "train:  77%|███████▋  | 1123/1451 [26:56<08:04,  1.48s/it]"
     ]
    },
    {
     "name": "stdout",
     "output_type": "stream",
     "text": [
      "Training metrics: 0.8087888826376439| Distance: 0.8241613463966672| Speed: 0.8055431878895815 | Activity: 0.7262911843276937\n"
     ]
    },
    {
     "name": "stderr",
     "output_type": "stream",
     "text": [
      "train:  77%|███████▋  | 1124/1451 [26:58<08:05,  1.48s/it]"
     ]
    },
    {
     "name": "stdout",
     "output_type": "stream",
     "text": [
      "Training metrics: 0.8087577698289935| Distance: 0.8241306839973144| Speed: 0.8054937722419929 | Activity: 0.7263122775800712\n"
     ]
    },
    {
     "name": "stderr",
     "output_type": "stream",
     "text": [
      "train:  78%|███████▊  | 1125/1451 [26:59<08:02,  1.48s/it]"
     ]
    },
    {
     "name": "stdout",
     "output_type": "stream",
     "text": [
      "Training metrics: 0.8087791061626799| Distance: 0.8240948065674296| Speed: 0.8055555555555556 | Activity: 0.7265555555555555\n"
     ]
    },
    {
     "name": "stderr",
     "output_type": "stream",
     "text": [
      "train:  78%|███████▊  | 1126/1451 [27:01<08:11,  1.51s/it]"
     ]
    },
    {
     "name": "stdout",
     "output_type": "stream",
     "text": [
      "Training metrics: 0.808869696153369| Distance: 0.8241189725705945| Speed: 0.8057282415630551 | Activity: 0.7267984014209592\n"
     ]
    },
    {
     "name": "stderr",
     "output_type": "stream",
     "text": [
      "train:  78%|███████▊  | 1127/1451 [27:02<08:07,  1.51s/it]"
     ]
    },
    {
     "name": "stdout",
     "output_type": "stream",
     "text": [
      "Training metrics: 0.8089342121558423| Distance: 0.8241183926347743| Speed: 0.8059006211180124 | Activity: 0.726929902395741\n"
     ]
    },
    {
     "name": "stderr",
     "output_type": "stream",
     "text": [
      "train:  78%|███████▊  | 1128/1451 [27:04<07:56,  1.47s/it]"
     ]
    },
    {
     "name": "stdout",
     "output_type": "stream",
     "text": [
      "Training metrics: 0.8090619498139066| Distance: 0.8242233738033198| Speed: 0.806072695035461 | Activity: 0.727061170212766\n"
     ]
    },
    {
     "name": "stderr",
     "output_type": "stream",
     "text": [
      "train:  78%|███████▊  | 1129/1451 [27:05<07:44,  1.44s/it]"
     ]
    },
    {
     "name": "stdout",
     "output_type": "stream",
     "text": [
      "Training metrics: 0.8090613709473538| Distance: 0.8242623085319789| Speed: 0.8060230292294066 | Activity: 0.7269707705934455\n"
     ]
    },
    {
     "name": "stderr",
     "output_type": "stream",
     "text": [
      "train:  78%|███████▊  | 1130/1451 [27:07<07:37,  1.43s/it]"
     ]
    },
    {
     "name": "stdout",
     "output_type": "stream",
     "text": [
      "Training metrics: 0.809013880633821| Distance: 0.824130804006221| Speed: 0.8060840707964602 | Activity: 0.7271017699115044\n"
     ]
    },
    {
     "name": "stderr",
     "output_type": "stream",
     "text": [
      "train:  78%|███████▊  | 1131/1451 [27:08<08:00,  1.50s/it]"
     ]
    },
    {
     "name": "stdout",
     "output_type": "stream",
     "text": [
      "Training metrics: 0.8090707060582637| Distance: 0.8242100921778609| Speed: 0.8061450044208665 | Activity: 0.7270114942528736\n"
     ]
    },
    {
     "name": "stderr",
     "output_type": "stream",
     "text": [
      "train:  78%|███████▊  | 1132/1451 [27:10<07:45,  1.46s/it]"
     ]
    },
    {
     "name": "stdout",
     "output_type": "stream",
     "text": [
      "Training metrics: 0.8090884918344825| Distance: 0.824169129500345| Speed: 0.8062058303886925 | Activity: 0.7272526501766784\n"
     ]
    },
    {
     "name": "stderr",
     "output_type": "stream",
     "text": [
      "train:  78%|███████▊  | 1133/1451 [27:11<07:31,  1.42s/it]"
     ]
    },
    {
     "name": "stdout",
     "output_type": "stream",
     "text": [
      "Training metrics: 0.8092234228654883| Distance: 0.824268370265664| Speed: 0.8063768755516328 | Activity: 0.7274933804060018\n"
     ]
    },
    {
     "name": "stderr",
     "output_type": "stream",
     "text": [
      "train:  78%|███████▊  | 1134/1451 [27:12<07:28,  1.42s/it]"
     ]
    },
    {
     "name": "stdout",
     "output_type": "stream",
     "text": [
      "Training metrics: 0.809187540996359| Distance: 0.8241566306435499| Speed: 0.8064373897707231 | Activity: 0.7276234567901234\n"
     ]
    },
    {
     "name": "stderr",
     "output_type": "stream",
     "text": [
      "train:  78%|███████▊  | 1135/1451 [27:14<08:04,  1.53s/it]"
     ]
    },
    {
     "name": "stdout",
     "output_type": "stream",
     "text": [
      "Training metrics: 0.8091700545075226| Distance: 0.824020575427369| Speed: 0.8066079295154185 | Activity: 0.7277533039647577\n"
     ]
    },
    {
     "name": "stderr",
     "output_type": "stream",
     "text": [
      "train:  78%|███████▊  | 1136/1451 [27:16<07:45,  1.48s/it]"
     ]
    },
    {
     "name": "stdout",
     "output_type": "stream",
     "text": [
      "Training metrics: 0.8092663250434076| Distance: 0.824129321081736| Speed: 0.8066681338028169 | Activity: 0.7278829225352113\n"
     ]
    },
    {
     "name": "stderr",
     "output_type": "stream",
     "text": [
      "train:  78%|███████▊  | 1137/1451 [27:17<07:40,  1.47s/it]"
     ]
    },
    {
     "name": "stdout",
     "output_type": "stream",
     "text": [
      "Training metrics: 0.8092629222216062| Distance: 0.8241086815684059| Speed: 0.8066182937554969 | Activity: 0.7281222515391381\n"
     ]
    },
    {
     "name": "stderr",
     "output_type": "stream",
     "text": [
      "train:  78%|███████▊  | 1138/1451 [27:18<07:38,  1.46s/it]"
     ]
    },
    {
     "name": "stdout",
     "output_type": "stream",
     "text": [
      "Training metrics: 0.809180549082969| Distance: 0.8241029069367587| Speed: 0.8063488576449912 | Activity: 0.7281414762741653\n"
     ]
    },
    {
     "name": "stderr",
     "output_type": "stream",
     "text": [
      "train:  78%|███████▊  | 1139/1451 [27:20<07:41,  1.48s/it]"
     ]
    },
    {
     "name": "stdout",
     "output_type": "stream",
     "text": [
      "Training metrics: 0.8091960537599523| Distance: 0.8240771220845564| Speed: 0.8064091308165057 | Activity: 0.728270412642669\n"
     ]
    },
    {
     "name": "stderr",
     "output_type": "stream",
     "text": [
      "train:  79%|███████▊  | 1140/1451 [27:21<07:22,  1.42s/it]"
     ]
    },
    {
     "name": "stdout",
     "output_type": "stream",
     "text": [
      "Training metrics: 0.8092830821421592| Distance: 0.8241706339796222| Speed: 0.8064692982456141 | Activity: 0.7283991228070176\n"
     ]
    },
    {
     "name": "stderr",
     "output_type": "stream",
     "text": [
      "train:  79%|███████▊  | 1141/1451 [27:23<07:20,  1.42s/it]"
     ]
    },
    {
     "name": "stdout",
     "output_type": "stream",
     "text": [
      "Training metrics: 0.8093099825458774| Distance: 0.8241640229109644| Speed: 0.8065293602103418 | Activity: 0.7285276073619632\n"
     ]
    },
    {
     "name": "stderr",
     "output_type": "stream",
     "text": [
      "train:  79%|███████▊  | 1142/1451 [27:24<07:21,  1.43s/it]"
     ]
    },
    {
     "name": "stdout",
     "output_type": "stream",
     "text": [
      "Training metrics: 0.8093769470407396| Distance: 0.8242425182728033| Speed: 0.8065893169877408 | Activity: 0.7285464098073555\n"
     ]
    },
    {
     "name": "stderr",
     "output_type": "stream",
     "text": [
      "train:  79%|███████▉  | 1143/1451 [27:26<07:36,  1.48s/it]"
     ]
    },
    {
     "name": "stdout",
     "output_type": "stream",
     "text": [
      "Training metrics: 0.8093963716110809| Distance: 0.8242418383660916| Speed: 0.8066491688538933 | Activity: 0.7285651793525809\n"
     ]
    },
    {
     "name": "stderr",
     "output_type": "stream",
     "text": [
      "train:  79%|███████▉  | 1144/1451 [27:27<07:52,  1.54s/it]"
     ]
    },
    {
     "name": "stdout",
     "output_type": "stream",
     "text": [
      "Training metrics: 0.8095146573855103| Distance: 0.8243695630084849| Speed: 0.806708916083916 | Activity: 0.7288024475524476\n"
     ]
    },
    {
     "name": "stderr",
     "output_type": "stream",
     "text": [
      "train:  79%|███████▉  | 1145/1451 [27:29<07:43,  1.52s/it]"
     ]
    },
    {
     "name": "stdout",
     "output_type": "stream",
     "text": [
      "Training metrics: 0.8094991121846232| Distance: 0.8242743572800492| Speed: 0.8067685589519651 | Activity: 0.7290393013100437\n"
     ]
    },
    {
     "name": "stderr",
     "output_type": "stream",
     "text": [
      "train:  79%|███████▉  | 1146/1451 [27:30<07:44,  1.52s/it]"
     ]
    },
    {
     "name": "stdout",
     "output_type": "stream",
     "text": [
      "Training metrics: 0.8094747492865046| Distance: 0.824110038805024| Speed: 0.8069371727748691 | Activity: 0.7292757417102966\n"
     ]
    },
    {
     "name": "stderr",
     "output_type": "stream",
     "text": [
      "train:  79%|███████▉  | 1147/1451 [27:32<07:34,  1.49s/it]"
     ]
    },
    {
     "name": "stdout",
     "output_type": "stream",
     "text": [
      "Training metrics: 0.8094888491251822| Distance: 0.8240100406082302| Speed: 0.8071054925893636 | Activity: 0.7295117698343505\n"
     ]
    },
    {
     "name": "stderr",
     "output_type": "stream",
     "text": [
      "train:  79%|███████▉  | 1148/1451 [27:33<07:34,  1.50s/it]"
     ]
    },
    {
     "name": "stdout",
     "output_type": "stream",
     "text": [
      "Training metrics: 0.8094832162343522| Distance: 0.8239499596937231| Speed: 0.8071646341463414 | Activity: 0.7296385017421603\n"
     ]
    },
    {
     "name": "stderr",
     "output_type": "stream",
     "text": [
      "train:  79%|███████▉  | 1149/1451 [27:35<07:26,  1.48s/it]"
     ]
    },
    {
     "name": "stdout",
     "output_type": "stream",
     "text": [
      "Training metrics: 0.809570341654306| Distance: 0.8240626959106436| Speed: 0.8072236727589208 | Activity: 0.7296562228024369\n"
     ]
    },
    {
     "name": "stderr",
     "output_type": "stream",
     "text": [
      "train:  79%|███████▉  | 1150/1451 [27:36<07:12,  1.44s/it]"
     ]
    },
    {
     "name": "stdout",
     "output_type": "stream",
     "text": [
      "Training metrics: 0.8095517128913453| Distance: 0.8240716953986192| Speed: 0.8071739130434783 | Activity: 0.7295652173913043\n"
     ]
    },
    {
     "name": "stderr",
     "output_type": "stream",
     "text": [
      "train:  79%|███████▉  | 1151/1451 [27:38<07:13,  1.44s/it]"
     ]
    },
    {
     "name": "stdout",
     "output_type": "stream",
     "text": [
      "Training metrics: 0.8095605431126025| Distance: 0.8240358892594928| Speed: 0.8072328410078193 | Activity: 0.7296915725456126\n"
     ]
    },
    {
     "name": "stderr",
     "output_type": "stream",
     "text": [
      "train:  79%|███████▉  | 1152/1451 [27:39<07:10,  1.44s/it]"
     ]
    },
    {
     "name": "stdout",
     "output_type": "stream",
     "text": [
      "Training metrics: 0.8096344718904478| Distance: 0.8241086684285244| Speed: 0.8072916666666666 | Activity: 0.7298177083333334\n"
     ]
    },
    {
     "name": "stderr",
     "output_type": "stream",
     "text": [
      "train:  79%|███████▉  | 1153/1451 [27:41<07:17,  1.47s/it]"
     ]
    },
    {
     "name": "stdout",
     "output_type": "stream",
     "text": [
      "Training metrics: 0.8096808836791374| Distance: 0.8241176046285712| Speed: 0.8073503902862099 | Activity: 0.7300520381613183\n"
     ]
    },
    {
     "name": "stderr",
     "output_type": "stream",
     "text": [
      "train:  80%|███████▉  | 1154/1451 [27:42<07:15,  1.46s/it]"
     ]
    },
    {
     "name": "stdout",
     "output_type": "stream",
     "text": [
      "Training metrics: 0.8095972323624739| Distance: 0.8239098875596406| Speed: 0.8074090121317158 | Activity: 0.7302859618717504\n"
     ]
    },
    {
     "name": "stderr",
     "output_type": "stream",
     "text": [
      "train:  80%|███████▉  | 1155/1451 [27:43<07:16,  1.47s/it]"
     ]
    },
    {
     "name": "stdout",
     "output_type": "stream",
     "text": [
      "Training metrics: 0.8097409986238481| Distance: 0.8240272054986215| Speed: 0.8075757575757576 | Activity: 0.7305194805194806\n"
     ]
    },
    {
     "name": "stderr",
     "output_type": "stream",
     "text": [
      "train:  80%|███████▉  | 1156/1451 [27:45<07:16,  1.48s/it]"
     ]
    },
    {
     "name": "stdout",
     "output_type": "stream",
     "text": [
      "Training metrics: 0.8097733077286382| Distance: 0.8239769950033247| Speed: 0.807742214532872 | Activity: 0.7306444636678201\n"
     ]
    },
    {
     "name": "stderr",
     "output_type": "stream",
     "text": [
      "train:  80%|███████▉  | 1157/1451 [27:46<07:07,  1.45s/it]"
     ]
    },
    {
     "name": "stdout",
     "output_type": "stream",
     "text": [
      "Training metrics: 0.809882209137729| Distance: 0.8240546182258034| Speed: 0.8079083837510804 | Activity: 0.7307692307692307\n"
     ]
    },
    {
     "name": "stderr",
     "output_type": "stream",
     "text": [
      "train:  80%|███████▉  | 1158/1451 [27:48<06:51,  1.41s/it]"
     ]
    },
    {
     "name": "stdout",
     "output_type": "stream",
     "text": [
      "Training metrics: 0.8099811583094271| Distance: 0.8240978430085157| Speed: 0.8080742659758203 | Activity: 0.7310017271157168\n"
     ]
    },
    {
     "name": "stderr",
     "output_type": "stream",
     "text": [
      "train:  80%|███████▉  | 1159/1451 [27:49<06:52,  1.41s/it]"
     ]
    },
    {
     "name": "stdout",
     "output_type": "stream",
     "text": [
      "Training metrics: 0.8098909123738912| Distance: 0.8239697547330171| Speed: 0.8080241587575496 | Activity: 0.7310181190681622\n"
     ]
    },
    {
     "name": "stderr",
     "output_type": "stream",
     "text": [
      "train:  80%|███████▉  | 1160/1451 [27:50<06:53,  1.42s/it]"
     ]
    },
    {
     "name": "stdout",
     "output_type": "stream",
     "text": [
      "Training metrics: 0.8100220110269862| Distance: 0.8240668574587705| Speed: 0.8081896551724138 | Activity: 0.73125\n"
     ]
    },
    {
     "name": "stderr",
     "output_type": "stream",
     "text": [
      "train:  80%|████████  | 1161/1451 [27:52<06:48,  1.41s/it]"
     ]
    },
    {
     "name": "stdout",
     "output_type": "stream",
     "text": [
      "Training metrics: 0.8099954764803392| Distance: 0.8239732245100115| Speed: 0.8082472006890612 | Activity: 0.7313738156761412\n"
     ]
    },
    {
     "name": "stderr",
     "output_type": "stream",
     "text": [
      "train:  80%|████████  | 1162/1451 [27:53<06:45,  1.40s/it]"
     ]
    },
    {
     "name": "stdout",
     "output_type": "stream",
     "text": [
      "Training metrics: 0.8099853876348714| Distance: 0.8238891572457269| Speed: 0.8083046471600689 | Activity: 0.731604991394148\n"
     ]
    },
    {
     "name": "stderr",
     "output_type": "stream",
     "text": [
      "train:  80%|████████  | 1163/1451 [27:55<06:52,  1.43s/it]"
     ]
    },
    {
     "name": "stdout",
     "output_type": "stream",
     "text": [
      "Training metrics: 0.8098396852276912| Distance: 0.8237224905700846| Speed: 0.8081470335339639 | Activity: 0.7316208082545141\n"
     ]
    },
    {
     "name": "stderr",
     "output_type": "stream",
     "text": [
      "train:  80%|████████  | 1164/1451 [27:56<06:54,  1.44s/it]"
     ]
    },
    {
     "name": "stdout",
     "output_type": "stream",
     "text": [
      "Training metrics: 0.8098287321680122| Distance: 0.8236191927886115| Speed: 0.8083118556701031 | Activity: 0.7316365979381443\n"
     ]
    },
    {
     "name": "stderr",
     "output_type": "stream",
     "text": [
      "train:  80%|████████  | 1165/1451 [27:58<06:50,  1.44s/it]"
     ]
    },
    {
     "name": "stdout",
     "output_type": "stream",
     "text": [
      "Training metrics: 0.8098882819298747| Distance: 0.8236335457057284| Speed: 0.8084763948497854 | Activity: 0.7316523605150215\n"
     ]
    },
    {
     "name": "stderr",
     "output_type": "stream",
     "text": [
      "train:  80%|████████  | 1166/1451 [27:59<07:07,  1.50s/it]"
     ]
    },
    {
     "name": "stdout",
     "output_type": "stream",
     "text": [
      "Training metrics: 0.8098834070780806| Distance: 0.8236478740037766| Speed: 0.8084262435677531 | Activity: 0.7316680960548885\n"
     ]
    },
    {
     "name": "stderr",
     "output_type": "stream",
     "text": [
      "train:  80%|████████  | 1167/1451 [28:01<07:12,  1.52s/it]"
     ]
    },
    {
     "name": "stdout",
     "output_type": "stream",
     "text": [
      "Training metrics: 0.8099213854822449| Distance: 0.823608621619223| Speed: 0.8085904027420737 | Activity: 0.7317909168808912\n"
     ]
    },
    {
     "name": "stderr",
     "output_type": "stream",
     "text": [
      "train:  80%|████████  | 1168/1451 [28:02<07:04,  1.50s/it]"
     ]
    },
    {
     "name": "stdout",
     "output_type": "stream",
     "text": [
      "Training metrics: 0.8100719427190296| Distance: 0.8237393394632231| Speed: 0.8087542808219178 | Activity: 0.7320205479452054\n"
     ]
    },
    {
     "name": "stderr",
     "output_type": "stream",
     "text": [
      "train:  81%|████████  | 1169/1451 [28:04<06:51,  1.46s/it]"
     ]
    },
    {
     "name": "stdout",
     "output_type": "stream",
     "text": [
      "Training metrics: 0.8100577951061586| Distance: 0.8236313978886508| Speed: 0.8089178785286569 | Activity: 0.7320359281437125\n"
     ]
    },
    {
     "name": "stderr",
     "output_type": "stream",
     "text": [
      "train:  81%|████████  | 1170/1451 [28:05<06:39,  1.42s/it]"
     ]
    },
    {
     "name": "stdout",
     "output_type": "stream",
     "text": [
      "Training metrics: 0.8101225178758787| Distance: 0.8237084699640717| Speed: 0.808974358974359 | Activity: 0.732051282051282\n"
     ]
    },
    {
     "name": "stderr",
     "output_type": "stream",
     "text": [
      "train:  81%|████████  | 1171/1451 [28:07<06:44,  1.44s/it]"
     ]
    },
    {
     "name": "stdout",
     "output_type": "stream",
     "text": [
      "Training metrics: 0.8101210540770741| Distance: 0.8235863283863565| Speed: 0.8091374893253629 | Activity: 0.7322801024765158\n"
     ]
    },
    {
     "name": "stderr",
     "output_type": "stream",
     "text": [
      "train:  81%|████████  | 1172/1451 [28:08<06:39,  1.43s/it]"
     ]
    },
    {
     "name": "stdout",
     "output_type": "stream",
     "text": [
      "Training metrics: 0.8101982948707368| Distance: 0.8235955653988959| Speed: 0.8093003412969283 | Activity: 0.7325085324232082\n"
     ]
    },
    {
     "name": "stderr",
     "output_type": "stream",
     "text": [
      "train:  81%|████████  | 1173/1451 [28:09<06:39,  1.44s/it]"
     ]
    },
    {
     "name": "stdout",
     "output_type": "stream",
     "text": [
      "Training metrics: 0.8101652554544033| Distance: 0.8234744879909283| Speed: 0.8093563512361467 | Activity: 0.7327365728900256\n"
     ]
    },
    {
     "name": "stderr",
     "output_type": "stream",
     "text": [
      "train:  81%|████████  | 1174/1451 [28:11<06:37,  1.43s/it]"
     ]
    },
    {
     "name": "stdout",
     "output_type": "stream",
     "text": [
      "Training metrics: 0.8102103944718029| Distance: 0.8235370572258613| Speed: 0.8093057921635435 | Activity: 0.7329642248722317\n"
     ]
    },
    {
     "name": "stderr",
     "output_type": "stream",
     "text": [
      "train:  81%|████████  | 1175/1451 [28:12<06:28,  1.41s/it]"
     ]
    },
    {
     "name": "stdout",
     "output_type": "stream",
     "text": [
      "Training metrics: 0.8102149152343395| Distance: 0.8235319509224811| Speed: 0.8092553191489362 | Activity: 0.7331914893617021\n"
     ]
    },
    {
     "name": "stderr",
     "output_type": "stream",
     "text": [
      "train:  81%|████████  | 1176/1451 [28:14<06:33,  1.43s/it]"
     ]
    },
    {
     "name": "stdout",
     "output_type": "stream",
     "text": [
      "Training metrics: 0.8101971647759489| Distance: 0.8235074628351986| Speed: 0.8092049319727891 | Activity: 0.733312074829932\n"
     ]
    },
    {
     "name": "stderr",
     "output_type": "stream",
     "text": [
      "train:  81%|████████  | 1177/1451 [28:15<06:29,  1.42s/it]"
     ]
    },
    {
     "name": "stdout",
     "output_type": "stream",
     "text": [
      "Training metrics: 0.810199671232596| Distance: 0.8234105254046525| Speed: 0.8093670348343246 | Activity: 0.7334324553950722\n"
     ]
    },
    {
     "name": "stderr",
     "output_type": "stream",
     "text": [
      "train:  81%|████████  | 1178/1451 [28:16<06:23,  1.40s/it]"
     ]
    },
    {
     "name": "stdout",
     "output_type": "stream",
     "text": [
      "Training metrics: 0.8101481140838112| Distance: 0.8232943950066918| Speed: 0.8094227504244482 | Activity: 0.733446519524618\n"
     ]
    },
    {
     "name": "stderr",
     "output_type": "stream",
     "text": [
      "train:  81%|████████▏ | 1179/1451 [28:18<06:28,  1.43s/it]"
     ]
    },
    {
     "name": "stdout",
     "output_type": "stream",
     "text": [
      "Training metrics: 0.810073425542401| Distance: 0.8231397635206262| Speed: 0.8094783715012722 | Activity: 0.7334605597964376\n"
     ]
    },
    {
     "name": "stderr",
     "output_type": "stream",
     "text": [
      "train:  81%|████████▏ | 1180/1451 [28:19<06:30,  1.44s/it]"
     ]
    },
    {
     "name": "stdout",
     "output_type": "stream",
     "text": [
      "Training metrics: 0.8099413329823972| Distance: 0.8230484080780069| Speed: 0.8092161016949152 | Activity: 0.7334745762711864\n"
     ]
    },
    {
     "name": "stderr",
     "output_type": "stream",
     "text": [
      "train:  81%|████████▏ | 1181/1451 [28:21<06:35,  1.47s/it]"
     ]
    },
    {
     "name": "stdout",
     "output_type": "stream",
     "text": [
      "Training metrics: 0.8100342829947393| Distance: 0.823173141711526| Speed: 0.8092718035563082 | Activity: 0.7334885690093141\n"
     ]
    },
    {
     "name": "stderr",
     "output_type": "stream",
     "text": [
      "train:  81%|████████▏ | 1182/1451 [28:22<06:30,  1.45s/it]"
     ]
    },
    {
     "name": "stdout",
     "output_type": "stream",
     "text": [
      "Training metrics: 0.8100319075397441| Distance: 0.8231919271178477| Speed: 0.8092216582064298 | Activity: 0.733502538071066\n"
     ]
    },
    {
     "name": "stderr",
     "output_type": "stream",
     "text": [
      "train:  82%|████████▏ | 1183/1451 [28:24<06:36,  1.48s/it]"
     ]
    },
    {
     "name": "stdout",
     "output_type": "stream",
     "text": [
      "Training metrics: 0.809988269756089| Distance: 0.8232299564968348| Speed: 0.8090659340659341 | Activity: 0.7333051563820795\n"
     ]
    },
    {
     "name": "stderr",
     "output_type": "stream",
     "text": [
      "train:  82%|████████▏ | 1184/1451 [28:25<06:23,  1.44s/it]"
     ]
    },
    {
     "name": "stdout",
     "output_type": "stream",
     "text": [
      "Training metrics: 0.8100895055662506| Distance: 0.8233157018446521| Speed: 0.8092271959459459 | Activity: 0.7333192567567568\n"
     ]
    },
    {
     "name": "stderr",
     "output_type": "stream",
     "text": [
      "train:  82%|████████▏ | 1185/1451 [28:27<06:15,  1.41s/it]"
     ]
    },
    {
     "name": "stdout",
     "output_type": "stream",
     "text": [
      "Training metrics: 0.8101332826501306| Distance: 0.8233585653170252| Speed: 0.809282700421941 | Activity: 0.7333333333333333\n"
     ]
    },
    {
     "name": "stderr",
     "output_type": "stream",
     "text": [
      "train:  82%|████████▏ | 1186/1451 [28:28<06:17,  1.42s/it]"
     ]
    },
    {
     "name": "stdout",
     "output_type": "stream",
     "text": [
      "Training metrics: 0.8101288291816123| Distance: 0.823338661339787| Speed: 0.8092327150084317 | Activity: 0.7335581787521079\n"
     ]
    },
    {
     "name": "stderr",
     "output_type": "stream",
     "text": [
      "train:  82%|████████▏ | 1187/1451 [28:30<06:34,  1.49s/it]"
     ]
    },
    {
     "name": "stdout",
     "output_type": "stream",
     "text": [
      "Training metrics: 0.8100837157879806| Distance: 0.8232334606014224| Speed: 0.8092881213142376 | Activity: 0.7335720303285594\n"
     ]
    },
    {
     "name": "stderr",
     "output_type": "stream",
     "text": [
      "train:  82%|████████▏ | 1188/1451 [28:31<06:31,  1.49s/it]"
     ]
    },
    {
     "name": "stdout",
     "output_type": "stream",
     "text": [
      "Training metrics: 0.8100557237532559| Distance: 0.8232094554136759| Speed: 0.8092382154882155 | Activity: 0.7335858585858586\n"
     ]
    },
    {
     "name": "stderr",
     "output_type": "stream",
     "text": [
      "train:  82%|████████▏ | 1189/1451 [28:32<06:18,  1.44s/it]"
     ]
    },
    {
     "name": "stdout",
     "output_type": "stream",
     "text": [
      "Training metrics: 0.8101269355038337| Distance: 0.8232806648641134| Speed: 0.8092935239697224 | Activity: 0.7337047939444912\n"
     ]
    },
    {
     "name": "stderr",
     "output_type": "stream",
     "text": [
      "train:  82%|████████▏ | 1190/1451 [28:34<06:31,  1.50s/it]"
     ]
    },
    {
     "name": "stdout",
     "output_type": "stream",
     "text": [
      "Training metrics: 0.810109467806912| Distance: 0.8232566760367303| Speed: 0.8092436974789916 | Activity: 0.7338235294117647\n"
     ]
    },
    {
     "name": "stderr",
     "output_type": "stream",
     "text": [
      "train:  82%|████████▏ | 1191/1451 [28:36<06:26,  1.49s/it]"
     ]
    },
    {
     "name": "stdout",
     "output_type": "stream",
     "text": [
      "Training metrics: 0.8102189663985538| Distance: 0.8233568275688187| Speed: 0.8094038623005877 | Activity: 0.7338371116708649\n"
     ]
    },
    {
     "name": "stderr",
     "output_type": "stream",
     "text": [
      "train:  82%|████████▏ | 1192/1451 [28:37<06:17,  1.46s/it]"
     ]
    },
    {
     "name": "stdout",
     "output_type": "stream",
     "text": [
      "Training metrics: 0.8102619198682668| Distance: 0.8234510745008028| Speed: 0.8093540268456376 | Activity: 0.7338506711409396\n"
     ]
    },
    {
     "name": "stderr",
     "output_type": "stream",
     "text": [
      "train:  82%|████████▏ | 1193/1451 [28:38<06:20,  1.47s/it]"
     ]
    },
    {
     "name": "stdout",
     "output_type": "stream",
     "text": [
      "Training metrics: 0.8101874698595856| Distance: 0.8232273701347944| Speed: 0.8095138306789607 | Activity: 0.7339689857502095\n"
     ]
    },
    {
     "name": "stderr",
     "output_type": "stream",
     "text": [
      "train:  82%|████████▏ | 1194/1451 [28:40<06:14,  1.46s/it]"
     ]
    },
    {
     "name": "stdout",
     "output_type": "stream",
     "text": [
      "Training metrics: 0.8102497931858281| Distance: 0.8232841332549957| Speed: 0.8095686767169179 | Activity: 0.7340871021775545\n"
     ]
    },
    {
     "name": "stderr",
     "output_type": "stream",
     "text": [
      "train:  82%|████████▏ | 1195/1451 [28:41<06:13,  1.46s/it]"
     ]
    },
    {
     "name": "stdout",
     "output_type": "stream",
     "text": [
      "Training metrics: 0.8102845970209587| Distance: 0.8232602418968562| Speed: 0.8097280334728033 | Activity: 0.7341004184100418\n"
     ]
    },
    {
     "name": "stderr",
     "output_type": "stream",
     "text": [
      "train:  82%|████████▏ | 1196/1451 [28:43<06:05,  1.43s/it]"
     ]
    },
    {
     "name": "stdout",
     "output_type": "stream",
     "text": [
      "Training metrics: 0.8104198860901396| Distance: 0.8233691245315038| Speed: 0.8098871237458194 | Activity: 0.7343227424749164\n"
     ]
    },
    {
     "name": "stderr",
     "output_type": "stream",
     "text": [
      "train:  82%|████████▏ | 1197/1451 [28:44<06:09,  1.45s/it]"
     ]
    },
    {
     "name": "stdout",
     "output_type": "stream",
     "text": [
      "Training metrics: 0.8104470184465015| Distance: 0.8232979407970794| Speed: 0.8100459482038429 | Activity: 0.7345446950710108\n"
     ]
    },
    {
     "name": "stderr",
     "output_type": "stream",
     "text": [
      "train:  83%|████████▎ | 1198/1451 [28:46<05:58,  1.42s/it]"
     ]
    },
    {
     "name": "stdout",
     "output_type": "stream",
     "text": [
      "Training metrics: 0.8104607023844985| Distance: 0.823378438309167| Speed: 0.8099958263772955 | Activity: 0.7343489148580968\n"
     ]
    },
    {
     "name": "stderr",
     "output_type": "stream",
     "text": [
      "train:  83%|████████▎ | 1199/1451 [28:47<05:54,  1.41s/it]"
     ]
    },
    {
     "name": "stdout",
     "output_type": "stream",
     "text": [
      "Training metrics: 0.8104952142058349| Distance: 0.8234066747745292| Speed: 0.8100500417014178 | Activity: 0.7343619683069225\n"
     ]
    },
    {
     "name": "stderr",
     "output_type": "stream",
     "text": [
      "train:  83%|████████▎ | 1200/1451 [28:48<05:50,  1.40s/it]"
     ]
    },
    {
     "name": "stdout",
     "output_type": "stream",
     "text": [
      "Training metrics: 0.8105425944181529| Distance: 0.823386962919144| Speed: 0.8102083333333333 | Activity: 0.7344791666666667\n"
     ]
    },
    {
     "name": "stderr",
     "output_type": "stream",
     "text": [
      "train:  83%|████████▎ | 1201/1451 [28:50<06:05,  1.46s/it]"
     ]
    },
    {
     "name": "stdout",
     "output_type": "stream",
     "text": [
      "Training metrics: 0.8104540528780362| Distance: 0.8231408791375543| Speed: 0.8103663613655288 | Activity: 0.7345961698584513\n"
     ]
    },
    {
     "name": "stderr",
     "output_type": "stream",
     "text": [
      "train:  83%|████████▎ | 1202/1451 [28:51<05:58,  1.44s/it]"
     ]
    },
    {
     "name": "stdout",
     "output_type": "stream",
     "text": [
      "Training metrics: 0.8104592526715967| Distance: 0.8230511948298107| Speed: 0.8105241264559068 | Activity: 0.7347129783693843\n"
     ]
    },
    {
     "name": "stderr",
     "output_type": "stream",
     "text": [
      "train:  83%|████████▎ | 1203/1451 [28:53<05:52,  1.42s/it]"
     ]
    },
    {
     "name": "stdout",
     "output_type": "stream",
     "text": [
      "Training metrics: 0.8105911063526186| Distance: 0.8231554460268775| Speed: 0.8106816292601828 | Activity: 0.7349334995843724\n"
     ]
    },
    {
     "name": "stderr",
     "output_type": "stream",
     "text": [
      "train:  83%|████████▎ | 1204/1451 [28:54<06:05,  1.48s/it]"
     ]
    },
    {
     "name": "stdout",
     "output_type": "stream",
     "text": [
      "Training metrics: 0.8106733409166057| Distance: 0.8232117974302233| Speed: 0.8108388704318937 | Activity: 0.7349460132890365\n"
     ]
    },
    {
     "name": "stderr",
     "output_type": "stream",
     "text": [
      "train:  83%|████████▎ | 1205/1451 [28:56<06:01,  1.47s/it]"
     ]
    },
    {
     "name": "stdout",
     "output_type": "stream",
     "text": [
      "Training metrics: 0.810674413123284| Distance: 0.823305902923316| Speed: 0.8106846473029046 | Activity: 0.7348547717842324\n"
     ]
    },
    {
     "name": "stderr",
     "output_type": "stream",
     "text": [
      "train:  83%|████████▎ | 1206/1451 [28:57<05:49,  1.42s/it]"
     ]
    },
    {
     "name": "stdout",
     "output_type": "stream",
     "text": [
      "Training metrics: 0.8106651187093875| Distance: 0.8232443797174152| Speed: 0.810737976782753 | Activity: 0.7349709784411277\n"
     ]
    },
    {
     "name": "stderr",
     "output_type": "stream",
     "text": [
      "train:  83%|████████▎ | 1207/1451 [28:59<05:59,  1.47s/it]"
     ]
    },
    {
     "name": "stdout",
     "output_type": "stream",
     "text": [
      "Training metrics: 0.8107066417557581| Distance: 0.8233194098304338| Speed: 0.8106876553438277 | Activity: 0.7350869925434963\n"
     ]
    },
    {
     "name": "stderr",
     "output_type": "stream",
     "text": [
      "train:  83%|████████▎ | 1208/1451 [29:00<05:54,  1.46s/it]"
     ]
    },
    {
     "name": "stdout",
     "output_type": "stream",
     "text": [
      "Training metrics: 0.8107732408578394| Distance: 0.8233844853149423| Speed: 0.8107408940397351 | Activity: 0.7352028145695364\n"
     ]
    },
    {
     "name": "stderr",
     "output_type": "stream",
     "text": [
      "train:  83%|████████▎ | 1209/1451 [29:02<05:52,  1.46s/it]"
     ]
    },
    {
     "name": "stdout",
     "output_type": "stream",
     "text": [
      "Training metrics: 0.8108259225030886| Distance: 0.8234264410066644| Speed: 0.8107940446650124 | Activity: 0.7353184449958643\n"
     ]
    },
    {
     "name": "stderr",
     "output_type": "stream",
     "text": [
      "train:  83%|████████▎ | 1210/1451 [29:03<05:49,  1.45s/it]"
     ]
    },
    {
     "name": "stdout",
     "output_type": "stream",
     "text": [
      "Training metrics: 0.8108888476497507| Distance: 0.8234683273501355| Speed: 0.8108471074380166 | Activity: 0.7355371900826446\n"
     ]
    },
    {
     "name": "stderr",
     "output_type": "stream",
     "text": [
      "train:  83%|████████▎ | 1211/1451 [29:04<05:44,  1.43s/it]"
     ]
    },
    {
     "name": "stdout",
     "output_type": "stream",
     "text": [
      "Training metrics: 0.8108887606043574| Distance: 0.8234913144672131| Speed: 0.8107968620974402 | Activity: 0.7355491329479769\n"
     ]
    },
    {
     "name": "stderr",
     "output_type": "stream",
     "text": [
      "train:  84%|████████▎ | 1212/1451 [29:06<05:47,  1.45s/it]"
     ]
    },
    {
     "name": "stdout",
     "output_type": "stream",
     "text": [
      "Training metrics: 0.8107698056883224| Distance: 0.8235052317027597| Speed: 0.8104372937293729 | Activity: 0.7353547854785478\n"
     ]
    },
    {
     "name": "stderr",
     "output_type": "stream",
     "text": [
      "train:  84%|████████▎ | 1213/1451 [29:07<05:41,  1.44s/it]"
     ]
    },
    {
     "name": "stdout",
     "output_type": "stream",
     "text": [
      "Training metrics: 0.8108831722423128| Distance: 0.8235796756388094| Speed: 0.810593569661995 | Activity: 0.7355729596042869\n"
     ]
    },
    {
     "name": "stderr",
     "output_type": "stream",
     "text": [
      "train:  84%|████████▎ | 1214/1451 [29:09<05:57,  1.51s/it]"
     ]
    },
    {
     "name": "stdout",
     "output_type": "stream",
     "text": [
      "Training metrics: 0.8109326164245478| Distance: 0.823564931822352| Speed: 0.8107495881383855 | Activity: 0.7356878088962109\n"
     ]
    },
    {
     "name": "stderr",
     "output_type": "stream",
     "text": [
      "train:  84%|████████▎ | 1215/1451 [29:10<05:45,  1.46s/it]"
     ]
    },
    {
     "name": "stdout",
     "output_type": "stream",
     "text": [
      "Training metrics: 0.8109697363972626| Distance: 0.823666981786933| Speed: 0.8106995884773662 | Activity: 0.73559670781893\n"
     ]
    },
    {
     "name": "stderr",
     "output_type": "stream",
     "text": [
      "train:  84%|████████▍ | 1216/1451 [29:12<05:59,  1.53s/it]"
     ]
    },
    {
     "name": "stdout",
     "output_type": "stream",
     "text": [
      "Training metrics: 0.8110723792420662| Distance: 0.8237411090437949| Speed: 0.8108552631578947 | Activity: 0.7357113486842105\n"
     ]
    },
    {
     "name": "stderr",
     "output_type": "stream",
     "text": [
      "train:  84%|████████▍ | 1217/1451 [29:13<05:54,  1.52s/it]"
     ]
    },
    {
     "name": "stdout",
     "output_type": "stream",
     "text": [
      "Training metrics: 0.8111093233702757| Distance: 0.8237914907444889| Speed: 0.8108052588331964 | Activity: 0.7359285127362366\n"
     ]
    },
    {
     "name": "stderr",
     "output_type": "stream",
     "text": [
      "train:  84%|████████▍ | 1218/1451 [29:15<05:46,  1.49s/it]"
     ]
    },
    {
     "name": "stdout",
     "output_type": "stream",
     "text": [
      "Training metrics: 0.8111017133972024| Distance: 0.8236650067293277| Speed: 0.8109605911330049 | Activity: 0.7361453201970444\n"
     ]
    },
    {
     "name": "stderr",
     "output_type": "stream",
     "text": [
      "train:  84%|████████▍ | 1219/1451 [29:16<05:41,  1.47s/it]"
     ]
    },
    {
     "name": "stdout",
     "output_type": "stream",
     "text": [
      "Training metrics: 0.8111536934107929| Distance: 0.8236551165815652| Speed: 0.811115668580804 | Activity: 0.7362592288761279\n"
     ]
    },
    {
     "name": "stderr",
     "output_type": "stream",
     "text": [
      "train:  84%|████████▍ | 1220/1451 [29:18<05:36,  1.46s/it]"
     ]
    },
    {
     "name": "stdout",
     "output_type": "stream",
     "text": [
      "Training metrics: 0.8111665421690915| Distance: 0.8236313954184314| Speed: 0.8111680327868852 | Activity: 0.7363729508196721\n"
     ]
    },
    {
     "name": "stderr",
     "output_type": "stream",
     "text": [
      "train:  84%|████████▍ | 1221/1451 [29:19<05:32,  1.44s/it]"
     ]
    },
    {
     "name": "stdout",
     "output_type": "stream",
     "text": [
      "Training metrics: 0.8112676355181693| Distance: 0.8236865724374623| Speed: 0.8113226863226863 | Activity: 0.7365888615888616\n"
     ]
    },
    {
     "name": "stderr",
     "output_type": "stream",
     "text": [
      "train:  84%|████████▍ | 1222/1451 [29:21<05:27,  1.43s/it]"
     ]
    },
    {
     "name": "stdout",
     "output_type": "stream",
     "text": [
      "Training metrics: 0.811299861073596| Distance: 0.8237464951335715| Speed: 0.8112725040916531 | Activity: 0.7367021276595744\n"
     ]
    },
    {
     "name": "stderr",
     "output_type": "stream",
     "text": [
      "train:  84%|████████▍ | 1223/1451 [29:22<05:20,  1.40s/it]"
     ]
    },
    {
     "name": "stdout",
     "output_type": "stream",
     "text": [
      "Training metrics: 0.8113841133345064| Distance: 0.8237738765441557| Speed: 0.8114268192968112 | Activity: 0.7369174161896974\n"
     ]
    },
    {
     "name": "stderr",
     "output_type": "stream",
     "text": [
      "train:  84%|████████▍ | 1224/1451 [29:23<05:18,  1.40s/it]"
     ]
    },
    {
     "name": "stdout",
     "output_type": "stream",
     "text": [
      "Training metrics: 0.811443922329953| Distance: 0.8238798487634297| Speed: 0.811376633986928 | Activity: 0.7370302287581699\n"
     ]
    },
    {
     "name": "stderr",
     "output_type": "stream",
     "text": [
      "train:  84%|████████▍ | 1225/1451 [29:25<05:12,  1.38s/it]"
     ]
    },
    {
     "name": "stdout",
     "output_type": "stream",
     "text": [
      "Training metrics: 0.8114020384516666| Distance: 0.8238333293922336| Speed: 0.8113265306122449 | Activity: 0.7370408163265306\n"
     ]
    },
    {
     "name": "stderr",
     "output_type": "stream",
     "text": [
      "train:  84%|████████▍ | 1226/1451 [29:26<05:10,  1.38s/it]"
     ]
    },
    {
     "name": "stdout",
     "output_type": "stream",
     "text": [
      "Training metrics: 0.8114015338817049| Distance: 0.8238557375461805| Speed: 0.8112765089722676 | Activity: 0.7370513866231647\n"
     ]
    },
    {
     "name": "stderr",
     "output_type": "stream",
     "text": [
      "train:  85%|████████▍ | 1227/1451 [29:27<05:15,  1.41s/it]"
     ]
    },
    {
     "name": "stdout",
     "output_type": "stream",
     "text": [
      "Training metrics: 0.8114383535207098| Distance: 0.8238044821650518| Speed: 0.8114303178484108 | Activity: 0.7372656886715566\n"
     ]
    },
    {
     "name": "stderr",
     "output_type": "stream",
     "text": [
      "train:  85%|████████▍ | 1228/1451 [29:29<05:22,  1.45s/it]"
     ]
    },
    {
     "name": "stdout",
     "output_type": "stream",
     "text": [
      "Training metrics: 0.8114019250607889| Distance: 0.8238688436138015| Speed: 0.8111767100977199 | Activity: 0.7372760586319218\n"
     ]
    },
    {
     "name": "stderr",
     "output_type": "stream",
     "text": [
      "train:  85%|████████▍ | 1229/1451 [29:30<05:18,  1.43s/it]"
     ]
    },
    {
     "name": "stdout",
     "output_type": "stream",
     "text": [
      "Training metrics: 0.8114556878905073| Distance: 0.8238629514746862| Speed: 0.8113303498779495 | Activity: 0.7373881204231082\n"
     ]
    },
    {
     "name": "stderr",
     "output_type": "stream",
     "text": [
      "train:  85%|████████▍ | 1230/1451 [29:32<05:11,  1.41s/it]"
     ]
    },
    {
     "name": "stdout",
     "output_type": "stream",
     "text": [
      "Training metrics: 0.8115011316149763| Distance: 0.8238433494395949| Speed: 0.8114837398373984 | Activity: 0.7375\n"
     ]
    },
    {
     "name": "stderr",
     "output_type": "stream",
     "text": [
      "train:  85%|████████▍ | 1231/1451 [29:33<05:20,  1.46s/it]"
     ]
    },
    {
     "name": "stdout",
     "output_type": "stream",
     "text": [
      "Training metrics: 0.8115179678160935| Distance: 0.8238100709201345| Speed: 0.8115353371242892 | Activity: 0.7377132412672623\n"
     ]
    },
    {
     "name": "stderr",
     "output_type": "stream",
     "text": [
      "train:  85%|████████▍ | 1232/1451 [29:35<05:07,  1.40s/it]"
     ]
    },
    {
     "name": "stdout",
     "output_type": "stream",
     "text": [
      "Training metrics: 0.8115801669203416| Distance: 0.8238186764689677| Speed: 0.8116883116883117 | Activity: 0.7378246753246753\n"
     ]
    },
    {
     "name": "stderr",
     "output_type": "stream",
     "text": [
      "train:  85%|████████▍ | 1233/1451 [29:36<05:07,  1.41s/it]"
     ]
    },
    {
     "name": "stdout",
     "output_type": "stream",
     "text": [
      "Training metrics: 0.8116495182235377| Distance: 0.8238224600832957| Speed: 0.8118410381184104 | Activity: 0.7380373073803731\n"
     ]
    },
    {
     "name": "stderr",
     "output_type": "stream",
     "text": [
      "train:  85%|████████▌ | 1234/1451 [29:38<05:25,  1.50s/it]"
     ]
    },
    {
     "name": "stdout",
     "output_type": "stream",
     "text": [
      "Training metrics: 0.8116767561708657| Distance: 0.8238406498039551| Speed: 0.8118922204213939 | Activity: 0.7380470016207455\n"
     ]
    },
    {
     "name": "stderr",
     "output_type": "stream",
     "text": [
      "train:  85%|████████▌ | 1235/1451 [29:39<05:14,  1.45s/it]"
     ]
    },
    {
     "name": "stdout",
     "output_type": "stream",
     "text": [
      "Training metrics: 0.8118042075674404| Distance: 0.823941560520633| Speed: 0.8120445344129554 | Activity: 0.7382591093117409\n"
     ]
    },
    {
     "name": "stderr",
     "output_type": "stream",
     "text": [
      "train:  85%|████████▌ | 1236/1451 [29:40<05:07,  1.43s/it]"
     ]
    },
    {
     "name": "stdout",
     "output_type": "stream",
     "text": [
      "Training metrics: 0.8119180200554803| Distance: 0.8240367756048729| Speed: 0.8121966019417476 | Activity: 0.7383697411003236\n"
     ]
    },
    {
     "name": "stderr",
     "output_type": "stream",
     "text": [
      "train:  85%|████████▌ | 1237/1451 [29:42<05:02,  1.41s/it]"
     ]
    },
    {
     "name": "stdout",
     "output_type": "stream",
     "text": [
      "Training metrics: 0.8120263388828208| Distance: 0.8241229873323221| Speed: 0.8123484236054972 | Activity: 0.738480194017785\n"
     ]
    },
    {
     "name": "stderr",
     "output_type": "stream",
     "text": [
      "train:  85%|████████▌ | 1238/1451 [29:43<04:58,  1.40s/it]"
     ]
    },
    {
     "name": "stdout",
     "output_type": "stream",
     "text": [
      "Training metrics: 0.8120873849875857| Distance: 0.8241305635630469| Speed: 0.8125 | Activity: 0.7385904684975767\n"
     ]
    },
    {
     "name": "stderr",
     "output_type": "stream",
     "text": [
      "train:  85%|████████▌ | 1239/1451 [29:45<04:53,  1.39s/it]"
     ]
    },
    {
     "name": "stdout",
     "output_type": "stream",
     "text": [
      "Training metrics: 0.8121459022908737| Distance: 0.8241340771299335| Speed: 0.8126513317191283 | Activity: 0.7387005649717514\n"
     ]
    },
    {
     "name": "stderr",
     "output_type": "stream",
     "text": [
      "train:  85%|████████▌ | 1240/1451 [29:46<04:47,  1.36s/it]"
     ]
    },
    {
     "name": "stdout",
     "output_type": "stream",
     "text": [
      "Training metrics: 0.8122283171891607| Distance: 0.8241607705840853| Speed: 0.8128024193548387 | Activity: 0.7389112903225806\n"
     ]
    },
    {
     "name": "stderr",
     "output_type": "stream",
     "text": [
      "train:  86%|████████▌ | 1241/1451 [29:47<04:47,  1.37s/it]"
     ]
    },
    {
     "name": "stdout",
     "output_type": "stream",
     "text": [
      "Training metrics: 0.8122894928112884| Distance: 0.8242697563508045| Speed: 0.8127518130539887 | Activity: 0.7390209508460919\n"
     ]
    },
    {
     "name": "stderr",
     "output_type": "stream",
     "text": [
      "train:  86%|████████▌ | 1242/1451 [29:49<04:45,  1.37s/it]"
     ]
    },
    {
     "name": "stdout",
     "output_type": "stream",
     "text": [
      "Training metrics: 0.812237949127903| Distance: 0.8241908652936873| Speed: 0.8127012882447665 | Activity: 0.7391304347826086\n"
     ]
    },
    {
     "name": "stderr",
     "output_type": "stream",
     "text": [
      "train:  86%|████████▌ | 1243/1451 [29:50<04:45,  1.37s/it]"
     ]
    },
    {
     "name": "stdout",
     "output_type": "stream",
     "text": [
      "Training metrics: 0.8122468352795931| Distance: 0.8242629609178524| Speed: 0.8125502815768303 | Activity: 0.7392397425583266\n"
     ]
    },
    {
     "name": "stderr",
     "output_type": "stream",
     "text": [
      "train:  86%|████████▌ | 1244/1451 [29:51<04:42,  1.37s/it]"
     ]
    },
    {
     "name": "stdout",
     "output_type": "stream",
     "text": [
      "Training metrics: 0.8123298541342336| Distance: 0.8243580366331549| Speed: 0.8126004823151125 | Activity: 0.7393488745980707\n"
     ]
    },
    {
     "name": "stderr",
     "output_type": "stream",
     "text": [
      "train:  86%|████████▌ | 1245/1451 [29:53<04:45,  1.39s/it]"
     ]
    },
    {
     "name": "stdout",
     "output_type": "stream",
     "text": [
      "Training metrics: 0.8122621372156137| Distance: 0.8241517547971074| Speed: 0.8127510040160643 | Activity: 0.7394578313253012\n"
     ]
    },
    {
     "name": "stderr",
     "output_type": "stream",
     "text": [
      "train:  86%|████████▌ | 1246/1451 [29:54<04:47,  1.40s/it]"
     ]
    },
    {
     "name": "stdout",
     "output_type": "stream",
     "text": [
      "Training metrics: 0.8123072987293033| Distance: 0.8242006343187696| Speed: 0.812800963081862 | Activity: 0.7394662921348315\n"
     ]
    },
    {
     "name": "stderr",
     "output_type": "stream",
     "text": [
      "train:  86%|████████▌ | 1247/1451 [29:56<05:03,  1.49s/it]"
     ]
    },
    {
     "name": "stdout",
     "output_type": "stream",
     "text": [
      "Training metrics: 0.8122578520296404| Distance: 0.8242088231501761| Speed: 0.8126503608660786 | Activity: 0.739374498797113\n"
     ]
    },
    {
     "name": "stderr",
     "output_type": "stream",
     "text": [
      "train:  86%|████████▌ | 1248/1451 [29:57<04:54,  1.45s/it]"
     ]
    },
    {
     "name": "stdout",
     "output_type": "stream",
     "text": [
      "Training metrics: 0.8123067507344873| Distance: 0.8241804552839748| Speed: 0.8128004807692307 | Activity: 0.7395833333333334\n"
     ]
    },
    {
     "name": "stderr",
     "output_type": "stream",
     "text": [
      "train:  86%|████████▌ | 1249/1451 [29:59<04:50,  1.44s/it]"
     ]
    },
    {
     "name": "stdout",
     "output_type": "stream",
     "text": [
      "Training metrics: 0.8123965494528457| Distance: 0.8242204300328323| Speed: 0.8129503602882305 | Activity: 0.7397918334667735\n"
     ]
    },
    {
     "name": "stderr",
     "output_type": "stream",
     "text": [
      "train:  86%|████████▌ | 1250/1451 [30:00<04:53,  1.46s/it]"
     ]
    },
    {
     "name": "stdout",
     "output_type": "stream",
     "text": [
      "Training metrics: 0.8124690590037509| Distance: 0.824265098339585| Speed: 0.8131 | Activity: 0.7398\n"
     ]
    },
    {
     "name": "stderr",
     "output_type": "stream",
     "text": [
      "train:  86%|████████▌ | 1251/1451 [30:02<05:34,  1.67s/it]"
     ]
    },
    {
     "name": "stdout",
     "output_type": "stream",
     "text": [
      "Training metrics: 0.8125286083970045| Distance: 0.8243049415196546| Speed: 0.8131494804156675 | Activity: 0.7400079936051159\n"
     ]
    },
    {
     "name": "stderr",
     "output_type": "stream",
     "text": [
      "train:  86%|████████▋ | 1252/1451 [30:04<05:46,  1.74s/it]"
     ]
    },
    {
     "name": "stdout",
     "output_type": "stream",
     "text": [
      "Training metrics: 0.8126108717213298| Distance: 0.8243494560637716| Speed: 0.8132987220447284 | Activity: 0.7401158146964856\n"
     ]
    },
    {
     "name": "stderr",
     "output_type": "stream",
     "text": [
      "train:  86%|████████▋ | 1253/1451 [30:06<05:24,  1.64s/it]"
     ]
    },
    {
     "name": "stdout",
     "output_type": "stream",
     "text": [
      "Training metrics: 0.8126673741457149| Distance: 0.8243844370904244| Speed: 0.8133479648842777 | Activity: 0.7403232242617718\n"
     ]
    },
    {
     "name": "stderr",
     "output_type": "stream",
     "text": [
      "train:  86%|████████▋ | 1254/1451 [30:07<05:29,  1.67s/it]"
     ]
    },
    {
     "name": "stdout",
     "output_type": "stream",
     "text": [
      "Training metrics: 0.812578995359448| Distance: 0.8244106328824401| Speed: 0.8130980861244019 | Activity: 0.7400318979266348\n"
     ]
    },
    {
     "name": "stderr",
     "output_type": "stream",
     "text": [
      "train:  86%|████████▋ | 1255/1451 [30:09<05:21,  1.64s/it]"
     ]
    },
    {
     "name": "stdout",
     "output_type": "stream",
     "text": [
      "Training metrics: 0.8126088128930261| Distance: 0.8244509431351235| Speed: 0.8130478087649402 | Activity: 0.7402390438247012\n"
     ]
    },
    {
     "name": "stderr",
     "output_type": "stream",
     "text": [
      "train:  87%|████████▋ | 1256/1451 [30:10<05:06,  1.57s/it]"
     ]
    },
    {
     "name": "stdout",
     "output_type": "stream",
     "text": [
      "Training metrics: 0.8125485872059808| Distance: 0.8244407185917093| Speed: 0.8128980891719745 | Activity: 0.7401472929936306\n"
     ]
    },
    {
     "name": "stderr",
     "output_type": "stream",
     "text": [
      "train:  87%|████████▋ | 1257/1451 [30:12<04:54,  1.52s/it]"
     ]
    },
    {
     "name": "stdout",
     "output_type": "stream",
     "text": [
      "Training metrics: 0.8124453354621624| Distance: 0.8242094758365661| Speed: 0.8129474940334129 | Activity: 0.7403540175019888\n"
     ]
    },
    {
     "name": "stderr",
     "output_type": "stream",
     "text": [
      "train:  87%|████████▋ | 1258/1451 [30:13<04:49,  1.50s/it]"
     ]
    },
    {
     "name": "stdout",
     "output_type": "stream",
     "text": [
      "Training metrics: 0.8125069659131341| Distance: 0.8243028128228973| Speed: 0.8129968203497615 | Activity: 0.740262321144674\n"
     ]
    },
    {
     "name": "stderr",
     "output_type": "stream",
     "text": [
      "train:  87%|████████▋ | 1259/1451 [30:15<04:45,  1.49s/it]"
     ]
    },
    {
     "name": "stdout",
     "output_type": "stream",
     "text": [
      "Training metrics: 0.812594944683693| Distance: 0.8243738884786467| Speed: 0.8131453534551231 | Activity: 0.7402700555996823\n"
     ]
    },
    {
     "name": "stderr",
     "output_type": "stream",
     "text": [
      "train:  87%|████████▋ | 1260/1451 [30:16<04:40,  1.47s/it]"
     ]
    },
    {
     "name": "stdout",
     "output_type": "stream",
     "text": [
      "Training metrics: 0.8126629514225778| Distance: 0.8243952629529738| Speed: 0.8132936507936508 | Activity: 0.7403769841269842\n"
     ]
    },
    {
     "name": "stderr",
     "output_type": "stream",
     "text": [
      "train:  87%|████████▋ | 1261/1451 [30:18<04:41,  1.48s/it]"
     ]
    },
    {
     "name": "stdout",
     "output_type": "stream",
     "text": [
      "Training metrics: 0.8127275162754868| Distance: 0.8243945255397687| Speed: 0.813441712926249 | Activity: 0.74058287073751\n"
     ]
    },
    {
     "name": "stderr",
     "output_type": "stream",
     "text": [
      "train:  87%|████████▋ | 1262/1451 [30:19<04:50,  1.54s/it]"
     ]
    },
    {
     "name": "stdout",
     "output_type": "stream",
     "text": [
      "Training metrics: 0.8127278488808545| Distance: 0.8244024634015299| Speed: 0.813391442155309 | Activity: 0.740689381933439\n"
     ]
    },
    {
     "name": "stderr",
     "output_type": "stream",
     "text": [
      "train:  87%|████████▋ | 1263/1451 [30:21<04:36,  1.47s/it]"
     ]
    },
    {
     "name": "stdout",
     "output_type": "stream",
     "text": [
      "Training metrics: 0.8127338134860368| Distance: 0.8243208055329436| Speed: 0.8135391923990499 | Activity: 0.7407957244655582\n"
     ]
    },
    {
     "name": "stderr",
     "output_type": "stream",
     "text": [
      "train:  87%|████████▋ | 1264/1451 [30:22<04:36,  1.48s/it]"
     ]
    },
    {
     "name": "stdout",
     "output_type": "stream",
     "text": [
      "Training metrics: 0.812763808304679| Distance: 0.8243287891575874| Speed: 0.8135878164556962 | Activity: 0.7409018987341772\n"
     ]
    },
    {
     "name": "stderr",
     "output_type": "stream",
     "text": [
      "train:  87%|████████▋ | 1265/1451 [30:24<04:31,  1.46s/it]"
     ]
    },
    {
     "name": "stdout",
     "output_type": "stream",
     "text": [
      "Training metrics: 0.8128897581192691| Distance: 0.8244308880380441| Speed: 0.8137351778656127 | Activity: 0.741106719367589\n"
     ]
    },
    {
     "name": "stderr",
     "output_type": "stream",
     "text": [
      "train:  87%|████████▋ | 1266/1451 [30:25<04:23,  1.43s/it]"
     ]
    },
    {
     "name": "stdout",
     "output_type": "stream",
     "text": [
      "Training metrics: 0.8129050320032115| Distance: 0.8244968016272589| Speed: 0.8136848341232228 | Activity: 0.7410150078988942\n"
     ]
    },
    {
     "name": "stderr",
     "output_type": "stream",
     "text": [
      "train:  87%|████████▋ | 1267/1451 [30:26<04:27,  1.46s/it]"
     ]
    },
    {
     "name": "stdout",
     "output_type": "stream",
     "text": [
      "Training metrics: 0.8128610779902321| Distance: 0.8245625964399161| Speed: 0.81353591160221 | Activity: 0.7406274664561957\n"
     ]
    },
    {
     "name": "stderr",
     "output_type": "stream",
     "text": [
      "train:  87%|████████▋ | 1268/1451 [30:28<04:27,  1.46s/it]"
     ]
    },
    {
     "name": "stdout",
     "output_type": "stream",
     "text": [
      "Training metrics: 0.8127922973800266| Distance: 0.8244224935303284| Speed: 0.8135843848580442 | Activity: 0.7406348580441641\n"
     ]
    },
    {
     "name": "stderr",
     "output_type": "stream",
     "text": [
      "train:  87%|████████▋ | 1269/1451 [30:29<04:14,  1.40s/it]"
     ]
    },
    {
     "name": "stdout",
     "output_type": "stream",
     "text": [
      "Training metrics: 0.8127254967441497| Distance: 0.8244663191073369| Speed: 0.8133372734436565 | Activity: 0.7404452324665091\n"
     ]
    },
    {
     "name": "stderr",
     "output_type": "stream",
     "text": [
      "train:  88%|████████▊ | 1270/1451 [30:31<04:15,  1.41s/it]"
     ]
    },
    {
     "name": "stdout",
     "output_type": "stream",
     "text": [
      "Training metrics: 0.8127900644594617| Distance: 0.824531997196216| Speed: 0.8133858267716535 | Activity: 0.7405511811023622\n"
     ]
    },
    {
     "name": "stderr",
     "output_type": "stream",
     "text": [
      "train:  88%|████████▊ | 1271/1451 [30:32<04:13,  1.41s/it]"
     ]
    },
    {
     "name": "stdout",
     "output_type": "stream",
     "text": [
      "Training metrics: 0.8128306145098753| Distance: 0.8246068857094829| Speed: 0.8133359559402046 | Activity: 0.7406569630212431\n"
     ]
    },
    {
     "name": "stderr",
     "output_type": "stream",
     "text": [
      "train:  88%|████████▊ | 1272/1451 [30:33<04:13,  1.42s/it]"
     ]
    },
    {
     "name": "stdout",
     "output_type": "stream",
     "text": [
      "Training metrics: 0.8129370937736621| Distance: 0.8246769959120784| Speed: 0.8134827044025157 | Activity: 0.7408608490566038\n"
     ]
    },
    {
     "name": "stderr",
     "output_type": "stream",
     "text": [
      "train:  88%|████████▊ | 1273/1451 [30:35<04:34,  1.54s/it]"
     ]
    },
    {
     "name": "stdout",
     "output_type": "stream",
     "text": [
      "Training metrics: 0.8130354609127883| Distance: 0.824733754571851| Speed: 0.8136292223095051 | Activity: 0.7410644147682639\n"
     ]
    },
    {
     "name": "stderr",
     "output_type": "stream",
     "text": [
      "train:  88%|████████▊ | 1274/1451 [30:37<04:23,  1.49s/it]"
     ]
    },
    {
     "name": "stdout",
     "output_type": "stream",
     "text": [
      "Training metrics: 0.8130720031913193| Distance: 0.8247366981498443| Speed: 0.8136773940345369 | Activity: 0.7412676609105181\n"
     ]
    },
    {
     "name": "stderr",
     "output_type": "stream",
     "text": [
      "train:  88%|████████▊ | 1275/1451 [30:38<04:17,  1.46s/it]"
     ]
    },
    {
     "name": "stdout",
     "output_type": "stream",
     "text": [
      "Training metrics: 0.8130576057751366| Distance: 0.8246548331546398| Speed: 0.8137254901960784 | Activity: 0.7414705882352941\n"
     ]
    },
    {
     "name": "stderr",
     "output_type": "stream",
     "text": [
      "train:  88%|████████▊ | 1276/1451 [30:39<04:14,  1.45s/it]"
     ]
    },
    {
     "name": "stdout",
     "output_type": "stream",
     "text": [
      "Training metrics: 0.812975592298413| Distance: 0.8246399631305841| Speed: 0.8134796238244514 | Activity: 0.7414772727272727\n"
     ]
    },
    {
     "name": "stderr",
     "output_type": "stream",
     "text": [
      "train:  88%|████████▊ | 1277/1451 [30:41<04:06,  1.42s/it]"
     ]
    },
    {
     "name": "stdout",
     "output_type": "stream",
     "text": [
      "Training metrics: 0.8130610384467787| Distance: 0.8246919160748323| Speed: 0.8136256851996868 | Activity: 0.7415818324197337\n"
     ]
    },
    {
     "name": "stderr",
     "output_type": "stream",
     "text": [
      "train:  88%|████████▊ | 1278/1451 [30:42<04:17,  1.49s/it]"
     ]
    },
    {
     "name": "stdout",
     "output_type": "stream",
     "text": [
      "Training metrics: 0.8131668462693388| Distance: 0.8247616451906821| Speed: 0.8137715179968701 | Activity: 0.7417840375586855\n"
     ]
    },
    {
     "name": "stderr",
     "output_type": "stream",
     "text": [
      "train:  88%|████████▊ | 1279/1451 [30:44<04:09,  1.45s/it]"
     ]
    },
    {
     "name": "stdout",
     "output_type": "stream",
     "text": [
      "Training metrics: 0.8132836833063305| Distance: 0.8248662118175618| Speed: 0.8139171227521501 | Activity: 0.7418881939014855\n"
     ]
    },
    {
     "name": "stderr",
     "output_type": "stream",
     "text": [
      "train:  88%|████████▊ | 1280/1451 [30:45<04:05,  1.43s/it]"
     ]
    },
    {
     "name": "stdout",
     "output_type": "stream",
     "text": [
      "Training metrics: 0.8133491572441859| Distance: 0.82496669436531| Speed: 0.81396484375 | Activity: 0.741796875\n"
     ]
    },
    {
     "name": "stderr",
     "output_type": "stream",
     "text": [
      "train:  88%|████████▊ | 1281/1451 [30:47<04:02,  1.43s/it]"
     ]
    },
    {
     "name": "stdout",
     "output_type": "stream",
     "text": [
      "Training metrics: 0.813381059074885| Distance: 0.8249299202119801| Speed: 0.8141100702576113 | Activity: 0.7419008587041374\n"
     ]
    },
    {
     "name": "stderr",
     "output_type": "stream",
     "text": [
      "train:  88%|████████▊ | 1282/1451 [30:48<04:00,  1.42s/it]"
     ]
    },
    {
     "name": "stdout",
     "output_type": "stream",
     "text": [
      "Training metrics: 0.8134491294377357| Distance: 0.8249373166135954| Speed: 0.8142550702028081 | Activity: 0.7421021840873635\n"
     ]
    },
    {
     "name": "stderr",
     "output_type": "stream",
     "text": [
      "train:  88%|████████▊ | 1283/1451 [30:49<03:55,  1.40s/it]"
     ]
    },
    {
     "name": "stdout",
     "output_type": "stream",
     "text": [
      "Training metrics: 0.8134809036177296| Distance: 0.8249493366349016| Speed: 0.8143024162120032 | Activity: 0.7422057677318784\n"
     ]
    },
    {
     "name": "stderr",
     "output_type": "stream",
     "text": [
      "train:  88%|████████▊ | 1284/1451 [30:51<03:55,  1.41s/it]"
     ]
    },
    {
     "name": "stdout",
     "output_type": "stream",
     "text": [
      "Training metrics: 0.8135153985081036| Distance: 0.8249172789257597| Speed: 0.8144470404984424 | Activity: 0.7423091900311527\n"
     ]
    },
    {
     "name": "stderr",
     "output_type": "stream",
     "text": [
      "train:  89%|████████▊ | 1285/1451 [30:52<04:01,  1.46s/it]"
     ]
    },
    {
     "name": "stdout",
     "output_type": "stream",
     "text": [
      "Training metrics: 0.8134345229635537| Distance: 0.8248227782207089| Speed: 0.8143968871595331 | Activity: 0.7422178988326849\n"
     ]
    },
    {
     "name": "stderr",
     "output_type": "stream",
     "text": [
      "train:  89%|████████▊ | 1286/1451 [30:54<04:21,  1.59s/it]"
     ]
    },
    {
     "name": "stdout",
     "output_type": "stream",
     "text": [
      "Training metrics: 0.8135166728142358| Distance: 0.8249189233269925| Speed: 0.8144440124416796 | Activity: 0.7423211508553654\n"
     ]
    },
    {
     "name": "stderr",
     "output_type": "stream",
     "text": [
      "train:  89%|████████▊ | 1287/1451 [30:56<04:23,  1.61s/it]"
     ]
    },
    {
     "name": "stdout",
     "output_type": "stream",
     "text": [
      "Training metrics: 0.8135667937292614| Distance: 0.8249131876839675| Speed: 0.8145881895881896 | Activity: 0.7424242424242424\n"
     ]
    },
    {
     "name": "stderr",
     "output_type": "stream",
     "text": [
      "train:  89%|████████▉ | 1288/1451 [30:58<04:23,  1.61s/it]"
     ]
    },
    {
     "name": "stdout",
     "output_type": "stream",
     "text": [
      "Training metrics: 0.8135844577758339| Distance: 0.8248373209307379| Speed: 0.8147321428571429 | Activity: 0.7426242236024845\n"
     ]
    },
    {
     "name": "stderr",
     "output_type": "stream",
     "text": [
      "train:  89%|████████▉ | 1289/1451 [30:59<04:11,  1.55s/it]"
     ]
    },
    {
     "name": "stdout",
     "output_type": "stream",
     "text": [
      "Training metrics: 0.8136280038113518| Distance: 0.8248047542188165| Speed: 0.8148758727695888 | Activity: 0.7428238944918542\n"
     ]
    },
    {
     "name": "stderr",
     "output_type": "stream",
     "text": [
      "train:  89%|████████▉ | 1290/1451 [31:00<04:00,  1.49s/it]"
     ]
    },
    {
     "name": "stdout",
     "output_type": "stream",
     "text": [
      "Training metrics: 0.8136663908349474| Distance: 0.824860651391579| Speed: 0.814922480620155 | Activity: 0.7427325581395349\n"
     ]
    },
    {
     "name": "stderr",
     "output_type": "stream",
     "text": [
      "train:  89%|████████▉ | 1291/1451 [31:02<04:10,  1.57s/it]"
     ]
    },
    {
     "name": "stdout",
     "output_type": "stream",
     "text": [
      "Training metrics: 0.813672915957276| Distance: 0.8248150458311948| Speed: 0.8150658404337723 | Activity: 0.7426413632842758\n"
     ]
    },
    {
     "name": "stderr",
     "output_type": "stream",
     "text": [
      "train:  89%|████████▉ | 1292/1451 [31:03<04:00,  1.51s/it]"
     ]
    },
    {
     "name": "stdout",
     "output_type": "stream",
     "text": [
      "Training metrics: 0.8136480756437958| Distance: 0.824765626588989| Speed: 0.815015479876161 | Activity: 0.7428405572755418\n"
     ]
    },
    {
     "name": "stderr",
     "output_type": "stream",
     "text": [
      "train:  89%|████████▉ | 1293/1451 [31:05<03:48,  1.45s/it]"
     ]
    },
    {
     "name": "stdout",
     "output_type": "stream",
     "text": [
      "Training metrics: 0.813687289486143| Distance: 0.824790751876235| Speed: 0.815061871616396 | Activity: 0.7429427687548337\n"
     ]
    },
    {
     "name": "stderr",
     "output_type": "stream",
     "text": [
      "train:  89%|████████▉ | 1294/1451 [31:06<03:43,  1.42s/it]"
     ]
    },
    {
     "name": "stdout",
     "output_type": "stream",
     "text": [
      "Training metrics: 0.8137209364766408| Distance: 0.82480666125808| Speed: 0.8151081916537867 | Activity: 0.7430448222565688\n"
     ]
    },
    {
     "name": "stderr",
     "output_type": "stream",
     "text": [
      "train:  89%|████████▉ | 1295/1451 [31:08<03:49,  1.47s/it]"
     ]
    },
    {
     "name": "stdout",
     "output_type": "stream",
     "text": [
      "Training metrics: 0.8136864641171536| Distance: 0.824757362975179| Speed: 0.815057915057915 | Activity: 0.7431467181467182\n"
     ]
    },
    {
     "name": "stderr",
     "output_type": "stream",
     "text": [
      "train:  89%|████████▉ | 1296/1451 [31:09<03:43,  1.44s/it]"
     ]
    },
    {
     "name": "stdout",
     "output_type": "stream",
     "text": [
      "Training metrics: 0.8137173152672962| Distance: 0.8248169246224486| Speed: 0.8150077160493827 | Activity: 0.7432484567901234\n"
     ]
    },
    {
     "name": "stderr",
     "output_type": "stream",
     "text": [
      "train:  89%|████████▉ | 1297/1451 [31:10<03:37,  1.41s/it]"
     ]
    },
    {
     "name": "stdout",
     "output_type": "stream",
     "text": [
      "Training metrics: 0.8137063268591982| Distance: 0.824806741115883| Speed: 0.8150539707016191 | Activity: 0.7430609097918273\n"
     ]
    },
    {
     "name": "stderr",
     "output_type": "stream",
     "text": [
      "train:  89%|████████▉ | 1298/1451 [31:12<03:31,  1.38s/it]"
     ]
    },
    {
     "name": "stdout",
     "output_type": "stream",
     "text": [
      "Training metrics: 0.8137760565013481| Distance: 0.8248187228283896| Speed: 0.8151964560862865 | Activity: 0.7432588597842835\n"
     ]
    },
    {
     "name": "stderr",
     "output_type": "stream",
     "text": [
      "train:  90%|████████▉ | 1299/1451 [31:13<03:38,  1.44s/it]"
     ]
    },
    {
     "name": "stdout",
     "output_type": "stream",
     "text": [
      "Training metrics: 0.8138873978046386| Distance: 0.8249002177934639| Speed: 0.8153387220939184 | Activity: 0.7434565050038491\n"
     ]
    },
    {
     "name": "stderr",
     "output_type": "stream",
     "text": [
      "train:  90%|████████▉ | 1300/1451 [31:15<03:37,  1.44s/it]"
     ]
    },
    {
     "name": "stdout",
     "output_type": "stream",
     "text": [
      "Training metrics: 0.8140013039216843| Distance: 0.8249861475617819| Speed: 0.8154807692307692 | Activity: 0.7436538461538461\n"
     ]
    },
    {
     "name": "stderr",
     "output_type": "stream",
     "text": [
      "train:  90%|████████▉ | 1301/1451 [31:16<03:38,  1.45s/it]"
     ]
    },
    {
     "name": "stdout",
     "output_type": "stream",
     "text": [
      "Training metrics: 0.8140216889997248| Distance: 0.8250284619377942| Speed: 0.8154304381245197 | Activity: 0.7437548039969254\n"
     ]
    },
    {
     "name": "stderr",
     "output_type": "stream",
     "text": [
      "train:  90%|████████▉ | 1302/1451 [31:18<03:31,  1.42s/it]"
     ]
    },
    {
     "name": "stdout",
     "output_type": "stream",
     "text": [
      "Training metrics: 0.814112467500922| Distance: 0.8251400828036363| Speed: 0.8154761904761905 | Activity: 0.7438556067588326\n"
     ]
    },
    {
     "name": "stderr",
     "output_type": "stream",
     "text": [
      "train:  90%|████████▉ | 1303/1451 [31:19<03:38,  1.48s/it]"
     ]
    },
    {
     "name": "stdout",
     "output_type": "stream",
     "text": [
      "Training metrics: 0.8142154383130308| Distance: 0.8252081301124063| Speed: 0.8156178050652341 | Activity: 0.7440521872601689\n"
     ]
    },
    {
     "name": "stderr",
     "output_type": "stream",
     "text": [
      "train:  90%|████████▉ | 1304/1451 [31:21<03:40,  1.50s/it]"
     ]
    },
    {
     "name": "stdout",
     "output_type": "stream",
     "text": [
      "Training metrics: 0.8141712387674997| Distance: 0.8251109347556493| Speed: 0.8156633435582822 | Activity: 0.7440567484662577\n"
     ]
    },
    {
     "name": "stderr",
     "output_type": "stream",
     "text": [
      "train:  90%|████████▉ | 1305/1451 [31:22<03:30,  1.44s/it]"
     ]
    },
    {
     "name": "stdout",
     "output_type": "stream",
     "text": [
      "Training metrics: 0.8141617898306412| Distance: 0.8251355501008772| Speed: 0.8156130268199234 | Activity: 0.7439655172413793\n"
     ]
    },
    {
     "name": "stderr",
     "output_type": "stream",
     "text": [
      "train:  90%|█████████ | 1306/1451 [31:23<03:30,  1.45s/it]"
     ]
    },
    {
     "name": "stdout",
     "output_type": "stream",
     "text": [
      "Training metrics: 0.8141993064248607| Distance: 0.8251426674207101| Speed: 0.8156584992343032 | Activity: 0.7441615620214395\n"
     ]
    },
    {
     "name": "stderr",
     "output_type": "stream",
     "text": [
      "train:  90%|█████████ | 1307/1451 [31:25<03:31,  1.47s/it]"
     ]
    },
    {
     "name": "stdout",
     "output_type": "stream",
     "text": [
      "Training metrics: 0.8142317317687903| Distance: 0.825141384113503| Speed: 0.8157039020657996 | Activity: 0.7443573068094874\n"
     ]
    },
    {
     "name": "stderr",
     "output_type": "stream",
     "text": [
      "train:  90%|█████████ | 1308/1451 [31:27<03:35,  1.51s/it]"
     ]
    },
    {
     "name": "stdout",
     "output_type": "stream",
     "text": [
      "Training metrics: 0.8142882421147237| Distance: 0.8251484718221951| Speed: 0.8158448012232415 | Activity: 0.7444571865443425\n"
     ]
    },
    {
     "name": "stderr",
     "output_type": "stream",
     "text": [
      "train:  90%|█████████ | 1309/1451 [31:28<03:26,  1.45s/it]"
     ]
    },
    {
     "name": "stdout",
     "output_type": "stream",
     "text": [
      "Training metrics: 0.8142914851560973| Distance: 0.8250509983057442| Speed: 0.8159854851031322 | Activity: 0.7446524064171123\n"
     ]
    },
    {
     "name": "stderr",
     "output_type": "stream",
     "text": [
      "train:  90%|█████████ | 1310/1451 [31:29<03:26,  1.47s/it]"
     ]
    },
    {
     "name": "stdout",
     "output_type": "stream",
     "text": [
      "Training metrics: 0.8141570324665748| Distance: 0.8249627385893296| Speed: 0.8158396946564885 | Activity: 0.7442748091603053\n"
     ]
    },
    {
     "name": "stderr",
     "output_type": "stream",
     "text": [
      "train:  90%|█████████ | 1311/1451 [31:31<03:20,  1.43s/it]"
     ]
    },
    {
     "name": "stdout",
     "output_type": "stream",
     "text": [
      "Training metrics: 0.81405228200591| Distance: 0.8247966459569643| Speed: 0.8157894736842105 | Activity: 0.7443745232646835\n"
     ]
    },
    {
     "name": "stderr",
     "output_type": "stream",
     "text": [
      "train:  90%|█████████ | 1312/1451 [31:32<03:20,  1.44s/it]"
     ]
    },
    {
     "name": "stdout",
     "output_type": "stream",
     "text": [
      "Training metrics: 0.8140456852335389| Distance: 0.824730613600614| Speed: 0.8158346036585366 | Activity: 0.7445693597560976\n"
     ]
    },
    {
     "name": "stderr",
     "output_type": "stream",
     "text": [
      "train:  90%|█████████ | 1313/1451 [31:34<03:18,  1.44s/it]"
     ]
    },
    {
     "name": "stdout",
     "output_type": "stream",
     "text": [
      "Training metrics: 0.8140572301836565| Distance: 0.8246473003695624| Speed: 0.815974866717441 | Activity: 0.7447638994668697\n"
     ]
    },
    {
     "name": "stderr",
     "output_type": "stream",
     "text": [
      "train:  91%|█████████ | 1314/1451 [31:35<03:14,  1.42s/it]"
     ]
    },
    {
     "name": "stdout",
     "output_type": "stream",
     "text": [
      "Training metrics: 0.8141023033994063| Distance: 0.824620023676839| Speed: 0.8161149162861492 | Activity: 0.7449581430745814\n"
     ]
    },
    {
     "name": "stderr",
     "output_type": "stream",
     "text": [
      "train:  91%|█████████ | 1315/1451 [31:36<03:12,  1.41s/it]"
     ]
    },
    {
     "name": "stdout",
     "output_type": "stream",
     "text": [
      "Training metrics: 0.8141581962611418| Distance: 0.824626778305959| Speed: 0.816254752851711 | Activity: 0.7450570342205323\n"
     ]
    },
    {
     "name": "stderr",
     "output_type": "stream",
     "text": [
      "train:  91%|█████████ | 1316/1451 [31:38<03:11,  1.42s/it]"
     ]
    },
    {
     "name": "stdout",
     "output_type": "stream",
     "text": [
      "Training metrics: 0.8142144189571817| Distance: 0.8246342139661236| Speed: 0.8163943768996961 | Activity: 0.7451557750759878\n"
     ]
    },
    {
     "name": "stderr",
     "output_type": "stream",
     "text": [
      "train:  91%|█████████ | 1317/1451 [31:39<03:16,  1.47s/it]"
     ]
    },
    {
     "name": "stdout",
     "output_type": "stream",
     "text": [
      "Training metrics: 0.814208215587362| Distance: 0.8246801062117896| Speed: 0.8162490508731967 | Activity: 0.7452543659832954\n"
     ]
    },
    {
     "name": "stderr",
     "output_type": "stream",
     "text": [
      "train:  91%|█████████ | 1318/1451 [31:41<03:16,  1.48s/it]"
     ]
    },
    {
     "name": "stdout",
     "output_type": "stream",
     "text": [
      "Training metrics: 0.8142607195280969| Distance: 0.8246656908675162| Speed: 0.8163884673748103 | Activity: 0.7454476479514416\n"
     ]
    },
    {
     "name": "stderr",
     "output_type": "stream",
     "text": [
      "train:  91%|█████████ | 1319/1451 [31:42<03:12,  1.46s/it]"
     ]
    },
    {
     "name": "stdout",
     "output_type": "stream",
     "text": [
      "Training metrics: 0.8143158405519301| Distance: 0.8246557918726256| Speed: 0.8165276724791509 | Activity: 0.7456406368460955\n"
     ]
    },
    {
     "name": "stderr",
     "output_type": "stream",
     "text": [
      "train:  91%|█████████ | 1320/1451 [31:44<03:14,  1.48s/it]"
     ]
    },
    {
     "name": "stdout",
     "output_type": "stream",
     "text": [
      "Training metrics: 0.8143614168451453| Distance: 0.8246932704994847| Speed: 0.8165719696969697 | Activity: 0.7457386363636364\n"
     ]
    },
    {
     "name": "stderr",
     "output_type": "stream",
     "text": [
      "train:  91%|█████████ | 1321/1451 [31:45<03:09,  1.46s/it]"
     ]
    },
    {
     "name": "stdout",
     "output_type": "stream",
     "text": [
      "Training metrics: 0.8143879906022375| Distance: 0.8246833656138733| Speed: 0.8166161998485996 | Activity: 0.7459311127933383\n"
     ]
    },
    {
     "name": "stderr",
     "output_type": "stream",
     "text": [
      "train:  91%|█████████ | 1322/1451 [31:47<03:03,  1.42s/it]"
     ]
    },
    {
     "name": "stdout",
     "output_type": "stream",
     "text": [
      "Training metrics: 0.8144068653265679| Distance: 0.8246607109956163| Speed: 0.816660363086233 | Activity: 0.7461232980332829\n"
     ]
    },
    {
     "name": "stderr",
     "output_type": "stream",
     "text": [
      "train:  91%|█████████ | 1323/1451 [31:48<02:59,  1.41s/it]"
     ]
    },
    {
     "name": "stdout",
     "output_type": "stream",
     "text": [
      "Training metrics: 0.814400948747289| Distance: 0.8246125663802768| Speed: 0.8167044595616024 | Activity: 0.7462207105064248\n"
     ]
    },
    {
     "name": "stderr",
     "output_type": "stream",
     "text": [
      "train:  91%|█████████ | 1324/1451 [31:49<02:59,  1.42s/it]"
     ]
    },
    {
     "name": "stdout",
     "output_type": "stream",
     "text": [
      "Training metrics: 0.8144058637478393| Distance: 0.8246454728123608| Speed: 0.816654078549849 | Activity: 0.7462235649546828\n"
     ]
    },
    {
     "name": "stderr",
     "output_type": "stream",
     "text": [
      "train:  91%|█████████▏| 1325/1451 [31:51<02:58,  1.42s/it]"
     ]
    },
    {
     "name": "stdout",
     "output_type": "stream",
     "text": [
      "Training metrics: 0.8144125638021268| Distance: 0.8245712541356203| Speed: 0.8167924528301886 | Activity: 0.7463207547169811\n"
     ]
    },
    {
     "name": "stderr",
     "output_type": "stream",
     "text": [
      "train:  91%|█████████▏| 1326/1451 [31:52<02:55,  1.40s/it]"
     ]
    },
    {
     "name": "stdout",
     "output_type": "stream",
     "text": [
      "Training metrics: 0.814406656311281| Distance: 0.8245704201467555| Speed: 0.8167420814479638 | Activity: 0.7464177978883861\n"
     ]
    },
    {
     "name": "stderr",
     "output_type": "stream",
     "text": [
      "train:  91%|█████████▏| 1327/1451 [31:54<02:55,  1.42s/it]"
     ]
    },
    {
     "name": "stdout",
     "output_type": "stream",
     "text": [
      "Training metrics: 0.8144810736478071| Distance: 0.8246249494230599| Speed: 0.8168801808590807 | Activity: 0.7464204973624717\n"
     ]
    },
    {
     "name": "stderr",
     "output_type": "stream",
     "text": [
      "train:  92%|█████████▏| 1328/1451 [31:55<02:53,  1.41s/it]"
     ]
    },
    {
     "name": "stdout",
     "output_type": "stream",
     "text": [
      "Training metrics: 0.8145285099197475| Distance: 0.824713053681507| Speed: 0.8169239457831325 | Activity: 0.7462349397590361\n"
     ]
    },
    {
     "name": "stderr",
     "output_type": "stream",
     "text": [
      "train:  92%|█████████▏| 1329/1451 [31:57<02:53,  1.42s/it]"
     ]
    },
    {
     "name": "stdout",
     "output_type": "stream",
     "text": [
      "Training metrics: 0.8146291447791357| Distance: 0.8248271048551187| Speed: 0.8169676448457487 | Activity: 0.746425884123401\n"
     ]
    },
    {
     "name": "stderr",
     "output_type": "stream",
     "text": [
      "train:  92%|█████████▏| 1330/1451 [31:58<02:56,  1.46s/it]"
     ]
    },
    {
     "name": "stdout",
     "output_type": "stream",
     "text": [
      "Training metrics: 0.8147126170494143| Distance: 0.8248813041049138| Speed: 0.8171052631578948 | Activity: 0.7465225563909774\n"
     ]
    },
    {
     "name": "stderr",
     "output_type": "stream",
     "text": [
      "train:  92%|█████████▏| 1331/1451 [32:00<02:55,  1.46s/it]"
     ]
    },
    {
     "name": "stdout",
     "output_type": "stream",
     "text": [
      "Training metrics: 0.8148053553267999| Distance: 0.824982379088368| Speed: 0.8171487603305785 | Activity: 0.7467129977460556\n"
     ]
    },
    {
     "name": "stderr",
     "output_type": "stream",
     "text": [
      "train:  92%|█████████▏| 1332/1451 [32:01<02:53,  1.46s/it]"
     ]
    },
    {
     "name": "stdout",
     "output_type": "stream",
     "text": [
      "Training metrics: 0.8148604168199851| Distance: 0.8249894584637392| Speed: 0.817286036036036 | Activity: 0.7468093093093093\n"
     ]
    },
    {
     "name": "stderr",
     "output_type": "stream",
     "text": [
      "train:  92%|█████████▏| 1333/1451 [32:02<02:51,  1.45s/it]"
     ]
    },
    {
     "name": "stdout",
     "output_type": "stream",
     "text": [
      "Training metrics: 0.8149256681023158| Distance: 0.8250605346091363| Speed: 0.8173293323330832 | Activity: 0.7469054763690923\n"
     ]
    },
    {
     "name": "stderr",
     "output_type": "stream",
     "text": [
      "train:  92%|█████████▏| 1334/1451 [32:04<02:55,  1.50s/it]"
     ]
    },
    {
     "name": "stdout",
     "output_type": "stream",
     "text": [
      "Training metrics: 0.8149038139568469| Distance: 0.8249864915272788| Speed: 0.8173725637181409 | Activity: 0.7470014992503748\n"
     ]
    },
    {
     "name": "stderr",
     "output_type": "stream",
     "text": [
      "train:  92%|█████████▏| 1335/1451 [32:06<02:53,  1.50s/it]"
     ]
    },
    {
     "name": "stdout",
     "output_type": "stream",
     "text": [
      "Training metrics: 0.8149381807146909| Distance: 0.8250062063097536| Speed: 0.8174157303370787 | Activity: 0.7470973782771536\n"
     ]
    },
    {
     "name": "stderr",
     "output_type": "stream",
     "text": [
      "train:  92%|█████████▏| 1336/1451 [32:07<02:47,  1.46s/it]"
     ]
    },
    {
     "name": "stdout",
     "output_type": "stream",
     "text": [
      "Training metrics: 0.814943534115175| Distance: 0.8249152464793835| Speed: 0.8175523952095808 | Activity: 0.7472866766467066\n"
     ]
    },
    {
     "name": "stderr",
     "output_type": "stream",
     "text": [
      "train:  92%|█████████▏| 1337/1451 [32:08<02:45,  1.45s/it]"
     ]
    },
    {
     "name": "stdout",
     "output_type": "stream",
     "text": [
      "Training metrics: 0.8149488795075803| Distance: 0.8249179156091186| Speed: 0.8175018698578908 | Activity: 0.7474756918474196\n"
     ]
    },
    {
     "name": "stderr",
     "output_type": "stream",
     "text": [
      "train:  92%|█████████▏| 1338/1451 [32:10<02:47,  1.48s/it]"
     ]
    },
    {
     "name": "stdout",
     "output_type": "stream",
     "text": [
      "Training metrics: 0.8149866772736079| Distance: 0.8249591108521269| Speed: 0.8175448430493274 | Activity: 0.7474775784753364\n"
     ]
    },
    {
     "name": "stderr",
     "output_type": "stream",
     "text": [
      "train:  92%|█████████▏| 1339/1451 [32:11<02:41,  1.44s/it]"
     ]
    },
    {
     "name": "stdout",
     "output_type": "stream",
     "text": [
      "Training metrics: 0.814997778686389| Distance: 0.8250336391101257| Speed: 0.8174010455563854 | Activity: 0.7475728155339806\n"
     ]
    },
    {
     "name": "stderr",
     "output_type": "stream",
     "text": [
      "train:  92%|█████████▏| 1340/1451 [32:13<02:38,  1.42s/it]"
     ]
    },
    {
     "name": "stdout",
     "output_type": "stream",
     "text": [
      "Training metrics: 0.8150701425455514| Distance: 0.8251169042425859| Speed: 0.8174440298507463 | Activity: 0.7476679104477612\n"
     ]
    },
    {
     "name": "stderr",
     "output_type": "stream",
     "text": [
      "train:  92%|█████████▏| 1341/1451 [32:14<02:46,  1.51s/it]"
     ]
    },
    {
     "name": "stdout",
     "output_type": "stream",
     "text": [
      "Training metrics: 0.8150989182461663| Distance: 0.8251741851455494| Speed: 0.8173937360178971 | Activity: 0.7477628635346756\n"
     ]
    },
    {
     "name": "stderr",
     "output_type": "stream",
     "text": [
      "train:  92%|█████████▏| 1342/1451 [32:16<02:40,  1.47s/it]"
     ]
    },
    {
     "name": "stdout",
     "output_type": "stream",
     "text": [
      "Training metrics: 0.8151271770928177| Distance: 0.8251684943598628| Speed: 0.8174366616989568 | Activity: 0.7479508196721312\n"
     ]
    },
    {
     "name": "stderr",
     "output_type": "stream",
     "text": [
      "train:  93%|█████████▎| 1343/1451 [32:17<02:36,  1.45s/it]"
     ]
    },
    {
     "name": "stdout",
     "output_type": "stream",
     "text": [
      "Training metrics: 0.8152219085089716| Distance: 0.8252426447351068| Speed: 0.8175725986597171 | Activity: 0.7480454206999255\n"
     ]
    },
    {
     "name": "stderr",
     "output_type": "stream",
     "text": [
      "train:  93%|█████████▎| 1344/1451 [32:19<02:33,  1.43s/it]"
     ]
    },
    {
     "name": "stdout",
     "output_type": "stream",
     "text": [
      "Training metrics: 0.815254041322191| Distance: 0.8252745926798423| Speed: 0.8176153273809523 | Activity: 0.748046875\n"
     ]
    },
    {
     "name": "stderr",
     "output_type": "stream",
     "text": [
      "train:  93%|█████████▎| 1345/1451 [32:20<02:30,  1.42s/it]"
     ]
    },
    {
     "name": "stdout",
     "output_type": "stream",
     "text": [
      "Training metrics: 0.8152803643114542| Distance: 0.8252814002464761| Speed: 0.8176579925650558 | Activity: 0.7481412639405205\n"
     ]
    },
    {
     "name": "stderr",
     "output_type": "stream",
     "text": [
      "train:  93%|█████████▎| 1346/1451 [32:21<02:34,  1.48s/it]"
     ]
    },
    {
     "name": "stdout",
     "output_type": "stream",
     "text": [
      "Training metrics: 0.8152385172778972| Distance: 0.825128212303182| Speed: 0.8177934621099554 | Activity: 0.7482355126300149\n"
     ]
    },
    {
     "name": "stderr",
     "output_type": "stream",
     "text": [
      "train:  93%|█████████▎| 1347/1451 [32:23<02:33,  1.47s/it]"
     ]
    },
    {
     "name": "stdout",
     "output_type": "stream",
     "text": [
      "Training metrics: 0.8152157643502679| Distance: 0.8250379047015728| Speed: 0.8178359317000743 | Activity: 0.7484224201930215\n"
     ]
    },
    {
     "name": "stderr",
     "output_type": "stream",
     "text": [
      "train:  93%|█████████▎| 1348/1451 [32:24<02:30,  1.46s/it]"
     ]
    },
    {
     "name": "stdout",
     "output_type": "stream",
     "text": [
      "Training metrics: 0.8152362996264586| Distance: 0.8249734568452848| Speed: 0.8179710682492581 | Activity: 0.7486090504451038\n"
     ]
    },
    {
     "name": "stderr",
     "output_type": "stream",
     "text": [
      "train:  93%|█████████▎| 1349/1451 [32:26<02:32,  1.50s/it]"
     ]
    },
    {
     "name": "stdout",
     "output_type": "stream",
     "text": [
      "Training metrics: 0.815299613907128| Distance: 0.8249804536208499| Speed: 0.8181060044477391 | Activity: 0.7487954040029652\n"
     ]
    },
    {
     "name": "stderr",
     "output_type": "stream",
     "text": [
      "train:  93%|█████████▎| 1350/1451 [32:27<02:30,  1.49s/it]"
     ]
    },
    {
     "name": "stdout",
     "output_type": "stream",
     "text": [
      "Training metrics: 0.8153072788333076| Distance: 0.8248948474382288| Speed: 0.8182407407407407 | Activity: 0.7489814814814815\n"
     ]
    },
    {
     "name": "stderr",
     "output_type": "stream",
     "text": [
      "train:  93%|█████████▎| 1351/1451 [32:29<02:25,  1.46s/it]"
     ]
    },
    {
     "name": "stdout",
     "output_type": "stream",
     "text": [
      "Training metrics: 0.8153889599458525| Distance: 0.8249481678840944| Speed: 0.8183752775721688 | Activity: 0.7490747594374537\n"
     ]
    },
    {
     "name": "stderr",
     "output_type": "stream",
     "text": [
      "train:  93%|█████████▎| 1352/1451 [32:30<02:24,  1.46s/it]"
     ]
    },
    {
     "name": "stdout",
     "output_type": "stream",
     "text": [
      "Training metrics: 0.8155101250677401| Distance: 0.8250520082489952| Speed: 0.8185096153846154 | Activity: 0.7492603550295858\n"
     ]
    },
    {
     "name": "stderr",
     "output_type": "stream",
     "text": [
      "train:  93%|█████████▎| 1353/1451 [32:32<02:25,  1.48s/it]"
     ]
    },
    {
     "name": "stdout",
     "output_type": "stream",
     "text": [
      "Training metrics: 0.8155251007609988| Distance: 0.8250713985336677| Speed: 0.8185513673318552 | Activity: 0.7491685144124168\n"
     ]
    },
    {
     "name": "stderr",
     "output_type": "stream",
     "text": [
      "train:  93%|█████████▎| 1354/1451 [32:33<02:21,  1.46s/it]"
     ]
    },
    {
     "name": "stdout",
     "output_type": "stream",
     "text": [
      "Training metrics: 0.8155633772515648| Distance: 0.8251450182159268| Speed: 0.8185007385524372 | Activity: 0.7492614475627769\n"
     ]
    },
    {
     "name": "stderr",
     "output_type": "stream",
     "text": [
      "train:  93%|█████████▎| 1355/1451 [32:35<02:17,  1.44s/it]"
     ]
    },
    {
     "name": "stdout",
     "output_type": "stream",
     "text": [
      "Training metrics: 0.8155273188216654| Distance: 0.825110107015199| Speed: 0.818450184501845 | Activity: 0.7492619926199262\n"
     ]
    },
    {
     "name": "stderr",
     "output_type": "stream",
     "text": [
      "train:  93%|█████████▎| 1356/1451 [32:36<02:14,  1.42s/it]"
     ]
    },
    {
     "name": "stdout",
     "output_type": "stream",
     "text": [
      "Training metrics: 0.8156278446751649| Distance: 0.8251798886179005| Speed: 0.8185840707964602 | Activity: 0.7494469026548672\n"
     ]
    },
    {
     "name": "stderr",
     "output_type": "stream",
     "text": [
      "train:  94%|█████████▎| 1357/1451 [32:37<02:10,  1.39s/it]"
     ]
    },
    {
     "name": "stdout",
     "output_type": "stream",
     "text": [
      "Training metrics: 0.8156119650777187| Distance: 0.8251786251663775| Speed: 0.8185335298452469 | Activity: 0.7494473102431835\n"
     ]
    },
    {
     "name": "stderr",
     "output_type": "stream",
     "text": [
      "train:  94%|█████████▎| 1358/1451 [32:39<02:10,  1.40s/it]"
     ]
    },
    {
     "name": "stdout",
     "output_type": "stream",
     "text": [
      "Training metrics: 0.815621103756198| Distance: 0.8251729981601827| Speed: 0.8185751104565537 | Activity: 0.7494477172312224\n"
     ]
    },
    {
     "name": "stderr",
     "output_type": "stream",
     "text": [
      "train:  94%|█████████▎| 1359/1451 [32:40<02:17,  1.50s/it]"
     ]
    },
    {
     "name": "stdout",
     "output_type": "stream",
     "text": [
      "Training metrics: 0.8155974005227318| Distance: 0.8250666756320736| Speed: 0.8187086092715232 | Activity: 0.7494481236203091\n"
     ]
    },
    {
     "name": "stderr",
     "output_type": "stream",
     "text": [
      "train:  94%|█████████▎| 1360/1451 [32:42<02:18,  1.53s/it]"
     ]
    },
    {
     "name": "stdout",
     "output_type": "stream",
     "text": [
      "Training metrics: 0.8156673820209113| Distance: 0.8251319112113228| Speed: 0.81875 | Activity: 0.7496323529411765\n"
     ]
    },
    {
     "name": "stderr",
     "output_type": "stream",
     "text": [
      "train:  94%|█████████▍| 1361/1451 [32:43<02:11,  1.46s/it]"
     ]
    },
    {
     "name": "stdout",
     "output_type": "stream",
     "text": [
      "Training metrics: 0.8157022680475304| Distance: 0.8251387298710373| Speed: 0.8188831741366642 | Activity: 0.7495407788390889\n"
     ]
    },
    {
     "name": "stderr",
     "output_type": "stream",
     "text": [
      "train:  94%|█████████▍| 1362/1451 [32:45<02:11,  1.47s/it]"
     ]
    },
    {
     "name": "stdout",
     "output_type": "stream",
     "text": [
      "Training metrics: 0.8158144788516606| Distance: 0.8252286101272174| Speed: 0.8190161527165932 | Activity: 0.7497246696035242\n"
     ]
    },
    {
     "name": "stderr",
     "output_type": "stream",
     "text": [
      "train:  94%|█████████▍| 1363/1451 [32:46<02:09,  1.47s/it]"
     ]
    },
    {
     "name": "stdout",
     "output_type": "stream",
     "text": [
      "Training metrics: 0.8159142695337468| Distance: 0.8252979327152079| Speed: 0.8191489361702128 | Activity: 0.7499082905355833\n"
     ]
    },
    {
     "name": "stderr",
     "output_type": "stream",
     "text": [
      "train:  94%|█████████▍| 1364/1451 [32:48<02:05,  1.44s/it]"
     ]
    },
    {
     "name": "stdout",
     "output_type": "stream",
     "text": [
      "Training metrics: 0.8160274270672456| Distance: 0.8254049493153999| Speed: 0.8192815249266863 | Activity: 0.75\n"
     ]
    },
    {
     "name": "stderr",
     "output_type": "stream",
     "text": [
      "train:  94%|█████████▍| 1365/1451 [32:49<02:03,  1.43s/it]"
     ]
    },
    {
     "name": "stdout",
     "output_type": "stream",
     "text": [
      "Training metrics: 0.8161352071677455| Distance: 0.8255031230573537| Speed: 0.8194139194139194 | Activity: 0.7500915750915751\n"
     ]
    },
    {
     "name": "stderr",
     "output_type": "stream",
     "text": [
      "train:  94%|█████████▍| 1366/1451 [32:50<01:59,  1.41s/it]"
     ]
    },
    {
     "name": "stdout",
     "output_type": "stream",
     "text": [
      "Training metrics: 0.8161543991602929| Distance: 0.8255300259308934| Speed: 0.8194546120058566 | Activity: 0.75\n"
     ]
    },
    {
     "name": "stderr",
     "output_type": "stream",
     "text": [
      "train:  94%|█████████▍| 1367/1451 [32:52<01:56,  1.39s/it]"
     ]
    },
    {
     "name": "stdout",
     "output_type": "stream",
     "text": [
      "Training metrics: 0.8162558600745776| Distance: 0.8256026099999364| Speed: 0.8195866861741039 | Activity: 0.7501828822238479\n"
     ]
    },
    {
     "name": "stderr",
     "output_type": "stream",
     "text": [
      "train:  94%|█████████▍| 1368/1451 [32:53<01:56,  1.40s/it]"
     ]
    },
    {
     "name": "stdout",
     "output_type": "stream",
     "text": [
      "Training metrics: 0.8162509876065124| Distance: 0.8256047161862926| Speed: 0.8196271929824561 | Activity: 0.75\n"
     ]
    },
    {
     "name": "stderr",
     "output_type": "stream",
     "text": [
      "train:  94%|█████████▍| 1369/1451 [32:55<01:53,  1.39s/it]"
     ]
    },
    {
     "name": "stdout",
     "output_type": "stream",
     "text": [
      "Training metrics: 0.8163069665191617| Distance: 0.8256321367966062| Speed: 0.8197589481373265 | Activity: 0.75\n"
     ]
    },
    {
     "name": "stderr",
     "output_type": "stream",
     "text": [
      "train:  94%|█████████▍| 1370/1451 [32:56<01:55,  1.43s/it]"
     ]
    },
    {
     "name": "stdout",
     "output_type": "stream",
     "text": [
      "Training metrics: 0.8163959010430524| Distance: 0.8256841659719973| Speed: 0.8198905109489051 | Activity: 0.7501824817518248\n"
     ]
    },
    {
     "name": "stderr",
     "output_type": "stream",
     "text": [
      "train:  94%|█████████▍| 1371/1451 [32:58<01:54,  1.43s/it]"
     ]
    },
    {
     "name": "stdout",
     "output_type": "stream",
     "text": [
      "Training metrics: 0.8164065775435847| Distance: 0.8257730583664659| Speed: 0.8197483588621444 | Activity: 0.75018234865062\n"
     ]
    },
    {
     "name": "stderr",
     "output_type": "stream",
     "text": [
      "train:  95%|█████████▍| 1372/1451 [32:59<01:56,  1.48s/it]"
     ]
    },
    {
     "name": "stdout",
     "output_type": "stream",
     "text": [
      "Training metrics: 0.8162479853483741| Distance: 0.8256556558527325| Speed: 0.8195153061224489 | Activity: 0.75\n"
     ]
    },
    {
     "name": "stderr",
     "output_type": "stream",
     "text": [
      "train:  95%|█████████▍| 1373/1451 [33:00<01:52,  1.44s/it]"
     ]
    },
    {
     "name": "stdout",
     "output_type": "stream",
     "text": [
      "Training metrics: 0.8162557001268289| Distance: 0.8256331345886577| Speed: 0.8195557174071376 | Activity: 0.7500910415149308\n"
     ]
    },
    {
     "name": "stderr",
     "output_type": "stream",
     "text": [
      "train:  95%|█████████▍| 1374/1451 [33:02<01:50,  1.44s/it]"
     ]
    },
    {
     "name": "stdout",
     "output_type": "stream",
     "text": [
      "Training metrics: 0.8163253578050219| Distance: 0.8257139029889622| Speed: 0.8195960698689956 | Activity: 0.7501819505094615\n"
     ]
    },
    {
     "name": "stderr",
     "output_type": "stream",
     "text": [
      "train:  95%|█████████▍| 1375/1451 [33:03<01:47,  1.42s/it]"
     ]
    },
    {
     "name": "stdout",
     "output_type": "stream",
     "text": [
      "Training metrics: 0.8163542363689987| Distance: 0.8256661515240888| Speed: 0.8197272727272727 | Activity: 0.7503636363636363\n"
     ]
    },
    {
     "name": "stderr",
     "output_type": "stream",
     "text": [
      "train:  95%|█████████▍| 1376/1451 [33:05<01:44,  1.39s/it]"
     ]
    },
    {
     "name": "stdout",
     "output_type": "stream",
     "text": [
      "Training metrics: 0.8163847989948029| Distance: 0.8256516272006409| Speed: 0.8198582848837209 | Activity: 0.7503633720930233\n"
     ]
    },
    {
     "name": "stderr",
     "output_type": "stream",
     "text": [
      "train:  95%|█████████▍| 1377/1451 [33:06<01:41,  1.37s/it]"
     ]
    },
    {
     "name": "stdout",
     "output_type": "stream",
     "text": [
      "Training metrics: 0.816376819704796| Distance: 0.8256788679902013| Speed: 0.8198075526506899 | Activity: 0.7502723311546841\n"
     ]
    },
    {
     "name": "stderr",
     "output_type": "stream",
     "text": [
      "train:  95%|█████████▍| 1378/1451 [33:07<01:42,  1.40s/it]"
     ]
    },
    {
     "name": "stdout",
     "output_type": "stream",
     "text": [
      "Training metrics: 0.8164289027559897| Distance: 0.8257305611970899| Speed: 0.8198476052249637 | Activity: 0.7503628447024674\n"
     ]
    },
    {
     "name": "stderr",
     "output_type": "stream",
     "text": [
      "train:  95%|█████████▌| 1379/1451 [33:09<01:40,  1.39s/it]"
     ]
    },
    {
     "name": "stdout",
     "output_type": "stream",
     "text": [
      "Training metrics: 0.8164537166511989| Distance: 0.8257368567343527| Speed: 0.8198875997099347 | Activity: 0.7504532269760696\n"
     ]
    },
    {
     "name": "stderr",
     "output_type": "stream",
     "text": [
      "train:  95%|█████████▌| 1380/1451 [33:10<01:43,  1.46s/it]"
     ]
    },
    {
     "name": "stdout",
     "output_type": "stream",
     "text": [
      "Training metrics: 0.8165475243996225| Distance: 0.8258129029848783| Speed: 0.820018115942029 | Activity: 0.7505434782608695\n"
     ]
    },
    {
     "name": "stderr",
     "output_type": "stream",
     "text": [
      "train:  95%|█████████▌| 1381/1451 [33:12<01:47,  1.53s/it]"
     ]
    },
    {
     "name": "stdout",
     "output_type": "stream",
     "text": [
      "Training metrics: 0.8164692194648479| Distance: 0.8257078108628471| Speed: 0.819967414916727 | Activity: 0.7505430847212166\n"
     ]
    },
    {
     "name": "stderr",
     "output_type": "stream",
     "text": [
      "train:  95%|█████████▌| 1382/1451 [33:14<01:43,  1.50s/it]"
     ]
    },
    {
     "name": "stdout",
     "output_type": "stream",
     "text": [
      "Training metrics: 0.8165258374663628| Distance: 0.8257220301236293| Speed: 0.8200976845151954 | Activity: 0.7506331403762663\n"
     ]
    },
    {
     "name": "stderr",
     "output_type": "stream",
     "text": [
      "train:  95%|█████████▌| 1383/1451 [33:15<01:38,  1.45s/it]"
     ]
    },
    {
     "name": "stdout",
     "output_type": "stream",
     "text": [
      "Training metrics: 0.8165436483988311| Distance: 0.8257771339305657| Speed: 0.8200469992769343 | Activity: 0.7506326825741142\n"
     ]
    },
    {
     "name": "stderr",
     "output_type": "stream",
     "text": [
      "train:  95%|█████████▌| 1384/1451 [33:16<01:34,  1.41s/it]"
     ]
    },
    {
     "name": "stdout",
     "output_type": "stream",
     "text": [
      "Training metrics: 0.8165700057991587| Distance: 0.8258163391450336| Speed: 0.8200867052023122 | Activity: 0.7505419075144508\n"
     ]
    },
    {
     "name": "stderr",
     "output_type": "stream",
     "text": [
      "train:  95%|█████████▌| 1385/1451 [33:18<01:31,  1.39s/it]"
     ]
    },
    {
     "name": "stdout",
     "output_type": "stream",
     "text": [
      "Training metrics: 0.8166070571444469| Distance: 0.8258432901865936| Speed: 0.8201263537906137 | Activity: 0.7506317689530686\n"
     ]
    },
    {
     "name": "stderr",
     "output_type": "stream",
     "text": [
      "train:  96%|█████████▌| 1386/1451 [33:19<01:31,  1.41s/it]"
     ]
    },
    {
     "name": "stdout",
     "output_type": "stream",
     "text": [
      "Training metrics: 0.8165800709594496| Distance: 0.8257635622291934| Speed: 0.8201659451659452 | Activity: 0.7507215007215007\n"
     ]
    },
    {
     "name": "stderr",
     "output_type": "stream",
     "text": [
      "train:  96%|█████████▌| 1387/1451 [33:20<01:29,  1.40s/it]"
     ]
    },
    {
     "name": "stdout",
     "output_type": "stream",
     "text": [
      "Training metrics: 0.8165793083202951| Distance: 0.8256675085799684| Speed: 0.8202956020187455 | Activity: 0.750901225666907\n"
     ]
    },
    {
     "name": "stderr",
     "output_type": "stream",
     "text": [
      "train:  96%|█████████▌| 1388/1451 [33:22<01:29,  1.43s/it]"
     ]
    },
    {
     "name": "stdout",
     "output_type": "stream",
     "text": [
      "Training metrics: 0.8165343694848612| Distance: 0.82558802214816| Speed: 0.8202449567723343 | Activity: 0.7510806916426513\n"
     ]
    },
    {
     "name": "stderr",
     "output_type": "stream",
     "text": [
      "train:  96%|█████████▌| 1389/1451 [33:23<01:27,  1.40s/it]"
     ]
    },
    {
     "name": "stdout",
     "output_type": "stream",
     "text": [
      "Training metrics: 0.8165113716117701| Distance: 0.8255451105936511| Speed: 0.8202843772498201 | Activity: 0.7509899208063355\n"
     ]
    },
    {
     "name": "stderr",
     "output_type": "stream",
     "text": [
      "train:  96%|█████████▌| 1390/1451 [33:25<01:27,  1.43s/it]"
     ]
    },
    {
     "name": "stdout",
     "output_type": "stream",
     "text": [
      "Training metrics: 0.8165350875657155| Distance: 0.8255800620100057| Speed: 0.8203237410071943 | Activity: 0.7508992805755396\n"
     ]
    },
    {
     "name": "stderr",
     "output_type": "stream",
     "text": [
      "train:  96%|█████████▌| 1391/1451 [33:26<01:25,  1.43s/it]"
     ]
    },
    {
     "name": "stdout",
     "output_type": "stream",
     "text": [
      "Training metrics: 0.816609264567867| Distance: 0.825684144517018| Speed: 0.8203630481667865 | Activity: 0.7508986340762042\n"
     ]
    },
    {
     "name": "stderr",
     "output_type": "stream",
     "text": [
      "train:  96%|█████████▌| 1392/1451 [33:28<01:27,  1.48s/it]"
     ]
    },
    {
     "name": "stdout",
     "output_type": "stream",
     "text": [
      "Training metrics: 0.8166581015356783| Distance: 0.8257310552414564| Speed: 0.8204022988505747 | Activity: 0.7509877873563219\n"
     ]
    },
    {
     "name": "stderr",
     "output_type": "stream",
     "text": [
      "train:  96%|█████████▌| 1393/1451 [33:29<01:24,  1.46s/it]"
     ]
    },
    {
     "name": "stdout",
     "output_type": "stream",
     "text": [
      "Training metrics: 0.8167385037291703| Distance: 0.8257857569929823| Speed: 0.8205312275664034 | Activity: 0.7510768126346016\n"
     ]
    },
    {
     "name": "stderr",
     "output_type": "stream",
     "text": [
      "train:  96%|█████████▌| 1394/1451 [33:31<01:23,  1.46s/it]"
     ]
    },
    {
     "name": "stdout",
     "output_type": "stream",
     "text": [
      "Training metrics: 0.8168311650675826| Distance: 0.8258610044287545| Speed: 0.8206599713055954 | Activity: 0.7511657101865137\n"
     ]
    },
    {
     "name": "stderr",
     "output_type": "stream",
     "text": [
      "train:  96%|█████████▌| 1395/1451 [33:32<01:20,  1.44s/it]"
     ]
    },
    {
     "name": "stdout",
     "output_type": "stream",
     "text": [
      "Training metrics: 0.8167828741606984| Distance: 0.825805985010961| Speed: 0.8206093189964158 | Activity: 0.7511648745519713\n"
     ]
    },
    {
     "name": "stderr",
     "output_type": "stream",
     "text": [
      "train:  96%|█████████▌| 1396/1451 [33:33<01:18,  1.44s/it]"
     ]
    },
    {
     "name": "stdout",
     "output_type": "stream",
     "text": [
      "Training metrics: 0.8168169331179866| Distance: 0.8257837137448776| Speed: 0.8207378223495702 | Activity: 0.7512535816618912\n"
     ]
    },
    {
     "name": "stderr",
     "output_type": "stream",
     "text": [
      "train:  96%|█████████▋| 1397/1451 [33:35<01:17,  1.43s/it]"
     ]
    },
    {
     "name": "stdout",
     "output_type": "stream",
     "text": [
      "Training metrics: 0.8167947107163608| Distance: 0.8257572308169364| Speed: 0.8206871868289191 | Activity: 0.7513421617752326\n"
     ]
    },
    {
     "name": "stderr",
     "output_type": "stream",
     "text": [
      "train:  96%|█████████▋| 1398/1451 [33:36<01:15,  1.42s/it]"
     ]
    },
    {
     "name": "stdout",
     "output_type": "stream",
     "text": [
      "Training metrics: 0.816886221291807| Distance: 0.8258159720624063| Speed: 0.8208154506437768 | Activity: 0.7515200286123033\n"
     ]
    },
    {
     "name": "stderr",
     "output_type": "stream",
     "text": [
      "train:  96%|█████████▋| 1399/1451 [33:38<01:13,  1.42s/it]"
     ]
    },
    {
     "name": "stdout",
     "output_type": "stream",
     "text": [
      "Training metrics: 0.8169899233137315| Distance: 0.8258951664473559| Speed: 0.8209435310936383 | Activity: 0.7516976411722659\n"
     ]
    },
    {
     "name": "stderr",
     "output_type": "stream",
     "text": [
      "train:  96%|█████████▋| 1400/1451 [33:39<01:13,  1.43s/it]"
     ]
    },
    {
     "name": "stdout",
     "output_type": "stream",
     "text": [
      "Training metrics: 0.8170275842953348| Distance: 0.8258644262065108| Speed: 0.8210714285714286 | Activity: 0.751875\n"
     ]
    },
    {
     "name": "stderr",
     "output_type": "stream",
     "text": [
      "train:  97%|█████████▋| 1401/1451 [33:41<01:11,  1.43s/it]"
     ]
    },
    {
     "name": "stdout",
     "output_type": "stream",
     "text": [
      "Training metrics: 0.8170838875252995| Distance: 0.8259392415214665| Speed: 0.8211099214846538 | Activity: 0.7518736616702355\n"
     ]
    },
    {
     "name": "stderr",
     "output_type": "stream",
     "text": [
      "train:  97%|█████████▋| 1402/1451 [33:42<01:08,  1.40s/it]"
     ]
    },
    {
     "name": "stdout",
     "output_type": "stream",
     "text": [
      "Training metrics: 0.8171846896094297| Distance: 0.8260139501098674| Speed: 0.8212375178316691 | Activity: 0.7520506419400856\n"
     ]
    },
    {
     "name": "stderr",
     "output_type": "stream",
     "text": [
      "train:  97%|█████████▋| 1403/1451 [33:43<01:07,  1.41s/it]"
     ]
    },
    {
     "name": "stdout",
     "output_type": "stream",
     "text": [
      "Training metrics: 0.8171754456413329| Distance: 0.8259796272686983| Speed: 0.8212758374910906 | Activity: 0.7520491803278688\n"
     ]
    },
    {
     "name": "stderr",
     "output_type": "stream",
     "text": [
      "train:  97%|█████████▋| 1404/1451 [33:45<01:05,  1.38s/it]"
     ]
    },
    {
     "name": "stdout",
     "output_type": "stream",
     "text": [
      "Training metrics: 0.817187007581386| Distance: 0.8259651693308002| Speed: 0.8213141025641025 | Activity: 0.7521367521367521\n"
     ]
    },
    {
     "name": "stderr",
     "output_type": "stream",
     "text": [
      "train:  97%|█████████▋| 1405/1451 [33:46<01:05,  1.42s/it]"
     ]
    },
    {
     "name": "stdout",
     "output_type": "stream",
     "text": [
      "Training metrics: 0.8172396562287089| Distance: 0.825974753263744| Speed: 0.82144128113879 | Activity: 0.7522241992882562\n"
     ]
    },
    {
     "name": "stderr",
     "output_type": "stream",
     "text": [
      "train:  97%|█████████▋| 1406/1451 [33:48<01:05,  1.46s/it]"
     ]
    },
    {
     "name": "stdout",
     "output_type": "stream",
     "text": [
      "Training metrics: 0.8172206538348423| Distance: 0.8260576568181466| Speed: 0.8212126600284495 | Activity: 0.7522226173541963\n"
     ]
    },
    {
     "name": "stderr",
     "output_type": "stream",
     "text": [
      "train:  97%|█████████▋| 1407/1451 [33:49<01:03,  1.43s/it]"
     ]
    },
    {
     "name": "stdout",
     "output_type": "stream",
     "text": [
      "Training metrics: 0.8173023842141769| Distance: 0.826160216286836| Speed: 0.8212508884150675 | Activity: 0.7523098791755508\n"
     ]
    },
    {
     "name": "stderr",
     "output_type": "stream",
     "text": [
      "train:  97%|█████████▋| 1408/1451 [33:51<01:02,  1.45s/it]"
     ]
    },
    {
     "name": "stdout",
     "output_type": "stream",
     "text": [
      "Training metrics: 0.8173438223392021| Distance: 0.8262548554138217| Speed: 0.8212002840909091 | Activity: 0.7523082386363636\n"
     ]
    },
    {
     "name": "stderr",
     "output_type": "stream",
     "text": [
      "train:  97%|█████████▋| 1409/1451 [33:52<01:02,  1.48s/it]"
     ]
    },
    {
     "name": "stdout",
     "output_type": "stream",
     "text": [
      "Training metrics: 0.8174076062108976| Distance: 0.8263127716479242| Speed: 0.8212384669978708 | Activity: 0.7524840312278211\n"
     ]
    },
    {
     "name": "stderr",
     "output_type": "stream",
     "text": [
      "train:  97%|█████████▋| 1410/1451 [33:53<00:58,  1.43s/it]"
     ]
    },
    {
     "name": "stdout",
     "output_type": "stream",
     "text": [
      "Training metrics: 0.8173674472247044| Distance: 0.8262418446652879| Speed: 0.8211879432624114 | Activity: 0.7526595744680851\n"
     ]
    },
    {
     "name": "stderr",
     "output_type": "stream",
     "text": [
      "train:  97%|█████████▋| 1411/1451 [33:55<00:56,  1.40s/it]"
     ]
    },
    {
     "name": "stdout",
     "output_type": "stream",
     "text": [
      "Training metrics: 0.8174344903875248| Distance: 0.8263200637098956| Speed: 0.8212260807937632 | Activity: 0.7527462792345854\n"
     ]
    },
    {
     "name": "stderr",
     "output_type": "stream",
     "text": [
      "train:  97%|█████████▋| 1412/1451 [33:56<00:54,  1.40s/it]"
     ]
    },
    {
     "name": "stdout",
     "output_type": "stream",
     "text": [
      "Training metrics: 0.8173846715726337| Distance: 0.82632159615269| Speed: 0.8210871104815864 | Activity: 0.7526558073654391\n"
     ]
    },
    {
     "name": "stderr",
     "output_type": "stream",
     "text": [
      "train:  97%|█████████▋| 1413/1451 [33:57<00:52,  1.39s/it]"
     ]
    },
    {
     "name": "stdout",
     "output_type": "stream",
     "text": [
      "Training metrics: 0.8174490903538815| Distance: 0.8263954525478118| Speed: 0.8211252653927813 | Activity: 0.7527423920736023\n"
     ]
    },
    {
     "name": "stderr",
     "output_type": "stream",
     "text": [
      "train:  97%|█████████▋| 1414/1451 [33:59<00:50,  1.37s/it]"
     ]
    },
    {
     "name": "stdout",
     "output_type": "stream",
     "text": [
      "Training metrics: 0.8175247737057981| Distance: 0.8264291961574715| Speed: 0.8212517680339463 | Activity: 0.7529172560113154\n"
     ]
    },
    {
     "name": "stderr",
     "output_type": "stream",
     "text": [
      "train:  98%|█████████▊| 1415/1451 [34:00<00:48,  1.36s/it]"
     ]
    },
    {
     "name": "stdout",
     "output_type": "stream",
     "text": [
      "Training metrics: 0.8174846659067457| Distance: 0.8263584243322092| Speed: 0.8212897526501767 | Activity: 0.7528268551236749\n"
     ]
    },
    {
     "name": "stderr",
     "output_type": "stream",
     "text": [
      "train:  98%|█████████▊| 1416/1451 [34:02<00:48,  1.39s/it]"
     ]
    },
    {
     "name": "stdout",
     "output_type": "stream",
     "text": [
      "Training metrics: 0.8175152441339859| Distance: 0.8264201809012761| Speed: 0.821239406779661 | Activity: 0.7529131355932204\n"
     ]
    },
    {
     "name": "stderr",
     "output_type": "stream",
     "text": [
      "train:  98%|█████████▊| 1417/1451 [34:03<00:46,  1.37s/it]"
     ]
    },
    {
     "name": "stdout",
     "output_type": "stream",
     "text": [
      "Training metrics: 0.8175579449429614| Distance: 0.8265021265398454| Speed: 0.8211891319689485 | Activity: 0.7529992942836979\n"
     ]
    },
    {
     "name": "stderr",
     "output_type": "stream",
     "text": [
      "train:  98%|█████████▊| 1418/1451 [34:04<00:45,  1.37s/it]"
     ]
    },
    {
     "name": "stdout",
     "output_type": "stream",
     "text": [
      "Training metrics: 0.8175850785383987| Distance: 0.8264993434032082| Speed: 0.8212270803949224 | Activity: 0.7531734837799718\n"
     ]
    },
    {
     "name": "stderr",
     "output_type": "stream",
     "text": [
      "train:  98%|█████████▊| 1419/1451 [34:06<00:45,  1.41s/it]"
     ]
    },
    {
     "name": "stdout",
     "output_type": "stream",
     "text": [
      "Training metrics: 0.81762728527853| Distance: 0.8265364315365681| Speed: 0.8212649753347427 | Activity: 0.7532593375616632\n"
     ]
    },
    {
     "name": "stderr",
     "output_type": "stream",
     "text": [
      "train:  98%|█████████▊| 1420/1451 [34:07<00:43,  1.40s/it]"
     ]
    },
    {
     "name": "stdout",
     "output_type": "stream",
     "text": [
      "Training metrics: 0.8176937205353507| Distance: 0.8265699332866177| Speed: 0.8213908450704225 | Activity: 0.7533450704225352\n"
     ]
    },
    {
     "name": "stderr",
     "output_type": "stream",
     "text": [
      "train:  98%|█████████▊| 1421/1451 [34:09<00:41,  1.40s/it]"
     ]
    },
    {
     "name": "stdout",
     "output_type": "stream",
     "text": [
      "Training metrics: 0.8177433086714141| Distance: 0.826619448301759| Speed: 0.8214285714285714 | Activity: 0.7534306826178747\n"
     ]
    },
    {
     "name": "stderr",
     "output_type": "stream",
     "text": [
      "train:  98%|█████████▊| 1422/1451 [34:10<00:41,  1.41s/it]"
     ]
    },
    {
     "name": "stdout",
     "output_type": "stream",
     "text": [
      "Training metrics: 0.8177224957006534| Distance: 0.8264930718311407| Speed: 0.8215541490857946 | Activity: 0.7536040787623066\n"
     ]
    },
    {
     "name": "stderr",
     "output_type": "stream",
     "text": [
      "train:  98%|█████████▊| 1423/1451 [34:12<00:41,  1.48s/it]"
     ]
    },
    {
     "name": "stdout",
     "output_type": "stream",
     "text": [
      "Training metrics: 0.8178255221819144| Distance: 0.826602504175292| Speed: 0.8216795502459593 | Activity: 0.7536015460295151\n"
     ]
    },
    {
     "name": "stderr",
     "output_type": "stream",
     "text": [
      "train:  98%|█████████▊| 1424/1451 [34:13<00:39,  1.46s/it]"
     ]
    },
    {
     "name": "stdout",
     "output_type": "stream",
     "text": [
      "Training metrics: 0.8177440640754208| Distance: 0.8264045496762633| Speed: 0.8218047752808989 | Activity: 0.7535990168539326\n"
     ]
    },
    {
     "name": "stderr",
     "output_type": "stream",
     "text": [
      "train:  98%|█████████▊| 1425/1451 [34:14<00:36,  1.40s/it]"
     ]
    },
    {
     "name": "stdout",
     "output_type": "stream",
     "text": [
      "Training metrics: 0.8177542193269878| Distance: 0.8264617105742196| Speed: 0.8217543859649122 | Activity: 0.7535087719298246\n"
     ]
    },
    {
     "name": "stderr",
     "output_type": "stream",
     "text": [
      "train:  98%|█████████▊| 1426/1451 [34:16<00:37,  1.49s/it]"
     ]
    },
    {
     "name": "stdout",
     "output_type": "stream",
     "text": [
      "Training metrics: 0.8178369809109428| Distance: 0.8265229485495611| Speed: 0.8218793828892006 | Activity: 0.75359396914446\n"
     ]
    },
    {
     "name": "stderr",
     "output_type": "stream",
     "text": [
      "train:  98%|█████████▊| 1427/1451 [34:17<00:35,  1.48s/it]"
     ]
    },
    {
     "name": "stdout",
     "output_type": "stream",
     "text": [
      "Training metrics: 0.8178553707147478| Distance: 0.8265208058980907| Speed: 0.821916608269096 | Activity: 0.7536790469516468\n"
     ]
    },
    {
     "name": "stderr",
     "output_type": "stream",
     "text": [
      "train:  98%|█████████▊| 1428/1451 [34:19<00:33,  1.48s/it]"
     ]
    },
    {
     "name": "stdout",
     "output_type": "stream",
     "text": [
      "Training metrics: 0.8179233826699788| Distance: 0.8266014127599555| Speed: 0.821953781512605 | Activity: 0.7537640056022409\n"
     ]
    },
    {
     "name": "stderr",
     "output_type": "stream",
     "text": [
      "train:  98%|█████████▊| 1429/1451 [34:20<00:32,  1.47s/it]"
     ]
    },
    {
     "name": "stdout",
     "output_type": "stream",
     "text": [
      "Training metrics: 0.8178500613834704| Distance: 0.8265194048483547| Speed: 0.8219034289713086 | Activity: 0.7536738978306508\n"
     ]
    },
    {
     "name": "stderr",
     "output_type": "stream",
     "text": [
      "train:  99%|█████████▊| 1430/1451 [34:22<00:30,  1.44s/it]"
     ]
    },
    {
     "name": "stdout",
     "output_type": "stream",
     "text": [
      "Training metrics: 0.817838857968891| Distance: 0.8264971642138862| Speed: 0.8218531468531468 | Activity: 0.7538461538461538\n"
     ]
    },
    {
     "name": "stderr",
     "output_type": "stream",
     "text": [
      "train:  99%|█████████▊| 1431/1451 [34:23<00:29,  1.50s/it]"
     ]
    },
    {
     "name": "stdout",
     "output_type": "stream",
     "text": [
      "Training metrics: 0.8179038087569481| Distance: 0.8265145007351422| Speed: 0.8219776380153738 | Activity: 0.7540181691125087\n"
     ]
    },
    {
     "name": "stderr",
     "output_type": "stream",
     "text": [
      "train:  99%|█████████▊| 1432/1451 [34:25<00:28,  1.48s/it]"
     ]
    },
    {
     "name": "stdout",
     "output_type": "stream",
     "text": [
      "Training metrics: 0.8178900995595249| Distance: 0.8264445095079608| Speed: 0.8220146648044693 | Activity: 0.7541899441340782\n"
     ]
    },
    {
     "name": "stderr",
     "output_type": "stream",
     "text": [
      "train:  99%|█████████▉| 1433/1451 [34:26<00:26,  1.48s/it]"
     ]
    },
    {
     "name": "stdout",
     "output_type": "stream",
     "text": [
      "Training metrics: 0.8178976140448776| Distance: 0.8264099568810304| Speed: 0.8220516399162596 | Activity: 0.7543614794138171\n"
     ]
    },
    {
     "name": "stderr",
     "output_type": "stream",
     "text": [
      "train:  99%|█████████▉| 1434/1451 [34:28<00:27,  1.60s/it]"
     ]
    },
    {
     "name": "stdout",
     "output_type": "stream",
     "text": [
      "Training metrics: 0.8178063084213903| Distance: 0.8263996353745628| Speed: 0.8218270571827058 | Activity: 0.75418410041841\n"
     ]
    },
    {
     "name": "stderr",
     "output_type": "stream",
     "text": [
      "train:  99%|█████████▉| 1435/1451 [34:30<00:24,  1.53s/it]"
     ]
    },
    {
     "name": "stdout",
     "output_type": "stream",
     "text": [
      "Training metrics: 0.8178599113389994| Distance: 0.8264564143687158| Speed: 0.8218641114982579 | Activity: 0.7542682926829268\n"
     ]
    },
    {
     "name": "stderr",
     "output_type": "stream",
     "text": [
      "train:  99%|█████████▉| 1436/1451 [34:31<00:22,  1.51s/it]"
     ]
    },
    {
     "name": "stdout",
     "output_type": "stream",
     "text": [
      "Training metrics: 0.8178843976754293| Distance: 0.8264502031823546| Speed: 0.8219011142061281 | Activity: 0.7544394150417827\n"
     ]
    },
    {
     "name": "stderr",
     "output_type": "stream",
     "text": [
      "train:  99%|█████████▉| 1437/1451 [34:33<00:20,  1.50s/it]"
     ]
    },
    {
     "name": "stdout",
     "output_type": "stream",
     "text": [
      "Training metrics: 0.8179498680667227| Distance: 0.8265268619947586| Speed: 0.8219380654140571 | Activity: 0.7545233124565066\n"
     ]
    },
    {
     "name": "stderr",
     "output_type": "stream",
     "text": [
      "train:  99%|█████████▉| 1438/1451 [34:34<00:19,  1.53s/it]"
     ]
    },
    {
     "name": "stdout",
     "output_type": "stream",
     "text": [
      "Training metrics: 0.8179527473822266| Distance: 0.8264847597770537| Speed: 0.8219749652294854 | Activity: 0.7546940194714882\n"
     ]
    },
    {
     "name": "stderr",
     "output_type": "stream",
     "text": [
      "train:  99%|█████████▉| 1439/1451 [34:36<00:17,  1.49s/it]"
     ]
    },
    {
     "name": "stdout",
     "output_type": "stream",
     "text": [
      "Training metrics: 0.8180085713490761| Distance: 0.8265454414770913| Speed: 0.8220118137595552 | Activity: 0.7547776233495483\n"
     ]
    },
    {
     "name": "stderr",
     "output_type": "stream",
     "text": [
      "train:  99%|█████████▉| 1440/1451 [34:37<00:15,  1.44s/it]"
     ]
    },
    {
     "name": "stdout",
     "output_type": "stream",
     "text": [
      "Training metrics: 0.81808496976512| Distance: 0.8266259912752004| Speed: 0.8220486111111112 | Activity: 0.7549479166666667\n"
     ]
    },
    {
     "name": "stderr",
     "output_type": "stream",
     "text": [
      "train:  99%|█████████▉| 1441/1451 [34:38<00:14,  1.44s/it]"
     ]
    },
    {
     "name": "stdout",
     "output_type": "stream",
     "text": [
      "Training metrics: 0.818154677199893| Distance: 0.8267099119188596| Speed: 0.8220853573907009 | Activity: 0.7550312283136711\n"
     ]
    },
    {
     "name": "stderr",
     "output_type": "stream",
     "text": [
      "train:  99%|█████████▉| 1442/1451 [34:40<00:12,  1.44s/it]"
     ]
    },
    {
     "name": "stdout",
     "output_type": "stream",
     "text": [
      "Training metrics: 0.8181718357570743| Distance: 0.826778533473996| Speed: 0.8220353675450763 | Activity: 0.7549410540915396\n"
     ]
    },
    {
     "name": "stderr",
     "output_type": "stream",
     "text": [
      "train:  99%|█████████▉| 1443/1451 [34:41<00:11,  1.41s/it]"
     ]
    },
    {
     "name": "stdout",
     "output_type": "stream",
     "text": [
      "Training metrics: 0.8182384806222232| Distance: 0.8267996391058768| Speed: 0.8221586971586972 | Activity: 0.7551108801108801\n"
     ]
    },
    {
     "name": "stderr",
     "output_type": "stream",
     "text": [
      "train: 100%|█████████▉| 1444/1451 [34:42<00:09,  1.40s/it]"
     ]
    },
    {
     "name": "stdout",
     "output_type": "stream",
     "text": [
      "Training metrics: 0.818248986113119| Distance: 0.8268715788865928| Speed: 0.8221087257617729 | Activity: 0.7549342105263158\n"
     ]
    },
    {
     "name": "stderr",
     "output_type": "stream",
     "text": [
      "train: 100%|█████████▉| 1445/1451 [34:44<00:08,  1.48s/it]"
     ]
    },
    {
     "name": "stdout",
     "output_type": "stream",
     "text": [
      "Training metrics: 0.8182759524186175| Distance: 0.8268843728314906| Speed: 0.8221453287197232 | Activity: 0.7550173010380623\n"
     ]
    },
    {
     "name": "stderr",
     "output_type": "stream",
     "text": [
      "train: 100%|█████████▉| 1446/1451 [34:46<00:07,  1.48s/it]"
     ]
    },
    {
     "name": "stdout",
     "output_type": "stream",
     "text": [
      "Training metrics: 0.8182896946812945| Distance: 0.8268463560501982| Speed: 0.822268326417704 | Activity: 0.7550138312586445\n"
     ]
    },
    {
     "name": "stderr",
     "output_type": "stream",
     "text": [
      "train: 100%|█████████▉| 1447/1451 [34:47<00:05,  1.43s/it]"
     ]
    },
    {
     "name": "stdout",
     "output_type": "stream",
     "text": [
      "Training metrics: 0.8183840704755626| Distance: 0.8269140174823075| Speed: 0.8223911541119557 | Activity: 0.7551831375259157\n"
     ]
    },
    {
     "name": "stderr",
     "output_type": "stream",
     "text": [
      "train: 100%|█████████▉| 1448/1451 [34:48<00:04,  1.42s/it]"
     ]
    },
    {
     "name": "stdout",
     "output_type": "stream",
     "text": [
      "Training metrics: 0.8184100713821906| Distance: 0.8269110075522702| Speed: 0.8224274861878453 | Activity: 0.7553522099447514\n"
     ]
    },
    {
     "name": "stderr",
     "output_type": "stream",
     "text": [
      "train: 100%|█████████▉| 1449/1451 [34:50<00:02,  1.40s/it]"
     ]
    },
    {
     "name": "stdout",
     "output_type": "stream",
     "text": [
      "Training metrics: 0.8184840791067368| Distance: 0.8269593174898344| Speed: 0.8225500345065563 | Activity: 0.7554347826086957\n"
     ]
    },
    {
     "name": "stderr",
     "output_type": "stream",
     "text": [
      "train: 100%|█████████▉| 1450/1451 [34:51<00:01,  1.40s/it]"
     ]
    },
    {
     "name": "stdout",
     "output_type": "stream",
     "text": [
      "Training metrics: 0.8185124282409815| Distance: 0.826960368907383| Speed: 0.8225862068965517 | Activity: 0.7556034482758621\n"
     ]
    },
    {
     "name": "stderr",
     "output_type": "stream",
     "text": [
      "train: 100%|██████████| 1451/1451 [34:52<00:00,  1.44s/it]\n"
     ]
    },
    {
     "name": "stdout",
     "output_type": "stream",
     "text": [
      "Training metrics: 0.8185191589445219| Distance: 0.8269812119327313| Speed: 0.822545893303456 | Activity: 0.7556666379384642\n"
     ]
    },
    {
     "name": "stderr",
     "output_type": "stream",
     "text": [
      "valid: 100%|██████████| 176/176 [03:54<00:00,  1.33s/it]\n"
     ]
    },
    {
     "name": "stdout",
     "output_type": "stream",
     "text": [
      "Training metrics: 0.8437287976879326| Distance: 0.7997989431162512| Speed: 0.9126420454545454 | Activity: 0.9005681818181818\n"
     ]
    },
    {
     "name": "stderr",
     "output_type": "stream",
     "text": [
      "test: 100%|██████████| 150/150 [03:21<00:00,  1.34s/it]\n"
     ]
    },
    {
     "name": "stdout",
     "output_type": "stream",
     "text": [
      "CSV file saved successfully.\n",
      "Training metrics: 0.8624118388268478| Distance: 0.8550640087381465| Speed: 0.898078529657477 | Activity: 0.7994987468671679\n"
     ]
    }
   ],
   "source": [
    "from dataset import LifeWatchDataset\n",
    "import yaml\n",
    "import pathlib\n",
    "import numpy as np\n",
    "config_path=r\"config.yaml\"\n",
    "with open(config_path, 'r') as file:\n",
    "    config = yaml.safe_load(file)\n",
    "\n",
    "L=LifeWatchDataset(config)\n",
    "best_model, valid_metric_best=L.train_clap()"
   ]
  },
  {
   "cell_type": "code",
   "execution_count": 5,
   "id": "ed2d493a-cf89-434d-9c7c-af7e108f9d42",
   "metadata": {},
   "outputs": [],
   "source": [
    "b=best_model"
   ]
  },
  {
   "cell_type": "code",
   "execution_count": 6,
   "id": "343fc391-b171-4d59-8276-3ebe4b9ec4c4",
   "metadata": {},
   "outputs": [
    {
     "name": "stdout",
     "output_type": "stream",
     "text": [
      "Selected CUDA device: Tesla T4\n"
     ]
    },
    {
     "name": "stderr",
     "output_type": "stream",
     "text": [
      "test: 100%|██████████| 150/150 [03:29<00:00,  1.39s/it]"
     ]
    },
    {
     "name": "stdout",
     "output_type": "stream",
     "text": [
      "CSV file saved successfully.\n",
      "Training metrics: 0.8624118388268478| Distance: 0.8550640087381464| Speed: 0.898078529657477 | Activity: 0.7994987468671679\n",
      "{\"test\": {\"loss\": 137.0063463539677, \"metric\": 0.8624118388268478, \"metric_distance\": 0.8550640087381464, \"metric_speed\": 0.898078529657477, \"metric_activity\": 0.7994987468671679}}\n"
     ]
    },
    {
     "name": "stderr",
     "output_type": "stream",
     "text": [
      "\n"
     ]
    }
   ],
   "source": [
    "batch_size=8\n",
    "stop_shuffle=False\n",
    "sample_dur=10\n",
    "desired_fs = 48000\n",
    "wavs_folder= '/storage/UC6_new_data/data/'\n",
    "# device = torch.device('cuda' if torch.cuda.is_available() else 'cpu')\n",
    "if torch.cuda.is_available():\n",
    "    device = torch.device('cuda' if torch.cuda.is_available() else 'cpu')\n",
    "    print(\"Selected CUDA device:\", torch.cuda.get_device_name(device))\n",
    "else:\n",
    "    print(\"CUDA is not available. Using CPU.\")\n",
    "# device =torch.device('cuda:0')\n",
    "log_path = 'roi/BioLingual/logs_test.log'\n",
    "log_file = open(log_path, mode='w')\n",
    "\n",
    "# detections = convert_raven_to_ae_format(labels_to_exclude=None)\n",
    "# detections = detections.loc[~detections.label.isna()]\n",
    "\n",
    "d_train_path= \"ds_split-CLAP/train.txt\"\n",
    "d_test_path= \"ds_split-CLAP/test.txt\"\n",
    "# print(\"path \", d_train_path)\n",
    "split = np.genfromtxt(d_train_path, dtype='str', delimiter=' ')\n",
    "d_train_loc = np.array([os.path.join(wavs_folder, i) for i in split[:, 0]])\n",
    "\n",
    "split = np.genfromtxt(d_test_path, dtype='str', delimiter=' ')\n",
    "d_test_loc = np.array([os.path.join(wavs_folder, i) for i in split[:, 0]])\n",
    "\n",
    "# split = np.genfromtxt(d_train_path, dtype='str', delimiter=' ')\n",
    "# d_train_loc = np.array([os.path.join(wavs_folder, i) for i in split[:, 0]])\n",
    "\n",
    "# split = np.genfromtxt(d_valid_path, dtype='str', delimiter=' ')\n",
    "# d_valid_loc = np.array([os.path.join(wavs_folder, i) for i in split[:, 0]])\n",
    "d_train=u.process_filenames(d_train_loc)\n",
    "d_test=u.process_filenames(d_test_loc)\n",
    "\n",
    "train_labels = set(d_train[\"label\"])\n",
    "# Count the occurrences of each label in d_train\n",
    "label_counts_train = d_train[\"label\"].value_counts()\n",
    "\n",
    "valid_train_labels = label_counts_train[label_counts_train >= 5].index\n",
    "\n",
    "\n",
    "# Filter d_train and d_valid based on valid_train_labels\n",
    "d_train = d_train[d_train[\"label\"].isin(valid_train_labels)]\n",
    "test_train_labels = label_counts_train[label_counts_train >= 5].index\n",
    "\n",
    "d_test = d_test[d_test[\"label\"].isin(test_train_labels)]\n",
    "\n",
    "# Display the number of unique classes\n",
    "num_classes = len(valid_train_labels)\n",
    "ids={lbl: i for i, lbl in enumerate(d_train['label'].unique())}\n",
    "\n",
    "similarity_matrix=u.similarity(ids,device,distance_weight = 0.6, speed_weight = 0.30,activity_weight = 0.10)\n",
    "similarity_matrix_distance=u.similarity(ids,device,distance_weight = 1)\n",
    "similarity_matrix_speed=u.similarity(ids,device,speed_weight = 1)\n",
    "similarity_matrix_activity=u.similarity(ids,device,activity_weight = 1)\n",
    "model_path=\"/srv/CLAP/roi/BioLingual/model\"\n",
    "\n",
    "dataloader_test = torch.utils.data.DataLoader(\n",
    "    dataset=u.DatasetWaveform(df=d_test, wavs_folder=wavs_folder, desired_fs=desired_fs,\n",
    "                              max_duration=sample_dur,ids=ids),\n",
    "    batch_size=batch_size,\n",
    "    shuffle=not stop_shuffle)\n",
    "\n",
    "\n",
    "\n",
    "# model = model.to(device)\n",
    "\n",
    "\n",
    "test_loss, test_metric,test_metric_distance,test_metric_speed,test_metric_activity = u.eval_pytorch_model(\n",
    "    model=best_model,\n",
    "    dataloader=dataloader_test,\n",
    "    metric_factory=u.Accuracy,\n",
    "    device=device,\n",
    "    similarity_matrix=similarity_matrix,\n",
    "    similarity_matrix_distance=similarity_matrix_distance,\n",
    "    similarity_matrix_speed=similarity_matrix_speed,\n",
    "    similarity_matrix_activity=similarity_matrix_activity,\n",
    "    desc='test',ids=ids)\n",
    "\n",
    "log_message = json.dumps({\n",
    "    'test': {\n",
    "        'loss': test_loss,\n",
    "        'metric': test_metric,\n",
    "        'metric_distance': np.mean(test_metric_distance),\n",
    "        'metric_speed': np.mean(test_metric_speed),\n",
    "        'metric_activity': np.mean(test_metric_activity),\n",
    "    }\n",
    "})\n",
    "\n",
    "# Write the JSON string to the log file\n",
    "log_file.write(log_message + '\\n')\n",
    "log_file.flush()\n",
    "\n",
    "print(log_message)"
   ]
  },
  {
   "cell_type": "code",
   "execution_count": 11,
   "id": "5a0b145b-85b3-407c-8e48-2a1966d4bd8c",
   "metadata": {},
   "outputs": [],
   "source": [
    "best_model.clap.save_pretrained('roi/BioLingual/test_model')\n",
    "best_model.processor.save_pretrained('roi/BioLingual/test_model')"
   ]
  },
  {
   "cell_type": "code",
   "execution_count": 5,
   "id": "7e6b4eec-3acd-40ec-a615-4e54cb78941b",
   "metadata": {},
   "outputs": [
    {
     "ename": "NameError",
     "evalue": "name 'num_classes' is not defined",
     "output_type": "error",
     "traceback": [
      "\u001b[0;31m---------------------------------------------------------------------------\u001b[0m",
      "\u001b[0;31mNameError\u001b[0m                                 Traceback (most recent call last)",
      "Cell \u001b[0;32mIn[5], line 2\u001b[0m\n\u001b[1;32m      1\u001b[0m model_path\u001b[38;5;241m=\u001b[39m\u001b[38;5;124m\"\u001b[39m\u001b[38;5;124m/srv/CLAP/roi/BioLingual/model\u001b[39m\u001b[38;5;124m\"\u001b[39m\n\u001b[0;32m----> 2\u001b[0m model \u001b[38;5;241m=\u001b[39m models\u001b[38;5;241m.\u001b[39mCLAPClassifier(model_path, \u001b[43mnum_classes\u001b[49m, sr\u001b[38;5;241m=\u001b[39m\u001b[38;5;28mself\u001b[39m\u001b[38;5;241m.\u001b[39mdesired_fs, device\u001b[38;5;241m=\u001b[39mdevice, similarity_matrix\u001b[38;5;241m=\u001b[39msimilarity_matrix, multi_label\u001b[38;5;241m=\u001b[39m\u001b[38;5;28;01mFalse\u001b[39;00m)\n",
      "\u001b[0;31mNameError\u001b[0m: name 'num_classes' is not defined"
     ]
    }
   ],
   "source": [
    "model_path=\"/srv/CLAP/roi/BioLingual/model\"\n",
    "model = models.CLAPClassifier(model_path, num_classes, sr=self.desired_fs, device=device, similarity_matrix=similarity_matrix, multi_label=False)\n",
    "clap = ClapAudioModelWithProjection.from_pretrained(model_path)\n",
    "print(\"fixed clap.\")\n",
    "\n",
    "linear = nn.Linear(in_features=512, out_features=5)\n",
    "model_path='davidrrobinson/BioLingual'\n",
    "processor = AutoProcessor.from_pretrained(model_path)"
   ]
  },
  {
   "cell_type": "code",
   "execution_count": 12,
   "id": "ed4a6333-9ba3-46de-a1bf-51c91d311f03",
   "metadata": {},
   "outputs": [
    {
     "name": "stdout",
     "output_type": "stream",
     "text": [
      "Selected CUDA device: Tesla T4\n",
      "fixed clap.\n"
     ]
    },
    {
     "name": "stderr",
     "output_type": "stream",
     "text": [
      "/srv/CLAP/models.py:121: UserWarning: To copy construct from a tensor, it is recommended to use sourceTensor.clone().detach() or sourceTensor.clone().detach().requires_grad_(True), rather than torch.tensor(sourceTensor).\n",
      "  self.loss_func = CustomLossFunction(torch.tensor(similarity_matrix).to(device))\n",
      "test: 100%|██████████| 150/150 [03:26<00:00,  1.38s/it]"
     ]
    },
    {
     "name": "stdout",
     "output_type": "stream",
     "text": [
      "CSV file saved successfully.\n",
      "Training metrics: 0.5004658630449148| Distance: 0.6517093261831846| Speed: 0.29156223893065997 | Activity: 0.2197159565580618\n",
      "{\"test\": {\"loss\": 145.61843907659605, \"metric\": 0.5004658630449148, \"metric_distance\": 0.6517093261831846, \"metric_speed\": 0.29156223893065997, \"metric_activity\": 0.2197159565580618}}\n"
     ]
    },
    {
     "name": "stderr",
     "output_type": "stream",
     "text": [
      "\n"
     ]
    }
   ],
   "source": [
    "batch_size=8\n",
    "stop_shuffle=False\n",
    "sample_dur=10\n",
    "desired_fs = 48000\n",
    "wavs_folder= '/storage/UC6_new_data/data/'\n",
    "# device = torch.device('cuda' if torch.cuda.is_available() else 'cpu')\n",
    "if torch.cuda.is_available():\n",
    "    device = torch.device('cuda' if torch.cuda.is_available() else 'cpu')\n",
    "    print(\"Selected CUDA device:\", torch.cuda.get_device_name(device))\n",
    "else:\n",
    "    print(\"CUDA is not available. Using CPU.\")\n",
    "# device =torch.device('cuda:0')\n",
    "log_path = 'roi/BioLingual/logs_test.log'\n",
    "log_file = open(log_path, mode='w')\n",
    "\n",
    "# detections = convert_raven_to_ae_format(labels_to_exclude=None)\n",
    "# detections = detections.loc[~detections.label.isna()]\n",
    "\n",
    "d_train_path= \"ds_split-CLAP/train.txt\"\n",
    "d_test_path= \"ds_split-CLAP/test.txt\"\n",
    "# print(\"path \", d_train_path)\n",
    "split = np.genfromtxt(d_train_path, dtype='str', delimiter=' ')\n",
    "d_train_loc = np.array([os.path.join(wavs_folder, i) for i in split[:, 0]])\n",
    "\n",
    "split = np.genfromtxt(d_test_path, dtype='str', delimiter=' ')\n",
    "d_test_loc = np.array([os.path.join(wavs_folder, i) for i in split[:, 0]])\n",
    "\n",
    "# split = np.genfromtxt(d_train_path, dtype='str', delimiter=' ')\n",
    "# d_train_loc = np.array([os.path.join(wavs_folder, i) for i in split[:, 0]])\n",
    "\n",
    "# split = np.genfromtxt(d_valid_path, dtype='str', delimiter=' ')\n",
    "# d_valid_loc = np.array([os.path.join(wavs_folder, i) for i in split[:, 0]])\n",
    "d_train=u.process_filenames(d_train_loc)\n",
    "d_test=u.process_filenames(d_test_loc)\n",
    "\n",
    "train_labels = set(d_train[\"label\"])\n",
    "# Count the occurrences of each label in d_train\n",
    "label_counts_train = d_train[\"label\"].value_counts()\n",
    "\n",
    "valid_train_labels = label_counts_train[label_counts_train >= 5].index\n",
    "\n",
    "\n",
    "# Filter d_train and d_valid based on valid_train_labels\n",
    "d_train = d_train[d_train[\"label\"].isin(valid_train_labels)]\n",
    "test_train_labels = label_counts_train[label_counts_train >= 5].index\n",
    "\n",
    "d_test = d_test[d_test[\"label\"].isin(test_train_labels)]\n",
    "\n",
    "# Display the number of unique classes\n",
    "num_classes = len(valid_train_labels)\n",
    "ids={lbl: i for i, lbl in enumerate(d_train['label'].unique())}\n",
    "\n",
    "similarity_matrix=u.similarity(ids,device,distance_weight = 0.6, speed_weight = 0.30,activity_weight = 0.10)\n",
    "similarity_matrix_distance=u.similarity(ids,device,distance_weight = 1)\n",
    "similarity_matrix_speed=u.similarity(ids,device,speed_weight = 1)\n",
    "similarity_matrix_activity=u.similarity(ids,device,activity_weight = 1)\n",
    "model_path=\"/srv/CLAP/roi/BioLingual/test_model\"\n",
    "model = models.CLAPClassifier(model_path, num_classes, sr=desired_fs, device=device, similarity_matrix=similarity_matrix, multi_label=False)\n",
    "\n",
    "\n",
    "dataloader_test = torch.utils.data.DataLoader(\n",
    "    dataset=u.DatasetWaveform(df=d_test, wavs_folder=wavs_folder, desired_fs=desired_fs,\n",
    "                              max_duration=sample_dur,ids=ids),\n",
    "    batch_size=batch_size,\n",
    "    shuffle=not stop_shuffle)\n",
    "\n",
    "\n",
    "\n",
    "model = model.to(device)\n",
    "\n",
    "\n",
    "test_loss, test_metric,test_metric_distance,test_metric_speed,test_metric_activity = u.eval_pytorch_model(\n",
    "model=model,\n",
    "dataloader=dataloader_test,\n",
    "metric_factory=u.Accuracy,\n",
    "device=device,\n",
    "similarity_matrix=similarity_matrix,\n",
    "similarity_matrix_distance=similarity_matrix_distance,\n",
    "similarity_matrix_speed=similarity_matrix_speed,\n",
    "similarity_matrix_activity=similarity_matrix_activity,\n",
    "desc='test',ids=ids)\n",
    "\n",
    "log_message = json.dumps({\n",
    "    'test': {\n",
    "        'loss': test_loss,\n",
    "        'metric': test_metric,\n",
    "        'metric_distance': np.mean(test_metric_distance),\n",
    "        'metric_speed': np.mean(test_metric_speed),\n",
    "        'metric_activity': np.mean(test_metric_activity),\n",
    "    }\n",
    "})\n",
    "\n",
    "# Write the JSON string to the log file\n",
    "log_file.write(log_message + '\\n')\n",
    "log_file.flush()\n",
    "\n",
    "print(log_message)\n"
   ]
  }
 ],
 "metadata": {
  "kernelspec": {
   "display_name": "Python 3 (ipykernel)",
   "language": "python",
   "name": "python3"
  },
  "language_info": {
   "codemirror_mode": {
    "name": "ipython",
    "version": 3
   },
   "file_extension": ".py",
   "mimetype": "text/x-python",
   "name": "python",
   "nbconvert_exporter": "python",
   "pygments_lexer": "ipython3",
   "version": "3.10.13"
  }
 },
 "nbformat": 4,
 "nbformat_minor": 5
}
