{
 "cells": [
  {
   "cell_type": "code",
   "execution_count": 3,
   "id": "8b05659a-8f7e-45ef-bf3c-70a7fe9dae9b",
   "metadata": {},
   "outputs": [
    {
     "name": "stdout",
     "output_type": "stream",
     "text": [
      "CUDA is available. Found 1 CUDA device(s).\n",
      "Device 0 : Tesla T4\n",
      "   Capability: 7 . 5\n",
      "   Total memory: 14.6 GB\n",
      "   Multiprocessors: 40\n",
      "   Total CUDA cores: 5120\n"
     ]
    },
    {
     "ename": "AttributeError",
     "evalue": "'torch._C._CudaDeviceProperties' object has no attribute 'clock_rate'",
     "output_type": "error",
     "traceback": [
      "\u001b[0;31m---------------------------------------------------------------------------\u001b[0m",
      "\u001b[0;31mAttributeError\u001b[0m                            Traceback (most recent call last)",
      "Cell \u001b[0;32mIn[3], line 14\u001b[0m\n\u001b[1;32m     12\u001b[0m         cuda_cores \u001b[38;5;241m=\u001b[39m properties\u001b[38;5;241m.\u001b[39mmulti_processor_count \u001b[38;5;241m*\u001b[39m \u001b[38;5;241m128\u001b[39m  \u001b[38;5;66;03m# 128 CUDA cores per multiprocessor for compute capability 7.x\u001b[39;00m\n\u001b[1;32m     13\u001b[0m         \u001b[38;5;28mprint\u001b[39m(\u001b[38;5;124m\"\u001b[39m\u001b[38;5;124m   Total CUDA cores:\u001b[39m\u001b[38;5;124m\"\u001b[39m, cuda_cores)\n\u001b[0;32m---> 14\u001b[0m         \u001b[38;5;28mprint\u001b[39m(\u001b[38;5;124m\"\u001b[39m\u001b[38;5;124m   Clock rate:\u001b[39m\u001b[38;5;124m\"\u001b[39m, \u001b[38;5;28mround\u001b[39m(\u001b[43mproperties\u001b[49m\u001b[38;5;241;43m.\u001b[39;49m\u001b[43mclock_rate\u001b[49m \u001b[38;5;241m/\u001b[39m \u001b[38;5;241m1e3\u001b[39m, \u001b[38;5;241m2\u001b[39m), \u001b[38;5;124m\"\u001b[39m\u001b[38;5;124mGHz\u001b[39m\u001b[38;5;124m\"\u001b[39m)\n\u001b[1;32m     15\u001b[0m \u001b[38;5;28;01melse\u001b[39;00m:\n\u001b[1;32m     16\u001b[0m     \u001b[38;5;28mprint\u001b[39m(\u001b[38;5;124m\"\u001b[39m\u001b[38;5;124mCUDA is not available. Using CPU.\u001b[39m\u001b[38;5;124m\"\u001b[39m)\n",
      "\u001b[0;31mAttributeError\u001b[0m: 'torch._C._CudaDeviceProperties' object has no attribute 'clock_rate'"
     ]
    }
   ],
   "source": [
    "import torch\n",
    "\n",
    "# Check if CUDA is available\n",
    "if torch.cuda.is_available():\n",
    "    print(\"CUDA is available. Found\", torch.cuda.device_count(), \"CUDA device(s).\")\n",
    "    for i in range(torch.cuda.device_count()):\n",
    "        print(\"Device\", i, \":\", torch.cuda.get_device_name(i))\n",
    "        properties = torch.cuda.get_device_properties(i)\n",
    "        print(\"   Capability:\", properties.major, \".\", properties.minor)\n",
    "        print(\"   Total memory:\", round(properties.total_memory / (1024**3), 1), \"GB\")\n",
    "        print(\"   Multiprocessors:\", properties.multi_processor_count)\n",
    "        cuda_cores = properties.multi_processor_count * 128  # 128 CUDA cores per multiprocessor for compute capability 7.x\n",
    "        print(\"   Total CUDA cores:\", cuda_cores)\n",
    "        print(\"   Clock rate:\", round(properties.clock_rate / 1e3, 2), \"GHz\")\n",
    "else:\n",
    "    print(\"CUDA is not available. Using CPU.\")\n"
   ]
  },
  {
   "cell_type": "code",
   "execution_count": 4,
   "id": "ed54ce9f-28c0-4590-a271-63f00770b7ad",
   "metadata": {},
   "outputs": [
    {
     "ename": "ImportError",
     "evalue": "cannot import name 'plot_confusion_matrix' from 'sklearn.metrics' (/opt/conda/lib/python3.10/site-packages/sklearn/metrics/__init__.py)",
     "output_type": "error",
     "traceback": [
      "\u001b[0;31m---------------------------------------------------------------------------\u001b[0m",
      "\u001b[0;31mImportError\u001b[0m                               Traceback (most recent call last)",
      "Cell \u001b[0;32mIn[4], line 1\u001b[0m\n\u001b[0;32m----> 1\u001b[0m \u001b[38;5;28;01mfrom\u001b[39;00m \u001b[38;5;21;01msklearn\u001b[39;00m\u001b[38;5;21;01m.\u001b[39;00m\u001b[38;5;21;01mmetrics\u001b[39;00m \u001b[38;5;28;01mimport\u001b[39;00m plot_confusion_matrix\n",
      "\u001b[0;31mImportError\u001b[0m: cannot import name 'plot_confusion_matrix' from 'sklearn.metrics' (/opt/conda/lib/python3.10/site-packages/sklearn/metrics/__init__.py)"
     ]
    }
   ],
   "source": [
    "from sklearn.metrics import plot_confusion_matrix\n"
   ]
  }
 ],
 "metadata": {
  "kernelspec": {
   "display_name": "Python 3 (ipykernel)",
   "language": "python",
   "name": "python3"
  },
  "language_info": {
   "codemirror_mode": {
    "name": "ipython",
    "version": 3
   },
   "file_extension": ".py",
   "mimetype": "text/x-python",
   "name": "python",
   "nbconvert_exporter": "python",
   "pygments_lexer": "ipython3",
   "version": "3.10.13"
  }
 },
 "nbformat": 4,
 "nbformat_minor": 5
}
